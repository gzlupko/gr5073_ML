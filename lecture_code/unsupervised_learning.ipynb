{
  "nbformat": 4,
  "nbformat_minor": 0,
  "metadata": {
    "kernelspec": {
      "display_name": "Python 3",
      "language": "python",
      "name": "python3"
    },
    "language_info": {
      "codemirror_mode": {
        "name": "ipython",
        "version": 3
      },
      "file_extension": ".py",
      "mimetype": "text/x-python",
      "name": "python",
      "nbconvert_exporter": "python",
      "pygments_lexer": "ipython3",
      "version": "3.7.0"
    },
    "colab": {
      "provenance": []
    }
  },
  "cells": [
    {
      "cell_type": "markdown",
      "metadata": {
        "id": "rJOEvrmxfPDo"
      },
      "source": [
        "# Unsupervised Learning "
      ]
    },
    {
      "cell_type": "markdown",
      "metadata": {
        "id": "NXkD969VfPDt"
      },
      "source": [
        "- [Lab 1: Principal Component Analysis](#Lab-1:-Principal-Component-Analysis)\n",
        "- [Lab 2: K-Means Clustering](#Lab-2:-Clustering)\n",
        "- [Lab 2: Hierarchical Clustering](#10.5.3-Hierarchical-Clustering)\n",
        "- [Lab 3: NCI60 Data Example](#Lab-3:-NCI60-Data-Example)"
      ]
    },
    {
      "cell_type": "code",
      "metadata": {
        "id": "zSIzyU3YfPDz",
        "colab": {
          "base_uri": "https://localhost:8080/"
        },
        "outputId": "7fbd8d5e-059d-4a87-a146-1dd34e68b2bb"
      },
      "source": [
        "# %load ../standard_import.txt\n",
        "import pandas as pd\n",
        "import numpy as np\n",
        "import matplotlib as mpl\n",
        "import matplotlib.pyplot as plt\n",
        "import seaborn as sns\n",
        "\n",
        "from sklearn.preprocessing import scale\n",
        "from sklearn.decomposition import PCA\n",
        "from sklearn.cluster import KMeans\n",
        "\n",
        "from scipy.cluster import hierarchy\n",
        "\n",
        "%matplotlib inline\n",
        "plt.style.use('seaborn-white')"
      ],
      "execution_count": 1,
      "outputs": [
        {
          "output_type": "stream",
          "name": "stderr",
          "text": [
            "<ipython-input-1-46b64150ad6b>:15: MatplotlibDeprecationWarning: The seaborn styles shipped by Matplotlib are deprecated since 3.6, as they no longer correspond to the styles shipped by seaborn. However, they will remain available as 'seaborn-v0_8-<style>'. Alternatively, directly use the seaborn API instead.\n",
            "  plt.style.use('seaborn-white')\n"
          ]
        }
      ]
    },
    {
      "cell_type": "markdown",
      "metadata": {
        "id": "_uomOAbFfPEN"
      },
      "source": [
        "## Lab 1: Principal Component Analysis"
      ]
    },
    {
      "cell_type": "code",
      "metadata": {
        "id": "K0hKzBhefPER",
        "colab": {
          "base_uri": "https://localhost:8080/",
          "height": 206
        },
        "outputId": "6b7f0425-efd5-46ae-8326-8d8c46987c86"
      },
      "source": [
        "\n",
        "\n",
        "df = pd.read_csv('https://vincentarelbundock.github.io/Rdatasets/csv/datasets/USArrests.csv', index_col=0)\n",
        "df.head()\n",
        "\n",
        "#df = pd.read_csv('USArrests.csv', index_col=0)\n",
        "#df.info()"
      ],
      "execution_count": 3,
      "outputs": [
        {
          "output_type": "execute_result",
          "data": {
            "text/plain": [
              "            Murder  Assault  UrbanPop  Rape\n",
              "Alabama       13.2      236        58  21.2\n",
              "Alaska        10.0      263        48  44.5\n",
              "Arizona        8.1      294        80  31.0\n",
              "Arkansas       8.8      190        50  19.5\n",
              "California     9.0      276        91  40.6"
            ],
            "text/html": [
              "\n",
              "  <div id=\"df-2e132321-9d3b-4285-97c6-0b89fc334b0b\">\n",
              "    <div class=\"colab-df-container\">\n",
              "      <div>\n",
              "<style scoped>\n",
              "    .dataframe tbody tr th:only-of-type {\n",
              "        vertical-align: middle;\n",
              "    }\n",
              "\n",
              "    .dataframe tbody tr th {\n",
              "        vertical-align: top;\n",
              "    }\n",
              "\n",
              "    .dataframe thead th {\n",
              "        text-align: right;\n",
              "    }\n",
              "</style>\n",
              "<table border=\"1\" class=\"dataframe\">\n",
              "  <thead>\n",
              "    <tr style=\"text-align: right;\">\n",
              "      <th></th>\n",
              "      <th>Murder</th>\n",
              "      <th>Assault</th>\n",
              "      <th>UrbanPop</th>\n",
              "      <th>Rape</th>\n",
              "    </tr>\n",
              "  </thead>\n",
              "  <tbody>\n",
              "    <tr>\n",
              "      <th>Alabama</th>\n",
              "      <td>13.2</td>\n",
              "      <td>236</td>\n",
              "      <td>58</td>\n",
              "      <td>21.2</td>\n",
              "    </tr>\n",
              "    <tr>\n",
              "      <th>Alaska</th>\n",
              "      <td>10.0</td>\n",
              "      <td>263</td>\n",
              "      <td>48</td>\n",
              "      <td>44.5</td>\n",
              "    </tr>\n",
              "    <tr>\n",
              "      <th>Arizona</th>\n",
              "      <td>8.1</td>\n",
              "      <td>294</td>\n",
              "      <td>80</td>\n",
              "      <td>31.0</td>\n",
              "    </tr>\n",
              "    <tr>\n",
              "      <th>Arkansas</th>\n",
              "      <td>8.8</td>\n",
              "      <td>190</td>\n",
              "      <td>50</td>\n",
              "      <td>19.5</td>\n",
              "    </tr>\n",
              "    <tr>\n",
              "      <th>California</th>\n",
              "      <td>9.0</td>\n",
              "      <td>276</td>\n",
              "      <td>91</td>\n",
              "      <td>40.6</td>\n",
              "    </tr>\n",
              "  </tbody>\n",
              "</table>\n",
              "</div>\n",
              "      <button class=\"colab-df-convert\" onclick=\"convertToInteractive('df-2e132321-9d3b-4285-97c6-0b89fc334b0b')\"\n",
              "              title=\"Convert this dataframe to an interactive table.\"\n",
              "              style=\"display:none;\">\n",
              "        \n",
              "  <svg xmlns=\"http://www.w3.org/2000/svg\" height=\"24px\"viewBox=\"0 0 24 24\"\n",
              "       width=\"24px\">\n",
              "    <path d=\"M0 0h24v24H0V0z\" fill=\"none\"/>\n",
              "    <path d=\"M18.56 5.44l.94 2.06.94-2.06 2.06-.94-2.06-.94-.94-2.06-.94 2.06-2.06.94zm-11 1L8.5 8.5l.94-2.06 2.06-.94-2.06-.94L8.5 2.5l-.94 2.06-2.06.94zm10 10l.94 2.06.94-2.06 2.06-.94-2.06-.94-.94-2.06-.94 2.06-2.06.94z\"/><path d=\"M17.41 7.96l-1.37-1.37c-.4-.4-.92-.59-1.43-.59-.52 0-1.04.2-1.43.59L10.3 9.45l-7.72 7.72c-.78.78-.78 2.05 0 2.83L4 21.41c.39.39.9.59 1.41.59.51 0 1.02-.2 1.41-.59l7.78-7.78 2.81-2.81c.8-.78.8-2.07 0-2.86zM5.41 20L4 18.59l7.72-7.72 1.47 1.35L5.41 20z\"/>\n",
              "  </svg>\n",
              "      </button>\n",
              "      \n",
              "  <style>\n",
              "    .colab-df-container {\n",
              "      display:flex;\n",
              "      flex-wrap:wrap;\n",
              "      gap: 12px;\n",
              "    }\n",
              "\n",
              "    .colab-df-convert {\n",
              "      background-color: #E8F0FE;\n",
              "      border: none;\n",
              "      border-radius: 50%;\n",
              "      cursor: pointer;\n",
              "      display: none;\n",
              "      fill: #1967D2;\n",
              "      height: 32px;\n",
              "      padding: 0 0 0 0;\n",
              "      width: 32px;\n",
              "    }\n",
              "\n",
              "    .colab-df-convert:hover {\n",
              "      background-color: #E2EBFA;\n",
              "      box-shadow: 0px 1px 2px rgba(60, 64, 67, 0.3), 0px 1px 3px 1px rgba(60, 64, 67, 0.15);\n",
              "      fill: #174EA6;\n",
              "    }\n",
              "\n",
              "    [theme=dark] .colab-df-convert {\n",
              "      background-color: #3B4455;\n",
              "      fill: #D2E3FC;\n",
              "    }\n",
              "\n",
              "    [theme=dark] .colab-df-convert:hover {\n",
              "      background-color: #434B5C;\n",
              "      box-shadow: 0px 1px 3px 1px rgba(0, 0, 0, 0.15);\n",
              "      filter: drop-shadow(0px 1px 2px rgba(0, 0, 0, 0.3));\n",
              "      fill: #FFFFFF;\n",
              "    }\n",
              "  </style>\n",
              "\n",
              "      <script>\n",
              "        const buttonEl =\n",
              "          document.querySelector('#df-2e132321-9d3b-4285-97c6-0b89fc334b0b button.colab-df-convert');\n",
              "        buttonEl.style.display =\n",
              "          google.colab.kernel.accessAllowed ? 'block' : 'none';\n",
              "\n",
              "        async function convertToInteractive(key) {\n",
              "          const element = document.querySelector('#df-2e132321-9d3b-4285-97c6-0b89fc334b0b');\n",
              "          const dataTable =\n",
              "            await google.colab.kernel.invokeFunction('convertToInteractive',\n",
              "                                                     [key], {});\n",
              "          if (!dataTable) return;\n",
              "\n",
              "          const docLinkHtml = 'Like what you see? Visit the ' +\n",
              "            '<a target=\"_blank\" href=https://colab.research.google.com/notebooks/data_table.ipynb>data table notebook</a>'\n",
              "            + ' to learn more about interactive tables.';\n",
              "          element.innerHTML = '';\n",
              "          dataTable['output_type'] = 'display_data';\n",
              "          await google.colab.output.renderOutput(dataTable, element);\n",
              "          const docLink = document.createElement('div');\n",
              "          docLink.innerHTML = docLinkHtml;\n",
              "          element.appendChild(docLink);\n",
              "        }\n",
              "      </script>\n",
              "    </div>\n",
              "  </div>\n",
              "  "
            ]
          },
          "metadata": {},
          "execution_count": 3
        }
      ]
    },
    {
      "cell_type": "code",
      "metadata": {
        "id": "ve2Ylj1YfPEq",
        "colab": {
          "base_uri": "https://localhost:8080/"
        },
        "outputId": "152b1f62-cae6-4797-e298-8c4d06d7f467"
      },
      "source": [
        "df.mean()"
      ],
      "execution_count": 4,
      "outputs": [
        {
          "output_type": "execute_result",
          "data": {
            "text/plain": [
              "Murder        7.788\n",
              "Assault     170.760\n",
              "UrbanPop     65.540\n",
              "Rape         21.232\n",
              "dtype: float64"
            ]
          },
          "metadata": {},
          "execution_count": 4
        }
      ]
    },
    {
      "cell_type": "code",
      "metadata": {
        "id": "CM-55r0jfPE7",
        "colab": {
          "base_uri": "https://localhost:8080/"
        },
        "outputId": "db908e67-bef4-4ee9-c3aa-b9746ca17ea3"
      },
      "source": [
        "df.var()"
      ],
      "execution_count": 5,
      "outputs": [
        {
          "output_type": "execute_result",
          "data": {
            "text/plain": [
              "Murder        18.970465\n",
              "Assault     6945.165714\n",
              "UrbanPop     209.518776\n",
              "Rape          87.729159\n",
              "dtype: float64"
            ]
          },
          "metadata": {},
          "execution_count": 5
        }
      ]
    },
    {
      "cell_type": "code",
      "metadata": {
        "id": "qE-yKc-9fPFJ",
        "colab": {
          "base_uri": "https://localhost:8080/"
        },
        "outputId": "4ed1705c-cfc5-48e0-e0da-ae94b7e2899e"
      },
      "source": [
        "X = pd.DataFrame(scale(df), index=df.index, columns=df.columns)\n",
        "\n",
        "PCA().fit(X).components_.T"
      ],
      "execution_count": 6,
      "outputs": [
        {
          "output_type": "execute_result",
          "data": {
            "text/plain": [
              "array([[ 0.53589947,  0.41818087, -0.34123273,  0.6492278 ],\n",
              "       [ 0.58318363,  0.1879856 , -0.26814843, -0.74340748],\n",
              "       [ 0.27819087, -0.87280619, -0.37801579,  0.13387773],\n",
              "       [ 0.54343209, -0.16731864,  0.81777791,  0.08902432]])"
            ]
          },
          "metadata": {},
          "execution_count": 6
        }
      ]
    },
    {
      "cell_type": "code",
      "metadata": {
        "id": "-uqmz1Y3fPFc",
        "colab": {
          "base_uri": "https://localhost:8080/",
          "height": 175
        },
        "outputId": "c2fb4eb0-5f03-4b66-d746-6bb56239b7f1"
      },
      "source": [
        "# The loading vectors\n",
        "pca_loadings = pd.DataFrame(PCA().fit(X).components_.T, index=df.columns, columns=['V1', 'V2', 'V3', 'V4'])\n",
        "pca_loadings\n",
        "\n"
      ],
      "execution_count": 7,
      "outputs": [
        {
          "output_type": "execute_result",
          "data": {
            "text/plain": [
              "                V1        V2        V3        V4\n",
              "Murder    0.535899  0.418181 -0.341233  0.649228\n",
              "Assault   0.583184  0.187986 -0.268148 -0.743407\n",
              "UrbanPop  0.278191 -0.872806 -0.378016  0.133878\n",
              "Rape      0.543432 -0.167319  0.817778  0.089024"
            ],
            "text/html": [
              "\n",
              "  <div id=\"df-3fb5ef39-bc48-41dd-b84e-c235d30a4310\">\n",
              "    <div class=\"colab-df-container\">\n",
              "      <div>\n",
              "<style scoped>\n",
              "    .dataframe tbody tr th:only-of-type {\n",
              "        vertical-align: middle;\n",
              "    }\n",
              "\n",
              "    .dataframe tbody tr th {\n",
              "        vertical-align: top;\n",
              "    }\n",
              "\n",
              "    .dataframe thead th {\n",
              "        text-align: right;\n",
              "    }\n",
              "</style>\n",
              "<table border=\"1\" class=\"dataframe\">\n",
              "  <thead>\n",
              "    <tr style=\"text-align: right;\">\n",
              "      <th></th>\n",
              "      <th>V1</th>\n",
              "      <th>V2</th>\n",
              "      <th>V3</th>\n",
              "      <th>V4</th>\n",
              "    </tr>\n",
              "  </thead>\n",
              "  <tbody>\n",
              "    <tr>\n",
              "      <th>Murder</th>\n",
              "      <td>0.535899</td>\n",
              "      <td>0.418181</td>\n",
              "      <td>-0.341233</td>\n",
              "      <td>0.649228</td>\n",
              "    </tr>\n",
              "    <tr>\n",
              "      <th>Assault</th>\n",
              "      <td>0.583184</td>\n",
              "      <td>0.187986</td>\n",
              "      <td>-0.268148</td>\n",
              "      <td>-0.743407</td>\n",
              "    </tr>\n",
              "    <tr>\n",
              "      <th>UrbanPop</th>\n",
              "      <td>0.278191</td>\n",
              "      <td>-0.872806</td>\n",
              "      <td>-0.378016</td>\n",
              "      <td>0.133878</td>\n",
              "    </tr>\n",
              "    <tr>\n",
              "      <th>Rape</th>\n",
              "      <td>0.543432</td>\n",
              "      <td>-0.167319</td>\n",
              "      <td>0.817778</td>\n",
              "      <td>0.089024</td>\n",
              "    </tr>\n",
              "  </tbody>\n",
              "</table>\n",
              "</div>\n",
              "      <button class=\"colab-df-convert\" onclick=\"convertToInteractive('df-3fb5ef39-bc48-41dd-b84e-c235d30a4310')\"\n",
              "              title=\"Convert this dataframe to an interactive table.\"\n",
              "              style=\"display:none;\">\n",
              "        \n",
              "  <svg xmlns=\"http://www.w3.org/2000/svg\" height=\"24px\"viewBox=\"0 0 24 24\"\n",
              "       width=\"24px\">\n",
              "    <path d=\"M0 0h24v24H0V0z\" fill=\"none\"/>\n",
              "    <path d=\"M18.56 5.44l.94 2.06.94-2.06 2.06-.94-2.06-.94-.94-2.06-.94 2.06-2.06.94zm-11 1L8.5 8.5l.94-2.06 2.06-.94-2.06-.94L8.5 2.5l-.94 2.06-2.06.94zm10 10l.94 2.06.94-2.06 2.06-.94-2.06-.94-.94-2.06-.94 2.06-2.06.94z\"/><path d=\"M17.41 7.96l-1.37-1.37c-.4-.4-.92-.59-1.43-.59-.52 0-1.04.2-1.43.59L10.3 9.45l-7.72 7.72c-.78.78-.78 2.05 0 2.83L4 21.41c.39.39.9.59 1.41.59.51 0 1.02-.2 1.41-.59l7.78-7.78 2.81-2.81c.8-.78.8-2.07 0-2.86zM5.41 20L4 18.59l7.72-7.72 1.47 1.35L5.41 20z\"/>\n",
              "  </svg>\n",
              "      </button>\n",
              "      \n",
              "  <style>\n",
              "    .colab-df-container {\n",
              "      display:flex;\n",
              "      flex-wrap:wrap;\n",
              "      gap: 12px;\n",
              "    }\n",
              "\n",
              "    .colab-df-convert {\n",
              "      background-color: #E8F0FE;\n",
              "      border: none;\n",
              "      border-radius: 50%;\n",
              "      cursor: pointer;\n",
              "      display: none;\n",
              "      fill: #1967D2;\n",
              "      height: 32px;\n",
              "      padding: 0 0 0 0;\n",
              "      width: 32px;\n",
              "    }\n",
              "\n",
              "    .colab-df-convert:hover {\n",
              "      background-color: #E2EBFA;\n",
              "      box-shadow: 0px 1px 2px rgba(60, 64, 67, 0.3), 0px 1px 3px 1px rgba(60, 64, 67, 0.15);\n",
              "      fill: #174EA6;\n",
              "    }\n",
              "\n",
              "    [theme=dark] .colab-df-convert {\n",
              "      background-color: #3B4455;\n",
              "      fill: #D2E3FC;\n",
              "    }\n",
              "\n",
              "    [theme=dark] .colab-df-convert:hover {\n",
              "      background-color: #434B5C;\n",
              "      box-shadow: 0px 1px 3px 1px rgba(0, 0, 0, 0.15);\n",
              "      filter: drop-shadow(0px 1px 2px rgba(0, 0, 0, 0.3));\n",
              "      fill: #FFFFFF;\n",
              "    }\n",
              "  </style>\n",
              "\n",
              "      <script>\n",
              "        const buttonEl =\n",
              "          document.querySelector('#df-3fb5ef39-bc48-41dd-b84e-c235d30a4310 button.colab-df-convert');\n",
              "        buttonEl.style.display =\n",
              "          google.colab.kernel.accessAllowed ? 'block' : 'none';\n",
              "\n",
              "        async function convertToInteractive(key) {\n",
              "          const element = document.querySelector('#df-3fb5ef39-bc48-41dd-b84e-c235d30a4310');\n",
              "          const dataTable =\n",
              "            await google.colab.kernel.invokeFunction('convertToInteractive',\n",
              "                                                     [key], {});\n",
              "          if (!dataTable) return;\n",
              "\n",
              "          const docLinkHtml = 'Like what you see? Visit the ' +\n",
              "            '<a target=\"_blank\" href=https://colab.research.google.com/notebooks/data_table.ipynb>data table notebook</a>'\n",
              "            + ' to learn more about interactive tables.';\n",
              "          element.innerHTML = '';\n",
              "          dataTable['output_type'] = 'display_data';\n",
              "          await google.colab.output.renderOutput(dataTable, element);\n",
              "          const docLink = document.createElement('div');\n",
              "          docLink.innerHTML = docLinkHtml;\n",
              "          element.appendChild(docLink);\n",
              "        }\n",
              "      </script>\n",
              "    </div>\n",
              "  </div>\n",
              "  "
            ]
          },
          "metadata": {},
          "execution_count": 7
        }
      ]
    },
    {
      "cell_type": "code",
      "metadata": {
        "id": "SVx0ejuofPFp",
        "colab": {
          "base_uri": "https://localhost:8080/",
          "height": 1000
        },
        "outputId": "f5f277c2-b529-463a-e652-82fbcec3d1d9"
      },
      "source": [
        "# Fit the PCA model and transform X to get the principal components\n",
        "pca = PCA()\n",
        "df_plot = pd.DataFrame(pca.fit_transform(X), columns=['PC1', 'PC2', 'PC3', 'PC4'], index=X.index)\n",
        "df_plot"
      ],
      "execution_count": 8,
      "outputs": [
        {
          "output_type": "execute_result",
          "data": {
            "text/plain": [
              "                     PC1       PC2       PC3       PC4\n",
              "Alabama         0.985566  1.133392 -0.444269  0.156267\n",
              "Alaska          1.950138  1.073213  2.040003 -0.438583\n",
              "Arizona         1.763164 -0.745957  0.054781 -0.834653\n",
              "Arkansas       -0.141420  1.119797  0.114574 -0.182811\n",
              "California      2.523980 -1.542934  0.598557 -0.341996\n",
              "Colorado        1.514563 -0.987555  1.095007  0.001465\n",
              "Connecticut    -1.358647 -1.088928 -0.643258 -0.118469\n",
              "Delaware        0.047709 -0.325359 -0.718633 -0.881978\n",
              "Florida         3.013042  0.039229 -0.576829 -0.096285\n",
              "Georgia         1.639283  1.278942 -0.342460  1.076797\n",
              "Hawaii         -0.912657 -1.570460  0.050782  0.902807\n",
              "Idaho          -1.639800  0.210973  0.259801 -0.499104\n",
              "Illinois        1.378911 -0.681841 -0.677496 -0.122021\n",
              "Indiana        -0.505461 -0.151563  0.228055  0.424666\n",
              "Iowa           -2.253646 -0.104054  0.164564  0.017556\n",
              "Kansas         -0.796881 -0.270165  0.025553  0.206496\n",
              "Kentucky       -0.750859  0.958440 -0.028369  0.670557\n",
              "Louisiana       1.564818  0.871055 -0.783480  0.454728\n",
              "Maine          -2.396829  0.376392 -0.065682 -0.330460\n",
              "Maryland        1.763369  0.427655 -0.157250 -0.559070\n",
              "Massachusetts  -0.486166 -1.474496 -0.609497 -0.179599\n",
              "Michigan        2.108441 -0.155397  0.384869  0.102372\n",
              "Minnesota      -1.692682 -0.632261  0.153070  0.067317\n",
              "Mississippi     0.996494  2.393796 -0.740808  0.215508\n",
              "Missouri        0.696787 -0.263355  0.377444  0.225824\n",
              "Montana        -1.185452  0.536874  0.246889  0.123742\n",
              "Nebraska       -1.265637 -0.193954  0.175574  0.015893\n",
              "Nevada          2.874395 -0.775600  1.163380  0.314515\n",
              "New Hampshire  -2.383915 -0.018082  0.036855 -0.033137\n",
              "New Jersey      0.181566 -1.449506 -0.764454  0.243383\n",
              "New Mexico      1.980024  0.142849  0.183692 -0.339534\n",
              "New York        1.682577 -0.823184 -0.643075 -0.013484\n",
              "North Carolina  1.123379  2.228003 -0.863572 -0.954382\n",
              "North Dakota   -2.992226  0.599119  0.301277 -0.253987\n",
              "Ohio           -0.225965 -0.742238 -0.031139  0.473916\n",
              "Oklahoma       -0.311783 -0.287854 -0.015310  0.010332\n",
              "Oregon          0.059122 -0.541411  0.939833 -0.237781\n",
              "Pennsylvania   -0.888416 -0.571100 -0.400629  0.359061\n",
              "Rhode Island   -0.863772 -1.491978 -1.369946 -0.613569\n",
              "South Carolina  1.320724  1.933405 -0.300538 -0.131467\n",
              "South Dakota   -1.987775  0.823343  0.389293 -0.109572\n",
              "Tennessee       0.999742  0.860251  0.188083  0.652864\n",
              "Texas           1.355138 -0.412481 -0.492069  0.643195\n",
              "Utah           -0.550565 -1.471505  0.293728 -0.082314\n",
              "Vermont        -2.801412  1.402288  0.841263 -0.144890\n",
              "Virginia       -0.096335  0.199735  0.011713  0.211371\n",
              "Washington     -0.216903 -0.970124  0.624871 -0.220848\n",
              "West Virginia  -2.108585  1.424847  0.104775  0.131909\n",
              "Wisconsin      -2.079714 -0.611269 -0.138865  0.184104\n",
              "Wyoming        -0.629427  0.321013 -0.240659 -0.166652"
            ],
            "text/html": [
              "\n",
              "  <div id=\"df-4f05093e-7324-4d1f-be94-b1facf9599f7\">\n",
              "    <div class=\"colab-df-container\">\n",
              "      <div>\n",
              "<style scoped>\n",
              "    .dataframe tbody tr th:only-of-type {\n",
              "        vertical-align: middle;\n",
              "    }\n",
              "\n",
              "    .dataframe tbody tr th {\n",
              "        vertical-align: top;\n",
              "    }\n",
              "\n",
              "    .dataframe thead th {\n",
              "        text-align: right;\n",
              "    }\n",
              "</style>\n",
              "<table border=\"1\" class=\"dataframe\">\n",
              "  <thead>\n",
              "    <tr style=\"text-align: right;\">\n",
              "      <th></th>\n",
              "      <th>PC1</th>\n",
              "      <th>PC2</th>\n",
              "      <th>PC3</th>\n",
              "      <th>PC4</th>\n",
              "    </tr>\n",
              "  </thead>\n",
              "  <tbody>\n",
              "    <tr>\n",
              "      <th>Alabama</th>\n",
              "      <td>0.985566</td>\n",
              "      <td>1.133392</td>\n",
              "      <td>-0.444269</td>\n",
              "      <td>0.156267</td>\n",
              "    </tr>\n",
              "    <tr>\n",
              "      <th>Alaska</th>\n",
              "      <td>1.950138</td>\n",
              "      <td>1.073213</td>\n",
              "      <td>2.040003</td>\n",
              "      <td>-0.438583</td>\n",
              "    </tr>\n",
              "    <tr>\n",
              "      <th>Arizona</th>\n",
              "      <td>1.763164</td>\n",
              "      <td>-0.745957</td>\n",
              "      <td>0.054781</td>\n",
              "      <td>-0.834653</td>\n",
              "    </tr>\n",
              "    <tr>\n",
              "      <th>Arkansas</th>\n",
              "      <td>-0.141420</td>\n",
              "      <td>1.119797</td>\n",
              "      <td>0.114574</td>\n",
              "      <td>-0.182811</td>\n",
              "    </tr>\n",
              "    <tr>\n",
              "      <th>California</th>\n",
              "      <td>2.523980</td>\n",
              "      <td>-1.542934</td>\n",
              "      <td>0.598557</td>\n",
              "      <td>-0.341996</td>\n",
              "    </tr>\n",
              "    <tr>\n",
              "      <th>Colorado</th>\n",
              "      <td>1.514563</td>\n",
              "      <td>-0.987555</td>\n",
              "      <td>1.095007</td>\n",
              "      <td>0.001465</td>\n",
              "    </tr>\n",
              "    <tr>\n",
              "      <th>Connecticut</th>\n",
              "      <td>-1.358647</td>\n",
              "      <td>-1.088928</td>\n",
              "      <td>-0.643258</td>\n",
              "      <td>-0.118469</td>\n",
              "    </tr>\n",
              "    <tr>\n",
              "      <th>Delaware</th>\n",
              "      <td>0.047709</td>\n",
              "      <td>-0.325359</td>\n",
              "      <td>-0.718633</td>\n",
              "      <td>-0.881978</td>\n",
              "    </tr>\n",
              "    <tr>\n",
              "      <th>Florida</th>\n",
              "      <td>3.013042</td>\n",
              "      <td>0.039229</td>\n",
              "      <td>-0.576829</td>\n",
              "      <td>-0.096285</td>\n",
              "    </tr>\n",
              "    <tr>\n",
              "      <th>Georgia</th>\n",
              "      <td>1.639283</td>\n",
              "      <td>1.278942</td>\n",
              "      <td>-0.342460</td>\n",
              "      <td>1.076797</td>\n",
              "    </tr>\n",
              "    <tr>\n",
              "      <th>Hawaii</th>\n",
              "      <td>-0.912657</td>\n",
              "      <td>-1.570460</td>\n",
              "      <td>0.050782</td>\n",
              "      <td>0.902807</td>\n",
              "    </tr>\n",
              "    <tr>\n",
              "      <th>Idaho</th>\n",
              "      <td>-1.639800</td>\n",
              "      <td>0.210973</td>\n",
              "      <td>0.259801</td>\n",
              "      <td>-0.499104</td>\n",
              "    </tr>\n",
              "    <tr>\n",
              "      <th>Illinois</th>\n",
              "      <td>1.378911</td>\n",
              "      <td>-0.681841</td>\n",
              "      <td>-0.677496</td>\n",
              "      <td>-0.122021</td>\n",
              "    </tr>\n",
              "    <tr>\n",
              "      <th>Indiana</th>\n",
              "      <td>-0.505461</td>\n",
              "      <td>-0.151563</td>\n",
              "      <td>0.228055</td>\n",
              "      <td>0.424666</td>\n",
              "    </tr>\n",
              "    <tr>\n",
              "      <th>Iowa</th>\n",
              "      <td>-2.253646</td>\n",
              "      <td>-0.104054</td>\n",
              "      <td>0.164564</td>\n",
              "      <td>0.017556</td>\n",
              "    </tr>\n",
              "    <tr>\n",
              "      <th>Kansas</th>\n",
              "      <td>-0.796881</td>\n",
              "      <td>-0.270165</td>\n",
              "      <td>0.025553</td>\n",
              "      <td>0.206496</td>\n",
              "    </tr>\n",
              "    <tr>\n",
              "      <th>Kentucky</th>\n",
              "      <td>-0.750859</td>\n",
              "      <td>0.958440</td>\n",
              "      <td>-0.028369</td>\n",
              "      <td>0.670557</td>\n",
              "    </tr>\n",
              "    <tr>\n",
              "      <th>Louisiana</th>\n",
              "      <td>1.564818</td>\n",
              "      <td>0.871055</td>\n",
              "      <td>-0.783480</td>\n",
              "      <td>0.454728</td>\n",
              "    </tr>\n",
              "    <tr>\n",
              "      <th>Maine</th>\n",
              "      <td>-2.396829</td>\n",
              "      <td>0.376392</td>\n",
              "      <td>-0.065682</td>\n",
              "      <td>-0.330460</td>\n",
              "    </tr>\n",
              "    <tr>\n",
              "      <th>Maryland</th>\n",
              "      <td>1.763369</td>\n",
              "      <td>0.427655</td>\n",
              "      <td>-0.157250</td>\n",
              "      <td>-0.559070</td>\n",
              "    </tr>\n",
              "    <tr>\n",
              "      <th>Massachusetts</th>\n",
              "      <td>-0.486166</td>\n",
              "      <td>-1.474496</td>\n",
              "      <td>-0.609497</td>\n",
              "      <td>-0.179599</td>\n",
              "    </tr>\n",
              "    <tr>\n",
              "      <th>Michigan</th>\n",
              "      <td>2.108441</td>\n",
              "      <td>-0.155397</td>\n",
              "      <td>0.384869</td>\n",
              "      <td>0.102372</td>\n",
              "    </tr>\n",
              "    <tr>\n",
              "      <th>Minnesota</th>\n",
              "      <td>-1.692682</td>\n",
              "      <td>-0.632261</td>\n",
              "      <td>0.153070</td>\n",
              "      <td>0.067317</td>\n",
              "    </tr>\n",
              "    <tr>\n",
              "      <th>Mississippi</th>\n",
              "      <td>0.996494</td>\n",
              "      <td>2.393796</td>\n",
              "      <td>-0.740808</td>\n",
              "      <td>0.215508</td>\n",
              "    </tr>\n",
              "    <tr>\n",
              "      <th>Missouri</th>\n",
              "      <td>0.696787</td>\n",
              "      <td>-0.263355</td>\n",
              "      <td>0.377444</td>\n",
              "      <td>0.225824</td>\n",
              "    </tr>\n",
              "    <tr>\n",
              "      <th>Montana</th>\n",
              "      <td>-1.185452</td>\n",
              "      <td>0.536874</td>\n",
              "      <td>0.246889</td>\n",
              "      <td>0.123742</td>\n",
              "    </tr>\n",
              "    <tr>\n",
              "      <th>Nebraska</th>\n",
              "      <td>-1.265637</td>\n",
              "      <td>-0.193954</td>\n",
              "      <td>0.175574</td>\n",
              "      <td>0.015893</td>\n",
              "    </tr>\n",
              "    <tr>\n",
              "      <th>Nevada</th>\n",
              "      <td>2.874395</td>\n",
              "      <td>-0.775600</td>\n",
              "      <td>1.163380</td>\n",
              "      <td>0.314515</td>\n",
              "    </tr>\n",
              "    <tr>\n",
              "      <th>New Hampshire</th>\n",
              "      <td>-2.383915</td>\n",
              "      <td>-0.018082</td>\n",
              "      <td>0.036855</td>\n",
              "      <td>-0.033137</td>\n",
              "    </tr>\n",
              "    <tr>\n",
              "      <th>New Jersey</th>\n",
              "      <td>0.181566</td>\n",
              "      <td>-1.449506</td>\n",
              "      <td>-0.764454</td>\n",
              "      <td>0.243383</td>\n",
              "    </tr>\n",
              "    <tr>\n",
              "      <th>New Mexico</th>\n",
              "      <td>1.980024</td>\n",
              "      <td>0.142849</td>\n",
              "      <td>0.183692</td>\n",
              "      <td>-0.339534</td>\n",
              "    </tr>\n",
              "    <tr>\n",
              "      <th>New York</th>\n",
              "      <td>1.682577</td>\n",
              "      <td>-0.823184</td>\n",
              "      <td>-0.643075</td>\n",
              "      <td>-0.013484</td>\n",
              "    </tr>\n",
              "    <tr>\n",
              "      <th>North Carolina</th>\n",
              "      <td>1.123379</td>\n",
              "      <td>2.228003</td>\n",
              "      <td>-0.863572</td>\n",
              "      <td>-0.954382</td>\n",
              "    </tr>\n",
              "    <tr>\n",
              "      <th>North Dakota</th>\n",
              "      <td>-2.992226</td>\n",
              "      <td>0.599119</td>\n",
              "      <td>0.301277</td>\n",
              "      <td>-0.253987</td>\n",
              "    </tr>\n",
              "    <tr>\n",
              "      <th>Ohio</th>\n",
              "      <td>-0.225965</td>\n",
              "      <td>-0.742238</td>\n",
              "      <td>-0.031139</td>\n",
              "      <td>0.473916</td>\n",
              "    </tr>\n",
              "    <tr>\n",
              "      <th>Oklahoma</th>\n",
              "      <td>-0.311783</td>\n",
              "      <td>-0.287854</td>\n",
              "      <td>-0.015310</td>\n",
              "      <td>0.010332</td>\n",
              "    </tr>\n",
              "    <tr>\n",
              "      <th>Oregon</th>\n",
              "      <td>0.059122</td>\n",
              "      <td>-0.541411</td>\n",
              "      <td>0.939833</td>\n",
              "      <td>-0.237781</td>\n",
              "    </tr>\n",
              "    <tr>\n",
              "      <th>Pennsylvania</th>\n",
              "      <td>-0.888416</td>\n",
              "      <td>-0.571100</td>\n",
              "      <td>-0.400629</td>\n",
              "      <td>0.359061</td>\n",
              "    </tr>\n",
              "    <tr>\n",
              "      <th>Rhode Island</th>\n",
              "      <td>-0.863772</td>\n",
              "      <td>-1.491978</td>\n",
              "      <td>-1.369946</td>\n",
              "      <td>-0.613569</td>\n",
              "    </tr>\n",
              "    <tr>\n",
              "      <th>South Carolina</th>\n",
              "      <td>1.320724</td>\n",
              "      <td>1.933405</td>\n",
              "      <td>-0.300538</td>\n",
              "      <td>-0.131467</td>\n",
              "    </tr>\n",
              "    <tr>\n",
              "      <th>South Dakota</th>\n",
              "      <td>-1.987775</td>\n",
              "      <td>0.823343</td>\n",
              "      <td>0.389293</td>\n",
              "      <td>-0.109572</td>\n",
              "    </tr>\n",
              "    <tr>\n",
              "      <th>Tennessee</th>\n",
              "      <td>0.999742</td>\n",
              "      <td>0.860251</td>\n",
              "      <td>0.188083</td>\n",
              "      <td>0.652864</td>\n",
              "    </tr>\n",
              "    <tr>\n",
              "      <th>Texas</th>\n",
              "      <td>1.355138</td>\n",
              "      <td>-0.412481</td>\n",
              "      <td>-0.492069</td>\n",
              "      <td>0.643195</td>\n",
              "    </tr>\n",
              "    <tr>\n",
              "      <th>Utah</th>\n",
              "      <td>-0.550565</td>\n",
              "      <td>-1.471505</td>\n",
              "      <td>0.293728</td>\n",
              "      <td>-0.082314</td>\n",
              "    </tr>\n",
              "    <tr>\n",
              "      <th>Vermont</th>\n",
              "      <td>-2.801412</td>\n",
              "      <td>1.402288</td>\n",
              "      <td>0.841263</td>\n",
              "      <td>-0.144890</td>\n",
              "    </tr>\n",
              "    <tr>\n",
              "      <th>Virginia</th>\n",
              "      <td>-0.096335</td>\n",
              "      <td>0.199735</td>\n",
              "      <td>0.011713</td>\n",
              "      <td>0.211371</td>\n",
              "    </tr>\n",
              "    <tr>\n",
              "      <th>Washington</th>\n",
              "      <td>-0.216903</td>\n",
              "      <td>-0.970124</td>\n",
              "      <td>0.624871</td>\n",
              "      <td>-0.220848</td>\n",
              "    </tr>\n",
              "    <tr>\n",
              "      <th>West Virginia</th>\n",
              "      <td>-2.108585</td>\n",
              "      <td>1.424847</td>\n",
              "      <td>0.104775</td>\n",
              "      <td>0.131909</td>\n",
              "    </tr>\n",
              "    <tr>\n",
              "      <th>Wisconsin</th>\n",
              "      <td>-2.079714</td>\n",
              "      <td>-0.611269</td>\n",
              "      <td>-0.138865</td>\n",
              "      <td>0.184104</td>\n",
              "    </tr>\n",
              "    <tr>\n",
              "      <th>Wyoming</th>\n",
              "      <td>-0.629427</td>\n",
              "      <td>0.321013</td>\n",
              "      <td>-0.240659</td>\n",
              "      <td>-0.166652</td>\n",
              "    </tr>\n",
              "  </tbody>\n",
              "</table>\n",
              "</div>\n",
              "      <button class=\"colab-df-convert\" onclick=\"convertToInteractive('df-4f05093e-7324-4d1f-be94-b1facf9599f7')\"\n",
              "              title=\"Convert this dataframe to an interactive table.\"\n",
              "              style=\"display:none;\">\n",
              "        \n",
              "  <svg xmlns=\"http://www.w3.org/2000/svg\" height=\"24px\"viewBox=\"0 0 24 24\"\n",
              "       width=\"24px\">\n",
              "    <path d=\"M0 0h24v24H0V0z\" fill=\"none\"/>\n",
              "    <path d=\"M18.56 5.44l.94 2.06.94-2.06 2.06-.94-2.06-.94-.94-2.06-.94 2.06-2.06.94zm-11 1L8.5 8.5l.94-2.06 2.06-.94-2.06-.94L8.5 2.5l-.94 2.06-2.06.94zm10 10l.94 2.06.94-2.06 2.06-.94-2.06-.94-.94-2.06-.94 2.06-2.06.94z\"/><path d=\"M17.41 7.96l-1.37-1.37c-.4-.4-.92-.59-1.43-.59-.52 0-1.04.2-1.43.59L10.3 9.45l-7.72 7.72c-.78.78-.78 2.05 0 2.83L4 21.41c.39.39.9.59 1.41.59.51 0 1.02-.2 1.41-.59l7.78-7.78 2.81-2.81c.8-.78.8-2.07 0-2.86zM5.41 20L4 18.59l7.72-7.72 1.47 1.35L5.41 20z\"/>\n",
              "  </svg>\n",
              "      </button>\n",
              "      \n",
              "  <style>\n",
              "    .colab-df-container {\n",
              "      display:flex;\n",
              "      flex-wrap:wrap;\n",
              "      gap: 12px;\n",
              "    }\n",
              "\n",
              "    .colab-df-convert {\n",
              "      background-color: #E8F0FE;\n",
              "      border: none;\n",
              "      border-radius: 50%;\n",
              "      cursor: pointer;\n",
              "      display: none;\n",
              "      fill: #1967D2;\n",
              "      height: 32px;\n",
              "      padding: 0 0 0 0;\n",
              "      width: 32px;\n",
              "    }\n",
              "\n",
              "    .colab-df-convert:hover {\n",
              "      background-color: #E2EBFA;\n",
              "      box-shadow: 0px 1px 2px rgba(60, 64, 67, 0.3), 0px 1px 3px 1px rgba(60, 64, 67, 0.15);\n",
              "      fill: #174EA6;\n",
              "    }\n",
              "\n",
              "    [theme=dark] .colab-df-convert {\n",
              "      background-color: #3B4455;\n",
              "      fill: #D2E3FC;\n",
              "    }\n",
              "\n",
              "    [theme=dark] .colab-df-convert:hover {\n",
              "      background-color: #434B5C;\n",
              "      box-shadow: 0px 1px 3px 1px rgba(0, 0, 0, 0.15);\n",
              "      filter: drop-shadow(0px 1px 2px rgba(0, 0, 0, 0.3));\n",
              "      fill: #FFFFFF;\n",
              "    }\n",
              "  </style>\n",
              "\n",
              "      <script>\n",
              "        const buttonEl =\n",
              "          document.querySelector('#df-4f05093e-7324-4d1f-be94-b1facf9599f7 button.colab-df-convert');\n",
              "        buttonEl.style.display =\n",
              "          google.colab.kernel.accessAllowed ? 'block' : 'none';\n",
              "\n",
              "        async function convertToInteractive(key) {\n",
              "          const element = document.querySelector('#df-4f05093e-7324-4d1f-be94-b1facf9599f7');\n",
              "          const dataTable =\n",
              "            await google.colab.kernel.invokeFunction('convertToInteractive',\n",
              "                                                     [key], {});\n",
              "          if (!dataTable) return;\n",
              "\n",
              "          const docLinkHtml = 'Like what you see? Visit the ' +\n",
              "            '<a target=\"_blank\" href=https://colab.research.google.com/notebooks/data_table.ipynb>data table notebook</a>'\n",
              "            + ' to learn more about interactive tables.';\n",
              "          element.innerHTML = '';\n",
              "          dataTable['output_type'] = 'display_data';\n",
              "          await google.colab.output.renderOutput(dataTable, element);\n",
              "          const docLink = document.createElement('div');\n",
              "          docLink.innerHTML = docLinkHtml;\n",
              "          element.appendChild(docLink);\n",
              "        }\n",
              "      </script>\n",
              "    </div>\n",
              "  </div>\n",
              "  "
            ]
          },
          "metadata": {},
          "execution_count": 8
        }
      ]
    },
    {
      "cell_type": "code",
      "metadata": {
        "id": "0YwqpIuvfPF0",
        "colab": {
          "base_uri": "https://localhost:8080/",
          "height": 464
        },
        "outputId": "18a42364-22a6-4e45-9c13-fe46391485bf"
      },
      "source": [
        "fig , ax1 = plt.subplots(figsize=(9,7))\n",
        "\n",
        "ax1.set_xlim(-3.5,3.5)\n",
        "ax1.set_ylim(-3.5,3.5)\n",
        "\n",
        "# Plot Principal Components 1 and 2\n",
        "for i in df_plot.index:\n",
        "    ax1.annotate(i, (df_plot.PC1.loc[i], -df_plot.PC2.loc[i]), ha='center')\n",
        "\n",
        "# Plot reference lines\n",
        "ax1.hlines(0,-3.5,3.5, linestyles='dotted', colors='grey')\n",
        "ax1.vlines(0,-3.5,3.5, linestyles='dotted', colors='grey')\n",
        "\n",
        "ax1.set_xlabel('First Principal Component')\n",
        "ax1.set_ylabel('Second Principal Component')\n",
        "    \n",
        "# Plot Principal Component loading vectors, using a second y-axis.\n",
        "ax2 = ax1.twinx().twiny() \n",
        "\n",
        "ax2.set_ylim(-1,1)\n",
        "ax2.set_xlim(-1,1)\n",
        "ax2.tick_params(axis='y', colors='orange')\n",
        "ax2.set_xlabel('Principal Component loading vectors', color='orange')\n",
        "\n",
        "# Plot labels for vectors. Variable 'a' is a small offset parameter to separate arrow tip and text.\n",
        "a = 1.07  \n",
        "for i in pca_loadings[['V1', 'V2']].index:\n",
        "    ax2.annotate(i, (pca_loadings.V1.loc[i]*a, -pca_loadings.V2.loc[i]*a), color='orange')\n",
        "\n",
        "# Plot vectors\n",
        "ax2.arrow(0,0,pca_loadings.V1[0], -pca_loadings.V2[0])\n",
        "ax2.arrow(0,0,pca_loadings.V1[1], -pca_loadings.V2[1])\n",
        "ax2.arrow(0,0,pca_loadings.V1[2], -pca_loadings.V2[2])\n",
        "ax2.arrow(0,0,pca_loadings.V1[3], -pca_loadings.V2[3]);"
      ],
      "execution_count": null,
      "outputs": [
        {
          "output_type": "display_data",
          "data": {
            "text/plain": [
              "<Figure size 648x504 with 3 Axes>"
            ],
            "image/png": "[encoded data removed]"
          },
          "metadata": {}
        }
      ]
    },
    {
      "cell_type": "code",
      "metadata": {
        "id": "99wS6DKgfPGL",
        "colab": {
          "base_uri": "https://localhost:8080/"
        },
        "outputId": "bacc47e4-f426-4d88-fb3a-e2ddd07a66d5"
      },
      "source": [
        "pca.explained_variance_"
      ],
      "execution_count": 9,
      "outputs": [
        {
          "output_type": "execute_result",
          "data": {
            "text/plain": [
              "array([2.53085875, 1.00996444, 0.36383998, 0.17696948])"
            ]
          },
          "metadata": {},
          "execution_count": 9
        }
      ]
    },
    {
      "cell_type": "code",
      "metadata": {
        "id": "qDeAVWKafPGZ",
        "colab": {
          "base_uri": "https://localhost:8080/"
        },
        "outputId": "e4ba12a7-ac95-4368-cf6b-0d0bd9381e72"
      },
      "source": [
        "pca.explained_variance_ratio_"
      ],
      "execution_count": 10,
      "outputs": [
        {
          "output_type": "execute_result",
          "data": {
            "text/plain": [
              "array([0.62006039, 0.24744129, 0.0891408 , 0.04335752])"
            ]
          },
          "metadata": {},
          "execution_count": 10
        }
      ]
    },
    {
      "cell_type": "code",
      "metadata": {
        "id": "B7ipNVKifPGn",
        "colab": {
          "base_uri": "https://localhost:8080/",
          "height": 330
        },
        "outputId": "97d01088-df50-4b96-dc6c-3848a60477b1"
      },
      "source": [
        "plt.figure(figsize=(7,5))\n",
        "\n",
        "plt.plot([1,2,3,4], pca.explained_variance_ratio_, '-o', label='Individual component')\n",
        "plt.plot([1,2,3,4], np.cumsum(pca.explained_variance_ratio_), '-s', label='Cumulative')\n",
        "\n",
        "plt.ylabel('Proportion of Variance Explained')\n",
        "plt.xlabel('Principal Component')\n",
        "plt.xlim(0.75,4.25)\n",
        "plt.ylim(0,1.05)\n",
        "plt.xticks([1,2,3,4])\n",
        "plt.legend(loc=2);"
      ],
      "execution_count": null,
      "outputs": [
        {
          "output_type": "display_data",
          "data": {
            "text/plain": [
              "<Figure size 504x360 with 1 Axes>"
            ],
            "image/png": "[encoded data removed]"
          },
          "metadata": {
            "needs_background": "light"
          }
        }
      ]
    },
    {
      "cell_type": "markdown",
      "metadata": {
        "id": "gDW3mCAefPG1"
      },
      "source": [
        "## Lab 2: Clustering"
      ]
    },
    {
      "cell_type": "markdown",
      "metadata": {
        "id": "bMQM96vCfPG4"
      },
      "source": [
        "### K-Means Clustering"
      ]
    },
    {
      "cell_type": "code",
      "metadata": {
        "id": "bJrMlhtlfPG6"
      },
      "source": [
        "# prep data\n",
        "X = pd.DataFrame(scale(df), index=df.index, columns=df.columns)\n"
      ],
      "execution_count": null,
      "outputs": []
    },
    {
      "cell_type": "markdown",
      "metadata": {
        "id": "QnqIaW4-fPHC"
      },
      "source": [
        "#### K = 2"
      ]
    },
    {
      "cell_type": "code",
      "metadata": {
        "id": "Tlmm5xeMfPHE",
        "colab": {
          "base_uri": "https://localhost:8080/"
        },
        "outputId": "5bec56aa-97a7-400b-8dd4-a96b3171e08c"
      },
      "source": [
        "km1 = KMeans(n_clusters=2, n_init=20)\n",
        "km1.fit(X)"
      ],
      "execution_count": null,
      "outputs": [
        {
          "output_type": "execute_result",
          "data": {
            "text/plain": [
              "KMeans(n_clusters=2, n_init=20)"
            ]
          },
          "metadata": {},
          "execution_count": 20
        }
      ]
    },
    {
      "cell_type": "code",
      "metadata": {
        "id": "UDW3LxvkfPHR",
        "colab": {
          "base_uri": "https://localhost:8080/"
        },
        "outputId": "a6f2b9ea-201c-4a4e-a698-f459baf876e1"
      },
      "source": [
        "km1.predict(X)"
      ],
      "execution_count": null,
      "outputs": [
        {
          "output_type": "execute_result",
          "data": {
            "text/plain": [
              "array([1, 1, 1, 0, 1, 1, 0, 0, 1, 1, 0, 0, 1, 0, 0, 0, 0, 1, 0, 1, 0, 1,\n",
              "       0, 1, 1, 0, 0, 1, 0, 0, 1, 1, 1, 0, 0, 0, 0, 0, 0, 1, 0, 1, 1, 0,\n",
              "       0, 0, 0, 0, 0, 0], dtype=int32)"
            ]
          },
          "metadata": {},
          "execution_count": 21
        }
      ]
    },
    {
      "cell_type": "code",
      "source": [
        "km1.labels_"
      ],
      "metadata": {
        "colab": {
          "base_uri": "https://localhost:8080/"
        },
        "id": "xEX_HN-81SZa",
        "outputId": "c2635b6e-25da-42e4-b222-ffd390bd8a3a"
      },
      "execution_count": null,
      "outputs": [
        {
          "output_type": "execute_result",
          "data": {
            "text/plain": [
              "array([1, 1, 1, 0, 1, 1, 0, 0, 1, 1, 0, 0, 1, 0, 0, 0, 0, 1, 0, 1, 0, 1,\n",
              "       0, 1, 1, 0, 0, 1, 0, 0, 1, 1, 1, 0, 0, 0, 0, 0, 0, 1, 0, 1, 1, 0,\n",
              "       0, 0, 0, 0, 0, 0], dtype=int32)"
            ]
          },
          "metadata": {},
          "execution_count": 8
        }
      ]
    },
    {
      "cell_type": "markdown",
      "metadata": {
        "id": "EOGBv7X5fPHb"
      },
      "source": [
        "See plot for K=2 below."
      ]
    },
    {
      "cell_type": "code",
      "metadata": {
        "id": "TnCrOntffPHc",
        "colab": {
          "base_uri": "https://localhost:8080/",
          "height": 143
        },
        "outputId": "354a568b-5a18-4360-e3fe-7be7c97684c5"
      },
      "source": [
        "# Add new labels to original data and explore what clusters mean by evaluating column means.\n",
        "\n",
        "X['cluster'] = km1.labels_\n",
        "\n",
        " # means for full scaled data\n",
        "display(X.groupby('cluster').mean()) #cluster means\n",
        "\n",
        "#Note that original means are zero centered, so you can compare these categories to a mean of zero for all columns in your \n",
        "#scaled data\n",
        "\n",
        "# HOW WOULD YOU CATEGORIZE STATES IN EACH CLUSTER?  HOW WERE OBSERVATIONS CATEGORIZED?"
      ],
      "execution_count": null,
      "outputs": [
        {
          "output_type": "display_data",
          "data": {
            "text/plain": [
              "           Murder   Assault  UrbanPop      Rape\n",
              "cluster                                        \n",
              "0       -0.676758 -0.682747 -0.133061 -0.570376\n",
              "1        1.015137  1.024120  0.199591  0.855564"
            ],
            "text/html": [
              "\n",
              "  <div id=\"df-38ed5740-2d44-4e0e-b23a-95061a9069f7\">\n",
              "    <div class=\"colab-df-container\">\n",
              "      <div>\n",
              "<style scoped>\n",
              "    .dataframe tbody tr th:only-of-type {\n",
              "        vertical-align: middle;\n",
              "    }\n",
              "\n",
              "    .dataframe tbody tr th {\n",
              "        vertical-align: top;\n",
              "    }\n",
              "\n",
              "    .dataframe thead th {\n",
              "        text-align: right;\n",
              "    }\n",
              "</style>\n",
              "<table border=\"1\" class=\"dataframe\">\n",
              "  <thead>\n",
              "    <tr style=\"text-align: right;\">\n",
              "      <th></th>\n",
              "      <th>Murder</th>\n",
              "      <th>Assault</th>\n",
              "      <th>UrbanPop</th>\n",
              "      <th>Rape</th>\n",
              "    </tr>\n",
              "    <tr>\n",
              "      <th>cluster</th>\n",
              "      <th></th>\n",
              "      <th></th>\n",
              "      <th></th>\n",
              "      <th></th>\n",
              "    </tr>\n",
              "  </thead>\n",
              "  <tbody>\n",
              "    <tr>\n",
              "      <th>0</th>\n",
              "      <td>-0.676758</td>\n",
              "      <td>-0.682747</td>\n",
              "      <td>-0.133061</td>\n",
              "      <td>-0.570376</td>\n",
              "    </tr>\n",
              "    <tr>\n",
              "      <th>1</th>\n",
              "      <td>1.015137</td>\n",
              "      <td>1.024120</td>\n",
              "      <td>0.199591</td>\n",
              "      <td>0.855564</td>\n",
              "    </tr>\n",
              "  </tbody>\n",
              "</table>\n",
              "</div>\n",
              "      <button class=\"colab-df-convert\" onclick=\"convertToInteractive('df-38ed5740-2d44-4e0e-b23a-95061a9069f7')\"\n",
              "              title=\"Convert this dataframe to an interactive table.\"\n",
              "              style=\"display:none;\">\n",
              "        \n",
              "  <svg xmlns=\"http://www.w3.org/2000/svg\" height=\"24px\"viewBox=\"0 0 24 24\"\n",
              "       width=\"24px\">\n",
              "    <path d=\"M0 0h24v24H0V0z\" fill=\"none\"/>\n",
              "    <path d=\"M18.56 5.44l.94 2.06.94-2.06 2.06-.94-2.06-.94-.94-2.06-.94 2.06-2.06.94zm-11 1L8.5 8.5l.94-2.06 2.06-.94-2.06-.94L8.5 2.5l-.94 2.06-2.06.94zm10 10l.94 2.06.94-2.06 2.06-.94-2.06-.94-.94-2.06-.94 2.06-2.06.94z\"/><path d=\"M17.41 7.96l-1.37-1.37c-.4-.4-.92-.59-1.43-.59-.52 0-1.04.2-1.43.59L10.3 9.45l-7.72 7.72c-.78.78-.78 2.05 0 2.83L4 21.41c.39.39.9.59 1.41.59.51 0 1.02-.2 1.41-.59l7.78-7.78 2.81-2.81c.8-.78.8-2.07 0-2.86zM5.41 20L4 18.59l7.72-7.72 1.47 1.35L5.41 20z\"/>\n",
              "  </svg>\n",
              "      </button>\n",
              "      \n",
              "  <style>\n",
              "    .colab-df-container {\n",
              "      display:flex;\n",
              "      flex-wrap:wrap;\n",
              "      gap: 12px;\n",
              "    }\n",
              "\n",
              "    .colab-df-convert {\n",
              "      background-color: #E8F0FE;\n",
              "      border: none;\n",
              "      border-radius: 50%;\n",
              "      cursor: pointer;\n",
              "      display: none;\n",
              "      fill: #1967D2;\n",
              "      height: 32px;\n",
              "      padding: 0 0 0 0;\n",
              "      width: 32px;\n",
              "    }\n",
              "\n",
              "    .colab-df-convert:hover {\n",
              "      background-color: #E2EBFA;\n",
              "      box-shadow: 0px 1px 2px rgba(60, 64, 67, 0.3), 0px 1px 3px 1px rgba(60, 64, 67, 0.15);\n",
              "      fill: #174EA6;\n",
              "    }\n",
              "\n",
              "    [theme=dark] .colab-df-convert {\n",
              "      background-color: #3B4455;\n",
              "      fill: #D2E3FC;\n",
              "    }\n",
              "\n",
              "    [theme=dark] .colab-df-convert:hover {\n",
              "      background-color: #434B5C;\n",
              "      box-shadow: 0px 1px 3px 1px rgba(0, 0, 0, 0.15);\n",
              "      filter: drop-shadow(0px 1px 2px rgba(0, 0, 0, 0.3));\n",
              "      fill: #FFFFFF;\n",
              "    }\n",
              "  </style>\n",
              "\n",
              "      <script>\n",
              "        const buttonEl =\n",
              "          document.querySelector('#df-38ed5740-2d44-4e0e-b23a-95061a9069f7 button.colab-df-convert');\n",
              "        buttonEl.style.display =\n",
              "          google.colab.kernel.accessAllowed ? 'block' : 'none';\n",
              "\n",
              "        async function convertToInteractive(key) {\n",
              "          const element = document.querySelector('#df-38ed5740-2d44-4e0e-b23a-95061a9069f7');\n",
              "          const dataTable =\n",
              "            await google.colab.kernel.invokeFunction('convertToInteractive',\n",
              "                                                     [key], {});\n",
              "          if (!dataTable) return;\n",
              "\n",
              "          const docLinkHtml = 'Like what you see? Visit the ' +\n",
              "            '<a target=\"_blank\" href=https://colab.research.google.com/notebooks/data_table.ipynb>data table notebook</a>'\n",
              "            + ' to learn more about interactive tables.';\n",
              "          element.innerHTML = '';\n",
              "          dataTable['output_type'] = 'display_data';\n",
              "          await google.colab.output.renderOutput(dataTable, element);\n",
              "          const docLink = document.createElement('div');\n",
              "          docLink.innerHTML = docLinkHtml;\n",
              "          element.appendChild(docLink);\n",
              "        }\n",
              "      </script>\n",
              "    </div>\n",
              "  </div>\n",
              "  "
            ]
          },
          "metadata": {}
        }
      ]
    },
    {
      "cell_type": "markdown",
      "metadata": {
        "id": "0ikaOARLfPHn"
      },
      "source": [
        "####  K = 3"
      ]
    },
    {
      "cell_type": "code",
      "metadata": {
        "id": "V-0tFRfsfPHo",
        "colab": {
          "base_uri": "https://localhost:8080/"
        },
        "outputId": "9f927f6d-60af-4f78-cba1-4a70eb8ff263"
      },
      "source": [
        "np.random.seed(4)\n",
        "km2 = KMeans(n_clusters=3, n_init=20)\n",
        "km2.fit(X)"
      ],
      "execution_count": null,
      "outputs": [
        {
          "output_type": "execute_result",
          "data": {
            "text/plain": [
              "KMeans(n_clusters=3, n_init=20)"
            ]
          },
          "metadata": {},
          "execution_count": 22
        }
      ]
    },
    {
      "cell_type": "code",
      "metadata": {
        "id": "B92ukw_CfPHx",
        "colab": {
          "base_uri": "https://localhost:8080/"
        },
        "outputId": "bd22f5ea-bb13-48da-a45a-bd344f1bf5af"
      },
      "source": [
        "pd.Series(km2.labels_).value_counts()"
      ],
      "execution_count": null,
      "outputs": [
        {
          "output_type": "execute_result",
          "data": {
            "text/plain": [
              "0    19\n",
              "1    18\n",
              "2    13\n",
              "dtype: int64"
            ]
          },
          "metadata": {},
          "execution_count": 23
        }
      ]
    },
    {
      "cell_type": "code",
      "metadata": {
        "id": "zYXvtB6OfPH6",
        "colab": {
          "base_uri": "https://localhost:8080/"
        },
        "outputId": "5256dc82-6ac2-4157-deb9-4cd75f42e38a"
      },
      "source": [
        "km2.cluster_centers_"
      ],
      "execution_count": null,
      "outputs": [
        {
          "output_type": "execute_result",
          "data": {
            "text/plain": [
              "array([[ 1.01513667e+00,  1.02412028e+00,  1.99591261e-01,\n",
              "         8.55563863e-01,  1.00000000e+00],\n",
              "       [-4.51517468e-01, -3.50031767e-01,  4.83666029e-01,\n",
              "        -2.59750460e-01, -5.55111512e-17],\n",
              "       [-9.71302806e-01, -1.11783581e+00, -9.39549824e-01,\n",
              "        -9.76578419e-01,  0.00000000e+00]])"
            ]
          },
          "metadata": {},
          "execution_count": 21
        }
      ]
    },
    {
      "cell_type": "code",
      "metadata": {
        "id": "v3vZOZlEfPIE",
        "colab": {
          "base_uri": "https://localhost:8080/"
        },
        "outputId": "f0400ed1-5a2e-4bc0-a9c4-64f1ff299e9b"
      },
      "source": [
        "km2.labels_"
      ],
      "execution_count": null,
      "outputs": [
        {
          "output_type": "execute_result",
          "data": {
            "text/plain": [
              "array([0, 0, 0, 1, 0, 0, 1, 1, 0, 0, 1, 2, 0, 1, 2, 1, 2, 0, 2, 0, 1, 0,\n",
              "       2, 0, 0, 2, 2, 0, 2, 1, 0, 0, 0, 2, 1, 1, 1, 1, 1, 0, 2, 0, 0, 1,\n",
              "       2, 1, 1, 2, 2, 1], dtype=int32)"
            ]
          },
          "metadata": {},
          "execution_count": 12
        }
      ]
    },
    {
      "cell_type": "code",
      "metadata": {
        "id": "cXhoug7qfPIM",
        "colab": {
          "base_uri": "https://localhost:8080/"
        },
        "outputId": "ca3a369f-38d0-464a-8de4-5474c529d70b"
      },
      "source": [
        "# Sum of distances of samples to their closest cluster center.\n",
        "km2.inertia_"
      ],
      "execution_count": null,
      "outputs": [
        {
          "output_type": "execute_result",
          "data": {
            "text/plain": [
              "79.9217030315977"
            ]
          },
          "metadata": {},
          "execution_count": 23
        }
      ]
    },
    {
      "cell_type": "code",
      "metadata": {
        "id": "KbEG7FNafPIY",
        "colab": {
          "base_uri": "https://localhost:8080/",
          "height": 286
        },
        "outputId": "9ddd983e-bcd0-4c48-fe2a-aa930299e268"
      },
      "source": [
        "# Add new labels to original data and explore what clusters mean by evaluating column means.\n",
        "\n",
        "X['cluster'] = km2.labels_\n",
        "\n",
        " # means for full scaled data\n",
        "display(X.groupby('cluster').mean()) #cluster means\n",
        "\n",
        "#Note that original means are zero centered, so you can compare these categories to a mean of zero for all columns in your \n",
        "#scaled data\n",
        "\n",
        "# HOW WOULD YOU CATEGORIZE STATES IN EACH CLUSTER?  HOW WERE OBSERVATIONS CATEGORIZED?\n",
        "\n",
        "#print groups by index values to see states\n",
        "X.groupby('cluster').groups"
      ],
      "execution_count": null,
      "outputs": [
        {
          "output_type": "display_data",
          "data": {
            "text/plain": [
              "           Murder   Assault  UrbanPop      Rape\n",
              "cluster                                        \n",
              "0        1.053771  1.073403  0.193714  0.861041\n",
              "1       -0.410817 -0.325710  0.474087 -0.203570\n",
              "2       -0.971303 -1.117836 -0.939550 -0.976578"
            ],
            "text/html": [
              "\n",
              "  <div id=\"df-c8078fc7-2ff6-4273-bba3-405f0249bc6d\">\n",
              "    <div class=\"colab-df-container\">\n",
              "      <div>\n",
              "<style scoped>\n",
              "    .dataframe tbody tr th:only-of-type {\n",
              "        vertical-align: middle;\n",
              "    }\n",
              "\n",
              "    .dataframe tbody tr th {\n",
              "        vertical-align: top;\n",
              "    }\n",
              "\n",
              "    .dataframe thead th {\n",
              "        text-align: right;\n",
              "    }\n",
              "</style>\n",
              "<table border=\"1\" class=\"dataframe\">\n",
              "  <thead>\n",
              "    <tr style=\"text-align: right;\">\n",
              "      <th></th>\n",
              "      <th>Murder</th>\n",
              "      <th>Assault</th>\n",
              "      <th>UrbanPop</th>\n",
              "      <th>Rape</th>\n",
              "    </tr>\n",
              "    <tr>\n",
              "      <th>cluster</th>\n",
              "      <th></th>\n",
              "      <th></th>\n",
              "      <th></th>\n",
              "      <th></th>\n",
              "    </tr>\n",
              "  </thead>\n",
              "  <tbody>\n",
              "    <tr>\n",
              "      <th>0</th>\n",
              "      <td>1.053771</td>\n",
              "      <td>1.073403</td>\n",
              "      <td>0.193714</td>\n",
              "      <td>0.861041</td>\n",
              "    </tr>\n",
              "    <tr>\n",
              "      <th>1</th>\n",
              "      <td>-0.410817</td>\n",
              "      <td>-0.325710</td>\n",
              "      <td>0.474087</td>\n",
              "      <td>-0.203570</td>\n",
              "    </tr>\n",
              "    <tr>\n",
              "      <th>2</th>\n",
              "      <td>-0.971303</td>\n",
              "      <td>-1.117836</td>\n",
              "      <td>-0.939550</td>\n",
              "      <td>-0.976578</td>\n",
              "    </tr>\n",
              "  </tbody>\n",
              "</table>\n",
              "</div>\n",
              "      <button class=\"colab-df-convert\" onclick=\"convertToInteractive('df-c8078fc7-2ff6-4273-bba3-405f0249bc6d')\"\n",
              "              title=\"Convert this dataframe to an interactive table.\"\n",
              "              style=\"display:none;\">\n",
              "        \n",
              "  <svg xmlns=\"http://www.w3.org/2000/svg\" height=\"24px\"viewBox=\"0 0 24 24\"\n",
              "       width=\"24px\">\n",
              "    <path d=\"M0 0h24v24H0V0z\" fill=\"none\"/>\n",
              "    <path d=\"M18.56 5.44l.94 2.06.94-2.06 2.06-.94-2.06-.94-.94-2.06-.94 2.06-2.06.94zm-11 1L8.5 8.5l.94-2.06 2.06-.94-2.06-.94L8.5 2.5l-.94 2.06-2.06.94zm10 10l.94 2.06.94-2.06 2.06-.94-2.06-.94-.94-2.06-.94 2.06-2.06.94z\"/><path d=\"M17.41 7.96l-1.37-1.37c-.4-.4-.92-.59-1.43-.59-.52 0-1.04.2-1.43.59L10.3 9.45l-7.72 7.72c-.78.78-.78 2.05 0 2.83L4 21.41c.39.39.9.59 1.41.59.51 0 1.02-.2 1.41-.59l7.78-7.78 2.81-2.81c.8-.78.8-2.07 0-2.86zM5.41 20L4 18.59l7.72-7.72 1.47 1.35L5.41 20z\"/>\n",
              "  </svg>\n",
              "      </button>\n",
              "      \n",
              "  <style>\n",
              "    .colab-df-container {\n",
              "      display:flex;\n",
              "      flex-wrap:wrap;\n",
              "      gap: 12px;\n",
              "    }\n",
              "\n",
              "    .colab-df-convert {\n",
              "      background-color: #E8F0FE;\n",
              "      border: none;\n",
              "      border-radius: 50%;\n",
              "      cursor: pointer;\n",
              "      display: none;\n",
              "      fill: #1967D2;\n",
              "      height: 32px;\n",
              "      padding: 0 0 0 0;\n",
              "      width: 32px;\n",
              "    }\n",
              "\n",
              "    .colab-df-convert:hover {\n",
              "      background-color: #E2EBFA;\n",
              "      box-shadow: 0px 1px 2px rgba(60, 64, 67, 0.3), 0px 1px 3px 1px rgba(60, 64, 67, 0.15);\n",
              "      fill: #174EA6;\n",
              "    }\n",
              "\n",
              "    [theme=dark] .colab-df-convert {\n",
              "      background-color: #3B4455;\n",
              "      fill: #D2E3FC;\n",
              "    }\n",
              "\n",
              "    [theme=dark] .colab-df-convert:hover {\n",
              "      background-color: #434B5C;\n",
              "      box-shadow: 0px 1px 3px 1px rgba(0, 0, 0, 0.15);\n",
              "      filter: drop-shadow(0px 1px 2px rgba(0, 0, 0, 0.3));\n",
              "      fill: #FFFFFF;\n",
              "    }\n",
              "  </style>\n",
              "\n",
              "      <script>\n",
              "        const buttonEl =\n",
              "          document.querySelector('#df-c8078fc7-2ff6-4273-bba3-405f0249bc6d button.colab-df-convert');\n",
              "        buttonEl.style.display =\n",
              "          google.colab.kernel.accessAllowed ? 'block' : 'none';\n",
              "\n",
              "        async function convertToInteractive(key) {\n",
              "          const element = document.querySelector('#df-c8078fc7-2ff6-4273-bba3-405f0249bc6d');\n",
              "          const dataTable =\n",
              "            await google.colab.kernel.invokeFunction('convertToInteractive',\n",
              "                                                     [key], {});\n",
              "          if (!dataTable) return;\n",
              "\n",
              "          const docLinkHtml = 'Like what you see? Visit the ' +\n",
              "            '<a target=\"_blank\" href=https://colab.research.google.com/notebooks/data_table.ipynb>data table notebook</a>'\n",
              "            + ' to learn more about interactive tables.';\n",
              "          element.innerHTML = '';\n",
              "          dataTable['output_type'] = 'display_data';\n",
              "          await google.colab.output.renderOutput(dataTable, element);\n",
              "          const docLink = document.createElement('div');\n",
              "          docLink.innerHTML = docLinkHtml;\n",
              "          element.appendChild(docLink);\n",
              "        }\n",
              "      </script>\n",
              "    </div>\n",
              "  </div>\n",
              "  "
            ]
          },
          "metadata": {}
        },
        {
          "output_type": "execute_result",
          "data": {
            "text/plain": [
              "{0: ['Alabama', 'Alaska', 'Arizona', 'California', 'Colorado', 'Florida', 'Georgia', 'Illinois', 'Louisiana', 'Maryland', 'Michigan', 'Mississippi', 'Nevada', 'New Mexico', 'New York', 'North Carolina', 'South Carolina', 'Tennessee', 'Texas'], 1: ['Arkansas', 'Connecticut', 'Delaware', 'Hawaii', 'Indiana', 'Kansas', 'Massachusetts', 'Missouri', 'New Jersey', 'Ohio', 'Oklahoma', 'Oregon', 'Pennsylvania', 'Rhode Island', 'Utah', 'Virginia', 'Washington', 'Wyoming'], 2: ['Idaho', 'Iowa', 'Kentucky', 'Maine', 'Minnesota', 'Montana', 'Nebraska', 'New Hampshire', 'North Dakota', 'South Dakota', 'Vermont', 'West Virginia', 'Wisconsin']}"
            ]
          },
          "metadata": {},
          "execution_count": 24
        }
      ]
    },
    {
      "cell_type": "markdown",
      "metadata": {
        "id": "aD8i671wfPIr"
      },
      "source": [
        "# 1. Now use K means clustering to generate four categories from this data and then evaluate what the clusters mean"
      ]
    },
    {
      "cell_type": "markdown",
      "metadata": {
        "id": "nXkjFF7efPIs"
      },
      "source": [
        "# 2. Can you use the following code to generate four categories using Hierarchical clustering?  Are the categories the same?\n",
        "\n"
      ]
    },
    {
      "cell_type": "code",
      "metadata": {
        "id": "-APm2LMDfPIu",
        "colab": {
          "base_uri": "https://localhost:8080/"
        },
        "outputId": "490404ad-adfc-4716-aecc-9554a281fe41"
      },
      "source": [
        "from sklearn.cluster import AgglomerativeClustering\n",
        "\n",
        "ac = AgglomerativeClustering(n_clusters=4,   # note that we select the clusters\n",
        "                             affinity='euclidean', \n",
        "                             linkage='complete')\n",
        "labels = ac.fit_predict(X)    # extract cluster labels for each observation in data\n",
        "print(labels)"
      ],
      "execution_count": null,
      "outputs": [
        {
          "output_type": "stream",
          "name": "stdout",
          "text": [
            "[2 0 0 2 0 0 1 1 0 2 1 3 0 1 3 1 2 2 3 0 1 0 1 2 0 3 3 0 3 1 0 0 2 3 1 1 0\n",
            " 1 1 2 3 2 0 1 3 2 0 3 1 2]\n"
          ]
        }
      ]
    },
    {
      "cell_type": "code",
      "metadata": {
        "id": "jhTA8h9dfPI9"
      },
      "source": [],
      "execution_count": null,
      "outputs": []
    }
  ]
}