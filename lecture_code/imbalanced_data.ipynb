{
  "nbformat": 4,
  "nbformat_minor": 0,
  "metadata": {
    "kernelspec": {
      "display_name": "Python 3",
      "language": "python",
      "name": "python3"
    },
    "language_info": {
      "codemirror_mode": {
        "name": "ipython",
        "version": 3
      },
      "file_extension": ".py",
      "mimetype": "text/x-python",
      "name": "python",
      "nbconvert_exporter": "python",
      "pygments_lexer": "ipython3",
      "version": "3.6.5"
    },
    "colab": {
      "provenance": []
    }
  },
  "cells": [
    {
      "cell_type": "markdown",
      "metadata": {
        "id": "r6_Y9-2aowVY"
      },
      "source": [
        "# Working With Imbalanced Data"
      ]
    },
    {
      "cell_type": "markdown",
      "metadata": {
        "id": "nRjKMY34owVc"
      },
      "source": [
        "## Installation via Anaconda command line\n",
        "Paste following code and hit enter:\n",
        "\n",
        "conda install -c glemaitre imbalanced-learn\n"
      ]
    },
    {
      "cell_type": "code",
      "metadata": {
        "id": "p1sbaZ75qdlT"
      },
      "source": [
        "# Run below to install updated version of imblearn\n",
        "#! pip install imbalanced-learn -U\n"
      ],
      "execution_count": null,
      "outputs": []
    },
    {
      "cell_type": "markdown",
      "metadata": {
        "id": "C3zZPeP7owVj"
      },
      "source": [
        "## Oversampling\n",
        "One way to fight this issue is to generate new samples in the classes which are under-represented. The most naive strategy is to generate new samples by randomly sampling with replacement the current available samples. The RandomOverSampler offers such scheme:\n"
      ]
    },
    {
      "cell_type": "code",
      "metadata": {
        "id": "Ry4HR7AHowVm"
      },
      "source": [
        "import pandas as pd\n",
        "import numpy as np\n",
        "import matplotlib as mpl\n",
        "import matplotlib.pyplot as plt\n",
        "import seaborn as sns\n",
        "\n",
        "#Make some data:\n",
        "\n",
        "from sklearn.datasets import make_classification\n",
        "X, y = make_classification(n_samples=5000, n_features=2, n_informative=2,\n",
        "                           n_redundant=0, n_repeated=0, n_classes=3,\n",
        "                           n_clusters_per_class=1,\n",
        "                           weights=[0.01, 0.05, 0.94],\n",
        "                           class_sep=0.8, random_state=0)\n",
        "\n",
        "\n"
      ],
      "execution_count": 3,
      "outputs": []
    },
    {
      "cell_type": "code",
      "metadata": {
        "id": "RJFJjtVlowWA",
        "colab": {
          "base_uri": "https://localhost:8080/"
        },
        "outputId": "6c62f6e9-dd05-44cb-fcdb-d41577d55478"
      },
      "source": [
        "from imblearn.over_sampling import RandomOverSampler\n",
        "\n",
        "ros = RandomOverSampler(random_state=0)\n",
        "X_resampled, y_resampled = ros.fit_resample(X, y)\n",
        "\n",
        "# Count each value of y\n",
        "print(pd.Series(y).value_counts())\n",
        "\n",
        "print(pd.Series(y_resampled).value_counts())\n",
        "\n"
      ],
      "execution_count": 4,
      "outputs": [
        {
          "output_type": "stream",
          "name": "stdout",
          "text": [
            "2    4674\n",
            "1     262\n",
            "0      64\n",
            "dtype: int64\n",
            "2    4674\n",
            "1    4674\n",
            "0    4674\n",
            "dtype: int64\n"
          ]
        }
      ]
    },
    {
      "cell_type": "code",
      "metadata": {
        "id": "cMqtvDDmowWQ",
        "colab": {
          "base_uri": "https://localhost:8080/"
        },
        "outputId": "b446dcad-bd9e-4d31-adae-f41f37531158"
      },
      "source": [
        "#proportions\n",
        "print(pd.Series(y_resampled).value_counts(normalize=True))\n"
      ],
      "execution_count": null,
      "outputs": [
        {
          "output_type": "stream",
          "name": "stdout",
          "text": [
            "2    0.333333\n",
            "1    0.333333\n",
            "0    0.333333\n",
            "dtype: float64\n"
          ]
        }
      ]
    },
    {
      "cell_type": "markdown",
      "metadata": {
        "id": "wf_A2FZ1owWe"
      },
      "source": [
        "#The augmented data set should be used instead of the original data set to train a classifier:\n",
        "\n"
      ]
    },
    {
      "cell_type": "code",
      "metadata": {
        "id": "n6oCieFvowWf",
        "colab": {
          "base_uri": "https://localhost:8080/"
        },
        "outputId": "c457546d-69ac-46ed-e261-aee98b9bfd8a"
      },
      "source": [
        "# Notice that we run a model on the original data, then the resampled data\n",
        "\n",
        "from sklearn.linear_model import LogisticRegression\n",
        "from sklearn.metrics import classification_report\n",
        "from sklearn.metrics import auc\n",
        "from sklearn.metrics import roc_curve\n",
        "\n",
        "logreg = LogisticRegression().fit(X,y)\n",
        "y_pred = logreg.predict(X) # y_pred includes your predictions\n",
        "\n",
        "print(classification_report(y, y_pred)) # precision recall and f1\n",
        "print(logreg.score(X, y)) #accuracy \n",
        "\n"
      ],
      "execution_count": null,
      "outputs": [
        {
          "output_type": "stream",
          "name": "stdout",
          "text": [
            "              precision    recall  f1-score   support\n",
            "\n",
            "           0       1.00      0.69      0.81        64\n",
            "           1       0.96      0.84      0.90       262\n",
            "           2       0.99      1.00      0.99      4674\n",
            "\n",
            "    accuracy                           0.99      5000\n",
            "   macro avg       0.98      0.84      0.90      5000\n",
            "weighted avg       0.99      0.99      0.99      5000\n",
            "\n",
            "0.9874\n"
          ]
        }
      ]
    },
    {
      "cell_type": "code",
      "metadata": {
        "id": "R0dYA33uowWt",
        "colab": {
          "base_uri": "https://localhost:8080/"
        },
        "outputId": "3221c788-86e4-46bd-fd81-97e9a7d08710"
      },
      "source": [
        "# The resampled model influences precision and recall for categories with imbalanced data\n",
        "\n",
        "logreg = LogisticRegression().fit(X_resampled,y_resampled)\n",
        "y_pred = logreg.predict(X_resampled) # y_pred includes your predictions\n",
        "\n",
        "print(classification_report(y_resampled, y_pred)) # precision recall and f1\n",
        "print(logreg.score(X_resampled, y_resampled)) #accuracy "
      ],
      "execution_count": null,
      "outputs": [
        {
          "output_type": "stream",
          "name": "stdout",
          "text": [
            "              precision    recall  f1-score   support\n",
            "\n",
            "           0       0.86      0.77      0.81      4674\n",
            "           1       0.92      0.86      0.89      4674\n",
            "           2       0.79      0.93      0.86      4674\n",
            "\n",
            "    accuracy                           0.85     14022\n",
            "   macro avg       0.86      0.85      0.85     14022\n",
            "weighted avg       0.86      0.85      0.85     14022\n",
            "\n",
            "0.8526601055484239\n"
          ]
        }
      ]
    },
    {
      "cell_type": "markdown",
      "metadata": {
        "id": "LD9kulIrowW9"
      },
      "source": [
        "As a result, the majority class does not take over the other classes during the training process. Consequently, all classes are represented by the decision function."
      ]
    },
    {
      "cell_type": "markdown",
      "metadata": {
        "id": "pgtdpVD-owXA"
      },
      "source": [
        "# Plot random oversampling"
      ]
    },
    {
      "cell_type": "code",
      "metadata": {
        "id": "edVwg7-zowXC"
      },
      "source": [
        "import matplotlib.pyplot as plt\n",
        "from sklearn.datasets import make_classification\n",
        "from sklearn.decomposition import PCA\n",
        "\n",
        "from imblearn.over_sampling import RandomOverSampler\n",
        "\n",
        "\n",
        "# Generate the dataset\n",
        "X, y = make_classification(n_classes=2, class_sep=2, weights=[0.1, 0.9],\n",
        "                           n_informative=3, n_redundant=1, flip_y=0,\n",
        "                           n_features=20, n_clusters_per_class=1,\n",
        "                           n_samples=200, random_state=10)\n",
        "\n",
        "# Instanciate a PCA object for the sake of easy visualisation\n",
        "pca = PCA(n_components=2)\n",
        "# Fit and transform x to visualise inside a 2D feature space\n",
        "X_vis = pca.fit_transform(X)\n",
        "\n",
        "# Apply the random over-sampling\n",
        "ros = RandomOverSampler()\n",
        "X_resampled, y_resampled = ros.fit_resample(X, y)\n",
        "X_res_vis = pca.transform(X_resampled)\n",
        "\n"
      ],
      "execution_count": null,
      "outputs": []
    },
    {
      "cell_type": "code",
      "metadata": {
        "id": "NmDMEtzJowXM",
        "colab": {
          "base_uri": "https://localhost:8080/",
          "height": 284
        },
        "outputId": "0e267aa8-fdf1-4b36-9966-8c84c2c6d3d1"
      },
      "source": [
        "# Two subplots, unpack the axes array immediately\n",
        "f, (ax1, ax2) = plt.subplots(1, 2)\n",
        "\n",
        "c0 = ax1.scatter(X_vis[y == 0, 0], X_vis[y == 0, 1], label=\"Class #0\",\n",
        "                 alpha=0.5)\n",
        "c1 = ax1.scatter(X_vis[y == 1, 0], X_vis[y == 1, 1], label=\"Class #1\",\n",
        "                 alpha=0.5)\n",
        "ax1.set_title('Original set')\n",
        "\n",
        "ax2.scatter(X_res_vis[y_resampled == 0, 0], X_res_vis[y_resampled == 0, 1],\n",
        "            label=\"Class #0\", alpha=.5)\n",
        "ax2.scatter(X_res_vis[y_resampled == 1, 0], X_res_vis[y_resampled == 1, 1],\n",
        "            label=\"Class #1\", alpha=.5)\n",
        "ax2.set_title('Random over-sampling')\n",
        "\n",
        "# make nice plotting\n",
        "for ax in (ax1, ax2):\n",
        "    ax.spines['top'].set_visible(False)\n",
        "    ax.spines['right'].set_visible(False)\n",
        "    ax.get_xaxis().tick_bottom()\n",
        "    ax.get_yaxis().tick_left()\n",
        "    ax.spines['left'].set_position(('outward', 10))\n",
        "    ax.spines['bottom'].set_position(('outward', 10))\n",
        "    ax.set_xlim([-6, 8])\n",
        "    ax.set_ylim([-6, 6])\n",
        "\n",
        "plt.figlegend((c0, c1), ('Class #0', 'Class #1'), loc='lower center',\n",
        "              ncol=2, labelspacing=0.)\n",
        "plt.tight_layout(pad=3)\n",
        "plt.show()"
      ],
      "execution_count": null,
      "outputs": [
        {
          "output_type": "display_data",
          "data": {
            "text/plain": [
              "<Figure size 432x288 with 2 Axes>"
            ],
            "image/png": "[encoded data removed]"
          },
          "metadata": {
            "needs_background": "light"
          }
        }
      ]
    },
    {
      "cell_type": "markdown",
      "metadata": {
        "id": "y1t1Rz3GowXV"
      },
      "source": [
        "# Random Undersampling"
      ]
    },
    {
      "cell_type": "code",
      "metadata": {
        "id": "vNqRGDjpowXX",
        "colab": {
          "base_uri": "https://localhost:8080/",
          "height": 331
        },
        "outputId": "b8361e75-b4e6-49dc-f925-9ddbd027abbb"
      },
      "source": [
        "from sklearn.datasets import make_classification\n",
        "\n",
        "X, y = make_classification(\n",
        "    n_classes=2, class_sep=1.5, weights=[0.9, 0.1],\n",
        "    n_informative=3, n_redundant=1, flip_y=0,\n",
        "    n_features=20, n_clusters_per_class=1,\n",
        "    n_samples=1000, random_state=10\n",
        ")\n",
        "\n",
        "df = pd.DataFrame(X)\n",
        "df['target'] = y\n",
        "df.target.value_counts().plot(kind='bar', title='Count (target)');\n",
        "\n",
        "\n",
        "print(pd.Series(y).value_counts())\n",
        "\n"
      ],
      "execution_count": 6,
      "outputs": [
        {
          "output_type": "stream",
          "name": "stdout",
          "text": [
            "0    900\n",
            "1    100\n",
            "dtype: int64\n"
          ]
        },
        {
          "output_type": "display_data",
          "data": {
            "text/plain": [
              "<Figure size 432x288 with 1 Axes>"
            ],
            "image/png": "[encoded data removed]"
          },
          "metadata": {
            "needs_background": "light"
          }
        }
      ]
    },
    {
      "cell_type": "code",
      "metadata": {
        "id": "MkmM873dowXl",
        "colab": {
          "base_uri": "https://localhost:8080/"
        },
        "outputId": "70fd1ed3-e674-4345-8087-088b07d6def5"
      },
      "source": [
        "from imblearn.under_sampling import RandomUnderSampler\n",
        "rus = RandomUnderSampler(random_state=0)\n",
        "\n",
        "X_resampled, y_resampled = rus.fit_resample(X, y)\n",
        "\n",
        "print(pd.Series(y_resampled).value_counts())\n"
      ],
      "execution_count": 7,
      "outputs": [
        {
          "output_type": "stream",
          "name": "stdout",
          "text": [
            "0    100\n",
            "1    100\n",
            "dtype: int64\n"
          ]
        }
      ]
    },
    {
      "cell_type": "markdown",
      "metadata": {
        "id": "Yen2b46CowXx"
      },
      "source": [
        "Of course we lose a lot of data when we undersample.  Better to oversample minority class while keeping the signal from the data, if possible.\n",
        "### Enter Synthetic Minority Oversampling Technique (SMOTE)"
      ]
    },
    {
      "cell_type": "code",
      "metadata": {
        "id": "K3e8OpvkowXz"
      },
      "source": [
        "from imblearn.over_sampling import SMOTE\n",
        "\n",
        "smote = SMOTE()\n",
        "X_sm, y_sm = smote.fit_resample(X, y)\n",
        "\n"
      ],
      "execution_count": 8,
      "outputs": []
    },
    {
      "cell_type": "code",
      "metadata": {
        "id": "723ZXAcWowX-",
        "colab": {
          "base_uri": "https://localhost:8080/"
        },
        "outputId": "83bda0e7-638d-4f20-e2a8-659594c9cb67"
      },
      "source": [
        "#Original Data\n",
        "print(pd.Series(y_sm).value_counts())\n"
      ],
      "execution_count": 9,
      "outputs": [
        {
          "output_type": "stream",
          "name": "stdout",
          "text": [
            "0    900\n",
            "1    900\n",
            "dtype: int64\n"
          ]
        }
      ]
    },
    {
      "cell_type": "code",
      "metadata": {
        "id": "P4hOFhX4owYL",
        "colab": {
          "base_uri": "https://localhost:8080/"
        },
        "outputId": "042c470d-06e5-4526-9df0-aa3c4d81f931"
      },
      "source": [
        "#New Data\n",
        "\n",
        "print(pd.Series(y_sm).value_counts())\n"
      ],
      "execution_count": 10,
      "outputs": [
        {
          "output_type": "stream",
          "name": "stdout",
          "text": [
            "0    900\n",
            "1    900\n",
            "dtype: int64\n"
          ]
        }
      ]
    },
    {
      "cell_type": "markdown",
      "metadata": {
        "id": "ZhxRU4L8owYY"
      },
      "source": [
        "## Modeling smote data"
      ]
    },
    {
      "cell_type": "code",
      "metadata": {
        "id": "lWqpH_uAowYb",
        "colab": {
          "base_uri": "https://localhost:8080/"
        },
        "outputId": "fbbc48cb-8701-4ff0-fe68-8bee0fa0fb91"
      },
      "source": [
        "\n",
        "#Original data fit\n",
        "\n",
        "logreg = LogisticRegression().fit(X,y)\n",
        "y_pred = logreg.predict(X) # y_pred includes your predictions\n",
        "\n",
        "print(classification_report(y, y_pred)) # precision recall and f1\n",
        "print(logreg.score(X, y)) #accuracy "
      ],
      "execution_count": null,
      "outputs": [
        {
          "output_type": "stream",
          "name": "stdout",
          "text": [
            "              precision    recall  f1-score   support\n",
            "\n",
            "           0       0.99      1.00      0.99       900\n",
            "           1       0.98      0.87      0.92       100\n",
            "\n",
            "    accuracy                           0.98      1000\n",
            "   macro avg       0.98      0.93      0.96      1000\n",
            "weighted avg       0.98      0.98      0.98      1000\n",
            "\n",
            "0.985\n"
          ]
        }
      ]
    },
    {
      "cell_type": "code",
      "metadata": {
        "id": "jtIkmf41owYp"
      },
      "source": [
        "# Smote oversample of minority classes\n",
        "\n",
        "smote = SMOTE()\n",
        "\n",
        "X_sm, y_sm = smote.fit_resample(X, y)"
      ],
      "execution_count": null,
      "outputs": []
    },
    {
      "cell_type": "code",
      "metadata": {
        "id": "jLSM38-zowYz",
        "colab": {
          "base_uri": "https://localhost:8080/"
        },
        "outputId": "75480f1f-7ac9-4ab2-9348-8fbfbf7b30dd"
      },
      "source": [
        "#smote data fit\n",
        "\n",
        "logreg = LogisticRegression().fit(X_sm,y_sm)\n",
        "y_pred = logreg.predict(X_sm) # y_pred includes your predictions\n",
        "\n",
        "print(classification_report(y_sm, y_pred)) # precision recall and f1\n",
        "print(logreg.score(X_sm, y_sm)) #accuracy "
      ],
      "execution_count": null,
      "outputs": [
        {
          "output_type": "stream",
          "name": "stdout",
          "text": [
            "              precision    recall  f1-score   support\n",
            "\n",
            "           0       0.97      0.97      0.97       900\n",
            "           1       0.97      0.97      0.97       900\n",
            "\n",
            "    accuracy                           0.97      1800\n",
            "   macro avg       0.97      0.97      0.97      1800\n",
            "weighted avg       0.97      0.97      0.97      1800\n",
            "\n",
            "0.9688888888888889\n"
          ]
        }
      ]
    },
    {
      "cell_type": "markdown",
      "metadata": {
        "id": "6mrZclzIowY7"
      },
      "source": [
        "## Combination of over- and under-sampling"
      ]
    },
    {
      "cell_type": "code",
      "metadata": {
        "id": "NhFaRnVAowY8",
        "colab": {
          "base_uri": "https://localhost:8080/"
        },
        "outputId": "9dae6570-3d1a-487b-fe1e-47ec1ece20ff"
      },
      "source": [
        "# We can use SMOTE with a second technique that dismisses nearest\n",
        "# neighbors that have diff't classes before creating synthetic observations (i.e.-delete all Tomek links)\n",
        "\n",
        "\n",
        "from imblearn.combine import SMOTETomek\n",
        "\n",
        "smt = SMOTETomek()\n",
        "X_smt, y_smt = smt.fit_resample(X, y)\n",
        "\n",
        "logreg = LogisticRegression().fit(X_smt,y_smt)\n",
        "y_pred = logreg.predict(X_smt) # y_pred includes your predictions\n",
        "\n",
        "print(classification_report(y_smt, y_pred)) # precision recall and f1\n",
        "print(logreg.score(X_smt, y_smt)) #accuracy increases a bit, but we should test on new data"
      ],
      "execution_count": null,
      "outputs": [
        {
          "output_type": "stream",
          "name": "stdout",
          "text": [
            "              precision    recall  f1-score   support\n",
            "\n",
            "           0       0.97      0.97      0.97       900\n",
            "           1       0.97      0.97      0.97       900\n",
            "\n",
            "    accuracy                           0.97      1800\n",
            "   macro avg       0.97      0.97      0.97      1800\n",
            "weighted avg       0.97      0.97      0.97      1800\n",
            "\n",
            "0.9716666666666667\n"
          ]
        }
      ]
    },
    {
      "cell_type": "markdown",
      "metadata": {
        "id": "HXPNvNuQowZE"
      },
      "source": [
        "## Now you try to improve prediction error on new data:"
      ]
    },
    {
      "cell_type": "code",
      "metadata": {
        "id": "LjM3b6rxowZG",
        "colab": {
          "base_uri": "https://localhost:8080/"
        },
        "outputId": "f03daf1b-c34a-43f4-8c1d-9174e8800eaf"
      },
      "source": [
        "import pandas as pd\n",
        "\n",
        "from sklearn.datasets import load_breast_cancer\n",
        "bc_load_data = load_breast_cancer()\n",
        "\n",
        "print(list(bc_load_data.target_names))\n",
        "\n",
        "y = bc_load_data.target\n",
        "X = bc_load_data.data\n",
        "\n",
        "print(pd.Series(y).value_counts(normalize=True))\n",
        "\n",
        "X.shape\n"
      ],
      "execution_count": null,
      "outputs": [
        {
          "output_type": "stream",
          "name": "stdout",
          "text": [
            "['malignant', 'benign']\n",
            "1    0.627417\n",
            "0    0.372583\n",
            "dtype: float64\n"
          ]
        },
        {
          "output_type": "execute_result",
          "data": {
            "text/plain": [
              "(569, 30)"
            ]
          },
          "metadata": {},
          "execution_count": 19
        }
      ]
    },
    {
      "cell_type": "code",
      "metadata": {
        "id": "VZoxsQybowZP"
      },
      "source": [
        "# We didn't split data into training and test sets consistently above. But you should do so here to score test data."
      ],
      "execution_count": null,
      "outputs": []
    }
  ]
}