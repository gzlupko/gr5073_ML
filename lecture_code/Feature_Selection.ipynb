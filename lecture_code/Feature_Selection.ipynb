{
  "nbformat": 4,
  "nbformat_minor": 0,
  "metadata": {
    "kernelspec": {
      "name": "python3",
      "display_name": "Python 3"
    },
    "colab": {
      "provenance": []
    }
  },
  "cells": [
    {
      "cell_type": "markdown",
      "metadata": {
        "id": "5RLgIT-Dsli1"
      },
      "source": [
        "# Feature Selection Using Models Learned Thus Far..."
      ]
    },
    {
      "cell_type": "markdown",
      "metadata": {
        "id": "RAqw-dhRsli7"
      },
      "source": [
        "First, Feature selection using SelectFromModel"
      ]
    },
    {
      "cell_type": "markdown",
      "metadata": {
        "id": "e9Ra1zefsli_"
      },
      "source": [
        "SelectFromModel is a meta-transformer that can be used along with any estimator that has a coef_ or feature_importances_ \n",
        "attribute after fitting. \n",
        "\n",
        "The features are considered unimportant and removed, if the corresponding coef_ or feature_importances_ values are below \n",
        "the provided threshold parameter. \n",
        "\n",
        "Apart from specifying the threshold numerically, there are built-in heuristics for finding a threshold using a string argument. \n",
        "\n",
        "Available heuristics are “mean”, “median” and float multiples of these like “0.1*mean”."
      ]
    },
    {
      "cell_type": "markdown",
      "metadata": {
        "id": "CyJIRX7JsljG"
      },
      "source": [
        "### Example 1: Fit a Random Forest model and use SelectFromModel to keep important features"
      ]
    },
    {
      "cell_type": "code",
      "metadata": {
        "id": "yGXHOxYHsljI",
        "colab": {
          "base_uri": "https://localhost:8080/"
        },
        "outputId": "1b12bb77-4540-428c-cd9a-b89ad22efcdb"
      },
      "source": [
        "from sklearn.feature_selection import SelectFromModel\n",
        "from sklearn.ensemble import RandomForestRegressor\n",
        "from sklearn.model_selection import train_test_split\n",
        "import pandas as pd\n",
        "import numpy as np\n",
        "\n",
        "\n",
        "data_url = \"https://raw.githubusercontent.com/selva86/datasets/master/BostonHousing.csv\"\n",
        "data = pd.read_csv(data_url)\n",
        "target=data[\"medv\"]\n",
        "data=data.drop(['medv'], axis=1)\n",
        "\n",
        "Xtrain, Xtest, ytrain, ytest = train_test_split(data, target,\n",
        "                                                random_state=0)\n",
        "\n",
        "forest = RandomForestRegressor(n_estimators=200)\n",
        "formodel = forest.fit(Xtrain, ytrain)\n",
        "\n",
        "\n",
        "print(formodel.feature_importances_)\n"
      ],
      "execution_count": 1,
      "outputs": [
        {
          "output_type": "stream",
          "name": "stdout",
          "text": [
            "[0.03786884 0.00150715 0.00784629 0.00143109 0.01752525 0.39519278\n",
            " 0.01279564 0.0435756  0.00358423 0.01728389 0.02214276 0.01009055\n",
            " 0.42915594]\n"
          ]
        }
      ]
    },
    {
      "cell_type": "code",
      "metadata": {
        "id": "xCHj5MzHsljc",
        "colab": {
          "base_uri": "https://localhost:8080/"
        },
        "outputId": "ddf118e2-8dcf-4397-9af1-e46e46f4619c"
      },
      "source": [
        "# Set a minimum threshold of 0.25\n",
        "sfm = SelectFromModel(formodel, threshold=.25)\n",
        "sfm.fit(Xtrain, ytrain)\n",
        "Xtrain_new = sfm.transform(Xtrain) # transform data to insert into new model\n",
        "\n",
        "print(Xtrain_new[0:5,:]) #only two variables in X now\n",
        "\n",
        "print(Xtrain_new.shape) #compare to original data with 13 variables"
      ],
      "execution_count": null,
      "outputs": [
        {
          "output_type": "stream",
          "name": "stdout",
          "text": [
            "[[ 5.605 18.46 ]\n",
            " [ 5.927  9.22 ]\n",
            " [ 7.267  6.05 ]\n",
            " [ 6.471 17.12 ]\n",
            " [ 6.782 25.79 ]]\n",
            "(379, 2)\n"
          ]
        }
      ]
    },
    {
      "cell_type": "markdown",
      "metadata": {
        "id": "kuUgVm8psljs"
      },
      "source": [
        "### Example 2: Fit a Lasso model and use SelectFromModel to keep important features"
      ]
    },
    {
      "cell_type": "code",
      "metadata": {
        "id": "catz5SZCslju",
        "colab": {
          "base_uri": "https://localhost:8080/"
        },
        "outputId": "210c25f0-12d9-4735-d4e3-26a90d41f1c6"
      },
      "source": [
        "from sklearn.linear_model import Lasso\n",
        "from sklearn.feature_selection import SelectFromModel\n",
        "\n",
        "lassomodel = Lasso(alpha=10).fit(Xtrain, ytrain)\n",
        "model = SelectFromModel(lassomodel, prefit=True) # prefit argument allows non zero features to be chosen\n",
        "                                                 # from regularized models like lasso\n",
        "    \n",
        "X_new = model.transform(Xtrain) # transform data to insert into new model\n",
        "\n",
        "print(lassomodel.coef_)\n",
        "print(X_new.shape) #down to four variables from 13\n",
        "\n"
      ],
      "execution_count": null,
      "outputs": [
        {
          "output_type": "stream",
          "name": "stdout",
          "text": [
            "[-0.          0.03268741 -0.          0.          0.          0.\n",
            "  0.         -0.          0.         -0.01155885 -0.          0.00679306\n",
            " -0.54971245]\n",
            "(379, 4)\n"
          ]
        },
        {
          "output_type": "stream",
          "name": "stderr",
          "text": [
            "/usr/local/lib/python3.7/dist-packages/sklearn/base.py:444: UserWarning: X has feature names, but SelectFromModel was fitted without feature names\n",
            "  f\"X has feature names, but {self.__class__.__name__} was fitted without\"\n"
          ]
        }
      ]
    },
    {
      "cell_type": "markdown",
      "metadata": {
        "id": "b9evdaLislj_"
      },
      "source": [
        "# Using Recursive Feature Elimination to Choose Model"
      ]
    },
    {
      "cell_type": "markdown",
      "metadata": {
        "id": "AlGqE-L1slkA"
      },
      "source": [
        "Given an external estimator that assigns weights to features (e.g., the coefficients of a linear model), the goal of recursive feature elimination (RFE) is to select features by recursively considering smaller and smaller sets of features. \n",
        "\n",
        "First, the estimator is trained on the initial set of features and the importance of each feature is obtained either through a coef_ attribute or through a feature_importances_ attribute. \n",
        "\n",
        "Basic algorithm:\n",
        "Start with full model.  Run series of models that evaluate prediction error on ytrain after dropping a feature.  Repeat for all features.  Drop feature that is helps least in predicting ytrain.  Repeat process with n-1 features...\n",
        "\n",
        "Then, the least important features are pruned from current set of features. That procedure is recursively repeated on the pruned set until the desired number of features to select is eventually reached."
      ]
    },
    {
      "cell_type": "code",
      "metadata": {
        "id": "T9klFlhPslkC",
        "colab": {
          "base_uri": "https://localhost:8080/"
        },
        "outputId": "492eda84-e284-47df-a528-7a2a814b8f14"
      },
      "source": [
        "#EXAMPLE:  RFE to find 5 features that help model predict the best:\n",
        "\n",
        "from sklearn.linear_model import LinearRegression\n",
        "from sklearn.feature_selection import RFE\n",
        "\n",
        "estimator = LinearRegression().fit(Xtrain, ytrain) #model with all X variables\n",
        "\n",
        "\n",
        "selector = RFE(estimator, n_features_to_select=3, step=1) # step tells RFE how many features to remove each time model features are evaluated\n",
        "\n",
        "selector = selector.fit(Xtrain, ytrain) # fit RFE estimator.\n",
        "\n",
        "print(\"Num Features: \"+str(selector.n_features_))\n",
        "print(\"Selected Features: \"+str(selector.support_)) # T/F for top five features\n",
        "print(\"Feature Ranking: \"+str(selector.ranking_))  # ranking for top five + features"
      ],
      "execution_count": null,
      "outputs": [
        {
          "output_type": "stream",
          "name": "stdout",
          "text": [
            "Num Features: 3\n",
            "Selected Features: [False False False  True  True  True False False False False False False\n",
            " False]\n",
            "Feature Ranking: [ 5  7 11  1  1  1 10  3  6  8  2  9  4]\n"
          ]
        }
      ]
    },
    {
      "cell_type": "code",
      "metadata": {
        "id": "wGDUZRxLslkW",
        "colab": {
          "base_uri": "https://localhost:8080/"
        },
        "outputId": "c40b63a2-8740-4c8e-f198-da485e25d4f6"
      },
      "source": [
        "# Transform X data for other use in this model or other models:\n",
        "\n",
        "Xnew = selector.transform( Xtrain) #reduces X to subset identified above\n",
        "data.columns[selector.support_ ] # five most important features"
      ],
      "execution_count": null,
      "outputs": [
        {
          "output_type": "execute_result",
          "data": {
            "text/plain": [
              "Index(['chas', 'nox', 'rm'], dtype='object')"
            ]
          },
          "metadata": {},
          "execution_count": 8
        }
      ]
    },
    {
      "cell_type": "markdown",
      "metadata": {
        "id": "8jtUlKeeslkl"
      },
      "source": [
        "## Can you use feature selection to transform the following dataset using different feature selection techniques?  \n"
      ]
    },
    {
      "cell_type": "code",
      "metadata": {
        "id": "7SpckUUrslks"
      },
      "source": [
        "from sklearn.datasets import load_breast_cancer\n",
        "bc = load_breast_cancer()"
      ],
      "execution_count": null,
      "outputs": []
    },
    {
      "cell_type": "code",
      "metadata": {
        "id": "Axqy3j5Lslk7"
      },
      "source": [
        "X=bc.data\n",
        "y = bc.target"
      ],
      "execution_count": null,
      "outputs": []
    }
  ]
}