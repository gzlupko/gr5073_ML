{
  "cells": [
    {
      "cell_type": "markdown",
      "metadata": {
        "id": "m10zIlqUsWU8"
      },
      "source": [
        "# Applying Machine Learning To Sentiment Analysis"
      ]
    },
    {
      "cell_type": "markdown",
      "metadata": {
        "id": "LwM05qP_sWVC"
      },
      "source": [
        "# Obtaining the IMDb movie review dataset"
      ]
    },
    {
      "cell_type": "markdown",
      "metadata": {
        "id": "DCd02VoWsWVI"
      },
      "source": [
        "The IMDB movie review set can be downloaded from [http://ai.stanford.edu/~amaas/data/sentiment/](http://ai.stanford.edu/~amaas/data/sentiment/).\n",
        "After downloading the dataset, decompress the files.\n",
        "\n",
        "A) If you are working with Linux or MacOS X, open a new terminal windowm `cd` into the download directory and execute \n",
        "\n",
        "`tar -zxf aclImdb_v1.tar.gz`\n",
        "\n",
        "B) If you are working with Windows, download an archiver such as [7Zip](http://www.7-zip.org) to extract the files from the download archive."
      ]
    },
    {
      "cell_type": "markdown",
      "metadata": {
        "id": "3Pyy2GkKsWVM"
      },
      "source": [
        "# Introducing the bag-of-words model"
      ]
    },
    {
      "cell_type": "markdown",
      "metadata": {
        "id": "eTj4XFFcsWVQ"
      },
      "source": [
        "## load_files returns a bunch, containing training texts and training labels\n"
      ]
    },
    {
      "cell_type": "code",
      "execution_count": 7,
      "metadata": {
        "colab": {
          "base_uri": "https://localhost:8080/"
        },
        "id": "cO_O3_u92G8G",
        "outputId": "aafb7969-83ae-4920-df4b-58f9c4b059dd"
      },
      "outputs": [
        {
          "name": "stdout",
          "output_type": "stream",
          "text": [
            "/bin/bash: wget: command not found\n"
          ]
        }
      ],
      "source": [
        "! wget http://ai.stanford.edu/~amaas/data/sentiment/aclImdb_v1.tar.gz"
      ]
    },
    {
      "cell_type": "code",
      "execution_count": 8,
      "metadata": {
        "colab": {
          "base_uri": "https://localhost:8080/"
        },
        "id": "nvYVKIeS2QpP",
        "outputId": "a01376ac-4668-4842-db66-f2a0037bb252"
      },
      "outputs": [
        {
          "name": "stdout",
          "output_type": "stream",
          "text": [
            "tar: Error opening archive: Failed to open 'aclImdb_v1.tar.gz'\n"
          ]
        }
      ],
      "source": [
        "! tar -zxf aclImdb_v1.tar.gz"
      ]
    },
    {
      "cell_type": "code",
      "execution_count": 10,
      "metadata": {},
      "outputs": [],
      "source": [
        "import os \n",
        "os.getcwd()\n",
        "os.chdir('/Users/gianzlupko/Desktop/GR5073 ML/gr5073_ML/data')"
      ]
    },
    {
      "cell_type": "code",
      "execution_count": 11,
      "metadata": {
        "id": "5JQSjv6TsWVX",
        "scrolled": true
      },
      "outputs": [
        {
          "name": "stdout",
          "output_type": "stream",
          "text": [
            "type of text_train: <class 'list'>\n",
            "length of text_train: 75000\n",
            "text_train[6]:\n",
            "b'Gloomy Sunday - Ein Lied von Liebe und Tod directed by Rolf Sch\\xc3\\xbcbel in 1999 is a romantic, absorbing, beautiful, and heartbreaking movie. It started like Jules and Jim; it ended as one of Agatha Christie\\'s books, and in between it said something about love, friendship, devotion, jealousy, war, Holocaust, dignity, and betrayal, and it did better than The Black Book which is much more popular. It is not perfect, and it made me, a cynic, wonder in the end on the complexity of the relationships and sensational revelations, and who is who to whom but the movie simply overwhelmed me. Perfect or not, it is unforgettable. All four actors as the parts of the tragic not even a triangle but a rectangle were terrific. I do believe that three men could fell deeply for one girl as beautiful and dignified as Ilona in a star-making performance by young Hungarian actress Erica Marozs\\xc3\\xa1n and who would not? The titular song is haunting, sad, and beautiful, and no doubt deserves the movie been made about it and its effect on the countless listeners. I love the movie and I am surprised that it is so little known in this country. It is a gem.<br /><br />The fact that it is based on a story of the song that had played such important role in the lives of all characters made me do some research, and the real story behind the song of Love and Death seems as fascinating as the fictional one. The song was composed in 1930s by Rezs\\xc3\\xb6 Seress and was believed to have caused many suicides in Hungary and all over Europe as the world was moving toward the most devastating War of the last century. Rezs\\xc3\\xb6 Seress, a Jewish-Hungarian pianist and composer, was thrown to the Concentration Camp but survived, unlike his mother. In January, 1968, Seress committed suicide in Budapest by jumping out of a window. According to his obituary in the New York Times, \"Mr. Seres complained that the success of \"Gloomy Sunday\" actually increased his unhappiness, because he knew he would never be able to write a second hit.\" <br /><br />Many singers from all over the world have recorded their versions of the songs in different languages. Over 70 performers have covered the song since 1935, and some famous names include Billie Holiday, Paul Robeson, Pyotr Leschenko (in Russian, under title \"Mratschnoje Woskresenje\"), Bjork, Sarah McLachlan, and many more. The one that really got to me and made me shiver is by Diamanda Gal\\xc3\\xa1s, the Greek born American singer/pianist/performer with the voice of such tragic power that I still can\\'t get over her singing. Gal\\xc3\\xa1s has been described as \"capable of the most unnerving vocal terror\", and in her work she mostly concentrates on the topics of \"suffering, despair, condemnation, injustice and loss of dignity.\" When she sings the Song of Love and Death, her voice that could\\'ve belonged to the most tragic heroines of Ancient Greece leaves no hope and brings the horror and grief of love lost forever to the unbearable and incomparable heights.<br /><br />8.5/10'\n"
          ]
        }
      ],
      "source": [
        "#1. Load file folders for training data using sklearn's load_files\n",
        "from sklearn.datasets import load_files\n",
        "\n",
        "reviews_train = load_files(\"aclImdb/train\")\n",
        "\n",
        "text_train, y_train = reviews_train.data, reviews_train.target\n",
        "\n",
        "print(\"type of text_train: {}\".format(type(text_train)))\n",
        "print(\"length of text_train: {}\".format(len(text_train)))\n",
        "print(\"text_train[6]:\\n{}\".format(text_train[6]))"
      ]
    },
    {
      "cell_type": "code",
      "execution_count": 12,
      "metadata": {
        "id": "1Psa0wHasWV8"
      },
      "outputs": [],
      "source": [
        "# clean up html in byte data\n",
        "text_train = [doc.replace(b\"<br />\", b\" \") for doc in text_train]"
      ]
    },
    {
      "cell_type": "markdown",
      "metadata": {
        "id": "yIpZrRAcsWWU"
      },
      "source": [
        "## Load files manually"
      ]
    },
    {
      "cell_type": "code",
      "execution_count": 13,
      "metadata": {
        "id": "LK1RYH4K2ijD"
      },
      "outputs": [
        {
          "name": "stdout",
          "output_type": "stream",
          "text": [
            "Collecting pyprind\n",
            "  Downloading PyPrind-2.11.3-py2.py3-none-any.whl (8.4 kB)\n",
            "Installing collected packages: pyprind\n",
            "Successfully installed pyprind-2.11.3\n"
          ]
        }
      ],
      "source": [
        "! pip install pyprind"
      ]
    },
    {
      "cell_type": "code",
      "execution_count": 14,
      "metadata": {
        "id": "kXQhkUfusWWb"
      },
      "outputs": [
        {
          "name": "stderr",
          "output_type": "stream",
          "text": [
            "0% [##############################] 100% | ETA: 00:00:00\n",
            "Total time elapsed: 00:02:43\n"
          ]
        }
      ],
      "source": [
        "import pyprind\n",
        "##conda install -c conda-forge pyprind ##\n",
        "\n",
        "import pandas as pd\n",
        "import os\n",
        "\n",
        "# change the `basepath` to the directory of the\n",
        "# unzipped movie dataset\n",
        "\n",
        "basepath = 'aclImdb'\n",
        "\n",
        "labels = {'pos': 1, 'neg': 0}\n",
        "pbar = pyprind.ProgBar(50000) \n",
        "df = pd.DataFrame()\n",
        "for s in ('test', 'train'):\n",
        "    for l in ('pos', 'neg'):\n",
        "        path = os.path.join(basepath, s, l)\n",
        "        for file in os.listdir(path):\n",
        "            with open(os.path.join(path, file), 'r') as infile:\n",
        "                txt = infile.read()\n",
        "            df = df.append([[txt, labels[l]]], ignore_index=True)\n",
        "            pbar.update()\n",
        "df.columns = ['review', 'sentiment']"
      ]
    },
    {
      "cell_type": "code",
      "execution_count": 15,
      "metadata": {
        "id": "8iEvfAHRsWW5"
      },
      "outputs": [
        {
          "data": {
            "text/plain": [
              "(50000, 2)"
            ]
          },
          "execution_count": 15,
          "metadata": {},
          "output_type": "execute_result"
        }
      ],
      "source": [
        "df.shape"
      ]
    },
    {
      "cell_type": "code",
      "execution_count": 16,
      "metadata": {
        "id": "vH3AtFHksWXP"
      },
      "outputs": [
        {
          "data": {
            "text/plain": [
              "1    25000\n",
              "0    25000\n",
              "Name: sentiment, dtype: int64"
            ]
          },
          "execution_count": 16,
          "metadata": {},
          "output_type": "execute_result"
        }
      ],
      "source": [
        "df['sentiment'].value_counts()"
      ]
    },
    {
      "cell_type": "markdown",
      "metadata": {
        "id": "_wtZMCpEsWXj"
      },
      "source": [
        "## Transforming documents into feature vectors"
      ]
    },
    {
      "cell_type": "markdown",
      "metadata": {
        "id": "r0TUIuI4sWXm"
      },
      "source": [
        "By calling the fit_transform method on CountVectorizer, we construct the vocabulary of the bag-of-words model and transformed the following three sentences into sparse feature vectors:\n",
        "1. The sun is shining\n",
        "2. The weather is sweet\n",
        "3. The sun is shining, the weather is sweet, and one and one is two\n"
      ]
    },
    {
      "cell_type": "code",
      "execution_count": 17,
      "metadata": {
        "id": "ukk-fuiasWXu"
      },
      "outputs": [],
      "source": [
        "import numpy as np\n",
        "from sklearn.feature_extraction.text import CountVectorizer\n",
        "\n",
        "count = CountVectorizer()\n",
        "docs = np.array([\n",
        "        'The sun is shining',\n",
        "        'The weather is sweet',\n",
        "        'The sun is shining, the weather is sweet, and one and one is two'])\n",
        "bag = count.fit_transform(docs)"
      ]
    },
    {
      "cell_type": "markdown",
      "metadata": {
        "id": "RRDkdlUxsWX-"
      },
      "source": [
        "Now let us print the contents of the vocabulary to get a better understanding of the underlying concepts:"
      ]
    },
    {
      "cell_type": "code",
      "execution_count": 18,
      "metadata": {
        "colab": {
          "base_uri": "https://localhost:8080/"
        },
        "id": "46lUgnNjsWYB",
        "outputId": "b76d2e61-6fc6-4574-a909-65fbe4953b6c"
      },
      "outputs": [
        {
          "name": "stdout",
          "output_type": "stream",
          "text": [
            "{'the': 6, 'sun': 4, 'is': 1, 'shining': 3, 'weather': 8, 'sweet': 5, 'and': 0, 'one': 2, 'two': 7}\n"
          ]
        }
      ],
      "source": [
        "print(count.vocabulary_) # u signifies text format for unicode text"
      ]
    },
    {
      "cell_type": "markdown",
      "metadata": {
        "id": "YmZXFM2FsWYR"
      },
      "source": [
        "As we can see from executing the preceding command, the vocabulary is stored in a Python dictionary, which maps the unique words that are mapped to integer indices. Next let us print the feature vectors that we just created:"
      ]
    },
    {
      "cell_type": "markdown",
      "metadata": {
        "id": "TYbYT9fpsWYU"
      },
      "source": [
        "Each index position in the feature vectors shown here corresponds to the integer values that are stored as dictionary items in the CountVectorizer vocabulary. \n",
        "\n"
      ]
    },
    {
      "cell_type": "code",
      "execution_count": 19,
      "metadata": {
        "colab": {
          "base_uri": "https://localhost:8080/"
        },
        "id": "ShRndajasWYW",
        "outputId": "b91d9cca-eb60-4f7e-caea-6c7bc3193105",
        "scrolled": true
      },
      "outputs": [
        {
          "data": {
            "text/plain": [
              "array(['and', 'is', 'one', 'shining', 'sun', 'sweet', 'the', 'two',\n",
              "       'weather'], dtype=object)"
            ]
          },
          "execution_count": 19,
          "metadata": {},
          "output_type": "execute_result"
        }
      ],
      "source": [
        "count.get_feature_names_out() # feature names in alphabetical order"
      ]
    },
    {
      "cell_type": "code",
      "execution_count": null,
      "metadata": {
        "id": "dswP0fkRsWYo",
        "scrolled": false
      },
      "outputs": [],
      "source": [
        "print(bag) # The bagged data counts the frequency of each term in each document.\n",
        "           # Nonzero data is included, which uses less memory"
      ]
    },
    {
      "cell_type": "code",
      "execution_count": 21,
      "metadata": {
        "colab": {
          "base_uri": "https://localhost:8080/"
        },
        "id": "2LGDUHPLsWZE",
        "outputId": "9acd98d6-95f5-44db-b205-be825267ca97"
      },
      "outputs": [
        {
          "name": "stdout",
          "output_type": "stream",
          "text": [
            "[[0 1 0 1 1 0 1 0 0]\n",
            " [0 1 0 0 0 1 1 0 1]\n",
            " [2 3 2 1 1 1 2 1 1]]\n"
          ]
        }
      ],
      "source": [
        "print(bag.toarray()) # We can convert bag values to a term document matrix.  \n",
        "                     # columns are documents 0, 1, and 2 and terms are indexed from left to right across \n",
        "                     # columns alphabetically.  Values equal counts of each term per document."
      ]
    },
    {
      "cell_type": "markdown",
      "metadata": {
        "id": "806At5eBsWZc"
      },
      "source": [
        "### Bag-of-word for movie reviews"
      ]
    },
    {
      "cell_type": "code",
      "execution_count": 22,
      "metadata": {
        "colab": {
          "base_uri": "https://localhost:8080/"
        },
        "id": "lYZPGzHfsWZj",
        "outputId": "ca9dbe9e-9b9b-4d2e-a52a-effaa7ace2ea"
      },
      "outputs": [
        {
          "name": "stdout",
          "output_type": "stream",
          "text": [
            "(40,)\n"
          ]
        }
      ],
      "source": [
        "#First, let's limit our data to manage the time it takes to run example code.\n",
        "\n",
        "#Limit data to documents only\n",
        "\n",
        "text_train = df['review']\n",
        "\n",
        "import numpy as np\n",
        "\n",
        "#keep first and last 20 documents only\n",
        "\n",
        "text_train1 =  np.array(text_train[0:19]) # twenty reviews with negative sentiment\n",
        "text_train2 = np.array(text_train[49978:49999])# twenty reviews with positive sentiment\n",
        "print(np.concatenate((text_train1, text_train2 ), axis=0).shape) # forty total\n",
        "\n",
        "text_train = np.concatenate((text_train1, text_train2 ), axis=0)"
      ]
    },
    {
      "cell_type": "code",
      "execution_count": 23,
      "metadata": {
        "colab": {
          "base_uri": "https://localhost:8080/"
        },
        "id": "W7h381GWsWZ0",
        "outputId": "65d8e5a8-8bbf-4e0d-b193-0710decdc712"
      },
      "outputs": [
        {
          "name": "stdout",
          "output_type": "stream",
          "text": [
            "X:\n",
            "<40x2488 sparse matrix of type '<class 'numpy.int64'>'\n",
            "\twith 5483 stored elements in Compressed Sparse Row format>\n"
          ]
        }
      ],
      "source": [
        "vect = CountVectorizer().fit(text_train)\n",
        "X = vect.transform(text_train)\n",
        "print(\"X:\\n{}\".format(repr(X))) "
      ]
    },
    {
      "cell_type": "code",
      "execution_count": 24,
      "metadata": {
        "colab": {
          "base_uri": "https://localhost:8080/"
        },
        "id": "qQeMReUPsWaY",
        "outputId": "1b1c80d5-3755-443e-e166-72377ea90d41",
        "scrolled": true
      },
      "outputs": [
        {
          "name": "stdout",
          "output_type": "stream",
          "text": [
            "Number of features: 2488\n",
            "First 20 features:\n",
            "['10' '100' '107' '12' '16' '16mm' '17' '18' '1955' '1960' '1970' '1970s'\n",
            " '1980' '20' '2001' '2003' '20s' '25' '28' '2nd']\n",
            "Features 210 to 230:\n",
            "['barren' 'based' 'basically' 'basics' 'basin' 'bath' 'bathian' 'bathroom'\n",
            " 'bbc' 'be' 'bears' 'beat' 'beaten' 'beau' 'beautiful' 'because' 'become'\n",
            " 'becomes' 'becoming' 'bed']\n",
            "Every 200th feature:\n",
            "['10' 'badge' 'choreography' 'detracts' 'fair' 'harry' 'kept'\n",
            " 'misscastaway' 'particularly' 'relaxation' 'slave' 'tells' 'water']\n"
          ]
        }
      ],
      "source": [
        "feature_names = vect.get_feature_names_out()\n",
        "print(\"Number of features: {}\".format(len(feature_names)))\n",
        "print(\"First 20 features:\\n{}\".format(feature_names[:20]))\n",
        "print(\"Features 210 to 230:\\n{}\".format(feature_names[210:230]))\n",
        "print(\"Every 200th feature:\\n{}\".format(feature_names[::200]))"
      ]
    },
    {
      "cell_type": "markdown",
      "metadata": {
        "id": "-ssTFvwVsWau"
      },
      "source": [
        "# Build a model to predict positive or negative reviews"
      ]
    },
    {
      "cell_type": "code",
      "execution_count": 25,
      "metadata": {
        "colab": {
          "base_uri": "https://localhost:8080/"
        },
        "id": "DoHCNBcXsWax",
        "outputId": "620cdeb1-5cdf-4f5c-8a44-3a1098b330a9",
        "scrolled": true
      },
      "outputs": [
        {
          "name": "stdout",
          "output_type": "stream",
          "text": [
            "(40, 2488)\n",
            "(40,)\n"
          ]
        }
      ],
      "source": [
        "# Define X, y data\n",
        "X = X\n",
        "\n",
        "#adjusting y to smaller dataset for example\n",
        "y_1 = np.array(df['sentiment'])[0:19],\n",
        "\n",
        "y_2 = np.array(df['sentiment'])[49978:49999]\n",
        "\n",
        "y= np.append(y_1, y_2)\n",
        "\n",
        "print(X.shape)\n",
        "print(y.shape)"
      ]
    },
    {
      "cell_type": "code",
      "execution_count": 26,
      "metadata": {
        "colab": {
          "base_uri": "https://localhost:8080/"
        },
        "id": "6nr8jNgVsWbK",
        "outputId": "07b9c625-e026-4692-f485-266b5934d9a8"
      },
      "outputs": [
        {
          "name": "stdout",
          "output_type": "stream",
          "text": [
            "(30, 2488)\n",
            "(30,)\n"
          ]
        }
      ],
      "source": [
        "# Set up training and test data\n",
        "from sklearn.model_selection import train_test_split\n",
        "\n",
        "X_train, X_test, y_train, y_test = train_test_split(X, y, random_state=42)\n",
        "\n",
        "print(X_train.shape)\n",
        "print(y_train.shape)"
      ]
    },
    {
      "cell_type": "code",
      "execution_count": 27,
      "metadata": {
        "colab": {
          "base_uri": "https://localhost:8080/"
        },
        "id": "_Yifgc0qsWbp",
        "outputId": "aa28d5bc-a0df-4079-b195-677dd38ced97"
      },
      "outputs": [
        {
          "name": "stdout",
          "output_type": "stream",
          "text": [
            "Mean cross-validation accuracy: 0.70\n"
          ]
        }
      ],
      "source": [
        "from sklearn.model_selection import cross_val_score\n",
        "from sklearn.linear_model import LogisticRegression\n",
        "from sklearn.model_selection import GridSearchCV\n",
        "\n",
        "scores = cross_val_score(LogisticRegression(), X_train, y_train, cv=5)\n",
        "print(\"Mean cross-validation accuracy: {:.2f}\".format(np.mean(scores)))"
      ]
    },
    {
      "cell_type": "code",
      "execution_count": 28,
      "metadata": {
        "colab": {
          "base_uri": "https://localhost:8080/"
        },
        "id": "zxqHUg2ZsWb6",
        "outputId": "338fd8c0-dc48-4a90-e9f9-e9ac6d8fb0de"
      },
      "outputs": [
        {
          "name": "stdout",
          "output_type": "stream",
          "text": [
            "Best cross-validation score: 0.70\n",
            "Best parameters:  {'C': 0.01}\n"
          ]
        }
      ],
      "source": [
        "\n",
        "param_grid = {'C': [0.001, 0.01, 0.1, 1, 10]}\n",
        "grid = GridSearchCV(LogisticRegression(), param_grid, cv=5)\n",
        "grid.fit(X_train, y_train)\n",
        "print(\"Best cross-validation score: {:.2f}\".format(grid.best_score_))\n",
        "print(\"Best parameters: \", grid.best_params_)"
      ]
    },
    {
      "cell_type": "code",
      "execution_count": 29,
      "metadata": {
        "colab": {
          "base_uri": "https://localhost:8080/"
        },
        "id": "atDYxoytsWcK",
        "outputId": "6c5c38a0-ce4c-46ea-b514-303bc9e4f60d"
      },
      "outputs": [
        {
          "name": "stdout",
          "output_type": "stream",
          "text": [
            "Test score: 0.60\n"
          ]
        }
      ],
      "source": [
        "print(\"Test score: {:.2f}\".format(grid.score(X_test, y_test)))"
      ]
    },
    {
      "cell_type": "markdown",
      "metadata": {
        "id": "MuFVF5JHsWcf"
      },
      "source": [
        "# Narrow bag of words to words in at least 10 documents"
      ]
    },
    {
      "cell_type": "code",
      "execution_count": 32,
      "metadata": {
        "colab": {
          "base_uri": "https://localhost:8080/"
        },
        "id": "dZtDHBuxsWch",
        "outputId": "901ca094-b859-473e-91e4-2f8a76abbb3a"
      },
      "outputs": [
        {
          "name": "stdout",
          "output_type": "stream",
          "text": [
            "X with min_df: <40x88 sparse matrix of type '<class 'numpy.int64'>'\n",
            "\twith 1645 stored elements in Compressed Sparse Row format>\n"
          ]
        }
      ],
      "source": [
        "vect = CountVectorizer(min_df=10).fit(text_train)\n",
        "X = vect.transform(text_train)\n",
        "print(\"X with min_df: {}\".format(repr(X)))"
      ]
    },
    {
      "cell_type": "code",
      "execution_count": 48,
      "metadata": {
        "colab": {
          "base_uri": "https://localhost:8080/"
        },
        "id": "w9H1PQh8sWc1",
        "outputId": "04b9eb49-2641-4d92-a2fc-b9a05a11f921"
      },
      "outputs": [
        {
          "name": "stdout",
          "output_type": "stream",
          "text": [
            "First 50 features:\n",
            "['about' 'acting' 'actors' 'after' 'all' 'also' 'although' 'am' 'an' 'and']\n",
            "Features 20 to 30:\n",
            "['being' 'best' 'better' 'between' 'br' 'but' 'by' 'can' 'care' 'cast']\n",
            "Every 10th feature:\n",
            "['about' 'another' 'being' 'character' 'does' 'excellent' 'from' 'have'\n",
            " 'interesting' 'little' 'most' 'not' 'out' 'put' 'seen' 'still' 'then'\n",
            " 'too' 'very' 'where' 'yet']\n"
          ]
        }
      ],
      "source": [
        "feature_names = vect.get_feature_names_out()\n",
        "\n",
        "print(\"First 50 features:\\n{}\".format(feature_names[:10]))\n",
        "print(\"Features 20 to 30:\\n{}\".format(feature_names[20:30]))\n",
        "print(\"Every 10th feature:\\n{}\".format(feature_names[::10]))"
      ]
    },
    {
      "cell_type": "code",
      "execution_count": 34,
      "metadata": {
        "colab": {
          "base_uri": "https://localhost:8080/"
        },
        "id": "9cGzOJyqsWdL",
        "outputId": "0239284c-c979-477a-c28c-0e24d41f1f93"
      },
      "outputs": [
        {
          "data": {
            "text/plain": [
              "(40, 88)"
            ]
          },
          "execution_count": 34,
          "metadata": {},
          "output_type": "execute_result"
        }
      ],
      "source": [
        "# Need index of new X data to subset y data accurately for new models\n",
        "X.shape"
      ]
    },
    {
      "cell_type": "code",
      "execution_count": 35,
      "metadata": {
        "colab": {
          "base_uri": "https://localhost:8080/"
        },
        "id": "BnJ5YNcOsWdd",
        "outputId": "79601436-4e1f-4292-abfd-e5bd9127061f"
      },
      "outputs": [
        {
          "name": "stdout",
          "output_type": "stream",
          "text": [
            "(30, 88)\n",
            "(30,)\n",
            "Best cross-validation score: 0.73\n"
          ]
        }
      ],
      "source": [
        "X_train, X_test, y_train, y_test = train_test_split(X, y, random_state=42)\n",
        "\n",
        "print(X_train.shape)\n",
        "print(y_train.shape)\n",
        "\n",
        "\n",
        "grid = GridSearchCV(LogisticRegression(), param_grid, cv=5)\n",
        "grid.fit(X_train, y_train)\n",
        "print(\"Best cross-validation score: {:.2f}\".format(grid.best_score_))"
      ]
    },
    {
      "cell_type": "markdown",
      "metadata": {
        "id": "JdQyC2wKsWdx"
      },
      "source": [
        "### Limit vocabulary to meaningful words by deleting Stop-words"
      ]
    },
    {
      "cell_type": "code",
      "execution_count": 36,
      "metadata": {
        "colab": {
          "base_uri": "https://localhost:8080/"
        },
        "id": "hEoJ3PQOsWd0",
        "outputId": "acbb9df3-63c7-4075-fcef-b6b15ed8c0df"
      },
      "outputs": [
        {
          "name": "stdout",
          "output_type": "stream",
          "text": [
            "Number of stop words: 318\n",
            "Every 10th stopword:\n",
            "['beside', 'nine', 'another', 'when', 'me', 'out', 'may', 'do', 'still', 'whole', 'so', 'became', 'rather', 'toward', 'meanwhile', 'as', 'top', 'we', 'once', 'part', 'some', 'however', 'only', 'throughout', 'beforehand', 'sincere', 'well', 'becomes', 'hasnt', 'whose', 'fifteen', 'anyway']\n"
          ]
        }
      ],
      "source": [
        "from sklearn.feature_extraction.text import ENGLISH_STOP_WORDS\n",
        "print(\"Number of stop words: {}\".format(len(ENGLISH_STOP_WORDS)))\n",
        "print(\"Every 10th stopword:\\n{}\".format(list(ENGLISH_STOP_WORDS)[::10]))"
      ]
    },
    {
      "cell_type": "code",
      "execution_count": 37,
      "metadata": {
        "colab": {
          "base_uri": "https://localhost:8080/"
        },
        "id": "WNGrmOzmsWeI",
        "outputId": "04d53851-3a5a-4040-eb9f-6f59ec8398c7"
      },
      "outputs": [
        {
          "name": "stdout",
          "output_type": "stream",
          "text": [
            "X with stop words:\n",
            "<30x88 sparse matrix of type '<class 'numpy.int64'>'\n",
            "\twith 1168 stored elements in Compressed Sparse Row format>\n"
          ]
        }
      ],
      "source": [
        "# Specifying stop_words=\"english\" uses the built-in list.\n",
        "# We could also augment it and pass our own by building our own list.\n",
        "\n",
        "vect = CountVectorizer(min_df=5, stop_words=\"english\").fit(text_train)\n",
        "X = vect.transform(text_train)\n",
        "print(\"X with stop words:\\n{}\".format(repr(X_train)))"
      ]
    },
    {
      "cell_type": "code",
      "execution_count": 38,
      "metadata": {
        "colab": {
          "base_uri": "https://localhost:8080/"
        },
        "id": "dj9T7YAOsWeZ",
        "outputId": "e2d741d4-9b29-4c2b-ea0c-ecbb4c08d883"
      },
      "outputs": [
        {
          "name": "stdout",
          "output_type": "stream",
          "text": [
            "Best cross-validation score: 0.60\n"
          ]
        }
      ],
      "source": [
        "X_train, X_test, y_train, y_test = train_test_split(X, y, random_state=42)\n",
        "\n",
        "grid = GridSearchCV(LogisticRegression(), param_grid, cv=5)\n",
        "grid.fit(X_train, y_train)\n",
        "print(\"Best cross-validation score: {:.2f}\".format(grid.best_score_))"
      ]
    },
    {
      "cell_type": "markdown",
      "metadata": {
        "id": "iEviE5hnsWer"
      },
      "source": [
        "### Rescaling the Data with tf-idf\n",
        "\n",
        "Term frequency–inverse document frequency, is a numerical statistic that is intended to reflect how important a word is to a document in a collection or corpus. It is often used as a weighting factor in text mining. \n",
        "\n",
        "The tf-idf value increases proportionally to the number of times a word appears in the document and is offset by the frequency of the word in the corpus, which helps to adjust for the fact that some words appear more frequently in general. \n",
        "\n",
        "Tf-idf is one of the most popular term-weighting schemes today; 83% of text-based recommender systems in digital libraries use tf-idf. \n",
        "\n",
        "The inverse document frequency factor is incorporated which diminishes the weight of terms that occur very frequently in the document set and increases the weight of terms that occur rarely. (From Wikipedia/Python for Machine Learning)\n",
        "\n",
        "\\begin{equation*}\n",
        "\\text{tfidf}(w, d) = \\text{tf} \\log\\big(\\frac{N + 1}{N_w + 1}\\big) + 1\n",
        "\\end{equation*}"
      ]
    },
    {
      "cell_type": "code",
      "execution_count": 39,
      "metadata": {
        "colab": {
          "base_uri": "https://localhost:8080/"
        },
        "id": "pjtH8muDsWew",
        "outputId": "1828740d-9631-42f7-aec8-eb4958995cd5"
      },
      "outputs": [
        {
          "name": "stdout",
          "output_type": "stream",
          "text": [
            "Best cross-validation score: 0.60\n",
            "Best parameters:  {'C': 0.001}\n"
          ]
        }
      ],
      "source": [
        "# If we reweight our data in this way we increase the weight of repeated rare words in comments.  \n",
        "\n",
        "from sklearn.feature_extraction.text import TfidfVectorizer\n",
        "\n",
        "vect = TfidfVectorizer(min_df=5, norm=None).fit(text_train)\n",
        "X = vect.transform(text_train)\n",
        "\n",
        "X_train, X_test, y_train, y_test = train_test_split(X, y, random_state=42)\n",
        "\n",
        "param_grid = {'C': [0.001, 0.01, 0.1, 1, 10]}\n",
        "grid = GridSearchCV(LogisticRegression(), param_grid, cv=5)\n",
        "grid.fit(X_train, y_train)\n",
        "print(\"Best cross-validation score: {:.2f}\".format(grid.best_score_))\n",
        "print(\"Best parameters: \", grid.best_params_)\n"
      ]
    },
    {
      "cell_type": "code",
      "execution_count": null,
      "metadata": {
        "colab": {
          "base_uri": "https://localhost:8080/"
        },
        "id": "hor2GSmMsWfJ",
        "outputId": "044ea81d-532a-44e8-ed46-8b8ad180e97b"
      },
      "outputs": [
        {
          "data": {
            "text/plain": [
              "LogisticRegression(C=0.001)"
            ]
          },
          "execution_count": 29,
          "metadata": {},
          "output_type": "execute_result"
        }
      ],
      "source": [
        "grid.best_estimator_"
      ]
    },
    {
      "cell_type": "markdown",
      "metadata": {
        "id": "5iX7GWu_sWfY"
      },
      "source": [
        "#### Investigating model coefficients"
      ]
    },
    {
      "cell_type": "code",
      "execution_count": 40,
      "metadata": {
        "id": "ZufFZNj4sWfc"
      },
      "outputs": [],
      "source": [
        "# helper function to plot top positive and negative coefficients\n",
        "\n",
        "def visualize_coefficients(coefficients, feature_names, n_top_features=25):\n",
        "    \"\"\"Visualize coefficients of a linear model.\n",
        "    Parameters\n",
        "    ----------\n",
        "    coefficients : nd-array, shape (n_features,)\n",
        "        Model coefficients.\n",
        "    feature_names : list or nd-array of strings, shape (n_features,)\n",
        "        Feature names for labeling the coefficients.\n",
        "    n_top_features : int, default=25\n",
        "        How many features to show. The function will show the largest (most\n",
        "        positive) and smallest (most negative)  n_top_features coefficients,\n",
        "        for a total of 2 * n_top_features coefficients.\n",
        "    \"\"\"\n",
        "    coefficients = coefficients.squeeze()\n",
        "    if coefficients.ndim > 1:\n",
        "        # this is not a row or column vector\n",
        "        raise ValueError(\"coeffients must be 1d array or column vector, got\"\n",
        "                         \" shape {}\".format(coefficients.shape))\n",
        "    coefficients = coefficients.ravel()\n",
        "\n",
        "    if len(coefficients) != len(feature_names):\n",
        "        raise ValueError(\"Number of coefficients {} doesn't match number of\"\n",
        "                         \"feature names {}.\".format(len(coefficients),\n",
        "                                                    len(feature_names)))\n",
        "    # get coefficients with large absolute values\n",
        "    coef = coefficients.ravel()\n",
        "    positive_coefficients = np.argsort(coef)[-n_top_features:]\n",
        "    negative_coefficients = np.argsort(coef)[:n_top_features]\n",
        "    interesting_coefficients = np.hstack([negative_coefficients,\n",
        "                                          positive_coefficients])\n",
        "    # plot them\n",
        "    plt.figure(figsize=(15, 5))\n",
        "    colors = ['#ff2020' if c < 0 else '#0000aa'\n",
        "              for c in coef[interesting_coefficients]]\n",
        "    plt.bar(np.arange(2 * n_top_features), coef[interesting_coefficients],\n",
        "            color=colors)\n",
        "    feature_names = np.array(feature_names)\n",
        "    plt.subplots_adjust(bottom=0.3)\n",
        "    plt.xticks(np.arange(1, 1 + 2 * n_top_features),\n",
        "               feature_names[interesting_coefficients], rotation=60,\n",
        "               ha=\"right\")\n",
        "    plt.ylabel(\"Coefficient magnitude\")\n",
        "    plt.xlabel(\"Feature\")\n",
        "\n"
      ]
    },
    {
      "cell_type": "code",
      "execution_count": 41,
      "metadata": {
        "colab": {
          "base_uri": "https://localhost:8080/",
          "height": 321
        },
        "id": "Iv8SJQKEsWfx",
        "outputId": "8da4f403-24ca-4d51-e51f-4a2cc45d6357"
      },
      "outputs": [
        {
          "data": {
            "image/png": "[encoded data removed]",
            "text/plain": [
              "<Figure size 1080x360 with 1 Axes>"
            ]
          },
          "metadata": {
            "needs_background": "light"
          },
          "output_type": "display_data"
        }
      ],
      "source": [
        "import matplotlib.pyplot as plt\n",
        "\n",
        "\n",
        "coefs = LogisticRegression(C=0.01).fit(X_train,y_train).coef_\n",
        "feature_names = vect.get_feature_names_out()\n",
        "\n",
        "\n",
        "visualize_coefficients(coefs, feature_names, n_top_features=20)"
      ]
    },
    {
      "cell_type": "markdown",
      "metadata": {
        "id": "t9BWKD02sWgG"
      },
      "source": [
        "#### Bag of words with more than one word (n-grams)"
      ]
    },
    {
      "cell_type": "code",
      "execution_count": 42,
      "metadata": {
        "colab": {
          "base_uri": "https://localhost:8080/"
        },
        "id": "vtuspbmssWgI",
        "outputId": "16457eb4-8121-4bb9-db9a-85902fed0493"
      },
      "outputs": [
        {
          "name": "stdout",
          "output_type": "stream",
          "text": [
            "bards_words:\n",
            "['The fool doth think he is wise,', 'but the wise man knows himself to be a fool']\n"
          ]
        }
      ],
      "source": [
        "bards_words =[\"The fool doth think he is wise,\",\n",
        "              \"but the wise man knows himself to be a fool\"]\n",
        "\n",
        "print(\"bards_words:\\n{}\".format(bards_words))"
      ]
    },
    {
      "cell_type": "code",
      "execution_count": 43,
      "metadata": {
        "colab": {
          "base_uri": "https://localhost:8080/"
        },
        "id": "edPyF1UvsWga",
        "outputId": "f030d174-8f3b-418a-d791-1027f4daa027"
      },
      "outputs": [
        {
          "name": "stdout",
          "output_type": "stream",
          "text": [
            "Vocabulary size: 13\n",
            "Vocabulary:\n",
            "['be' 'but' 'doth' 'fool' 'he' 'himself' 'is' 'knows' 'man' 'the' 'think'\n",
            " 'to' 'wise']\n"
          ]
        }
      ],
      "source": [
        "cv = CountVectorizer(ngram_range=(1, 1)).fit(bards_words)\n",
        "print(\"Vocabulary size: {}\".format(len(cv.vocabulary_)))\n",
        "print(\"Vocabulary:\\n{}\".format(cv.get_feature_names_out()))"
      ]
    },
    {
      "cell_type": "code",
      "execution_count": 44,
      "metadata": {
        "colab": {
          "base_uri": "https://localhost:8080/"
        },
        "id": "C4JbmJ9zsWgq",
        "outputId": "2fedc99b-19e6-45ba-fa1a-fc9cd632587f"
      },
      "outputs": [
        {
          "name": "stdout",
          "output_type": "stream",
          "text": [
            "Vocabulary size: 14\n",
            "Vocabulary:\n",
            "['be fool' 'but the' 'doth think' 'fool doth' 'he is' 'himself to'\n",
            " 'is wise' 'knows himself' 'man knows' 'the fool' 'the wise' 'think he'\n",
            " 'to be' 'wise man']\n"
          ]
        }
      ],
      "source": [
        "# keep bi-grams only\n",
        "\n",
        "cv = CountVectorizer(ngram_range=(2, 2)).fit(bards_words)\n",
        "\n",
        "print(\"Vocabulary size: {}\".format(len(cv.vocabulary_)))\n",
        "print(\"Vocabulary:\\n{}\".format(cv.get_feature_names_out()))"
      ]
    },
    {
      "cell_type": "code",
      "execution_count": null,
      "metadata": {
        "colab": {
          "base_uri": "https://localhost:8080/"
        },
        "id": "HxoQUVA-sWhF",
        "outputId": "1cb05ce4-f23c-4ab8-d540-d59ed9e6ee87"
      },
      "outputs": [
        {
          "name": "stdout",
          "output_type": "stream",
          "text": [
            "Transformed data (dense):\n",
            "[[0 0 1 1 1 0 1 0 0 1 0 1 0 0]\n",
            " [1 1 0 0 0 1 0 1 1 0 1 0 1 1]]\n"
          ]
        }
      ],
      "source": [
        "print(\"Transformed data (dense):\\n{}\".format(cv.transform(bards_words).toarray()))"
      ]
    },
    {
      "cell_type": "code",
      "execution_count": null,
      "metadata": {
        "colab": {
          "base_uri": "https://localhost:8080/"
        },
        "id": "waEbPTRtsWhb",
        "outputId": "708eca3f-b351-4794-c457-23218a4aa9d2"
      },
      "outputs": [
        {
          "name": "stdout",
          "output_type": "stream",
          "text": [
            "Vocabulary size: 39\n",
            "Vocabulary:\n",
            "['be' 'be fool' 'but' 'but the' 'but the wise' 'doth' 'doth think'\n",
            " 'doth think he' 'fool' 'fool doth' 'fool doth think' 'he' 'he is'\n",
            " 'he is wise' 'himself' 'himself to' 'himself to be' 'is' 'is wise'\n",
            " 'knows' 'knows himself' 'knows himself to' 'man' 'man knows'\n",
            " 'man knows himself' 'the' 'the fool' 'the fool doth' 'the wise'\n",
            " 'the wise man' 'think' 'think he' 'think he is' 'to' 'to be' 'to be fool'\n",
            " 'wise' 'wise man' 'wise man knows']\n"
          ]
        }
      ],
      "source": [
        "# keep single words, bi-grams, AND tri-grams\n",
        "\n",
        "cv = CountVectorizer(ngram_range=(1, 3)).fit(bards_words)\n",
        "print(\"Vocabulary size: {}\".format(len(cv.vocabulary_)))\n",
        "print(\"Vocabulary:\\n{}\".format(cv.get_feature_names_out()))"
      ]
    },
    {
      "cell_type": "code",
      "execution_count": null,
      "metadata": {
        "colab": {
          "base_uri": "https://localhost:8080/"
        },
        "id": "uDnlu8SCsWhq",
        "outputId": "d1c70267-2ba3-4028-8256-d41b5e5f48d0"
      },
      "outputs": [
        {
          "name": "stdout",
          "output_type": "stream",
          "text": [
            "Best cross-validation score: 0.63\n",
            "Best parameters:\n",
            "{'C': 0.001}\n"
          ]
        }
      ],
      "source": [
        "\n",
        "vect = TfidfVectorizer(ngram_range=(1,3) ,min_df=5, norm=None).fit(text_train)\n",
        "X = vect.transform(text_train)\n",
        "\n",
        "X_train, X_test, y_train, y_test = train_test_split(X, y, random_state=42)\n",
        "\n",
        "\n",
        "param_grid = {'C': [0.001, 0.01, 0.1, 1, 10, 100]}\n",
        "\n",
        "grid = GridSearchCV(LogisticRegression(),param_grid, cv=5)\n",
        "grid.fit(X_train, y_train)\n",
        "print(\"Best cross-validation score: {:.2f}\".format(grid.best_score_))\n",
        "print(\"Best parameters:\\n{}\".format(grid.best_params_))"
      ]
    },
    {
      "cell_type": "code",
      "execution_count": null,
      "metadata": {
        "colab": {
          "base_uri": "https://localhost:8080/",
          "height": 322
        },
        "id": "5rVhw1oLsWiA",
        "outputId": "2f80ba63-c401-4e98-967b-d4ed3798a610"
      },
      "outputs": [
        {
          "data": {
            "image/png": "[encoded data removed]",
            "text/plain": [
              "<Figure size 1080x360 with 1 Axes>"
            ]
          },
          "metadata": {
            "needs_background": "light"
          },
          "output_type": "display_data"
        }
      ],
      "source": [
        "coefs = LogisticRegression(C=0.01).fit(X_train,y_train).coef_\n",
        "feature_names = vect.get_feature_names_out()\n",
        "\n",
        "visualize_coefficients(coefs, feature_names, n_top_features=40)\n"
      ]
    },
    {
      "cell_type": "code",
      "execution_count": null,
      "metadata": {
        "colab": {
          "base_uri": "https://localhost:8080/"
        },
        "id": "6Ceev9YQsWia",
        "outputId": "6076bfff-3a0b-4215-af39-7e2f3f39a700"
      },
      "outputs": [
        {
          "name": "stdout",
          "output_type": "stream",
          "text": [
            "Best cross-validation score: 0.83\n",
            "Best parameters:\n",
            "{'C': 0.1}\n"
          ]
        }
      ],
      "source": [
        "# find 2 and 3-gram features only\n",
        "\n",
        "vect = TfidfVectorizer(ngram_range=(2,3) ,min_df=3, norm=None).fit(text_train)\n",
        "X = vect.transform(text_train)\n",
        "\n",
        "X_train, X_test, y_train, y_test = train_test_split(X, y, random_state=42)\n",
        "\n",
        "\n",
        "param_grid = {'C': [0.001, 0.01, 0.1, 1, 10, 100]}\n",
        "\n",
        "grid = GridSearchCV(LogisticRegression(),param_grid, cv=5)\n",
        "grid.fit(X_train, y_train)\n",
        "print(\"Best cross-validation score: {:.2f}\".format(grid.best_score_))\n",
        "print(\"Best parameters:\\n{}\".format(grid.best_params_))\n",
        "\n"
      ]
    },
    {
      "cell_type": "code",
      "execution_count": null,
      "metadata": {
        "colab": {
          "base_uri": "https://localhost:8080/",
          "height": 335
        },
        "id": "utlZE8bysWiv",
        "outputId": "acaba634-b92c-4c6f-e033-2e563d9085ea"
      },
      "outputs": [
        {
          "data": {
            "image/png": "[encoded data removed]",
            "text/plain": [
              "<Figure size 1080x360 with 1 Axes>"
            ]
          },
          "metadata": {
            "needs_background": "light"
          },
          "output_type": "display_data"
        }
      ],
      "source": [
        "coefs = LogisticRegression(C=0.01).fit(X_train,y_train).coef_\n",
        "feature_names = vect.get_feature_names_out()\n",
        "\n",
        "\n",
        "visualize_coefficients(coefs, feature_names, n_top_features=25)"
      ]
    },
    {
      "cell_type": "code",
      "execution_count": 55,
      "metadata": {},
      "outputs": [
        {
          "data": {
            "text/html": [
              "<div>\n",
              "<style scoped>\n",
              "    .dataframe tbody tr th:only-of-type {\n",
              "        vertical-align: middle;\n",
              "    }\n",
              "\n",
              "    .dataframe tbody tr th {\n",
              "        vertical-align: top;\n",
              "    }\n",
              "\n",
              "    .dataframe thead th {\n",
              "        text-align: right;\n",
              "    }\n",
              "</style>\n",
              "<table border=\"1\" class=\"dataframe\">\n",
              "  <thead>\n",
              "    <tr style=\"text-align: right;\">\n",
              "      <th></th>\n",
              "      <th>review</th>\n",
              "      <th>sentiment</th>\n",
              "    </tr>\n",
              "  </thead>\n",
              "  <tbody>\n",
              "    <tr>\n",
              "      <th>0</th>\n",
              "      <td>Based on an actual story, John Boorman shows t...</td>\n",
              "      <td>1</td>\n",
              "    </tr>\n",
              "    <tr>\n",
              "      <th>1</th>\n",
              "      <td>This is a gem. As a Film Four production - the...</td>\n",
              "      <td>1</td>\n",
              "    </tr>\n",
              "    <tr>\n",
              "      <th>2</th>\n",
              "      <td>I really like this show. It has drama, romance...</td>\n",
              "      <td>1</td>\n",
              "    </tr>\n",
              "    <tr>\n",
              "      <th>3</th>\n",
              "      <td>This is the best 3-D experience Disney has at ...</td>\n",
              "      <td>1</td>\n",
              "    </tr>\n",
              "    <tr>\n",
              "      <th>4</th>\n",
              "      <td>Of the Korean movies I've seen, only three had...</td>\n",
              "      <td>1</td>\n",
              "    </tr>\n",
              "  </tbody>\n",
              "</table>\n",
              "</div>"
            ],
            "text/plain": [
              "                                              review  sentiment\n",
              "0  Based on an actual story, John Boorman shows t...          1\n",
              "1  This is a gem. As a Film Four production - the...          1\n",
              "2  I really like this show. It has drama, romance...          1\n",
              "3  This is the best 3-D experience Disney has at ...          1\n",
              "4  Of the Korean movies I've seen, only three had...          1"
            ]
          },
          "execution_count": 55,
          "metadata": {},
          "output_type": "execute_result"
        }
      ],
      "source": [
        "df.head()"
      ]
    },
    {
      "cell_type": "code",
      "execution_count": 57,
      "metadata": {},
      "outputs": [],
      "source": [
        "# test \n",
        "df.head()\n",
        "\n",
        "from sklearn.feature_extraction.text import CountVectorizer\n",
        "count = CountVectorizer(analyzer = 'word', ngram_range = (1,2))\n",
        "\n",
        "# initial split \n",
        "X1 = df['review']\n",
        "y1 = df['sentiment']\n",
        "\n",
        "# tokenizer \n",
        "vect1 = CountVectorizer(min_df=5, ngram_range = (1,2)).fit(X1)\n",
        "X1 = vect.transform(X1)\n",
        "\n",
        "# train test split \n",
        "X1_train, X1_test, y1_train, y1_test = train_test_split(X1, y1, random_state=42)\n",
        "\n"
      ]
    }
  ],
  "metadata": {
    "colab": {
      "provenance": []
    },
    "interpreter": {
      "hash": "40d3a090f54c6569ab1632332b64b2c03c39dcf918b08424e98f38b5ae0af88f"
    },
    "kernelspec": {
      "display_name": "Python 3.8.3 ('base')",
      "language": "python",
      "name": "python3"
    },
    "language_info": {
      "codemirror_mode": {
        "name": "ipython",
        "version": 3
      },
      "file_extension": ".py",
      "mimetype": "text/x-python",
      "name": "python",
      "nbconvert_exporter": "python",
      "pygments_lexer": "ipython3",
      "version": "3.8.3"
    }
  },
  "nbformat": 4,
  "nbformat_minor": 0
}
