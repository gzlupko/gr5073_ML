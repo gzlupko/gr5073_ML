{
  "nbformat": 4,
  "nbformat_minor": 0,
  "metadata": {
    "kernelspec": {
      "display_name": "Python 3",
      "language": "python",
      "name": "python3"
    },
    "language_info": {
      "codemirror_mode": {
        "name": "ipython",
        "version": 3
      },
      "file_extension": ".py",
      "mimetype": "text/x-python",
      "name": "python",
      "nbconvert_exporter": "python",
      "pygments_lexer": "ipython3",
      "version": "3.7.0"
    },
    "colab": {
      "provenance": []
    }
  },
  "cells": [
    {
      "cell_type": "markdown",
      "metadata": {
        "id": "m10zIlqUsWU8"
      },
      "source": [
        "# Applying Machine Learning To Sentiment Analysis"
      ]
    },
    {
      "cell_type": "markdown",
      "metadata": {
        "id": "LwM05qP_sWVC"
      },
      "source": [
        "# Obtaining the IMDb movie review dataset"
      ]
    },
    {
      "cell_type": "markdown",
      "metadata": {
        "id": "DCd02VoWsWVI"
      },
      "source": [
        "The IMDB movie review set can be downloaded from [http://ai.stanford.edu/~amaas/data/sentiment/](http://ai.stanford.edu/~amaas/data/sentiment/).\n",
        "After downloading the dataset, decompress the files.\n",
        "\n",
        "A) If you are working with Linux or MacOS X, open a new terminal windowm `cd` into the download directory and execute \n",
        "\n",
        "`tar -zxf aclImdb_v1.tar.gz`\n",
        "\n",
        "B) If you are working with Windows, download an archiver such as [7Zip](http://www.7-zip.org) to extract the files from the download archive."
      ]
    },
    {
      "cell_type": "markdown",
      "metadata": {
        "id": "3Pyy2GkKsWVM"
      },
      "source": [
        "# Introducing the bag-of-words model"
      ]
    },
    {
      "cell_type": "markdown",
      "metadata": {
        "id": "eTj4XFFcsWVQ"
      },
      "source": [
        "## load_files returns a bunch, containing training texts and training labels\n"
      ]
    },
    {
      "cell_type": "code",
      "metadata": {
        "id": "cO_O3_u92G8G",
        "colab": {
          "base_uri": "https://localhost:8080/"
        },
        "outputId": "aafb7969-83ae-4920-df4b-58f9c4b059dd"
      },
      "source": [
        "! wget http://ai.stanford.edu/~amaas/data/sentiment/aclImdb_v1.tar.gz"
      ],
      "execution_count": null,
      "outputs": [
        {
          "output_type": "stream",
          "name": "stdout",
          "text": [
            "--2022-06-24 17:02:15--  http://ai.stanford.edu/~amaas/data/sentiment/aclImdb_v1.tar.gz\n",
            "Resolving ai.stanford.edu (ai.stanford.edu)... 171.64.68.10\n",
            "Connecting to ai.stanford.edu (ai.stanford.edu)|171.64.68.10|:80... failed: Connection timed out.\n",
            "Retrying.\n",
            "\n",
            "--2022-06-24 17:04:28--  (try: 2)  http://ai.stanford.edu/~amaas/data/sentiment/aclImdb_v1.tar.gz\n",
            "Connecting to ai.stanford.edu (ai.stanford.edu)|171.64.68.10|:80... failed: Connection timed out.\n",
            "Retrying.\n",
            "\n",
            "--2022-06-24 17:06:40--  (try: 3)  http://ai.stanford.edu/~amaas/data/sentiment/aclImdb_v1.tar.gz\n",
            "Connecting to ai.stanford.edu (ai.stanford.edu)|171.64.68.10|:80... failed: Connection timed out.\n",
            "Retrying.\n",
            "\n",
            "--2022-06-24 17:08:52--  (try: 4)  http://ai.stanford.edu/~amaas/data/sentiment/aclImdb_v1.tar.gz\n",
            "Connecting to ai.stanford.edu (ai.stanford.edu)|171.64.68.10|:80... failed: Connection refused.\n"
          ]
        }
      ]
    },
    {
      "cell_type": "code",
      "metadata": {
        "id": "nvYVKIeS2QpP",
        "colab": {
          "base_uri": "https://localhost:8080/"
        },
        "outputId": "a01376ac-4668-4842-db66-f2a0037bb252"
      },
      "source": [
        "! tar -zxf aclImdb_v1.tar.gz"
      ],
      "execution_count": null,
      "outputs": [
        {
          "output_type": "stream",
          "name": "stdout",
          "text": [
            "tar (child): aclImdb_v1.tar.gz: Cannot open: No such file or directory\n",
            "tar (child): Error is not recoverable: exiting now\n",
            "tar: Child returned status 2\n",
            "tar: Error is not recoverable: exiting now\n"
          ]
        }
      ]
    },
    {
      "cell_type": "code",
      "metadata": {
        "scrolled": true,
        "id": "5JQSjv6TsWVX"
      },
      "source": [
        "#1. Load file folders for training data using sklearn's load_files\n",
        "from sklearn.datasets import load_files\n",
        "\n",
        "reviews_train = load_files(\"aclImdb/train\")\n",
        "\n",
        "text_train, y_train = reviews_train.data, reviews_train.target\n",
        "\n",
        "print(\"type of text_train: {}\".format(type(text_train)))\n",
        "print(\"length of text_train: {}\".format(len(text_train)))\n",
        "print(\"text_train[6]:\\n{}\".format(text_train[6]))"
      ],
      "execution_count": null,
      "outputs": []
    },
    {
      "cell_type": "code",
      "metadata": {
        "id": "1Psa0wHasWV8"
      },
      "source": [
        "# clean up html in byte data\n",
        "text_train = [doc.replace(b\"<br />\", b\" \") for doc in text_train]"
      ],
      "execution_count": null,
      "outputs": []
    },
    {
      "cell_type": "markdown",
      "metadata": {
        "id": "yIpZrRAcsWWU"
      },
      "source": [
        "## Load files manually\n"
      ]
    },
    {
      "cell_type": "code",
      "metadata": {
        "id": "LK1RYH4K2ijD"
      },
      "source": [
        "! pip install pyprind"
      ],
      "execution_count": null,
      "outputs": []
    },
    {
      "cell_type": "code",
      "metadata": {
        "id": "kXQhkUfusWWb"
      },
      "source": [
        "import pyprind\n",
        "##conda install -c conda-forge pyprind ##\n",
        "\n",
        "import pandas as pd\n",
        "import os\n",
        "\n",
        "# change the `basepath` to the directory of the\n",
        "# unzipped movie dataset\n",
        "\n",
        "basepath = 'aclImdb'\n",
        "\n",
        "labels = {'pos': 1, 'neg': 0}\n",
        "pbar = pyprind.ProgBar(50000)\n",
        "df = pd.DataFrame()\n",
        "for s in ('test', 'train'):\n",
        "    for l in ('pos', 'neg'):\n",
        "        path = os.path.join(basepath, s, l)\n",
        "        for file in os.listdir(path):\n",
        "            with open(os.path.join(path, file), 'r') as infile:\n",
        "                txt = infile.read()\n",
        "            df = df.append([[txt, labels[l]]], ignore_index=True)\n",
        "            pbar.update()\n",
        "df.columns = ['review', 'sentiment']"
      ],
      "execution_count": null,
      "outputs": []
    },
    {
      "cell_type": "code",
      "metadata": {
        "id": "8iEvfAHRsWW5"
      },
      "source": [
        "df.shape"
      ],
      "execution_count": null,
      "outputs": []
    },
    {
      "cell_type": "code",
      "metadata": {
        "id": "vH3AtFHksWXP"
      },
      "source": [
        "df['sentiment'].value_counts()"
      ],
      "execution_count": null,
      "outputs": []
    },
    {
      "cell_type": "markdown",
      "metadata": {
        "id": "_wtZMCpEsWXj"
      },
      "source": [
        "## Transforming documents into feature vectors"
      ]
    },
    {
      "cell_type": "markdown",
      "metadata": {
        "id": "r0TUIuI4sWXm"
      },
      "source": [
        "By calling the fit_transform method on CountVectorizer, we construct the vocabulary of the bag-of-words model and transformed the following three sentences into sparse feature vectors:\n",
        "1. The sun is shining\n",
        "2. The weather is sweet\n",
        "3. The sun is shining, the weather is sweet, and one and one is two\n"
      ]
    },
    {
      "cell_type": "code",
      "metadata": {
        "id": "ukk-fuiasWXu"
      },
      "source": [
        "import numpy as np\n",
        "from sklearn.feature_extraction.text import CountVectorizer\n",
        "\n",
        "count = CountVectorizer()\n",
        "docs = np.array([\n",
        "        'The sun is shining',\n",
        "        'The weather is sweet',\n",
        "        'The sun is shining, the weather is sweet, and one and one is two'])\n",
        "bag = count.fit_transform(docs)"
      ],
      "execution_count": null,
      "outputs": []
    },
    {
      "cell_type": "markdown",
      "metadata": {
        "id": "RRDkdlUxsWX-"
      },
      "source": [
        "Now let us print the contents of the vocabulary to get a better understanding of the underlying concepts:"
      ]
    },
    {
      "cell_type": "code",
      "metadata": {
        "id": "46lUgnNjsWYB",
        "colab": {
          "base_uri": "https://localhost:8080/"
        },
        "outputId": "b76d2e61-6fc6-4574-a909-65fbe4953b6c"
      },
      "source": [
        "print(count.vocabulary_) # u signifies text format for unicode text"
      ],
      "execution_count": null,
      "outputs": [
        {
          "output_type": "stream",
          "name": "stdout",
          "text": [
            "{'the': 6, 'sun': 4, 'is': 1, 'shining': 3, 'weather': 8, 'sweet': 5, 'and': 0, 'one': 2, 'two': 7}\n"
          ]
        }
      ]
    },
    {
      "cell_type": "markdown",
      "metadata": {
        "id": "YmZXFM2FsWYR"
      },
      "source": [
        "As we can see from executing the preceding command, the vocabulary is stored in a Python dictionary, which maps the unique words that are mapped to integer indices. Next let us print the feature vectors that we just created:"
      ]
    },
    {
      "cell_type": "markdown",
      "metadata": {
        "id": "TYbYT9fpsWYU"
      },
      "source": [
        "Each index position in the feature vectors shown here corresponds to the integer values that are stored as dictionary items in the CountVectorizer vocabulary. \n",
        "\n"
      ]
    },
    {
      "cell_type": "code",
      "metadata": {
        "scrolled": true,
        "id": "ShRndajasWYW",
        "colab": {
          "base_uri": "https://localhost:8080/"
        },
        "outputId": "b91d9cca-eb60-4f7e-caea-6c7bc3193105"
      },
      "source": [
        "count.get_feature_names_out() # feature names in alphabetical order"
      ],
      "execution_count": null,
      "outputs": [
        {
          "output_type": "execute_result",
          "data": {
            "text/plain": [
              "array(['and', 'is', 'one', 'shining', 'sun', 'sweet', 'the', 'two',\n",
              "       'weather'], dtype=object)"
            ]
          },
          "metadata": {},
          "execution_count": 12
        }
      ]
    },
    {
      "cell_type": "code",
      "metadata": {
        "scrolled": false,
        "id": "dswP0fkRsWYo"
      },
      "source": [
        "print(bag) # The bagged data counts the frequency of each term in each document.\n",
        "           # Nonzero data is included, which uses less memory"
      ],
      "execution_count": null,
      "outputs": []
    },
    {
      "cell_type": "code",
      "metadata": {
        "id": "2LGDUHPLsWZE",
        "colab": {
          "base_uri": "https://localhost:8080/"
        },
        "outputId": "9acd98d6-95f5-44db-b205-be825267ca97"
      },
      "source": [
        "print(bag.toarray()) # We can convert bag values to a term document matrix.  \n",
        "                     # columns are documents 0, 1, and 2 and terms are indexed from left to right across \n",
        "                     # columns alphabetically.  Values equal counts of each term per document."
      ],
      "execution_count": null,
      "outputs": [
        {
          "output_type": "stream",
          "name": "stdout",
          "text": [
            "[[0 1 0 1 1 0 1 0 0]\n",
            " [0 1 0 0 0 1 1 0 1]\n",
            " [2 3 2 1 1 1 2 1 1]]\n"
          ]
        }
      ]
    },
    {
      "cell_type": "markdown",
      "metadata": {
        "id": "806At5eBsWZc"
      },
      "source": [
        "### Bag-of-word for movie reviews"
      ]
    },
    {
      "cell_type": "code",
      "metadata": {
        "id": "lYZPGzHfsWZj",
        "colab": {
          "base_uri": "https://localhost:8080/"
        },
        "outputId": "ca9dbe9e-9b9b-4d2e-a52a-effaa7ace2ea"
      },
      "source": [
        "#First, let's limit our data to manage the time it takes to run example code.\n",
        "\n",
        "#Limit data to documents only\n",
        "\n",
        "text_train = df['review']\n",
        "\n",
        "import numpy as np\n",
        "\n",
        "#keep first and last 20 documents only\n",
        "\n",
        "text_train1 =  np.array(text_train[0:19]) # twenty reviews with negative sentiment\n",
        "text_train2 = np.array(text_train[49978:49999])# twenty reviews with positive sentiment\n",
        "print(np.concatenate((text_train1, text_train2 ), axis=0).shape) # forty total\n",
        "\n",
        "text_train = np.concatenate((text_train1, text_train2 ), axis=0)"
      ],
      "execution_count": null,
      "outputs": [
        {
          "output_type": "stream",
          "name": "stdout",
          "text": [
            "(40,)\n"
          ]
        }
      ]
    },
    {
      "cell_type": "code",
      "metadata": {
        "id": "W7h381GWsWZ0",
        "colab": {
          "base_uri": "https://localhost:8080/"
        },
        "outputId": "65d8e5a8-8bbf-4e0d-b193-0710decdc712"
      },
      "source": [
        "vect = CountVectorizer().fit(text_train)\n",
        "X = vect.transform(text_train)\n",
        "print(\"X:\\n{}\".format(repr(X)))"
      ],
      "execution_count": null,
      "outputs": [
        {
          "output_type": "stream",
          "name": "stdout",
          "text": [
            "X:\n",
            "<40x2191 sparse matrix of type '<class 'numpy.int64'>'\n",
            "\twith 5062 stored elements in Compressed Sparse Row format>\n"
          ]
        }
      ]
    },
    {
      "cell_type": "code",
      "metadata": {
        "scrolled": true,
        "id": "qQeMReUPsWaY",
        "colab": {
          "base_uri": "https://localhost:8080/"
        },
        "outputId": "1b1c80d5-3755-443e-e166-72377ea90d41"
      },
      "source": [
        "feature_names = vect.get_feature_names_out()\n",
        "print(\"Number of features: {}\".format(len(feature_names)))\n",
        "print(\"First 20 features:\\n{}\".format(feature_names[:20]))\n",
        "print(\"Features 210 to 230:\\n{}\".format(feature_names[210:230]))\n",
        "print(\"Every 200th feature:\\n{}\".format(feature_names[::200]))"
      ],
      "execution_count": null,
      "outputs": [
        {
          "output_type": "stream",
          "name": "stdout",
          "text": [
            "Number of features: 2191\n",
            "First 20 features:\n",
            "['000' '10' '12' '13' '138' '15' '17' '18' '1920' '1940' '1951' '1979'\n",
            " '1980' '1991' '1mln' '20' '2002' '23' '24' '2505']\n",
            "Features 210 to 230:\n",
            "['besides' 'best' 'better' 'between' 'beyond' 'big' 'bigger' 'biggest'\n",
            " 'bin' 'bit' 'blame' 'bleachers' 'blecch' 'blender' 'blind' 'blond'\n",
            " 'blood' 'bludgeons' 'blue' 'blurts']\n",
            "Every 200th feature:\n",
            "['000' 'before' 'concerned' 'effects' 'gained' 'intellectually' 'matter'\n",
            " 'perfection' 'richard' 'spot' 'truely']\n"
          ]
        }
      ]
    },
    {
      "cell_type": "markdown",
      "metadata": {
        "id": "-ssTFvwVsWau"
      },
      "source": [
        "# Build a model to predict positive or negative reviews"
      ]
    },
    {
      "cell_type": "code",
      "metadata": {
        "scrolled": true,
        "id": "DoHCNBcXsWax",
        "colab": {
          "base_uri": "https://localhost:8080/"
        },
        "outputId": "620cdeb1-5cdf-4f5c-8a44-3a1098b330a9"
      },
      "source": [
        "# Define X, y data\n",
        "X = X\n",
        "\n",
        "#adjusting y to smaller dataset for example\n",
        "y_1 = np.array(df['sentiment'])[0:19],\n",
        "\n",
        "y_2 = np.array(df['sentiment'])[49978:49999]\n",
        "\n",
        "y= np.append(y_1, y_2)\n",
        "\n",
        "print(X.shape)\n",
        "print(y.shape)"
      ],
      "execution_count": null,
      "outputs": [
        {
          "output_type": "stream",
          "name": "stdout",
          "text": [
            "(40, 2191)\n",
            "(40,)\n"
          ]
        }
      ]
    },
    {
      "cell_type": "code",
      "metadata": {
        "id": "6nr8jNgVsWbK",
        "colab": {
          "base_uri": "https://localhost:8080/"
        },
        "outputId": "07b9c625-e026-4692-f485-266b5934d9a8"
      },
      "source": [
        "# Set up training and test data\n",
        "from sklearn.model_selection import train_test_split\n",
        "\n",
        "X_train, X_test, y_train, y_test = train_test_split(X, y, random_state=42)\n",
        "\n",
        "print(X_train.shape)\n",
        "print(y_train.shape)"
      ],
      "execution_count": null,
      "outputs": [
        {
          "output_type": "stream",
          "name": "stdout",
          "text": [
            "(30, 2191)\n",
            "(30,)\n"
          ]
        }
      ]
    },
    {
      "cell_type": "code",
      "metadata": {
        "id": "_Yifgc0qsWbp",
        "colab": {
          "base_uri": "https://localhost:8080/"
        },
        "outputId": "aa28d5bc-a0df-4079-b195-677dd38ced97"
      },
      "source": [
        "from sklearn.model_selection import cross_val_score\n",
        "from sklearn.linear_model import LogisticRegression\n",
        "from sklearn.model_selection import GridSearchCV\n",
        "\n",
        "scores = cross_val_score(LogisticRegression(), X_train, y_train, cv=5)\n",
        "print(\"Mean cross-validation accuracy: {:.2f}\".format(np.mean(scores)))"
      ],
      "execution_count": null,
      "outputs": [
        {
          "output_type": "stream",
          "name": "stdout",
          "text": [
            "Mean cross-validation accuracy: 0.43\n"
          ]
        }
      ]
    },
    {
      "cell_type": "code",
      "metadata": {
        "id": "zxqHUg2ZsWb6",
        "colab": {
          "base_uri": "https://localhost:8080/"
        },
        "outputId": "338fd8c0-dc48-4a90-e9f9-e9ac6d8fb0de"
      },
      "source": [
        "\n",
        "param_grid = {'C': [0.001, 0.01, 0.1, 1, 10]}\n",
        "grid = GridSearchCV(LogisticRegression(), param_grid, cv=5)\n",
        "grid.fit(X_train, y_train)\n",
        "print(\"Best cross-validation score: {:.2f}\".format(grid.best_score_))\n",
        "print(\"Best parameters: \", grid.best_params_)"
      ],
      "execution_count": null,
      "outputs": [
        {
          "output_type": "stream",
          "name": "stdout",
          "text": [
            "Best cross-validation score: 0.57\n",
            "Best parameters:  {'C': 0.01}\n"
          ]
        }
      ]
    },
    {
      "cell_type": "code",
      "metadata": {
        "id": "atDYxoytsWcK",
        "colab": {
          "base_uri": "https://localhost:8080/"
        },
        "outputId": "6c5c38a0-ce4c-46ea-b514-303bc9e4f60d"
      },
      "source": [
        "print(\"Test score: {:.2f}\".format(grid.score(X_test, y_test)))"
      ],
      "execution_count": null,
      "outputs": [
        {
          "output_type": "stream",
          "name": "stdout",
          "text": [
            "Test score: 0.60\n"
          ]
        }
      ]
    },
    {
      "cell_type": "markdown",
      "metadata": {
        "id": "MuFVF5JHsWcf"
      },
      "source": [
        "# Narrow bag of words to words in at least 10 documents"
      ]
    },
    {
      "cell_type": "code",
      "metadata": {
        "id": "dZtDHBuxsWch",
        "colab": {
          "base_uri": "https://localhost:8080/"
        },
        "outputId": "901ca094-b859-473e-91e4-2f8a76abbb3a"
      },
      "source": [
        "vect = CountVectorizer(min_df=10).fit(text_train)\n",
        "X = vect.transform(text_train)\n",
        "print(\"X with min_df: {}\".format(repr(X)))"
      ],
      "execution_count": null,
      "outputs": [
        {
          "output_type": "stream",
          "name": "stdout",
          "text": [
            "X with min_df: <40x99 sparse matrix of type '<class 'numpy.int64'>'\n",
            "\twith 1689 stored elements in Compressed Sparse Row format>\n"
          ]
        }
      ]
    },
    {
      "cell_type": "code",
      "metadata": {
        "id": "w9H1PQh8sWc1",
        "colab": {
          "base_uri": "https://localhost:8080/"
        },
        "outputId": "04b9eb49-2641-4d92-a2fc-b9a05a11f921"
      },
      "source": [
        "feature_names = vect.get_feature_names()\n",
        "\n",
        "print(\"First 50 features:\\n{}\".format(feature_names[:10]))\n",
        "print(\"Features 20 to 30:\\n{}\".format(feature_names[20:30]))\n",
        "print(\"Every 10th feature:\\n{}\".format(feature_names[::10]))"
      ],
      "execution_count": null,
      "outputs": [
        {
          "output_type": "stream",
          "name": "stdout",
          "text": [
            "First 50 features:\n",
            "['about', 'acting', 'actors', 'after', 'all', 'an', 'and', 'are', 'as', 'at']\n",
            "Features 20 to 30:\n",
            "['did', 'do', 'don', 'even', 'ever', 'film', 'first', 'for', 'from', 'get']\n",
            "Every 10th feature:\n",
            "['about', 'be', 'did', 'good', 'is', 'much', 'out', 'such', 'time', 'what']\n"
          ]
        },
        {
          "output_type": "stream",
          "name": "stderr",
          "text": [
            "/usr/local/lib/python3.7/dist-packages/sklearn/utils/deprecation.py:87: FutureWarning: Function get_feature_names is deprecated; get_feature_names is deprecated in 1.0 and will be removed in 1.2. Please use get_feature_names_out instead.\n",
            "  warnings.warn(msg, category=FutureWarning)\n"
          ]
        }
      ]
    },
    {
      "cell_type": "code",
      "metadata": {
        "id": "9cGzOJyqsWdL",
        "colab": {
          "base_uri": "https://localhost:8080/"
        },
        "outputId": "0239284c-c979-477a-c28c-0e24d41f1f93"
      },
      "source": [
        "# Need index of new X data to subset y data accurately for new models\n",
        "X.shape"
      ],
      "execution_count": null,
      "outputs": [
        {
          "output_type": "execute_result",
          "data": {
            "text/plain": [
              "(40, 99)"
            ]
          },
          "metadata": {},
          "execution_count": 23
        }
      ]
    },
    {
      "cell_type": "code",
      "metadata": {
        "id": "BnJ5YNcOsWdd",
        "colab": {
          "base_uri": "https://localhost:8080/"
        },
        "outputId": "79601436-4e1f-4292-abfd-e5bd9127061f"
      },
      "source": [
        "X_train, X_test, y_train, y_test = train_test_split(X, y, random_state=42)\n",
        "\n",
        "print(X_train.shape)\n",
        "print(y_train.shape)\n",
        "\n",
        "\n",
        "grid = GridSearchCV(LogisticRegression(), param_grid, cv=5)\n",
        "grid.fit(X_train, y_train)\n",
        "print(\"Best cross-validation score: {:.2f}\".format(grid.best_score_))"
      ],
      "execution_count": null,
      "outputs": [
        {
          "output_type": "stream",
          "name": "stdout",
          "text": [
            "(30, 99)\n",
            "(30,)\n",
            "Best cross-validation score: 0.57\n"
          ]
        }
      ]
    },
    {
      "cell_type": "markdown",
      "metadata": {
        "id": "JdQyC2wKsWdx"
      },
      "source": [
        "### Limit vocabulary to meaningful words by deleting Stop-words"
      ]
    },
    {
      "cell_type": "code",
      "metadata": {
        "id": "hEoJ3PQOsWd0",
        "colab": {
          "base_uri": "https://localhost:8080/"
        },
        "outputId": "acbb9df3-63c7-4075-fcef-b6b15ed8c0df"
      },
      "source": [
        "from sklearn.feature_extraction.text import ENGLISH_STOP_WORDS\n",
        "print(\"Number of stop words: {}\".format(len(ENGLISH_STOP_WORDS)))\n",
        "print(\"Every 10th stopword:\\n{}\".format(list(ENGLISH_STOP_WORDS)[::10]))"
      ],
      "execution_count": null,
      "outputs": [
        {
          "output_type": "stream",
          "name": "stdout",
          "text": [
            "Number of stop words: 318\n",
            "Every 10th stopword:\n",
            "['though', 'else', 'him', 'under', 'de', 'go', 'us', 'much', 'against', 'well', 'therein', 'itself', 'something', 'would', 'hereupon', 'could', 'less', 'been', 'her', 'hasnt', 'now', 'both', 'mostly', 'next', 'without', 'very', 'be', 'anything', 'due', 'than', 'another', 'an']\n"
          ]
        }
      ]
    },
    {
      "cell_type": "code",
      "metadata": {
        "id": "WNGrmOzmsWeI",
        "colab": {
          "base_uri": "https://localhost:8080/"
        },
        "outputId": "04d53851-3a5a-4040-eb9f-6f59ec8398c7"
      },
      "source": [
        "# Specifying stop_words=\"english\" uses the built-in list.\n",
        "# We could also augment it and pass our own by building our own list.\n",
        "\n",
        "vect = CountVectorizer(min_df=5, stop_words=\"english\").fit(text_train)\n",
        "X = vect.transform(text_train)\n",
        "print(\"X with stop words:\\n{}\".format(repr(X_train)))"
      ],
      "execution_count": null,
      "outputs": [
        {
          "output_type": "stream",
          "name": "stdout",
          "text": [
            "X with stop words:\n",
            "<30x99 sparse matrix of type '<class 'numpy.int64'>'\n",
            "\twith 1250 stored elements in Compressed Sparse Row format>\n"
          ]
        }
      ]
    },
    {
      "cell_type": "code",
      "metadata": {
        "id": "dj9T7YAOsWeZ",
        "colab": {
          "base_uri": "https://localhost:8080/"
        },
        "outputId": "e2d741d4-9b29-4c2b-ea0c-ecbb4c08d883"
      },
      "source": [
        "X_train, X_test, y_train, y_test = train_test_split(X, y, random_state=42)\n",
        "\n",
        "grid = GridSearchCV(LogisticRegression(), param_grid, cv=5)\n",
        "grid.fit(X_train, y_train)\n",
        "print(\"Best cross-validation score: {:.2f}\".format(grid.best_score_))"
      ],
      "execution_count": null,
      "outputs": [
        {
          "output_type": "stream",
          "name": "stdout",
          "text": [
            "Best cross-validation score: 0.53\n"
          ]
        }
      ]
    },
    {
      "cell_type": "markdown",
      "metadata": {
        "id": "iEviE5hnsWer"
      },
      "source": [
        "### Rescaling the Data with tf-idf\n",
        "\n",
        "Term frequency–inverse document frequency, is a numerical statistic that is intended to reflect how important a word is to a document in a collection or corpus. It is often used as a weighting factor in text mining. \n",
        "\n",
        "The tf-idf value increases proportionally to the number of times a word appears in the document and is offset by the frequency of the word in the corpus, which helps to adjust for the fact that some words appear more frequently in general. \n",
        "\n",
        "Tf-idf is one of the most popular term-weighting schemes today; 83% of text-based recommender systems in digital libraries use tf-idf. \n",
        "\n",
        "The inverse document frequency factor is incorporated which diminishes the weight of terms that occur very frequently in the document set and increases the weight of terms that occur rarely. (From Wikipedia/Python for Machine Learning)\n",
        "\n",
        "\\begin{equation*}\n",
        "\\text{tfidf}(w, d) = \\text{tf} \\log\\big(\\frac{N + 1}{N_w + 1}\\big) + 1\n",
        "\\end{equation*}"
      ]
    },
    {
      "cell_type": "code",
      "metadata": {
        "id": "pjtH8muDsWew",
        "colab": {
          "base_uri": "https://localhost:8080/"
        },
        "outputId": "1828740d-9631-42f7-aec8-eb4958995cd5"
      },
      "source": [
        "# If we reweight our data in this way we increase the weight of repeated rare words in comments.  \n",
        "\n",
        "from sklearn.feature_extraction.text import TfidfVectorizer\n",
        "\n",
        "vect = TfidfVectorizer(min_df=5, norm=None).fit(text_train)\n",
        "X = vect.transform(text_train)\n",
        "\n",
        "X_train, X_test, y_train, y_test = train_test_split(X, y, random_state=42)\n",
        "\n",
        "param_grid = {'C': [0.001, 0.01, 0.1, 1, 10]}\n",
        "grid = GridSearchCV(LogisticRegression(), param_grid, cv=5)\n",
        "grid.fit(X_train, y_train)\n",
        "print(\"Best cross-validation score: {:.2f}\".format(grid.best_score_))\n",
        "print(\"Best parameters: \", grid.best_params_)\n"
      ],
      "execution_count": null,
      "outputs": [
        {
          "output_type": "stream",
          "name": "stdout",
          "text": [
            "Best cross-validation score: 0.53\n",
            "Best parameters:  {'C': 0.001}\n"
          ]
        }
      ]
    },
    {
      "cell_type": "code",
      "metadata": {
        "id": "hor2GSmMsWfJ",
        "colab": {
          "base_uri": "https://localhost:8080/"
        },
        "outputId": "044ea81d-532a-44e8-ed46-8b8ad180e97b"
      },
      "source": [
        "grid.best_estimator_"
      ],
      "execution_count": null,
      "outputs": [
        {
          "output_type": "execute_result",
          "data": {
            "text/plain": [
              "LogisticRegression(C=0.001)"
            ]
          },
          "metadata": {},
          "execution_count": 29
        }
      ]
    },
    {
      "cell_type": "markdown",
      "metadata": {
        "id": "5iX7GWu_sWfY"
      },
      "source": [
        "#### Investigating model coefficients"
      ]
    },
    {
      "cell_type": "code",
      "metadata": {
        "id": "ZufFZNj4sWfc"
      },
      "source": [
        "# helper function to plot top positive and negative coefficients\n",
        "\n",
        "def visualize_coefficients(coefficients, feature_names, n_top_features=25):\n",
        "    \"\"\"Visualize coefficients of a linear model.\n",
        "    Parameters\n",
        "    ----------\n",
        "    coefficients : nd-array, shape (n_features,)\n",
        "        Model coefficients.\n",
        "    feature_names : list or nd-array of strings, shape (n_features,)\n",
        "        Feature names for labeling the coefficients.\n",
        "    n_top_features : int, default=25\n",
        "        How many features to show. The function will show the largest (most\n",
        "        positive) and smallest (most negative)  n_top_features coefficients,\n",
        "        for a total of 2 * n_top_features coefficients.\n",
        "    \"\"\"\n",
        "    coefficients = coefficients.squeeze()\n",
        "    if coefficients.ndim > 1:\n",
        "        # this is not a row or column vector\n",
        "        raise ValueError(\"coeffients must be 1d array or column vector, got\"\n",
        "                         \" shape {}\".format(coefficients.shape))\n",
        "    coefficients = coefficients.ravel()\n",
        "\n",
        "    if len(coefficients) != len(feature_names):\n",
        "        raise ValueError(\"Number of coefficients {} doesn't match number of\"\n",
        "                         \"feature names {}.\".format(len(coefficients),\n",
        "                                                    len(feature_names)))\n",
        "    # get coefficients with large absolute values\n",
        "    coef = coefficients.ravel()\n",
        "    positive_coefficients = np.argsort(coef)[-n_top_features:]\n",
        "    negative_coefficients = np.argsort(coef)[:n_top_features]\n",
        "    interesting_coefficients = np.hstack([negative_coefficients,\n",
        "                                          positive_coefficients])\n",
        "    # plot them\n",
        "    plt.figure(figsize=(15, 5))\n",
        "    colors = ['#ff2020' if c < 0 else '#0000aa'\n",
        "              for c in coef[interesting_coefficients]]\n",
        "    plt.bar(np.arange(2 * n_top_features), coef[interesting_coefficients],\n",
        "            color=colors)\n",
        "    feature_names = np.array(feature_names)\n",
        "    plt.subplots_adjust(bottom=0.3)\n",
        "    plt.xticks(np.arange(1, 1 + 2 * n_top_features),\n",
        "               feature_names[interesting_coefficients], rotation=60,\n",
        "               ha=\"right\")\n",
        "    plt.ylabel(\"Coefficient magnitude\")\n",
        "    plt.xlabel(\"Feature\")\n",
        "\n"
      ],
      "execution_count": null,
      "outputs": []
    },
    {
      "cell_type": "code",
      "metadata": {
        "id": "Iv8SJQKEsWfx",
        "colab": {
          "base_uri": "https://localhost:8080/",
          "height": 321
        },
        "outputId": "8da4f403-24ca-4d51-e51f-4a2cc45d6357"
      },
      "source": [
        "import matplotlib.pyplot as plt\n",
        "\n",
        "\n",
        "coefs = LogisticRegression(C=0.01).fit(X_train,y_train).coef_\n",
        "feature_names = vect.get_feature_names_out()\n",
        "\n",
        "\n",
        "visualize_coefficients(coefs, feature_names, n_top_features=20)"
      ],
      "execution_count": null,
      "outputs": [
        {
          "output_type": "display_data",
          "data": {
            "text/plain": [
              "<Figure size 1080x360 with 1 Axes>"
            ],
            "image/png": "[encoded data removed]"
          },
          "metadata": {
            "needs_background": "light"
          }
        }
      ]
    },
    {
      "cell_type": "markdown",
      "metadata": {
        "id": "t9BWKD02sWgG"
      },
      "source": [
        "#### Bag of words with more than one word (n-grams)"
      ]
    },
    {
      "cell_type": "code",
      "metadata": {
        "id": "vtuspbmssWgI",
        "colab": {
          "base_uri": "https://localhost:8080/"
        },
        "outputId": "16457eb4-8121-4bb9-db9a-85902fed0493"
      },
      "source": [
        "bards_words =[\"The fool doth think he is wise,\",\n",
        "              \"but the wise man knows himself to be a fool\"]\n",
        "\n",
        "print(\"bards_words:\\n{}\".format(bards_words))"
      ],
      "execution_count": null,
      "outputs": [
        {
          "output_type": "stream",
          "name": "stdout",
          "text": [
            "bards_words:\n",
            "['The fool doth think he is wise,', 'but the wise man knows himself to be a fool']\n"
          ]
        }
      ]
    },
    {
      "cell_type": "code",
      "metadata": {
        "id": "edPyF1UvsWga",
        "colab": {
          "base_uri": "https://localhost:8080/"
        },
        "outputId": "f030d174-8f3b-418a-d791-1027f4daa027"
      },
      "source": [
        "cv = CountVectorizer(ngram_range=(1, 1)).fit(bards_words)\n",
        "print(\"Vocabulary size: {}\".format(len(cv.vocabulary_)))\n",
        "print(\"Vocabulary:\\n{}\".format(cv.get_feature_names_out()))"
      ],
      "execution_count": null,
      "outputs": [
        {
          "output_type": "stream",
          "name": "stdout",
          "text": [
            "Vocabulary size: 13\n",
            "Vocabulary:\n",
            "['be' 'but' 'doth' 'fool' 'he' 'himself' 'is' 'knows' 'man' 'the' 'think'\n",
            " 'to' 'wise']\n"
          ]
        }
      ]
    },
    {
      "cell_type": "code",
      "metadata": {
        "id": "C4JbmJ9zsWgq",
        "colab": {
          "base_uri": "https://localhost:8080/"
        },
        "outputId": "2fedc99b-19e6-45ba-fa1a-fc9cd632587f"
      },
      "source": [
        "# keep bi-grams only\n",
        "\n",
        "cv = CountVectorizer(ngram_range=(2, 2)).fit(bards_words)\n",
        "\n",
        "print(\"Vocabulary size: {}\".format(len(cv.vocabulary_)))\n",
        "print(\"Vocabulary:\\n{}\".format(cv.get_feature_names_out()))"
      ],
      "execution_count": null,
      "outputs": [
        {
          "output_type": "stream",
          "name": "stdout",
          "text": [
            "Vocabulary size: 14\n",
            "Vocabulary:\n",
            "['be fool' 'but the' 'doth think' 'fool doth' 'he is' 'himself to'\n",
            " 'is wise' 'knows himself' 'man knows' 'the fool' 'the wise' 'think he'\n",
            " 'to be' 'wise man']\n"
          ]
        }
      ]
    },
    {
      "cell_type": "code",
      "metadata": {
        "id": "HxoQUVA-sWhF",
        "colab": {
          "base_uri": "https://localhost:8080/"
        },
        "outputId": "1cb05ce4-f23c-4ab8-d540-d59ed9e6ee87"
      },
      "source": [
        "print(\"Transformed data (dense):\\n{}\".format(cv.transform(bards_words).toarray()))"
      ],
      "execution_count": null,
      "outputs": [
        {
          "output_type": "stream",
          "name": "stdout",
          "text": [
            "Transformed data (dense):\n",
            "[[0 0 1 1 1 0 1 0 0 1 0 1 0 0]\n",
            " [1 1 0 0 0 1 0 1 1 0 1 0 1 1]]\n"
          ]
        }
      ]
    },
    {
      "cell_type": "code",
      "metadata": {
        "id": "waEbPTRtsWhb",
        "colab": {
          "base_uri": "https://localhost:8080/"
        },
        "outputId": "708eca3f-b351-4794-c457-23218a4aa9d2"
      },
      "source": [
        "# keep single words, bi-grams, AND tri-grams\n",
        "\n",
        "cv = CountVectorizer(ngram_range=(1, 3)).fit(bards_words)\n",
        "print(\"Vocabulary size: {}\".format(len(cv.vocabulary_)))\n",
        "print(\"Vocabulary:\\n{}\".format(cv.get_feature_names_out()))"
      ],
      "execution_count": null,
      "outputs": [
        {
          "output_type": "stream",
          "name": "stdout",
          "text": [
            "Vocabulary size: 39\n",
            "Vocabulary:\n",
            "['be' 'be fool' 'but' 'but the' 'but the wise' 'doth' 'doth think'\n",
            " 'doth think he' 'fool' 'fool doth' 'fool doth think' 'he' 'he is'\n",
            " 'he is wise' 'himself' 'himself to' 'himself to be' 'is' 'is wise'\n",
            " 'knows' 'knows himself' 'knows himself to' 'man' 'man knows'\n",
            " 'man knows himself' 'the' 'the fool' 'the fool doth' 'the wise'\n",
            " 'the wise man' 'think' 'think he' 'think he is' 'to' 'to be' 'to be fool'\n",
            " 'wise' 'wise man' 'wise man knows']\n"
          ]
        }
      ]
    },
    {
      "cell_type": "code",
      "metadata": {
        "id": "uDnlu8SCsWhq",
        "colab": {
          "base_uri": "https://localhost:8080/"
        },
        "outputId": "d1c70267-2ba3-4028-8256-d41b5e5f48d0"
      },
      "source": [
        "\n",
        "vect = TfidfVectorizer(ngram_range=(1,3) ,min_df=5, norm=None).fit(text_train)\n",
        "X = vect.transform(text_train)\n",
        "\n",
        "X_train, X_test, y_train, y_test = train_test_split(X, y, random_state=42)\n",
        "\n",
        "\n",
        "param_grid = {'C': [0.001, 0.01, 0.1, 1, 10, 100]}\n",
        "\n",
        "grid = GridSearchCV(LogisticRegression(),param_grid, cv=5)\n",
        "grid.fit(X_train, y_train)\n",
        "print(\"Best cross-validation score: {:.2f}\".format(grid.best_score_))\n",
        "print(\"Best parameters:\\n{}\".format(grid.best_params_))"
      ],
      "execution_count": null,
      "outputs": [
        {
          "output_type": "stream",
          "name": "stdout",
          "text": [
            "Best cross-validation score: 0.63\n",
            "Best parameters:\n",
            "{'C': 0.001}\n"
          ]
        }
      ]
    },
    {
      "cell_type": "code",
      "metadata": {
        "id": "5rVhw1oLsWiA",
        "colab": {
          "base_uri": "https://localhost:8080/",
          "height": 322
        },
        "outputId": "2f80ba63-c401-4e98-967b-d4ed3798a610"
      },
      "source": [
        "coefs = LogisticRegression(C=0.01).fit(X_train,y_train).coef_\n",
        "feature_names = vect.get_feature_names_out()\n",
        "\n",
        "visualize_coefficients(coefs, feature_names, n_top_features=40)\n"
      ],
      "execution_count": null,
      "outputs": [
        {
          "output_type": "display_data",
          "data": {
            "text/plain": [
              "<Figure size 1080x360 with 1 Axes>"
            ],
            "image/png": "[encoded data removed]"
          },
          "metadata": {
            "needs_background": "light"
          }
        }
      ]
    },
    {
      "cell_type": "code",
      "metadata": {
        "id": "6Ceev9YQsWia",
        "colab": {
          "base_uri": "https://localhost:8080/"
        },
        "outputId": "6076bfff-3a0b-4215-af39-7e2f3f39a700"
      },
      "source": [
        "# find 2 and 3-gram features only\n",
        "\n",
        "vect = TfidfVectorizer(ngram_range=(2,3) ,min_df=3, norm=None).fit(text_train)\n",
        "X = vect.transform(text_train)\n",
        "\n",
        "X_train, X_test, y_train, y_test = train_test_split(X, y, random_state=42)\n",
        "\n",
        "\n",
        "param_grid = {'C': [0.001, 0.01, 0.1, 1, 10, 100]}\n",
        "\n",
        "grid = GridSearchCV(LogisticRegression(),param_grid, cv=5)\n",
        "grid.fit(X_train, y_train)\n",
        "print(\"Best cross-validation score: {:.2f}\".format(grid.best_score_))\n",
        "print(\"Best parameters:\\n{}\".format(grid.best_params_))\n",
        "\n"
      ],
      "execution_count": null,
      "outputs": [
        {
          "output_type": "stream",
          "name": "stdout",
          "text": [
            "Best cross-validation score: 0.83\n",
            "Best parameters:\n",
            "{'C': 0.1}\n"
          ]
        }
      ]
    },
    {
      "cell_type": "code",
      "metadata": {
        "id": "utlZE8bysWiv",
        "colab": {
          "base_uri": "https://localhost:8080/",
          "height": 335
        },
        "outputId": "acaba634-b92c-4c6f-e033-2e563d9085ea"
      },
      "source": [
        "coefs = LogisticRegression(C=0.01).fit(X_train,y_train).coef_\n",
        "feature_names = vect.get_feature_names_out()\n",
        "\n",
        "\n",
        "visualize_coefficients(coefs, feature_names, n_top_features=25)"
      ],
      "execution_count": null,
      "outputs": [
        {
          "output_type": "display_data",
          "data": {
            "text/plain": [
              "<Figure size 1080x360 with 1 Axes>"
            ],
            "image/png": "[encoded data removed]"
          },
          "metadata": {
            "needs_background": "light"
          }
        }
      ]
    }
  ]
}