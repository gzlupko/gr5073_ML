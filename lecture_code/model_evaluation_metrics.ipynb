{
  "cells": [
    {
      "cell_type": "markdown",
      "metadata": {
        "id": "STsIPM6Pw1Pt"
      },
      "source": [
        "# Metrics for comparing prediction error in classification and regression models"
      ]
    },
    {
      "cell_type": "markdown",
      "metadata": {
        "id": "1W47VKztw1Pw"
      },
      "source": [
        "## Part 1: Classification Metrics: "
      ]
    },
    {
      "cell_type": "markdown",
      "metadata": {
        "id": "qEBB3F4Rw1Py"
      },
      "source": [
        "## Accuracy"
      ]
    },
    {
      "cell_type": "code",
      "execution_count": 4,
      "metadata": {
        "colab": {
          "base_uri": "https://localhost:8080/"
        },
        "id": "d_wNIjySw1P1",
        "outputId": "aaf54937-963f-4b89-b700-00122cb56701"
      },
      "outputs": [
        {
          "output_type": "stream",
          "name": "stdout",
          "text": [
            "0.5\n",
            "2\n"
          ]
        }
      ],
      "source": [
        "# Metrics module allows you define particular metrics\n",
        "\n",
        "# Accuracy\n",
        "\n",
        "import numpy as np\n",
        "from sklearn.metrics import accuracy_score\n",
        "y_pred = [0, 1, 1, 1]\n",
        "y_true = [1, 1, 1, 0] # note that we are comparing predictions from a model to some ytest values\n",
        "\n",
        "print(accuracy_score(y_true, y_pred)) # proportion of ytest predicted correctly\n",
        "\n",
        "\n",
        "print(accuracy_score(y_true, y_pred, normalize=False))\n",
        "\n"
      ]
    },
    {
      "cell_type": "markdown",
      "metadata": {
        "id": "NvJS77Lmw1QG"
      },
      "source": [
        "### Parameter of interest:\n",
        "\n",
        "normalize : default=True\n",
        "\n",
        "    If False, return the number of correctly classified samples. Otherwise, return the fraction of correctly classified samples."
      ]
    },
    {
      "cell_type": "markdown",
      "metadata": {
        "id": "cbbutDhtw1QJ"
      },
      "source": [
        "## Confusion matrix"
      ]
    },
    {
      "cell_type": "code",
      "execution_count": 6,
      "metadata": {
        "colab": {
          "base_uri": "https://localhost:8080/"
        },
        "id": "MVIDs1iPw1QL",
        "outputId": "69ee9997-7c03-4340-837f-a5a91499088d"
      },
      "outputs": [
        {
          "output_type": "stream",
          "name": "stdout",
          "text": [
            "[[2 0]\n",
            " [1 3]]\n"
          ]
        }
      ],
      "source": [
        "#The confusion_matrix function can also evaluate classification accuracy by computing the confusion matrix.\n",
        "\n",
        "# It's simply a tabulation of predicted y on test y.\n",
        "\n",
        "from sklearn.metrics import confusion_matrix\n",
        "y_true = [1, 0, 1, 1, 0, 1]\n",
        "y_pred = [0, 0, 1, 1, 0, 1]\n",
        "\n",
        "mat = confusion_matrix(y_true, y_pred)\n",
        "\n",
        "print(mat)\n",
        "\n"
      ]
    },
    {
      "cell_type": "code",
      "execution_count": 7,
      "metadata": {
        "colab": {
          "base_uri": "https://localhost:8080/",
          "height": 289
        },
        "id": "OnlrBdDzw1QS",
        "outputId": "645f257e-3654-48cb-c893-9191e74139cc"
      },
      "outputs": [
        {
          "output_type": "display_data",
          "data": {
            "text/plain": [
              "<Figure size 432x288 with 2 Axes>"
            ],
            "image/png": "[encoded data removed]"
          },
          "metadata": {}
        }
      ],
      "source": [
        "import matplotlib.pyplot as plt\n",
        "import seaborn as sns; sns.set()\n",
        "\n",
        "sns.heatmap(mat, square=True, annot=True)\n",
        "plt.xlabel('true label')\n",
        "plt.ylabel('predicted label');"
      ]
    },
    {
      "cell_type": "markdown",
      "metadata": {
        "id": "jso9U3Jyw1QZ"
      },
      "source": [
        "In the above we see true positives or TP =  3, false positives or  FP = 1, true negatives or TN = 2, \n",
        "and false negatives or FN = 0.  \n",
        "\n",
        "Accuracy = TP + TN / TP + TN +FP +FN\n",
        "\n",
        "Sometimes measuring accuracy alone can give use to much confidence in our predictive models.  If we have misbalanced data such that 1000 values are labeled one to 5 labeled zero, then a simple prediction of all ones could give us unreasonably high confidence in the success of our model.\n",
        "\n",
        "In predictive analytic classification models we tend to use the f1 score or the ROC area under the curve instead.\n",
        "\n",
        "These metrics account for imbalanced data better because they measure each of the above classification categories against each other in ways that take imbalanced data into account.\n",
        "\n"
      ]
    },
    {
      "cell_type": "code",
      "execution_count": 8,
      "metadata": {
        "colab": {
          "base_uri": "https://localhost:8080/"
        },
        "id": "hejLuVWfw1Qb",
        "outputId": "d35a18f4-2fd5-42ee-d669-24661a764c9c"
      },
      "outputs": [
        {
          "output_type": "execute_result",
          "data": {
            "text/plain": [
              "(2, 0, 1, 3)"
            ]
          },
          "metadata": {},
          "execution_count": 8
        }
      ],
      "source": [
        "y_true = [1, 0, 1, 1, 0, 1]\n",
        "y_pred = [0, 0, 1, 1, 0, 1]\n",
        "tn, fp, fn, tp = confusion_matrix(y_true, y_pred).ravel()\n",
        "tn, fp, fn, tp"
      ]
    },
    {
      "cell_type": "markdown",
      "metadata": {
        "id": "PwLpAAukw1Qi"
      },
      "source": [
        "## Using the classification report to understand predictive success"
      ]
    },
    {
      "cell_type": "code",
      "execution_count": 9,
      "metadata": {
        "colab": {
          "base_uri": "https://localhost:8080/"
        },
        "id": "qlKnJgAbw1Qj",
        "outputId": "68f2db8a-b07b-4df1-fc08-76385aaf12a3"
      },
      "outputs": [
        {
          "output_type": "execute_result",
          "data": {
            "text/plain": [
              "(2, 0, 1, 2)"
            ]
          },
          "metadata": {},
          "execution_count": 9
        }
      ],
      "source": [
        "from sklearn.metrics import classification_report\n",
        "\n",
        "y_true = [0, 1, 1, 1, 0]\n",
        "y_pred = [0, 0, 1, 1, 0]\n",
        "tn, fp, fn, tp = confusion_matrix(y_true, y_pred).ravel()\n",
        "tn, fp, fn, tp\n"
      ]
    },
    {
      "cell_type": "code",
      "execution_count": null,
      "metadata": {
        "colab": {
          "base_uri": "https://localhost:8080/"
        },
        "id": "2fRC3Vsjw1Qq",
        "outputId": "0ecbc641-73f3-42cc-f3c1-0931411d6c52"
      },
      "outputs": [
        {
          "output_type": "stream",
          "name": "stdout",
          "text": [
            "              precision    recall  f1-score   support\n",
            "\n",
            "     class 0       0.67      1.00      0.80         2\n",
            "     class 1       1.00      0.67      0.80         3\n",
            "\n",
            "    accuracy                           0.80         5\n",
            "   macro avg       0.83      0.83      0.80         5\n",
            "weighted avg       0.87      0.80      0.80         5\n",
            "\n"
          ]
        }
      ],
      "source": [
        "target_names = ['class 0', 'class 1']\n",
        "print(classification_report(y_true, y_pred, target_names=target_names))"
      ]
    },
    {
      "cell_type": "markdown",
      "metadata": {
        "id": "lclyPGYbw1Q2"
      },
      "source": [
        "Defining precision:\n",
        "The precision is the ratio tp / (tp + fp) where tp is the number of true positives and fp the number of false positives. The precision is intuitively the ability of the classifier not to label as positive a sample that is negative.\n",
        "\n",
        "i.e.-precision gives us information about its performance with respect to false positives.  If we want to minimize false positives then we want precision to be 1.\n"
      ]
    },
    {
      "cell_type": "markdown",
      "metadata": {
        "id": "sMys3tPMw1Q3"
      },
      "source": [
        "Defining recall:\n",
        "\n",
        "The recall is the ratio tp / (tp + fn) where tp is the number of true positives and fn the number of false negatives. The recall is intuitively the ability of the classifier to find all the positive samples.\n",
        "\n",
        "i.e.-if we want to focus more on minimizing False Negatives, we would want our Recall to be closer to 1."
      ]
    },
    {
      "cell_type": "markdown",
      "metadata": {
        "id": "_zm4YqZ7w1Q4"
      },
      "source": [
        "Defining the f1 score:\n",
        "\n",
        "The F1 score can be interpreted as a weighted average of the precision and recall, where an F1 score reaches its best value at 1 and worst score at 0. The relative contribution of precision and recall to the F1 score are equal. The formula for the F1 score is:\n",
        "\n",
        "F1 = 2 * (precision * recall) / (precision + recall) \n",
        "\n",
        "if both prec. and rec are high, then f1 is high.  BUT\n",
        "if one or both are low, then f1 reacts to the signal and it drops a lot.\n",
        "                                                      "
      ]
    },
    {
      "cell_type": "markdown",
      "metadata": {
        "id": "YjqfuJ9Sw1Q6"
      },
      "source": [
        "## The ROC Area under the Curve"
      ]
    },
    {
      "cell_type": "code",
      "execution_count": 10,
      "metadata": {
        "colab": {
          "base_uri": "https://localhost:8080/",
          "height": 289
        },
        "id": "Q7G-yWIHw1Q7",
        "outputId": "75ed7e63-1068-4a22-efa4-4e0ea103fb6a",
        "scrolled": true
      },
      "outputs": [
        {
          "output_type": "display_data",
          "data": {
            "text/plain": [
              "<Figure size 432x288 with 2 Axes>"
            ],
            "image/png": "[encoded data removed]"
          },
          "metadata": {}
        }
      ],
      "source": [
        "import matplotlib.pyplot as plt\n",
        "import seaborn as sns; sns.set()\n",
        "y_true = [0, 1, 1, 1, 0]\n",
        "y_pred = [0, 0, 1, 1, 0]\n",
        "\n",
        "mat = confusion_matrix(y_true, y_pred)\n",
        "sns.heatmap(mat, square=True, annot=True)\n",
        "plt.xlabel('true label')\n",
        "plt.ylabel('predicted label');"
      ]
    },
    {
      "cell_type": "code",
      "execution_count": 11,
      "metadata": {
        "colab": {
          "base_uri": "https://localhost:8080/"
        },
        "id": "4ephYWXqw1RD",
        "outputId": "d116ecb4-cbaa-4094-e0a5-1f25cd382027"
      },
      "outputs": [
        {
          "output_type": "execute_result",
          "data": {
            "text/plain": [
              "0.8"
            ]
          },
          "metadata": {},
          "execution_count": 11
        }
      ],
      "source": [
        "accuracy_score(y_true, y_pred)"
      ]
    },
    {
      "cell_type": "code",
      "execution_count": 12,
      "metadata": {
        "colab": {
          "base_uri": "https://localhost:8080/"
        },
        "id": "OJvG00MZw1RJ",
        "outputId": "b778aa47-1d54-418f-ef3a-c1573c64cad8"
      },
      "outputs": [
        {
          "output_type": "stream",
          "name": "stdout",
          "text": [
            "0.8333333333333333\n"
          ]
        }
      ],
      "source": [
        "import numpy as np\n",
        "from sklearn.metrics import roc_auc_score\n",
        "\n",
        "print(roc_auc_score(y_true, y_pred))"
      ]
    },
    {
      "cell_type": "markdown",
      "metadata": {
        "id": "nxVE8veuw1RY"
      },
      "source": [
        "## What is the logic for the ROC area under the curve?"
      ]
    },
    {
      "cell_type": "markdown",
      "metadata": {
        "id": "_JI1gwQsw1Ra"
      },
      "source": [
        "![alt text](https://upload.wikimedia.org/wikipedia/commons/thumb/3/36/ROC_space-2.png/800px-ROC_space-2.png \"AUC\")\n"
      ]
    },
    {
      "cell_type": "markdown",
      "metadata": {
        "id": "JPm7Yomvw1Rc"
      },
      "source": [
        "It is a plot of the True Positive Rate (on the y-axis) versus the False Positive Rate (on the x-axis) for every possible classification threshold.  \n",
        "\n",
        "TPR=TP/(TP+FN)\n",
        "\n",
        "FPR=FP/(FP+TN)\n",
        "\n",
        "We treat the FPR as X and TPR as Y to plot points at a large range of threshold points on the x axis.  (i.e. We usually define success for y at a cut point of .5.  Here we do it for a large range of cut points. Then we plot points for each X,Y TPR and FPR value.\n",
        "\n",
        "The area under the curve is calculated using calculus.  We find a value from .5 to 1, with 1 meaning perfect prediction.  \n",
        "\n",
        "Why should we use AUC instead of Accuracy?\n",
        "\n",
        "It accounts for imbalanced data by testing against many threshold definitions!"
      ]
    },
    {
      "cell_type": "markdown",
      "metadata": {
        "id": "L3wQKF4jw1Re"
      },
      "source": [
        "## Defining your scoring strategy from metric functions\n",
        "\n",
        "Some scoring metrics are built in to cross_val_score and gridsearchCV.\n",
        "\n",
        "Others require you to build them first before they can be used."
      ]
    },
    {
      "cell_type": "code",
      "execution_count": 13,
      "metadata": {
        "id": "6GeXNz77w1Rg"
      },
      "outputs": [],
      "source": [
        "from sklearn.metrics import log_loss, make_scorer\n",
        "\n",
        "log_loss_scorer = make_scorer(log_loss)\n",
        "\n",
        "from sklearn.model_selection import GridSearchCV\n",
        "from sklearn.linear_model import LogisticRegression\n",
        "\n",
        "grid = GridSearchCV(LogisticRegression(), param_grid={'C': [1, 10]}, scoring=log_loss_scorer )\n",
        "\n",
        "#or use pre-loaded scorers using string input for scoring argument:\n",
        "grid = GridSearchCV(LogisticRegression(), param_grid={'C': [1, 10]}, scoring=\"f1_score\")\n",
        "\n"
      ]
    },
    {
      "cell_type": "markdown",
      "metadata": {
        "id": "XiZoFn25w1Rl"
      },
      "source": [
        "# Part 2: Regression metrics"
      ]
    },
    {
      "cell_type": "markdown",
      "metadata": {
        "id": "liTMJubYw1Rm"
      },
      "source": [
        "Note: some of these values are made negative in sklearn to keep computation consistant.  You will see negative MSE rather than MSE.  Why?  Coders behind sklearn want to stick to one rule: Greater is better.  So they try to make metrics follow this rule.  Greater negative MSE, for example, means better prediction."
      ]
    },
    {
      "cell_type": "markdown",
      "metadata": {
        "id": "HwyvY5svw1Rn"
      },
      "source": [
        "Mean squared error:\n",
        "\n",
        "Sum((yi-yhat)^2) /(number of observations)\n",
        "\n",
        "Corrects RSS for number of observations\n"
      ]
    },
    {
      "cell_type": "code",
      "execution_count": 14,
      "metadata": {
        "colab": {
          "base_uri": "https://localhost:8080/"
        },
        "id": "Wyc-P4z-w1Rp",
        "outputId": "40e360d5-79fa-43f5-de5c-09582f8e4c6c"
      },
      "outputs": [
        {
          "output_type": "execute_result",
          "data": {
            "text/plain": [
              "0.375"
            ]
          },
          "metadata": {},
          "execution_count": 14
        }
      ],
      "source": [
        "from sklearn.metrics import mean_squared_error\n",
        "y_true = [3, -0.5, 2, 7]\n",
        "y_pred = [2.5, 0.0, 2, 8]\n",
        "mean_squared_error(y_true, y_pred)"
      ]
    },
    {
      "cell_type": "markdown",
      "metadata": {
        "id": "hT3dLXaUw1Rw"
      },
      "source": [
        "Root mean squared error:\n",
        "\n",
        "Take the square root of the above.\n",
        "\n",
        "A bit more robust to outliers than MSE"
      ]
    },
    {
      "cell_type": "markdown",
      "metadata": {
        "id": "xQV5Gb7Tw1Ry"
      },
      "source": [
        "Mean absolute error:\n",
        "    \n",
        "    Similar to above, but take absolute value instead of squaring difference between yi and yhat"
      ]
    },
    {
      "cell_type": "code",
      "execution_count": 15,
      "metadata": {
        "id": "1UR1Fqgmw1R0",
        "outputId": "087ac9c1-19e3-4c10-ea81-ab97927b58f6",
        "colab": {
          "base_uri": "https://localhost:8080/"
        }
      },
      "outputs": [
        {
          "output_type": "execute_result",
          "data": {
            "text/plain": [
              "0.5"
            ]
          },
          "metadata": {},
          "execution_count": 15
        }
      ],
      "source": [
        "\n",
        "from sklearn.metrics import mean_absolute_error\n",
        "y_true = [3, -0.5, 2, 7]\n",
        "y_pred = [2.5, 0.0, 2, 8]\n",
        "mean_absolute_error(y_true, y_pred)"
      ]
    },
    {
      "cell_type": "markdown",
      "metadata": {
        "id": "C9Gvmy9iw1SH"
      },
      "source": [
        "Median absolute error:\n",
        "\n",
        "Median of...   \n",
        "|yi-yhat|\n",
        "   \n",
        "   Find median of absolute difference between y and yhat\n",
        "   \n",
        "   Also robust to outliers in data.\n"
      ]
    },
    {
      "cell_type": "code",
      "execution_count": null,
      "metadata": {
        "id": "Pc7q2wX3w1SM",
        "outputId": "20e80f8a-0271-4405-e90a-93a667c1ff29"
      },
      "outputs": [
        {
          "data": {
            "text/plain": [
              "0.5"
            ]
          },
          "execution_count": 52,
          "metadata": {
            "tags": []
          },
          "output_type": "execute_result"
        }
      ],
      "source": [
        "from sklearn.metrics import median_absolute_error\n",
        "y_true = [3, -0.5, 2, 7]\n",
        "y_pred = [2.5, 0.0, 2, 8]\n",
        "median_absolute_error(y_true, y_pred)"
      ]
    },
    {
      "cell_type": "markdown",
      "metadata": {
        "id": "7UsEW3dew1SY"
      },
      "source": [
        "R-square:\n",
        "\n",
        "1-(RSS/TSS)\n"
      ]
    },
    {
      "cell_type": "code",
      "execution_count": null,
      "metadata": {
        "colab": {
          "base_uri": "https://localhost:8080/",
          "height": 36
        },
        "id": "86-zCI7xw1Se",
        "outputId": "2650a259-b8d2-4f03-86fe-c69e0e5da5a0"
      },
      "outputs": [
        {
          "data": {
            "text/plain": [
              "0.9486081370449679"
            ]
          },
          "execution_count": 23,
          "metadata": {
            "tags": []
          },
          "output_type": "execute_result"
        }
      ],
      "source": [
        "from sklearn.metrics import r2_score\n",
        "y_true = [3, -0.5, 2, 7]\n",
        "y_pred = [2.5, 0.0, 2, 8]\n",
        "r2_score(y_true, y_pred) "
      ]
    },
    {
      "cell_type": "markdown",
      "metadata": {
        "id": "KUuDIBD5w1Sr"
      },
      "source": [
        "## Can you evaluate the boston dataset using new regression metrics?\n",
        "How about the breast cancer dataset?"
      ]
    },
    {
      "cell_type": "code",
      "execution_count": null,
      "metadata": {
        "id": "BYt-FaqngPo-"
      },
      "outputs": [],
      "source": [
        "import pandas as pd\n",
        "data_url = \"https://raw.githubusercontent.com/selva86/datasets/master/BostonHousing.csv\"\n",
        "data = pd.read_csv(data_url)\n",
        "target=data[\"medv\"]\n",
        "data=data.drop(['medv'], axis=1)"
      ]
    }
  ],
  "metadata": {
    "colab": {
      "provenance": []
    },
    "kernelspec": {
      "display_name": "Python 3",
      "name": "python3"
    }
  },
  "nbformat": 4,
  "nbformat_minor": 0
}