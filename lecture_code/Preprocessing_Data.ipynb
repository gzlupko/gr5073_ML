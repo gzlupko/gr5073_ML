{
  "nbformat": 4,
  "nbformat_minor": 0,
  "metadata": {
    "kernelspec": {
      "display_name": "Python 3",
      "language": "python",
      "name": "python3"
    },
    "language_info": {
      "codemirror_mode": {
        "name": "ipython",
        "version": 3
      },
      "file_extension": ".py",
      "mimetype": "text/x-python",
      "name": "python",
      "nbconvert_exporter": "python",
      "pygments_lexer": "ipython3",
      "version": "3.6.5"
    },
    "colab": {
      "provenance": []
    }
  },
  "cells": [
    {
      "cell_type": "markdown",
      "metadata": {
        "id": "bxt4c9351wcK"
      },
      "source": [
        "# Standard Scaler \n",
        "(centering mean on zero and std dev on 1 for each variable)"
      ]
    },
    {
      "cell_type": "code",
      "metadata": {
        "id": "1M3_CKp91wcO",
        "outputId": "3f780dc9-e7d8-4253-e76c-4a4d24bde561",
        "colab": {
          "base_uri": "https://localhost:8080/"
        }
      },
      "source": [
        "#The function scale provides a quick and easy way to perform this operation on a single array-like dataset:\n",
        "\n",
        "\n",
        "from sklearn import preprocessing\n",
        "import numpy as np\n",
        "\n",
        "#Build dataset with three columns and three rows\n",
        "#Structure is visually the same as a typical dataframe (i.e.-columns are up and down and rows side to side)\n",
        "\n",
        "X_train = np.array([[ 1., -1.,  2.],\n",
        "                    [ 2.,  0.,  0.],\n",
        "                    [ 0.,  1., -1.]])\n",
        "X_scaled = preprocessing.scale(X_train)\n",
        "\n",
        "X_scaled"
      ],
      "execution_count": 1,
      "outputs": [
        {
          "output_type": "execute_result",
          "data": {
            "text/plain": [
              "array([[ 0.        , -1.22474487,  1.33630621],\n",
              "       [ 1.22474487,  0.        , -0.26726124],\n",
              "       [-1.22474487,  1.22474487, -1.06904497]])"
            ]
          },
          "metadata": {},
          "execution_count": 1
        }
      ]
    },
    {
      "cell_type": "markdown",
      "metadata": {
        "id": "75Yzq0oO1wcb"
      },
      "source": [
        "To calculate the standard scaler for each column subtract column mean from observation value and divide result by the column standard deviation.\n",
        "Scaled data has zero mean and unit variance:"
      ]
    },
    {
      "cell_type": "code",
      "metadata": {
        "id": "Mb3oK6_z1wcd",
        "outputId": "752e39c0-7dbe-428b-8a2b-7467b0e4fe84",
        "colab": {
          "base_uri": "https://localhost:8080/"
        }
      },
      "source": [
        "print(X_scaled.mean(axis=0)) # axis=0 refers to columns\n",
        "print(X_scaled.std(axis=0))\n",
        "\n"
      ],
      "execution_count": 2,
      "outputs": [
        {
          "output_type": "stream",
          "name": "stdout",
          "text": [
            "[0. 0. 0.]\n",
            "[1. 1. 1.]\n"
          ]
        }
      ]
    },
    {
      "cell_type": "markdown",
      "metadata": {
        "id": "ShA654gK1wcm"
      },
      "source": [
        "# Using StandardScaler()\n",
        "The preprocessing module further provides a utility class StandardScaler that implements the Transformer API to compute the mean and standard deviation on a training set so as to be able to later reapply the same transformation on the testing set. This class is hence suitable for use in the early steps of a sklearn.pipeline.Pipeline:"
      ]
    },
    {
      "cell_type": "code",
      "metadata": {
        "id": "bGGKqNw61wcp",
        "outputId": "524f43e0-654a-4500-b4db-14bc6f0afdef",
        "colab": {
          "base_uri": "https://localhost:8080/",
          "height": 270
        }
      },
      "source": [
        "#Here we set up the the standard scaler to the X_train data using fit()\n",
        "\n",
        "scaler = preprocessing.StandardScaler().fit(X_train)\n",
        "print(scaler) # show details of scaler object\n",
        "\n",
        "\n",
        "\n",
        "\n",
        "#Here we apply the fit standard scaler to the X_train data using transform()\n",
        "\n",
        "scaler.transform(X_train)                         \n",
        "\n",
        "# print(scaler.mean_) #print the means  per column                           \n",
        "\n",
        "     "
      ],
      "execution_count": 5,
      "outputs": [
        {
          "output_type": "stream",
          "name": "stdout",
          "text": [
            "StandardScaler()\n"
          ]
        },
        {
          "output_type": "error",
          "ename": "NameError",
          "evalue": "ignored",
          "traceback": [
            "\u001b[0;31m---------------------------------------------------------------------------\u001b[0m",
            "\u001b[0;31mNameError\u001b[0m                                 Traceback (most recent call last)",
            "\u001b[0;32m<ipython-input-5-cdc72cb92fbd>\u001b[0m in \u001b[0;36m<module>\u001b[0;34m\u001b[0m\n\u001b[1;32m      9\u001b[0m \u001b[0;31m#Here we apply the fit standard scaler to the X_train data using transform()\u001b[0m\u001b[0;34m\u001b[0m\u001b[0;34m\u001b[0m\u001b[0;34m\u001b[0m\u001b[0m\n\u001b[1;32m     10\u001b[0m \u001b[0;34m\u001b[0m\u001b[0m\n\u001b[0;32m---> 11\u001b[0;31m \u001b[0mscaler\u001b[0m\u001b[0;34m.\u001b[0m\u001b[0mtransform\u001b[0m\u001b[0;34m(\u001b[0m\u001b[0mX_test\u001b[0m\u001b[0;34m)\u001b[0m\u001b[0;34m\u001b[0m\u001b[0;34m\u001b[0m\u001b[0m\n\u001b[0m\u001b[1;32m     12\u001b[0m \u001b[0;34m\u001b[0m\u001b[0m\n\u001b[1;32m     13\u001b[0m \u001b[0;31m# print(scaler.mean_) #print the means  per column\u001b[0m\u001b[0;34m\u001b[0m\u001b[0;34m\u001b[0m\u001b[0;34m\u001b[0m\u001b[0m\n",
            "\u001b[0;31mNameError\u001b[0m: name 'X_test' is not defined"
          ]
        }
      ]
    },
    {
      "cell_type": "code",
      "metadata": {
        "id": "JbBLEk6z1wcw",
        "outputId": "6d78ff06-176d-4253-d591-eeacfc4d3a42",
        "colab": {
          "base_uri": "https://localhost:8080/"
        }
      },
      "source": [
        "#The scaler instance can then be used on new data to transform it the same way it did on the training set:\n",
        "#Note that we are scaling new data to the scale built from the training data.  \n",
        "\n",
        "X_test = [[-1., 1., 0.]]\n",
        "scaler.transform(X_test) # Transform x_test before running a model, for example        \n",
        "\n",
        "#It is also possible to disable either centering or scaling by either passing with_mean=False or with_std=False\n",
        "#to the constructor of StandardScaler."
      ],
      "execution_count": null,
      "outputs": [
        {
          "output_type": "execute_result",
          "data": {
            "text/plain": [
              "array([[-2.44948974,  1.22474487, -0.26726124]])"
            ]
          },
          "metadata": {},
          "execution_count": 6
        }
      ]
    },
    {
      "cell_type": "code",
      "metadata": {
        "id": "MgdjWUfO1wc4",
        "outputId": "fdca3ad7-53bd-46a0-f90c-b15700688489"
      },
      "source": [
        "# Use transformed data with a model:\n",
        "\n",
        "from sklearn.datasets import load_boston\n",
        "from sklearn.model_selection import train_test_split\n",
        "\n",
        "boston = load_boston()\n",
        "X, y = boston.data, boston.target\n",
        "\n",
        "X_train, X_test, y_train, y_test = train_test_split(X, y)\n",
        "scaler = preprocessing.StandardScaler()\n",
        "scaler.fit(X_train)\n",
        "X_train_scaled = scaler.transform(X_train)\n",
        "ridge = Ridge().fit(X_train_scaled, y_train)\n",
        "X_test_scaled = scaler.transform(X_test)\n",
        "ridge.score(X_test_scaled, y_test)\n"
      ],
      "execution_count": null,
      "outputs": [
        {
          "output_type": "execute_result",
          "data": {
            "text/plain": [
              "0.6280531523093563"
            ]
          },
          "metadata": {
            "tags": []
          },
          "execution_count": 32
        }
      ]
    },
    {
      "cell_type": "markdown",
      "metadata": {
        "id": "P9Ue8Llc1wdA"
      },
      "source": [
        "# Using MinMaxScaler\n",
        "An alternative standardization is scaling features to lie between a given minimum and maximum value, often between zero and one, or so that the maximum absolute value of each feature is scaled to unit size. This can be achieved using MinMaxScaler."
      ]
    },
    {
      "cell_type": "code",
      "metadata": {
        "id": "JDTY8pVR1wdC",
        "outputId": "b1973863-fde1-4cd1-d89c-ab0ec45c6a1f",
        "colab": {
          "base_uri": "https://localhost:8080/"
        }
      },
      "source": [
        "# Here is an example to scale an example data matrix to the [0, 1] range:\n",
        "\n",
        "X_train = np.array([[ 1., -1.,  2.],\n",
        "                    [ 2.,  0.,  0.],\n",
        "                    [ 0.,  1., -1.]])\n",
        "\n",
        "min_max_scaler = preprocessing.MinMaxScaler()\n",
        "X_train_minmax = min_max_scaler.fit_transform(X_train) # fit_transform does both at once.  It's a little faster.\n",
        "X_train_minmax"
      ],
      "execution_count": 6,
      "outputs": [
        {
          "output_type": "execute_result",
          "data": {
            "text/plain": [
              "array([[0.5       , 0.        , 1.        ],\n",
              "       [1.        , 0.5       , 0.33333333],\n",
              "       [0.        , 1.        , 0.        ]])"
            ]
          },
          "metadata": {},
          "execution_count": 6
        }
      ]
    },
    {
      "cell_type": "code",
      "metadata": {
        "id": "E6aOxAhf1wdK",
        "outputId": "938b9b78-5341-41e4-e6e5-5d6f25900d8e",
        "colab": {
          "base_uri": "https://localhost:8080/"
        }
      },
      "source": [
        "# And again we can then use the scaler to transform new data.\n",
        "#Note once more that we are scaling new data to the scale built from the training data.  \n",
        "\n",
        "X_test = np.array([[ -3., -1.,  4.]])\n",
        "X_test_minmax = min_max_scaler.transform(X_test)\n",
        "X_test_minmax"
      ],
      "execution_count": 7,
      "outputs": [
        {
          "output_type": "execute_result",
          "data": {
            "text/plain": [
              "array([[-1.5       ,  0.        ,  1.66666667]])"
            ]
          },
          "metadata": {},
          "execution_count": 7
        }
      ]
    },
    {
      "cell_type": "markdown",
      "metadata": {
        "id": "DarDDtLH1wdS"
      },
      "source": [
        "The formula for a min-max transformation is as follows:\n"
      ]
    },
    {
      "cell_type": "markdown",
      "metadata": {
        "id": "9DCKXdBr1wdU"
      },
      "source": [
        "For each value in a column of X, subtract the minimium value of the column and divide result by the the result of the maximum value minus the minimum value of the column\n",
        "(X observation value - X.min(axis=0)) / (X.max(axis=0) - X.min(axis=0))"
      ]
    },
    {
      "cell_type": "code",
      "metadata": {
        "id": "hl9fSgmu1wdW",
        "outputId": "5fbd8699-1afc-4b5c-bd4a-0110b09fea44",
        "colab": {
          "base_uri": "https://localhost:8080/"
        }
      },
      "source": [
        "# Use transformed data with a model:\n",
        "from sklearn.linear_model import Ridge\n",
        "from sklearn.datasets import load_boston\n",
        "from sklearn.model_selection import train_test_split\n",
        "\n",
        "boston = load_boston()\n",
        "X, y = boston.data, boston.target\n",
        "\n",
        "X_train, X_test, y_train, y_test = train_test_split(X, y)\n",
        "scaler = preprocessing.MinMaxScaler()\n",
        "scaler.fit(X_train)\n",
        "X_train_scaled = scaler.transform(X_train)\n",
        "ridge = Ridge().fit(X_train_scaled, y_train)\n",
        "X_test_scaled = scaler.transform(X_test)\n",
        "ridge.score(X_test_scaled, y_test)"
      ],
      "execution_count": 8,
      "outputs": [
        {
          "output_type": "stream",
          "name": "stderr",
          "text": [
            "/usr/local/lib/python3.8/dist-packages/sklearn/utils/deprecation.py:87: FutureWarning: Function load_boston is deprecated; `load_boston` is deprecated in 1.0 and will be removed in 1.2.\n",
            "\n",
            "    The Boston housing prices dataset has an ethical problem. You can refer to\n",
            "    the documentation of this function for further details.\n",
            "\n",
            "    The scikit-learn maintainers therefore strongly discourage the use of this\n",
            "    dataset unless the purpose of the code is to study and educate about\n",
            "    ethical issues in data science and machine learning.\n",
            "\n",
            "    In this special case, you can fetch the dataset from the original\n",
            "    source::\n",
            "\n",
            "        import pandas as pd\n",
            "        import numpy as np\n",
            "\n",
            "\n",
            "        data_url = \"http://lib.stat.cmu.edu/datasets/boston\"\n",
            "        raw_df = pd.read_csv(data_url, sep=\"\\s+\", skiprows=22, header=None)\n",
            "        data = np.hstack([raw_df.values[::2, :], raw_df.values[1::2, :2]])\n",
            "        target = raw_df.values[1::2, 2]\n",
            "\n",
            "    Alternative datasets include the California housing dataset (i.e.\n",
            "    :func:`~sklearn.datasets.fetch_california_housing`) and the Ames housing\n",
            "    dataset. You can load the datasets as follows::\n",
            "\n",
            "        from sklearn.datasets import fetch_california_housing\n",
            "        housing = fetch_california_housing()\n",
            "\n",
            "    for the California housing dataset and::\n",
            "\n",
            "        from sklearn.datasets import fetch_openml\n",
            "        housing = fetch_openml(name=\"house_prices\", as_frame=True)\n",
            "\n",
            "    for the Ames housing dataset.\n",
            "    \n",
            "  warnings.warn(msg, category=FutureWarning)\n"
          ]
        },
        {
          "output_type": "execute_result",
          "data": {
            "text/plain": [
              "0.6711386357281832"
            ]
          },
          "metadata": {},
          "execution_count": 8
        }
      ]
    },
    {
      "cell_type": "markdown",
      "metadata": {
        "id": "c5J3y6tR1wde"
      },
      "source": [
        "# Using scikit-learn Pipelines"
      ]
    },
    {
      "cell_type": "code",
      "metadata": {
        "id": "Xb4S0D311wdg",
        "outputId": "48757e1a-dfc6-47fe-f8b2-287f92ca453c",
        "colab": {
          "base_uri": "https://localhost:8080/",
          "height": 34
        }
      },
      "source": [
        "#Here is the code for a ridge model with the standard transformation...\n",
        "\n",
        "from sklearn.linear_model import Ridge\n",
        "from sklearn.preprocessing import StandardScaler #now we don't need to add preprocessing. before calls to StandardScaler()\n",
        "\n",
        "X, y = boston.data, boston.target\n",
        "X_train, X_test, y_train, y_test = train_test_split(X, y, random_state=0)\n",
        "scaler = StandardScaler()\n",
        "scaler.fit(X_train)\n",
        "X_train_scaled = scaler.transform(X_train)\n",
        "ridge = Ridge().fit(X_train_scaled, y_train)\n",
        "X_test_scaled = scaler.transform(X_test)\n",
        "ridge.score(X_test_scaled, y_test)\n"
      ],
      "execution_count": null,
      "outputs": [
        {
          "output_type": "execute_result",
          "data": {
            "text/plain": [
              "0.6345884564889054"
            ]
          },
          "metadata": {
            "tags": []
          },
          "execution_count": 4
        }
      ]
    },
    {
      "cell_type": "code",
      "metadata": {
        "id": "4oRC7Lqx1wdo",
        "outputId": "3a8046bd-16f7-4416-fb6b-66ccd5fbd81c",
        "colab": {
          "base_uri": "https://localhost:8080/",
          "height": 34
        }
      },
      "source": [
        "# Here is the much cleaner pipeline version:\n",
        "\n",
        "from sklearn.pipeline import make_pipeline\n",
        "\n",
        "pipe = make_pipeline(StandardScaler(), Ridge())\n",
        "pipe.fit(X_train, y_train)\n",
        "pipe.score(X_test, y_test)"
      ],
      "execution_count": null,
      "outputs": [
        {
          "output_type": "execute_result",
          "data": {
            "text/plain": [
              "0.6345884564889054"
            ]
          },
          "metadata": {
            "tags": []
          },
          "execution_count": 5
        }
      ]
    },
    {
      "cell_type": "markdown",
      "metadata": {
        "id": "UnJ662Hr1wdw"
      },
      "source": [
        "# Pipeline and GridSearchCV\n"
      ]
    },
    {
      "cell_type": "code",
      "metadata": {
        "id": "e1M6S05A1wdy"
      },
      "source": [
        "# We need to pay attention to names of pipeline steps when we use GridSearchCV"
      ],
      "execution_count": null,
      "outputs": []
    },
    {
      "cell_type": "code",
      "metadata": {
        "id": "a2WYDy1R1wd5",
        "outputId": "168e7262-36cf-42f9-deeb-e59f0289095b",
        "colab": {
          "base_uri": "https://localhost:8080/",
          "height": 68
        }
      },
      "source": [
        "from sklearn.pipeline import make_pipeline\n",
        "from sklearn.neighbors import KNeighborsRegressor\n",
        "\n",
        "knn_pipe = make_pipeline(StandardScaler(), KNeighborsRegressor())\n",
        "print(knn_pipe.steps) # names in single quotes (i.e.-'standardscaler' and 'kneighborsregressor')"
      ],
      "execution_count": null,
      "outputs": [
        {
          "output_type": "stream",
          "text": [
            "[('standardscaler', StandardScaler(copy=True, with_mean=True, with_std=True)), ('kneighborsregressor', KNeighborsRegressor(algorithm='auto', leaf_size=30, metric='minkowski',\n",
            "                    metric_params=None, n_jobs=None, n_neighbors=5, p=2,\n",
            "                    weights='uniform'))]\n"
          ],
          "name": "stdout"
        }
      ]
    },
    {
      "cell_type": "code",
      "metadata": {
        "id": "9b9tmtm-1weA",
        "outputId": "e2eb3d58-7bf2-40eb-d108-84dcc80624c5"
      },
      "source": [
        "from sklearn.model_selection import GridSearchCV\n",
        "\n",
        "knn_pipe = make_pipeline(StandardScaler(), KNeighborsRegressor())\n",
        "\n",
        "#refer to step name with two underscores before argument name when...\n",
        "#you build a parameter grid\n",
        "\n",
        "param_grid = {'kneighborsregressor__n_neighbors': range(1, 10)}\n",
        "grid = GridSearchCV(knn_pipe, param_grid, cv=10)\n",
        "grid.fit(X_train, y_train)\n",
        "print(grid.best_params_)\n",
        "print(grid.score(X_test, y_test))"
      ],
      "execution_count": null,
      "outputs": [
        {
          "output_type": "stream",
          "text": [
            "{'kneighborsregressor__n_neighbors': 7}\n",
            "0.6000157533909847\n"
          ],
          "name": "stdout"
        }
      ]
    },
    {
      "cell_type": "code",
      "metadata": {
        "id": "xO84U3lv1weH"
      },
      "source": [],
      "execution_count": null,
      "outputs": []
    }
  ]
}