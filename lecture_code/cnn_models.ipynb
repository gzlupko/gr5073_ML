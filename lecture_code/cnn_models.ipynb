{
  "cells": [
    {
      "cell_type": "markdown",
      "metadata": {
        "id": "ZfLturfup1us"
      },
      "source": [
        "# Convolution Nets for MNIST"
      ]
    },
    {
      "cell_type": "code",
      "execution_count": 1,
      "metadata": {
        "id": "Co-9RG7Pp1v_"
      },
      "outputs": [],
      "source": [
        "#Import the required libraries\n",
        "import numpy as np\n",
        "import tensorflow as tf\n",
        "\n",
        "################Note that we are using tf.keras, not keras!#####################################\n",
        "import tensorflow.keras as keras\n",
        "\n",
        "from keras.datasets import mnist"
      ]
    },
    {
      "cell_type": "code",
      "execution_count": 2,
      "metadata": {
        "id": "0ZmySn2Kp1wf"
      },
      "outputs": [],
      "source": [
        "from keras.models import Sequential\n",
        "from keras.layers.core import Dense, Activation, Flatten"
      ]
    },
    {
      "cell_type": "code",
      "execution_count": 3,
      "metadata": {
        "id": "SsxV2_eop1w4"
      },
      "outputs": [],
      "source": [
        "from keras.layers.convolutional import Conv2D\n",
        "from keras.layers.pooling import MaxPooling2D"
      ]
    },
    {
      "cell_type": "code",
      "execution_count": 4,
      "metadata": {
        "id": "uF3YRUS3p1xU"
      },
      "outputs": [],
      "source": [
        "from keras.utils import np_utils\n",
        "from tensorflow.keras.optimizers import SGD"
      ]
    },
    {
      "cell_type": "markdown",
      "metadata": {
        "id": "RT8N9cGGp1xu"
      },
      "source": [
        "## Loading Data"
      ]
    },
    {
      "cell_type": "code",
      "execution_count": 8,
      "metadata": {
        "id": "zWyuAo1Op1x8"
      },
      "outputs": [],
      "source": [
        "#Load the training and testing data\n",
        "(X_train, y_train), (X_test, y_test) = mnist.load_data()"
      ]
    },
    {
      "cell_type": "code",
      "execution_count": null,
      "metadata": {
        "colab": {
          "base_uri": "https://localhost:8080/"
        },
        "id": "nVTcGIffp1yp",
        "outputId": "2ae11a25-5876-458b-999d-9b837b76815d"
      },
      "outputs": [
        {
          "data": {
            "text/plain": [
              "(60000, 28, 28)"
            ]
          },
          "execution_count": 6,
          "metadata": {},
          "output_type": "execute_result"
        }
      ],
      "source": [
        "X_train.shape"
      ]
    },
    {
      "cell_type": "markdown",
      "metadata": {
        "id": "tafXb_Rqp10O"
      },
      "source": [
        "## Data Preparation"
      ]
    },
    {
      "cell_type": "code",
      "execution_count": 9,
      "metadata": {
        "id": "48bBfWizp10T"
      },
      "outputs": [],
      "source": [
        "from tensorflow.keras import backend as K"
      ]
    },
    {
      "cell_type": "code",
      "execution_count": 10,
      "metadata": {
        "colab": {
          "base_uri": "https://localhost:8080/"
        },
        "id": "EQy3JN4Lp10k",
        "outputId": "7a11e987-4560-409d-f5a5-933784e7798c"
      },
      "outputs": [
        {
          "name": "stdout",
          "output_type": "stream",
          "text": [
            "(28, 28, 1)\n"
          ]
        }
      ],
      "source": [
        "# Doing some prep for image data example here\n",
        "\n",
        "img_rows, img_cols = 28, 28\n",
        "\n",
        "if K.image_data_format() == 'channels_first':\n",
        "    shape_ord = (1, img_rows, img_cols)\n",
        "else:  # channel_last\n",
        "    shape_ord = (img_rows, img_cols, 1)\n",
        "    \n",
        "print(shape_ord)  # Height, Width, and Depth of input image data"
      ]
    },
    {
      "cell_type": "markdown",
      "metadata": {
        "id": "FLHTIhEtp106"
      },
      "source": [
        "#### Preprocess and Normalise Data"
      ]
    },
    {
      "cell_type": "code",
      "execution_count": 11,
      "metadata": {
        "colab": {
          "base_uri": "https://localhost:8080/"
        },
        "id": "GL3sCr-Rp11A",
        "outputId": "14c852a2-118e-4ce9-b368-5410954e03a7"
      },
      "outputs": [
        {
          "name": "stdout",
          "output_type": "stream",
          "text": [
            "255.0\n"
          ]
        }
      ],
      "source": [
        "X_train = X_train.reshape((X_train.shape[0],) + shape_ord)\n",
        "X_test = X_test.reshape((X_test.shape[0],) + shape_ord)\n",
        "\n",
        "X_train = X_train.astype('float32') # set numeric type\n",
        "X_test = X_test.astype('float32')\n",
        "\n",
        "print(np.amax(X_train)) # lets convert the pixel data to a proportion between zero and 1\n",
        "\n",
        "X_train /= 255 # /= takes X_train and divides by 255\n",
        "X_test /= 255  # /= takes X_test and divides by 255"
      ]
    },
    {
      "cell_type": "code",
      "execution_count": 12,
      "metadata": {
        "colab": {
          "base_uri": "https://localhost:8080/"
        },
        "id": "Czgdbxq4p117",
        "outputId": "abc5f9bc-3cec-4ed1-905d-2783eab4d78f"
      },
      "outputs": [
        {
          "name": "stdout",
          "output_type": "stream",
          "text": [
            "(60000, 28, 28, 1) (10000, 28, 28, 1) (60000,) (10000,)\n"
          ]
        }
      ],
      "source": [
        "print(X_train.shape, X_test.shape, y_train.shape, y_test.shape) # samples, N for obs. rows, N for obs. cols \n",
        "                                                                 # and nmbr of channels\n"
      ]
    },
    {
      "cell_type": "code",
      "execution_count": 13,
      "metadata": {
        "colab": {
          "base_uri": "https://localhost:8080/"
        },
        "id": "ARYQzHkUqKss",
        "outputId": "0bef3a6e-5672-4ef8-a736-4677833bbb96"
      },
      "outputs": [
        {
          "data": {
            "text/plain": [
              "1.0"
            ]
          },
          "execution_count": 13,
          "metadata": {},
          "output_type": "execute_result"
        }
      ],
      "source": [
        "X_train.max()"
      ]
    },
    {
      "cell_type": "code",
      "execution_count": 14,
      "metadata": {
        "colab": {
          "base_uri": "https://localhost:8080/"
        },
        "id": "TUA_sUYvp12e",
        "outputId": "01a64ec4-7a0a-461f-d851-26db24a5667c"
      },
      "outputs": [
        {
          "data": {
            "text/plain": [
              "(10000, 10)"
            ]
          },
          "execution_count": 14,
          "metadata": {},
          "output_type": "execute_result"
        }
      ],
      "source": [
        "# Converting the classes to its binary categorical form (i.e.-one hot encoding, so its in a structure keras accepts)\n",
        "nb_classes = 10\n",
        "Y_train = np_utils.to_categorical(y_train, nb_classes)\n",
        "Y_test = np_utils.to_categorical(y_test, nb_classes)\n",
        "\n",
        "Y_train.shape\n",
        "Y_test.shape"
      ]
    },
    {
      "cell_type": "markdown",
      "metadata": {
        "id": "wTOf-30Yp125"
      },
      "source": [
        "# A simple CNN"
      ]
    },
    {
      "cell_type": "code",
      "execution_count": 15,
      "metadata": {
        "id": "f62ZMM38p129"
      },
      "outputs": [],
      "source": [
        "# -- Initializing the values for the convolution neural network\n",
        "# Setting up convolutional layer with 32 filters that are 3 by 3\n",
        "\n",
        "nb_epoch = 5  # kept very low! Please increase if you have GPU\n",
        "\n",
        "batch_size = 64\n",
        "# number of convolutional filters to use\n",
        "nb_filters = 32\n",
        "# size of pooling area for max pooling (2 by 2)\n",
        "nb_pool = 2\n",
        "# convolution kernel/filter size (3 by 3)\n",
        "nb_conv = 3 \n",
        "\n",
        "# Vanilla SGD to speed up optimization for example \n",
        "sgd = SGD(learning_rate=0.1)"
      ]
    },
    {
      "cell_type": "code",
      "execution_count": 16,
      "metadata": {
        "colab": {
          "base_uri": "https://localhost:8080/"
        },
        "id": "4ufvRzts-KIU",
        "outputId": "d0a62aa9-b358-4aa8-a9df-be9adf3b8629"
      },
      "outputs": [
        {
          "data": {
            "text/plain": [
              "(28, 28, 1)"
            ]
          },
          "execution_count": 16,
          "metadata": {},
          "output_type": "execute_result"
        }
      ],
      "source": [
        "shape_ord"
      ]
    },
    {
      "cell_type": "markdown",
      "metadata": {
        "id": "vchTh8bmp13Z"
      },
      "source": [
        "#### Step 1: Model Definition\n",
        "\n",
        "CNN with 32 filters and 1 conv layer."
      ]
    },
    {
      "cell_type": "code",
      "execution_count": 17,
      "metadata": {
        "id": "-Fxkaa1wp13e"
      },
      "outputs": [],
      "source": [
        "model = Sequential()\n",
        "\n",
        "model.add(Conv2D(32, (3, 3), padding='valid', # could also add strides=2, default is 1\n",
        "                 input_shape=(28,28,1))) # note: the very first layer **must** always specify the input_shape\n",
        "model.add(Activation('relu'))\n",
        "model.add(Flatten())\n",
        "model.add(Dense(nb_classes))\n",
        "model.add(Activation('softmax')) #could have set this up using sigmoid and included final Dense(1) layer rather than Dense(2)"
      ]
    },
    {
      "cell_type": "code",
      "execution_count": 18,
      "metadata": {
        "colab": {
          "base_uri": "https://localhost:8080/"
        },
        "id": "ZM7r82iuszWC",
        "outputId": "01840b04-ca44-4c13-f1a3-3588246a9721"
      },
      "outputs": [
        {
          "name": "stdout",
          "output_type": "stream",
          "text": [
            "Model: \"sequential\"\n",
            "_________________________________________________________________\n",
            " Layer (type)                Output Shape              Param #   \n",
            "=================================================================\n",
            " conv2d (Conv2D)             (None, 26, 26, 32)        320       \n",
            "                                                                 \n",
            " activation (Activation)     (None, 26, 26, 32)        0         \n",
            "                                                                 \n",
            " flatten (Flatten)           (None, 21632)             0         \n",
            "                                                                 \n",
            " dense (Dense)               (None, 10)                216330    \n",
            "                                                                 \n",
            " activation_1 (Activation)   (None, 10)                0         \n",
            "                                                                 \n",
            "=================================================================\n",
            "Total params: 216,650\n",
            "Trainable params: 216,650\n",
            "Non-trainable params: 0\n",
            "_________________________________________________________________\n"
          ]
        }
      ],
      "source": [
        "model.summary()"
      ]
    },
    {
      "cell_type": "markdown",
      "metadata": {
        "id": "_YTVYVDpp13s"
      },
      "source": [
        "#### Step 2: Compile"
      ]
    },
    {
      "cell_type": "code",
      "execution_count": 19,
      "metadata": {
        "id": "hzEq1jKwp13u"
      },
      "outputs": [],
      "source": [
        "model.compile(loss='categorical_crossentropy',\n",
        "              optimizer=sgd,\n",
        "              metrics=['accuracy'])"
      ]
    },
    {
      "cell_type": "markdown",
      "metadata": {
        "id": "TnmoCs_Jp138"
      },
      "source": [
        "#### Step 3: Fit"
      ]
    },
    {
      "cell_type": "code",
      "execution_count": null,
      "metadata": {
        "colab": {
          "base_uri": "https://localhost:8080/"
        },
        "id": "ZnFTViRzp14B",
        "outputId": "eccd6e2c-19d0-4bcc-fcc0-dcc2c0185b1d",
        "scrolled": true
      },
      "outputs": [
        {
          "name": "stdout",
          "output_type": "stream",
          "text": [
            "Epoch 1/5\n",
            "750/750 [==============================] - 11s 4ms/step - loss: 0.3689 - accuracy: 0.8897 - val_loss: 0.2027 - val_accuracy: 0.9452\n",
            "Epoch 2/5\n",
            "750/750 [==============================] - 3s 3ms/step - loss: 0.1597 - accuracy: 0.9537 - val_loss: 0.1215 - val_accuracy: 0.9680\n",
            "Epoch 3/5\n",
            "750/750 [==============================] - 3s 4ms/step - loss: 0.1024 - accuracy: 0.9709 - val_loss: 0.0958 - val_accuracy: 0.9755\n",
            "Epoch 4/5\n",
            "750/750 [==============================] - 3s 3ms/step - loss: 0.0781 - accuracy: 0.9774 - val_loss: 0.0873 - val_accuracy: 0.9772\n",
            "Epoch 5/5\n",
            "750/750 [==============================] - 3s 4ms/step - loss: 0.0656 - accuracy: 0.9808 - val_loss: 0.0881 - val_accuracy: 0.9743\n"
          ]
        }
      ],
      "source": [
        "hist = model.fit(X_train, Y_train, batch_size=batch_size, \n",
        "                 epochs=nb_epoch, verbose=1, \n",
        "                 validation_split=.2)"
      ]
    },
    {
      "cell_type": "markdown",
      "metadata": {
        "id": "HV82KqvQp14p"
      },
      "source": [
        "### Let's plot our model Predictions!"
      ]
    },
    {
      "cell_type": "code",
      "execution_count": null,
      "metadata": {
        "colab": {
          "base_uri": "https://localhost:8080/",
          "height": 560
        },
        "id": "tPh0nr6yp14M",
        "outputId": "fd8f1f59-b24f-4b02-d5ff-f267b4cdaeb8"
      },
      "outputs": [
        {
          "data": {
            "text/plain": [
              "<matplotlib.legend.Legend at 0x7fd8cc2f27c0>"
            ]
          },
          "execution_count": 20,
          "metadata": {},
          "output_type": "execute_result"
        },
        {
          "data": {
            "image/png": "[encoded data removed]",
            "text/plain": [
              "<Figure size 432x288 with 1 Axes>"
            ]
          },
          "metadata": {
            "needs_background": "light"
          },
          "output_type": "display_data"
        },
        {
          "data": {
            "image/png": "[encoded data removed]",
            "text/plain": [
              "<Figure size 432x288 with 1 Axes>"
            ]
          },
          "metadata": {
            "needs_background": "light"
          },
          "output_type": "display_data"
        }
      ],
      "source": [
        "#plot loss and accuracy at each epoch\n",
        "import matplotlib.pyplot as plt\n",
        "%matplotlib inline\n",
        "\n",
        "plt.figure()\n",
        "plt.xlabel('Epochs')\n",
        "plt.ylabel('Loss')\n",
        "plt.plot(hist.history['loss'])\n",
        "plt.plot(hist.history['val_loss'])\n",
        "plt.legend(['Training', 'Validation'])\n",
        "\n",
        "plt.figure()\n",
        "plt.xlabel('Epochs')\n",
        "plt.ylabel('Accuracy')\n",
        "plt.plot(hist.history['accuracy'])\n",
        "plt.plot(hist.history['val_accuracy'])\n",
        "plt.legend(['Training', 'Validation'], loc='lower right')"
      ]
    },
    {
      "cell_type": "markdown",
      "metadata": {
        "id": "-ztF6POhp14U"
      },
      "source": [
        "### Step 4: Evaluate"
      ]
    },
    {
      "cell_type": "code",
      "execution_count": null,
      "metadata": {
        "colab": {
          "base_uri": "https://localhost:8080/"
        },
        "id": "QHjxbdbkp14Y",
        "outputId": "36795870-15ea-49fe-ec0a-c5b9651a7cd2"
      },
      "outputs": [
        {
          "name": "stdout",
          "output_type": "stream",
          "text": [
            "Available Metrics in Model: ['loss', 'accuracy']\n"
          ]
        }
      ],
      "source": [
        "print('Available Metrics in Model: {}'.format(model.metrics_names))"
      ]
    },
    {
      "cell_type": "code",
      "execution_count": null,
      "metadata": {
        "colab": {
          "base_uri": "https://localhost:8080/"
        },
        "id": "K0jp62qWp14h",
        "outputId": "5abf4b1e-931c-46e0-efa2-5bc6c04ad2eb"
      },
      "outputs": [
        {
          "name": "stdout",
          "output_type": "stream",
          "text": [
            "Test Loss: 0.0691256895661354\n",
            "Test Accuracy: 0.978600025177002\n"
          ]
        }
      ],
      "source": [
        "# Evaluating the model on the test data    \n",
        "loss, accuracy = model.evaluate(X_test, Y_test, verbose=0)\n",
        "print('Test Loss:', loss)\n",
        "print('Test Accuracy:', accuracy)"
      ]
    },
    {
      "cell_type": "markdown",
      "metadata": {
        "id": "_glScDT_p15A"
      },
      "source": [
        "# Adding more Dense Layers"
      ]
    },
    {
      "cell_type": "code",
      "execution_count": null,
      "metadata": {
        "id": "VYU6j6WJp15E"
      },
      "outputs": [],
      "source": [
        "model = Sequential()\n",
        "model.add(Conv2D(nb_filters, (nb_conv, nb_conv),\n",
        "                 padding='valid', input_shape=shape_ord))\n",
        "model.add(Activation('relu'))\n",
        "model.add(Conv2D(nb_filters, (nb_conv, nb_conv),\n",
        "                 padding='valid'))\n",
        "model.add(Activation('relu'))\n",
        "\n",
        "model.add(Flatten())\n",
        "model.add(Dense(128))\n",
        "model.add(Activation('relu'))\n",
        "\n",
        "model.add(Dense(nb_classes))\n",
        "model.add(Activation('softmax'))"
      ]
    },
    {
      "cell_type": "code",
      "execution_count": null,
      "metadata": {
        "colab": {
          "base_uri": "https://localhost:8080/"
        },
        "id": "rRR1Si9Zp15P",
        "outputId": "e7c212fd-65a6-413a-c6af-5e60a5e83686"
      },
      "outputs": [
        {
          "name": "stdout",
          "output_type": "stream",
          "text": [
            "Epoch 1/5\n",
            "938/938 [==============================] - 6s 5ms/step - loss: 0.4840 - accuracy: 0.8740 - val_loss: 0.2564 - val_accuracy: 0.9261\n",
            "Epoch 2/5\n",
            "938/938 [==============================] - 4s 4ms/step - loss: 0.2293 - accuracy: 0.9331 - val_loss: 0.1843 - val_accuracy: 0.9470\n",
            "Epoch 3/5\n",
            "938/938 [==============================] - 4s 4ms/step - loss: 0.1797 - accuracy: 0.9477 - val_loss: 0.1660 - val_accuracy: 0.9517\n",
            "Epoch 4/5\n",
            "938/938 [==============================] - 4s 4ms/step - loss: 0.1493 - accuracy: 0.9564 - val_loss: 0.1437 - val_accuracy: 0.9586\n",
            "Epoch 5/5\n",
            "938/938 [==============================] - 4s 4ms/step - loss: 0.1284 - accuracy: 0.9621 - val_loss: 0.1198 - val_accuracy: 0.9649\n"
          ]
        },
        {
          "data": {
            "text/plain": [
              "<keras.callbacks.History at 0x7feeca62f040>"
            ]
          },
          "execution_count": 23,
          "metadata": {},
          "output_type": "execute_result"
        }
      ],
      "source": [
        "model.compile(loss='categorical_crossentropy',\n",
        "              optimizer='sgd',\n",
        "              metrics=['accuracy'])\n",
        "\n",
        "model.fit(X_train, Y_train, batch_size=batch_size, \n",
        "          epochs=nb_epoch,verbose=1,\n",
        "          validation_data=(X_test, Y_test))"
      ]
    },
    {
      "cell_type": "code",
      "execution_count": null,
      "metadata": {
        "colab": {
          "base_uri": "https://localhost:8080/"
        },
        "id": "YdvG5sVTp15h",
        "outputId": "051070ce-27c9-4a3b-c0b0-6b22d1a4a895"
      },
      "outputs": [
        {
          "name": "stdout",
          "output_type": "stream",
          "text": [
            "Test score: 0.11980891227722168\n",
            "Test accuracy: 0.964900016784668\n"
          ]
        }
      ],
      "source": [
        "#Evaluating the model on the test data    \n",
        "score, accuracy = model.evaluate(X_test, Y_test, verbose=0)\n",
        "print('Test score:', score)\n",
        "print('Test accuracy:', accuracy)"
      ]
    },
    {
      "cell_type": "markdown",
      "metadata": {
        "id": "dprCaPrnp16T"
      },
      "source": [
        "# Adding more Convolution Layers and Max Pooling\n",
        "\n",
        "---\n",
        "\n"
      ]
    },
    {
      "cell_type": "code",
      "execution_count": null,
      "metadata": {
        "id": "VU402dZkp16V"
      },
      "outputs": [],
      "source": [
        "model = Sequential()\n",
        "model.add(Conv2D(nb_filters, (nb_conv, nb_conv),\n",
        "                 padding='valid', input_shape=shape_ord))\n",
        "model.add(Activation('relu'))\n",
        "model.add(MaxPooling2D(pool_size=(nb_pool, nb_pool)))\n",
        "\n",
        "model.add(Conv2D(nb_filters, (nb_conv, nb_conv)))\n",
        "model.add(Activation('relu'))\n",
        "model.add(MaxPooling2D(pool_size=(nb_pool, nb_pool)))\n",
        "  \n",
        "model.add(Flatten())\n",
        "model.add(Dense(128))\n",
        "model.add(Activation('relu'))\n",
        "model.add(Dense(nb_classes))\n",
        "model.add(Activation('softmax'))"
      ]
    },
    {
      "cell_type": "code",
      "execution_count": null,
      "metadata": {
        "colab": {
          "base_uri": "https://localhost:8080/"
        },
        "id": "Q3UeAGHyp16a",
        "outputId": "7020e9be-b1d7-4e87-8004-fc084042271d"
      },
      "outputs": [
        {
          "name": "stdout",
          "output_type": "stream",
          "text": [
            "Epoch 1/5\n",
            "938/938 [==============================] - 5s 5ms/step - loss: 0.8079 - accuracy: 0.7655 - val_loss: 0.2627 - val_accuracy: 0.9230\n",
            "Epoch 2/5\n",
            "938/938 [==============================] - 4s 4ms/step - loss: 0.2088 - accuracy: 0.9383 - val_loss: 0.1456 - val_accuracy: 0.9586\n",
            "Epoch 3/5\n",
            "938/938 [==============================] - 4s 4ms/step - loss: 0.1454 - accuracy: 0.9568 - val_loss: 0.1270 - val_accuracy: 0.9600\n",
            "Epoch 4/5\n",
            "938/938 [==============================] - 4s 4ms/step - loss: 0.1156 - accuracy: 0.9651 - val_loss: 0.1001 - val_accuracy: 0.9694\n",
            "Epoch 5/5\n",
            "938/938 [==============================] - 4s 4ms/step - loss: 0.0989 - accuracy: 0.9701 - val_loss: 0.0962 - val_accuracy: 0.9712\n"
          ]
        },
        {
          "data": {
            "text/plain": [
              "<keras.callbacks.History at 0x7f14a8044650>"
            ]
          },
          "execution_count": 25,
          "metadata": {},
          "output_type": "execute_result"
        }
      ],
      "source": [
        "model.compile(loss='categorical_crossentropy',\n",
        "              optimizer='sgd',\n",
        "              metrics=['accuracy'])\n",
        "\n",
        "model.fit(X_train, Y_train, batch_size=batch_size, \n",
        "          epochs=nb_epoch,verbose=1,\n",
        "          validation_data=(X_test, Y_test))"
      ]
    },
    {
      "cell_type": "code",
      "execution_count": null,
      "metadata": {
        "id": "3BhwVa_Yp16k"
      },
      "outputs": [],
      "source": [
        "#Evaluating the model on the test data    \n",
        "score, accuracy = model.evaluate(X_test, Y_test, verbose=0)\n",
        "print('Test score:', score)\n",
        "print('Test accuracy:', accuracy)"
      ]
    },
    {
      "cell_type": "markdown",
      "metadata": {
        "id": "5NolY3iup16r"
      },
      "source": [
        "# Exercise\n",
        "\n",
        "The above code has been written as a function. \n",
        "\n",
        "Change some of the **hyperparameters** and see what happens. "
      ]
    },
    {
      "cell_type": "code",
      "execution_count": null,
      "metadata": {
        "id": "Pd6L9j3fp16t"
      },
      "outputs": [],
      "source": [
        "# Function for constructing the convolution neural network\n",
        "# Feel free to add parameters, if you want\n",
        "\n",
        "def build_model():\n",
        "    \"\"\"\"\"\"\n",
        "    model = Sequential()\n",
        "    model.add(Conv2D(nb_filters, (nb_conv, nb_conv), \n",
        "                     padding='valid',\n",
        "                     input_shape=shape_ord))\n",
        "    model.add(Activation('relu'))\n",
        "    model.add(Conv2D(nb_filters, (nb_conv, nb_conv)))\n",
        "    model.add(Activation('relu'))\n",
        "    model.add(MaxPooling2D(pool_size=(nb_pool, nb_pool)))\n",
        "    \n",
        "    model.add(Flatten())\n",
        "    model.add(Dense(128))\n",
        "    model.add(Activation('relu'))\n",
        "    model.add(Dense(nb_classes))\n",
        "    model.add(Activation('softmax'))\n",
        "    \n",
        "    model.compile(loss='categorical_crossentropy',\n",
        "              optimizer='sgd',\n",
        "              metrics=['accuracy'])\n",
        "\n",
        "    model.fit(X_train, Y_train, batch_size=batch_size, \n",
        "              epochs=nb_epoch,verbose=1,\n",
        "              validation_data=(X_test, Y_test))\n",
        "          \n",
        "\n",
        "    #Evaluating the model on the test data    \n",
        "    score, accuracy = model.evaluate(X_test, Y_test, verbose=0)\n",
        "    print('Test score:', score)\n",
        "    print('Test accuracy:', accuracy)"
      ]
    },
    {
      "cell_type": "code",
      "execution_count": null,
      "metadata": {
        "colab": {
          "base_uri": "https://localhost:8080/"
        },
        "id": "qlcFcQ71p169",
        "outputId": "c911e50c-438c-4f86-db56-971b44a7b27f"
      },
      "outputs": [
        {
          "name": "stdout",
          "output_type": "stream",
          "text": [
            "Epoch 1/5\n",
            "938/938 [==============================] - 4s 4ms/step - loss: 0.6130 - accuracy: 0.8151 - val_loss: 0.2723 - val_accuracy: 0.9211\n",
            "Epoch 2/5\n",
            "938/938 [==============================] - 4s 4ms/step - loss: 0.2077 - accuracy: 0.9382 - val_loss: 0.1841 - val_accuracy: 0.9450\n",
            "Epoch 3/5\n",
            "938/938 [==============================] - 4s 4ms/step - loss: 0.1541 - accuracy: 0.9539 - val_loss: 0.1451 - val_accuracy: 0.9555\n",
            "Epoch 4/5\n",
            "938/938 [==============================] - 4s 4ms/step - loss: 0.1259 - accuracy: 0.9619 - val_loss: 0.1219 - val_accuracy: 0.9639\n",
            "Epoch 5/5\n",
            "938/938 [==============================] - 4s 4ms/step - loss: 0.1079 - accuracy: 0.9672 - val_loss: 0.1265 - val_accuracy: 0.9576\n",
            "Test score: 0.12647204101085663\n",
            "Test accuracy: 0.9575999975204468\n",
            "1 loop, best of 1: 19.3 s per loop\n"
          ]
        }
      ],
      "source": [
        "#Timing how long it takes to build the model and test it.\n",
        "%timeit -n1 -r1 build_model() # time a single loop of the model in the function. "
      ]
    },
    {
      "cell_type": "code",
      "execution_count": null,
      "metadata": {
        "id": "hbPDGCMDrGcf"
      },
      "outputs": [],
      "source": [
        "model.save(\"hand_written_digits_keras.h5\") # save model to single HDF5 file"
      ]
    },
    {
      "cell_type": "code",
      "execution_count": null,
      "metadata": {
        "id": "-F6BTJtLrx7G"
      },
      "outputs": [],
      "source": [
        "from keras.models import load_model\n",
        "\n",
        "# returns a compiled model\n",
        "# identical to the previous one\n",
        "modelload = load_model(\"hand_written_digits_keras.h5\")"
      ]
    },
    {
      "cell_type": "markdown",
      "metadata": {
        "id": "4101jf7ysHJx"
      },
      "source": [
        "preprocessing steps for image data \n",
        "\n",
        "code chunk doesn't load below just a sample to show main procesing steps: "
      ]
    },
    {
      "cell_type": "code",
      "execution_count": null,
      "metadata": {
        "colab": {
          "base_uri": "https://localhost:8080/"
        },
        "id": "sMh8YBDdr-Ln",
        "outputId": "03c6d1da-b72c-47ba-86b9-0cc08a461baf"
      },
      "outputs": [
        {
          "data": {
            "text/plain": [
              "(32, 32)"
            ]
          },
          "execution_count": 15,
          "metadata": {},
          "output_type": "execute_result"
        }
      ],
      "source": [
        "from skimage import io\n",
        "from skimage.transform import rescale,resize\n",
        "import numpy\n",
        "from skimage.color import rgb2gray\n",
        "image_file_type=\"jpg\"\n",
        "\n",
        "img = io.imread(\"img_2.jpg\")\n",
        "\n",
        "# fix size for height and width \n",
        "fixed_size=(32,32)\n",
        "#img=reshape(img,-1)\n",
        "resized_image=resize(img, fixed_size) #reshaping image\n",
        "\n",
        "resized_image.shape\n"
      ]
    },
    {
      "cell_type": "code",
      "execution_count": null,
      "metadata": {
        "id": "4_KBM3nQssdz"
      },
      "outputs": [],
      "source": [
        "# load_model_sample.py\n",
        "from keras.models import load_model\n",
        "from keras.preprocessing import image\n",
        "import numpy as np\n",
        "\n",
        "\n",
        "fixed_size=(28,28)\n",
        "# function to set same fixed size for any image we load, minx max scale, and return the image\n",
        "def load_image(img_path, fixed_size,show=False):\n",
        "    img = image.load_img(img_path, target_size=fixed_size,color_mode='grayscale')\n",
        "    img_tensor = image.img_to_array(img) # extracts the raw data (height, width, channels)\n",
        "    img_tensor = np.expand_dims(img_tensor, axis=0)\n",
        "             # (1, height, width, channels), add a dimension because the model expects this shape: (batch_size, height, width, channels)\n",
        "    img_tensor = (img_tensor-img_tensor.min())/(img_tensor.max()-img_tensor.min())     # models expect values between 0,1                          \n",
        "    return img_tensor\n",
        "\n",
        "\n",
        "# load model\n",
        "modelload = load_model(\"hand_written_digits_keras.h5\")\n",
        "\n",
        "# image path\n",
        "img_path = 'img_2.jpg'    \n",
        "\n",
        "# load a single image and apply the custom cleaning function above \n",
        "new_image = load_image(img_path, fixed_size)\n",
        "\n",
        "# check prediction\n",
        "modelload.predict_classes(new_image)"
      ]
    },
    {
      "cell_type": "code",
      "execution_count": null,
      "metadata": {
        "id": "9yN4VpYkz6sk"
      },
      "outputs": [],
      "source": [
        "# What would color image preprocessing look like?\n",
        "\n",
        "# Import image, load to array of shape height, width, channels, then min/max transform.\n",
        "from keras.preprocessing import image\n",
        "import numpy as np\n",
        "from PIL import Image # a useful library for a light approach to processing image data \n",
        "\n",
        "def load_image(img_path):\n",
        "        img = Image.open(img_path).convert(\"RGB\").resize((192,192)) # import image, make sure it's RGB and resize to height and width you want.\n",
        "        img = (np.float32(img)-np.float32(img).min())/(np.float32(img).max()-np.float32(img).min()) # min max transformation\n",
        "        img=img.reshape((192,192,3)) # Create final shape as array with correct dimensions for Keras\n",
        "        return img\n",
        "\n",
        "# read in all images from filenames\n",
        "\n",
        "preprocessed_image_data=list(map(load_image, listoffilepaths)) \n",
        "\n",
        "# Object needs to be an array rather than a list for Keras (map returns to list object)\n",
        "X= np.array(preprocessed_image_data) # Assigning to X to highlight that this represents feature input data for our model"
      ]
    },
    {
      "cell_type": "markdown",
      "metadata": {
        "id": "7xZ1bJlRp17J"
      },
      "source": [
        "---"
      ]
    }
  ],
  "metadata": {
    "accelerator": "GPU",
    "colab": {
      "provenance": []
    },
    "gpuClass": "standard",
    "kernelspec": {
      "display_name": "conda_python3",
      "language": "python",
      "name": "conda_python3"
    },
    "language_info": {
      "codemirror_mode": {
        "name": "ipython",
        "version": 3
      },
      "file_extension": ".py",
      "mimetype": "text/x-python",
      "name": "python",
      "nbconvert_exporter": "python",
      "pygments_lexer": "ipython3",
      "version": "3.6.5"
    }
  },
  "nbformat": 4,
  "nbformat_minor": 0
}
