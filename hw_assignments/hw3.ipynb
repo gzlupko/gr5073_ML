{
 "cells": [
  {
   "cell_type": "markdown",
   "metadata": {},
   "source": [
    "# HW 3\n",
    "### Unsupervised Learning\n",
    "#### Gian Zlupko"
   ]
  },
  {
   "cell_type": "markdown",
   "metadata": {},
   "source": [
    "First, I import the wine data to get started."
   ]
  },
  {
   "cell_type": "code",
   "execution_count": 1,
   "metadata": {},
   "outputs": [
    {
     "data": {
      "text/html": [
       "<div>\n",
       "<style scoped>\n",
       "    .dataframe tbody tr th:only-of-type {\n",
       "        vertical-align: middle;\n",
       "    }\n",
       "\n",
       "    .dataframe tbody tr th {\n",
       "        vertical-align: top;\n",
       "    }\n",
       "\n",
       "    .dataframe thead th {\n",
       "        text-align: right;\n",
       "    }\n",
       "</style>\n",
       "<table border=\"1\" class=\"dataframe\">\n",
       "  <thead>\n",
       "    <tr style=\"text-align: right;\">\n",
       "      <th></th>\n",
       "      <th>fixed acidity</th>\n",
       "      <th>volatile acidity</th>\n",
       "      <th>citric acid</th>\n",
       "      <th>residual sugar</th>\n",
       "      <th>chlorides</th>\n",
       "      <th>free sulfur dioxide</th>\n",
       "      <th>total sulfur dioxide</th>\n",
       "      <th>density</th>\n",
       "      <th>pH</th>\n",
       "      <th>sulphates</th>\n",
       "      <th>alcohol</th>\n",
       "      <th>quality</th>\n",
       "    </tr>\n",
       "  </thead>\n",
       "  <tbody>\n",
       "    <tr>\n",
       "      <th>0</th>\n",
       "      <td>7.4</td>\n",
       "      <td>0.70</td>\n",
       "      <td>0.00</td>\n",
       "      <td>1.9</td>\n",
       "      <td>0.076</td>\n",
       "      <td>11.0</td>\n",
       "      <td>34.0</td>\n",
       "      <td>0.9978</td>\n",
       "      <td>3.51</td>\n",
       "      <td>0.56</td>\n",
       "      <td>9.4</td>\n",
       "      <td>5</td>\n",
       "    </tr>\n",
       "    <tr>\n",
       "      <th>1</th>\n",
       "      <td>7.8</td>\n",
       "      <td>0.88</td>\n",
       "      <td>0.00</td>\n",
       "      <td>2.6</td>\n",
       "      <td>0.098</td>\n",
       "      <td>25.0</td>\n",
       "      <td>67.0</td>\n",
       "      <td>0.9968</td>\n",
       "      <td>3.20</td>\n",
       "      <td>0.68</td>\n",
       "      <td>9.8</td>\n",
       "      <td>5</td>\n",
       "    </tr>\n",
       "    <tr>\n",
       "      <th>2</th>\n",
       "      <td>7.8</td>\n",
       "      <td>0.76</td>\n",
       "      <td>0.04</td>\n",
       "      <td>2.3</td>\n",
       "      <td>0.092</td>\n",
       "      <td>15.0</td>\n",
       "      <td>54.0</td>\n",
       "      <td>0.9970</td>\n",
       "      <td>3.26</td>\n",
       "      <td>0.65</td>\n",
       "      <td>9.8</td>\n",
       "      <td>5</td>\n",
       "    </tr>\n",
       "    <tr>\n",
       "      <th>3</th>\n",
       "      <td>11.2</td>\n",
       "      <td>0.28</td>\n",
       "      <td>0.56</td>\n",
       "      <td>1.9</td>\n",
       "      <td>0.075</td>\n",
       "      <td>17.0</td>\n",
       "      <td>60.0</td>\n",
       "      <td>0.9980</td>\n",
       "      <td>3.16</td>\n",
       "      <td>0.58</td>\n",
       "      <td>9.8</td>\n",
       "      <td>6</td>\n",
       "    </tr>\n",
       "    <tr>\n",
       "      <th>4</th>\n",
       "      <td>7.4</td>\n",
       "      <td>0.70</td>\n",
       "      <td>0.00</td>\n",
       "      <td>1.9</td>\n",
       "      <td>0.076</td>\n",
       "      <td>11.0</td>\n",
       "      <td>34.0</td>\n",
       "      <td>0.9978</td>\n",
       "      <td>3.51</td>\n",
       "      <td>0.56</td>\n",
       "      <td>9.4</td>\n",
       "      <td>5</td>\n",
       "    </tr>\n",
       "  </tbody>\n",
       "</table>\n",
       "</div>"
      ],
      "text/plain": [
       "   fixed acidity  volatile acidity  citric acid  residual sugar  chlorides  \\\n",
       "0            7.4              0.70         0.00             1.9      0.076   \n",
       "1            7.8              0.88         0.00             2.6      0.098   \n",
       "2            7.8              0.76         0.04             2.3      0.092   \n",
       "3           11.2              0.28         0.56             1.9      0.075   \n",
       "4            7.4              0.70         0.00             1.9      0.076   \n",
       "\n",
       "   free sulfur dioxide  total sulfur dioxide  density    pH  sulphates  \\\n",
       "0                 11.0                  34.0   0.9978  3.51       0.56   \n",
       "1                 25.0                  67.0   0.9968  3.20       0.68   \n",
       "2                 15.0                  54.0   0.9970  3.26       0.65   \n",
       "3                 17.0                  60.0   0.9980  3.16       0.58   \n",
       "4                 11.0                  34.0   0.9978  3.51       0.56   \n",
       "\n",
       "   alcohol  quality  \n",
       "0      9.4        5  \n",
       "1      9.8        5  \n",
       "2      9.8        5  \n",
       "3      9.8        6  \n",
       "4      9.4        5  "
      ]
     },
     "execution_count": 1,
     "metadata": {},
     "output_type": "execute_result"
    }
   ],
   "source": [
    "import pandas as pd\n",
    "import os\n",
    "\n",
    "# change working directory \n",
    "os.chdir('/Users/gianzlupko/Desktop/GR5073 ML/gr5073_ML/data')\n",
    "\n",
    "# read in the red and white wine data sets\n",
    "red_wine = pd.read_csv(\"winequality-red.csv\", sep = ';') \n",
    "\n",
    "# inspect the data \n",
    "red_wine.head()\n"
   ]
  },
  {
   "cell_type": "markdown",
   "metadata": {},
   "source": [
    "Next, I scale the data as data should be standardzied prior to using cluster analysis and PCA. "
   ]
  },
  {
   "cell_type": "code",
   "execution_count": 5,
   "metadata": {},
   "outputs": [],
   "source": [
    "from sklearn import preprocessing\n",
    "scaler = preprocessing.StandardScaler() \n",
    "scaler.fit(red_wine)\n",
    "wine_scaled = pd.DataFrame(scaler.transform(red_wine), columns = red_wine.columns) # retains col names for later use "
   ]
  },
  {
   "cell_type": "markdown",
   "metadata": {},
   "source": [
    "#### 1. Use K Means Cluster Analysis to identify cluster(s) of observations that have high and low values of the wine quality. (Assume all variables are continuous.) Describe variables that cluster with higher values of wine quality. Describe variables that cluster with lower values of wine quality.\n",
    "\n",
    "#### If you want to make a good bottle of wine, then what characteristics are most important according to this analysis\n",
    "\n",
    "To determine an appropriate value for `k` clusters using k-means, I use the elbow curve method below. The elbow curve method plots the differences in within-group sum of squares (WGSS) for each cluster and the elbow in the curve is a heuristic used to identify a value of `k` clusters that substantially reduces WGSS. "
   ]
  },
  {
   "cell_type": "code",
   "execution_count": 6,
   "metadata": {},
   "outputs": [
    {
     "data": {
      "text/plain": [
       "Text(0.5, 1.0, 'Elbow curve')"
      ]
     },
     "execution_count": 6,
     "metadata": {},
     "output_type": "execute_result"
    },
    {
     "data": {
      "image/png": "[encoded data removed]",
      "text/plain": [
       "<Figure size 1080x360 with 1 Axes>"
      ]
     },
     "metadata": {
      "needs_background": "light"
     },
     "output_type": "display_data"
    }
   ],
   "source": [
    "from sklearn.cluster import KMeans\n",
    "from matplotlib import pyplot as plt\n",
    "import warnings\n",
    "warnings.filterwarnings('ignore') # disabling warnings for this code chunk \n",
    "\n",
    "within_cluster_variance = [] # initiate empty list with no data\n",
    "\n",
    "# build models for range of ks from 2 to 20\n",
    "for k in range(2, 10):\n",
    "    kmeans = KMeans(n_clusters=k)\n",
    "    kmeans.fit(wine_scaled)\n",
    "    within_cluster_variance.append(kmeans.inertia_)\n",
    "\n",
    "fig = plt.figure(figsize=(15, 5))\n",
    "plt.plot(range(2, 10), within_cluster_variance, marker='o')\n",
    "plt.grid(True)\n",
    "plt.xlabel('Number of clusters')\n",
    "plt.ylabel('Reduction in within cluster variation')\n",
    "\n",
    "plt.title('Elbow curve')  #Choose k at elbow of plot as a general rule.  We want a small enough number of categories to \n",
    "                          # such that we can still learn something meaningful from them via exploration of our variables."
   ]
  },
  {
   "cell_type": "markdown",
   "metadata": {},
   "source": [
    "While the curve method does not reveal a strong elbow in the plot, it appears that 7 clusters substantially reduces WSS with diminishing retunrs thereafter. Thus, I will use k = 7 clusters for k-means on the red wine data. Next, I fit the k-means model and I also visually inspect a sample plot of the clusters colored by group to examine their dispersion (specifically on the first two features below). "
   ]
  },
  {
   "cell_type": "code",
   "execution_count": 7,
   "metadata": {},
   "outputs": [
    {
     "data": {
      "image/png": "[encoded data removed]",
      "text/plain": [
       "<Figure size 432x288 with 1 Axes>"
      ]
     },
     "metadata": {
      "needs_background": "light"
     },
     "output_type": "display_data"
    }
   ],
   "source": [
    "# fit k-means to the data\n",
    "kmeans1 = KMeans(n_clusters = 7, random_state = 42)\n",
    "kmeans1.fit(wine_scaled)\n",
    "y_kmeans = kmeans1.predict(wine_scaled)\n",
    "\n",
    "#plot data colored by k-means clusters from model\n",
    "plt.scatter(wine_scaled.iloc[:, 0], wine_scaled.iloc[:, 1], c = y_kmeans, s=50, cmap='viridis')\n",
    "plt.title(\"Red Wine Clusters\")\n",
    "centers = kmeans1.cluster_centers_ # extract final centroids from each cluster\n",
    "plt.scatter(centers[:, 0], centers[:, 1], c='black', s=200, alpha=0.5);\n"
   ]
  },
  {
   "cell_type": "markdown",
   "metadata": {},
   "source": [
    "The scatter plot shows the cloud of data points associated with each of the clusters as well as the centroids of each cluster in 2-dimensional space. The visual is not very useful in examining the differences between these sub-groups of the red wine data for the first two features. However, differences in quality by cluster may be more apparent. To assess which observations have high and low values of the wine quality, I first merge the cluster labels to the original data. "
   ]
  },
  {
   "cell_type": "code",
   "execution_count": 8,
   "metadata": {},
   "outputs": [
    {
     "data": {
      "text/html": [
       "<div>\n",
       "<style scoped>\n",
       "    .dataframe tbody tr th:only-of-type {\n",
       "        vertical-align: middle;\n",
       "    }\n",
       "\n",
       "    .dataframe tbody tr th {\n",
       "        vertical-align: top;\n",
       "    }\n",
       "\n",
       "    .dataframe thead th {\n",
       "        text-align: right;\n",
       "    }\n",
       "</style>\n",
       "<table border=\"1\" class=\"dataframe\">\n",
       "  <thead>\n",
       "    <tr style=\"text-align: right;\">\n",
       "      <th></th>\n",
       "      <th>fixed acidity</th>\n",
       "      <th>volatile acidity</th>\n",
       "      <th>citric acid</th>\n",
       "      <th>residual sugar</th>\n",
       "      <th>chlorides</th>\n",
       "      <th>free sulfur dioxide</th>\n",
       "      <th>total sulfur dioxide</th>\n",
       "      <th>density</th>\n",
       "      <th>pH</th>\n",
       "      <th>sulphates</th>\n",
       "      <th>alcohol</th>\n",
       "      <th>quality</th>\n",
       "      <th>Cluster</th>\n",
       "    </tr>\n",
       "  </thead>\n",
       "  <tbody>\n",
       "    <tr>\n",
       "      <th>0</th>\n",
       "      <td>-0.528360</td>\n",
       "      <td>0.961877</td>\n",
       "      <td>-1.391472</td>\n",
       "      <td>-0.453218</td>\n",
       "      <td>-0.243707</td>\n",
       "      <td>-0.466193</td>\n",
       "      <td>-0.379133</td>\n",
       "      <td>0.558274</td>\n",
       "      <td>1.288643</td>\n",
       "      <td>-0.579207</td>\n",
       "      <td>-0.960246</td>\n",
       "      <td>-0.787823</td>\n",
       "      <td>1</td>\n",
       "    </tr>\n",
       "    <tr>\n",
       "      <th>1</th>\n",
       "      <td>-0.298547</td>\n",
       "      <td>1.967442</td>\n",
       "      <td>-1.391472</td>\n",
       "      <td>0.043416</td>\n",
       "      <td>0.223875</td>\n",
       "      <td>0.872638</td>\n",
       "      <td>0.624363</td>\n",
       "      <td>0.028261</td>\n",
       "      <td>-0.719933</td>\n",
       "      <td>0.128950</td>\n",
       "      <td>-0.584777</td>\n",
       "      <td>-0.787823</td>\n",
       "      <td>1</td>\n",
       "    </tr>\n",
       "    <tr>\n",
       "      <th>2</th>\n",
       "      <td>-0.298547</td>\n",
       "      <td>1.297065</td>\n",
       "      <td>-1.186070</td>\n",
       "      <td>-0.169427</td>\n",
       "      <td>0.096353</td>\n",
       "      <td>-0.083669</td>\n",
       "      <td>0.229047</td>\n",
       "      <td>0.134264</td>\n",
       "      <td>-0.331177</td>\n",
       "      <td>-0.048089</td>\n",
       "      <td>-0.584777</td>\n",
       "      <td>-0.787823</td>\n",
       "      <td>1</td>\n",
       "    </tr>\n",
       "    <tr>\n",
       "      <th>3</th>\n",
       "      <td>1.654856</td>\n",
       "      <td>-1.384443</td>\n",
       "      <td>1.484154</td>\n",
       "      <td>-0.453218</td>\n",
       "      <td>-0.264960</td>\n",
       "      <td>0.107592</td>\n",
       "      <td>0.411500</td>\n",
       "      <td>0.664277</td>\n",
       "      <td>-0.979104</td>\n",
       "      <td>-0.461180</td>\n",
       "      <td>-0.584777</td>\n",
       "      <td>0.450848</td>\n",
       "      <td>0</td>\n",
       "    </tr>\n",
       "    <tr>\n",
       "      <th>4</th>\n",
       "      <td>-0.528360</td>\n",
       "      <td>0.961877</td>\n",
       "      <td>-1.391472</td>\n",
       "      <td>-0.453218</td>\n",
       "      <td>-0.243707</td>\n",
       "      <td>-0.466193</td>\n",
       "      <td>-0.379133</td>\n",
       "      <td>0.558274</td>\n",
       "      <td>1.288643</td>\n",
       "      <td>-0.579207</td>\n",
       "      <td>-0.960246</td>\n",
       "      <td>-0.787823</td>\n",
       "      <td>1</td>\n",
       "    </tr>\n",
       "  </tbody>\n",
       "</table>\n",
       "</div>"
      ],
      "text/plain": [
       "   fixed acidity  volatile acidity  citric acid  residual sugar  chlorides  \\\n",
       "0      -0.528360          0.961877    -1.391472       -0.453218  -0.243707   \n",
       "1      -0.298547          1.967442    -1.391472        0.043416   0.223875   \n",
       "2      -0.298547          1.297065    -1.186070       -0.169427   0.096353   \n",
       "3       1.654856         -1.384443     1.484154       -0.453218  -0.264960   \n",
       "4      -0.528360          0.961877    -1.391472       -0.453218  -0.243707   \n",
       "\n",
       "   free sulfur dioxide  total sulfur dioxide   density        pH  sulphates  \\\n",
       "0            -0.466193             -0.379133  0.558274  1.288643  -0.579207   \n",
       "1             0.872638              0.624363  0.028261 -0.719933   0.128950   \n",
       "2            -0.083669              0.229047  0.134264 -0.331177  -0.048089   \n",
       "3             0.107592              0.411500  0.664277 -0.979104  -0.461180   \n",
       "4            -0.466193             -0.379133  0.558274  1.288643  -0.579207   \n",
       "\n",
       "    alcohol   quality Cluster  \n",
       "0 -0.960246 -0.787823       1  \n",
       "1 -0.584777 -0.787823       1  \n",
       "2 -0.584777 -0.787823       1  \n",
       "3 -0.584777  0.450848       0  \n",
       "4 -0.960246 -0.787823       1  "
      ]
     },
     "execution_count": 8,
     "metadata": {},
     "output_type": "execute_result"
    }
   ],
   "source": [
    "wine_cluster = pd.DataFrame(wine_scaled)\n",
    "wine_cluster['Cluster'] = kmeans1.labels_\n",
    "wine_cluster['Cluster'] = wine_cluster.Cluster.astype('category')\n",
    "\n",
    "# inspect new column with cluster labels \n",
    "wine_cluster.head()"
   ]
  },
  {
   "cell_type": "markdown",
   "metadata": {},
   "source": [
    "Next, I can visualize the differences in wine quality in a variety of ways. Below, I use a boxplot to examine which wine sub-groups are associated with higher or lower ratings of quality. "
   ]
  },
  {
   "cell_type": "code",
   "execution_count": 9,
   "metadata": {},
   "outputs": [
    {
     "data": {
      "text/plain": [
       "<matplotlib.axes._subplots.AxesSubplot at 0x7fc896943550>"
      ]
     },
     "execution_count": 9,
     "metadata": {},
     "output_type": "execute_result"
    },
    {
     "data": {
      "image/png": "[encoded data removed]",
      "text/plain": [
       "<Figure size 432x288 with 1 Axes>"
      ]
     },
     "metadata": {
      "needs_background": "light"
     },
     "output_type": "display_data"
    }
   ],
   "source": [
    "import seaborn as sns \n",
    "sns.boxplot(x = wine_cluster['Cluster'], y = wine_cluster['quality'])"
   ]
  },
  {
   "cell_type": "markdown",
   "metadata": {},
   "source": [
    "The boxplot indicates that Cluster 3 has high values of quality (note: the third cluster is labeled 2, since python starts with 0). For more granularity, to see the other clusters that are associated with high or low wine quality, we can filter the data set by grouping each cluster and calculating each cluster's mean quality score. "
   ]
  },
  {
   "cell_type": "code",
   "execution_count": 10,
   "metadata": {},
   "outputs": [
    {
     "data": {
      "text/plain": [
       "Cluster\n",
       "0    0.156165\n",
       "1   -0.521662\n",
       "2    1.055668\n",
       "3   -0.425017\n",
       "4   -0.022761\n",
       "5   -0.360695\n",
       "6    0.468544\n",
       "Name: quality, dtype: float64"
      ]
     },
     "execution_count": 10,
     "metadata": {},
     "output_type": "execute_result"
    }
   ],
   "source": [
    "# calculate mean quality scores by cluster\n",
    "wine_cluster.groupby(['Cluster'])['quality'].mean()\n"
   ]
  },
  {
   "cell_type": "markdown",
   "metadata": {},
   "source": [
    "We see that Cluster 7 (Python row 6) has the second highest quality score and cluster 2 (row 1) has the lowest quality wine score. Finally, to determine if the quality is significantly different across clusters, we can run a simple ANOVA. "
   ]
  },
  {
   "cell_type": "code",
   "execution_count": 11,
   "metadata": {},
   "outputs": [
    {
     "name": "stdout",
     "output_type": "stream",
     "text": [
      "                 sum_sq      df           F         PR(>F)\n",
      "C(Cluster)   534.003516     6.0  133.041691  1.142261e-136\n",
      "Residual    1064.996484  1592.0         NaN            NaN\n"
     ]
    }
   ],
   "source": [
    "import statsmodels.api as sm\n",
    "from statsmodels.formula.api import ols\n",
    "\n",
    "# group by \n",
    "qual_data = wine_cluster[['Cluster', 'quality']] \n",
    "groups = qual_data.groupby('Cluster')\n",
    "groups.head()\n",
    "\n",
    "# Ordinary Least Squares (OLS) model\n",
    "model = ols('quality ~ C(Cluster)', data= qual_data).fit()\n",
    "anova_table = sm.stats.anova_lm(model, typ=2)\n",
    "print(anova_table) \n"
   ]
  },
  {
   "cell_type": "markdown",
   "metadata": {},
   "source": [
    "The ANOVA results indicate that there are statistically significant mean differences in wine quality across the clusters identified by k-means. "
   ]
  },
  {
   "cell_type": "markdown",
   "metadata": {},
   "source": [
    "Next, in addition to identifying clusters with high and low quality scores, this question also asks us to describe variables that cluster with higher and lower values of wine quality. To address this question, we can examine correlations between wine quality scores with the other features in the data set. "
   ]
  },
  {
   "cell_type": "code",
   "execution_count": 12,
   "metadata": {},
   "outputs": [
    {
     "data": {
      "text/html": [
       "<style  type=\"text/css\" >\n",
       "    #T_f445f85a_d279_11ed_8f4f_9801a7934c0drow0_col0 {\n",
       "            background-color:  #b40426;\n",
       "            color:  #f1f1f1;\n",
       "        }    #T_f445f85a_d279_11ed_8f4f_9801a7934c0drow0_col1 {\n",
       "            background-color:  #779af7;\n",
       "            color:  #000000;\n",
       "        }    #T_f445f85a_d279_11ed_8f4f_9801a7934c0drow0_col2 {\n",
       "            background-color:  #f08a6c;\n",
       "            color:  #000000;\n",
       "        }    #T_f445f85a_d279_11ed_8f4f_9801a7934c0drow0_col3 {\n",
       "            background-color:  #7699f6;\n",
       "            color:  #000000;\n",
       "        }    #T_f445f85a_d279_11ed_8f4f_9801a7934c0drow0_col4 {\n",
       "            background-color:  #98b9ff;\n",
       "            color:  #000000;\n",
       "        }    #T_f445f85a_d279_11ed_8f4f_9801a7934c0drow0_col5 {\n",
       "            background-color:  #3b4cc0;\n",
       "            color:  #f1f1f1;\n",
       "        }    #T_f445f85a_d279_11ed_8f4f_9801a7934c0drow0_col6 {\n",
       "            background-color:  #516ddb;\n",
       "            color:  #000000;\n",
       "        }    #T_f445f85a_d279_11ed_8f4f_9801a7934c0drow0_col7 {\n",
       "            background-color:  #f18d6f;\n",
       "            color:  #000000;\n",
       "        }    #T_f445f85a_d279_11ed_8f4f_9801a7934c0drow0_col8 {\n",
       "            background-color:  #3b4cc0;\n",
       "            color:  #f1f1f1;\n",
       "        }    #T_f445f85a_d279_11ed_8f4f_9801a7934c0drow0_col9 {\n",
       "            background-color:  #b1cbfc;\n",
       "            color:  #000000;\n",
       "        }    #T_f445f85a_d279_11ed_8f4f_9801a7934c0drow0_col10 {\n",
       "            background-color:  #9bbcff;\n",
       "            color:  #000000;\n",
       "        }    #T_f445f85a_d279_11ed_8f4f_9801a7934c0drow0_col11 {\n",
       "            background-color:  #b6cefa;\n",
       "            color:  #000000;\n",
       "        }    #T_f445f85a_d279_11ed_8f4f_9801a7934c0drow1_col0 {\n",
       "            background-color:  #8db0fe;\n",
       "            color:  #000000;\n",
       "        }    #T_f445f85a_d279_11ed_8f4f_9801a7934c0drow1_col1 {\n",
       "            background-color:  #b40426;\n",
       "            color:  #f1f1f1;\n",
       "        }    #T_f445f85a_d279_11ed_8f4f_9801a7934c0drow1_col2 {\n",
       "            background-color:  #3b4cc0;\n",
       "            color:  #f1f1f1;\n",
       "        }    #T_f445f85a_d279_11ed_8f4f_9801a7934c0drow1_col3 {\n",
       "            background-color:  #536edd;\n",
       "            color:  #000000;\n",
       "        }    #T_f445f85a_d279_11ed_8f4f_9801a7934c0drow1_col4 {\n",
       "            background-color:  #90b2fe;\n",
       "            color:  #000000;\n",
       "        }    #T_f445f85a_d279_11ed_8f4f_9801a7934c0drow1_col5 {\n",
       "            background-color:  #6180e9;\n",
       "            color:  #000000;\n",
       "        }    #T_f445f85a_d279_11ed_8f4f_9801a7934c0drow1_col6 {\n",
       "            background-color:  #86a9fc;\n",
       "            color:  #000000;\n",
       "        }    #T_f445f85a_d279_11ed_8f4f_9801a7934c0drow1_col7 {\n",
       "            background-color:  #aec9fc;\n",
       "            color:  #000000;\n",
       "        }    #T_f445f85a_d279_11ed_8f4f_9801a7934c0drow1_col8 {\n",
       "            background-color:  #e8d6cc;\n",
       "            color:  #000000;\n",
       "        }    #T_f445f85a_d279_11ed_8f4f_9801a7934c0drow1_col9 {\n",
       "            background-color:  #3b4cc0;\n",
       "            color:  #f1f1f1;\n",
       "        }    #T_f445f85a_d279_11ed_8f4f_9801a7934c0drow1_col10 {\n",
       "            background-color:  #7a9df8;\n",
       "            color:  #000000;\n",
       "        }    #T_f445f85a_d279_11ed_8f4f_9801a7934c0drow1_col11 {\n",
       "            background-color:  #3b4cc0;\n",
       "            color:  #f1f1f1;\n",
       "        }    #T_f445f85a_d279_11ed_8f4f_9801a7934c0drow2_col0 {\n",
       "            background-color:  #ec8165;\n",
       "            color:  #000000;\n",
       "        }    #T_f445f85a_d279_11ed_8f4f_9801a7934c0drow2_col1 {\n",
       "            background-color:  #3b4cc0;\n",
       "            color:  #f1f1f1;\n",
       "        }    #T_f445f85a_d279_11ed_8f4f_9801a7934c0drow2_col2 {\n",
       "            background-color:  #b40426;\n",
       "            color:  #f1f1f1;\n",
       "        }    #T_f445f85a_d279_11ed_8f4f_9801a7934c0drow2_col3 {\n",
       "            background-color:  #80a3fa;\n",
       "            color:  #000000;\n",
       "        }    #T_f445f85a_d279_11ed_8f4f_9801a7934c0drow2_col4 {\n",
       "            background-color:  #b6cefa;\n",
       "            color:  #000000;\n",
       "        }    #T_f445f85a_d279_11ed_8f4f_9801a7934c0drow2_col5 {\n",
       "            background-color:  #536edd;\n",
       "            color:  #000000;\n",
       "        }    #T_f445f85a_d279_11ed_8f4f_9801a7934c0drow2_col6 {\n",
       "            background-color:  #7b9ff9;\n",
       "            color:  #000000;\n",
       "        }    #T_f445f85a_d279_11ed_8f4f_9801a7934c0drow2_col7 {\n",
       "            background-color:  #eed0c0;\n",
       "            color:  #000000;\n",
       "        }    #T_f445f85a_d279_11ed_8f4f_9801a7934c0drow2_col8 {\n",
       "            background-color:  #5470de;\n",
       "            color:  #000000;\n",
       "        }    #T_f445f85a_d279_11ed_8f4f_9801a7934c0drow2_col9 {\n",
       "            background-color:  #d1dae9;\n",
       "            color:  #000000;\n",
       "        }    #T_f445f85a_d279_11ed_8f4f_9801a7934c0drow2_col10 {\n",
       "            background-color:  #c1d4f4;\n",
       "            color:  #000000;\n",
       "        }    #T_f445f85a_d279_11ed_8f4f_9801a7934c0drow2_col11 {\n",
       "            background-color:  #cdd9ec;\n",
       "            color:  #000000;\n",
       "        }    #T_f445f85a_d279_11ed_8f4f_9801a7934c0drow3_col0 {\n",
       "            background-color:  #d6dce4;\n",
       "            color:  #000000;\n",
       "        }    #T_f445f85a_d279_11ed_8f4f_9801a7934c0drow3_col1 {\n",
       "            background-color:  #b2ccfb;\n",
       "            color:  #000000;\n",
       "        }    #T_f445f85a_d279_11ed_8f4f_9801a7934c0drow3_col2 {\n",
       "            background-color:  #cedaeb;\n",
       "            color:  #000000;\n",
       "        }    #T_f445f85a_d279_11ed_8f4f_9801a7934c0drow3_col3 {\n",
       "            background-color:  #b40426;\n",
       "            color:  #f1f1f1;\n",
       "        }    #T_f445f85a_d279_11ed_8f4f_9801a7934c0drow3_col4 {\n",
       "            background-color:  #8db0fe;\n",
       "            color:  #000000;\n",
       "        }    #T_f445f85a_d279_11ed_8f4f_9801a7934c0drow3_col5 {\n",
       "            background-color:  #9dbdff;\n",
       "            color:  #000000;\n",
       "        }    #T_f445f85a_d279_11ed_8f4f_9801a7934c0drow3_col6 {\n",
       "            background-color:  #abc8fd;\n",
       "            color:  #000000;\n",
       "        }    #T_f445f85a_d279_11ed_8f4f_9801a7934c0drow3_col7 {\n",
       "            background-color:  #edd2c3;\n",
       "            color:  #000000;\n",
       "        }    #T_f445f85a_d279_11ed_8f4f_9801a7934c0drow3_col8 {\n",
       "            background-color:  #b1cbfc;\n",
       "            color:  #000000;\n",
       "        }    #T_f445f85a_d279_11ed_8f4f_9801a7934c0drow3_col9 {\n",
       "            background-color:  #80a3fa;\n",
       "            color:  #000000;\n",
       "        }    #T_f445f85a_d279_11ed_8f4f_9801a7934c0drow3_col10 {\n",
       "            background-color:  #b3cdfb;\n",
       "            color:  #000000;\n",
       "        }    #T_f445f85a_d279_11ed_8f4f_9801a7934c0drow3_col11 {\n",
       "            background-color:  #9bbcff;\n",
       "            color:  #000000;\n",
       "        }    #T_f445f85a_d279_11ed_8f4f_9801a7934c0drow4_col0 {\n",
       "            background-color:  #d3dbe7;\n",
       "            color:  #000000;\n",
       "        }    #T_f445f85a_d279_11ed_8f4f_9801a7934c0drow4_col1 {\n",
       "            background-color:  #bfd3f6;\n",
       "            color:  #000000;\n",
       "        }    #T_f445f85a_d279_11ed_8f4f_9801a7934c0drow4_col2 {\n",
       "            background-color:  #d9dce1;\n",
       "            color:  #000000;\n",
       "        }    #T_f445f85a_d279_11ed_8f4f_9801a7934c0drow4_col3 {\n",
       "            background-color:  #6384eb;\n",
       "            color:  #000000;\n",
       "        }    #T_f445f85a_d279_11ed_8f4f_9801a7934c0drow4_col4 {\n",
       "            background-color:  #b40426;\n",
       "            color:  #f1f1f1;\n",
       "        }    #T_f445f85a_d279_11ed_8f4f_9801a7934c0drow4_col5 {\n",
       "            background-color:  #6687ed;\n",
       "            color:  #000000;\n",
       "        }    #T_f445f85a_d279_11ed_8f4f_9801a7934c0drow4_col6 {\n",
       "            background-color:  #7ea1fa;\n",
       "            color:  #000000;\n",
       "        }    #T_f445f85a_d279_11ed_8f4f_9801a7934c0drow4_col7 {\n",
       "            background-color:  #d4dbe6;\n",
       "            color:  #000000;\n",
       "        }    #T_f445f85a_d279_11ed_8f4f_9801a7934c0drow4_col8 {\n",
       "            background-color:  #8caffe;\n",
       "            color:  #000000;\n",
       "        }    #T_f445f85a_d279_11ed_8f4f_9801a7934c0drow4_col9 {\n",
       "            background-color:  #dddcdc;\n",
       "            color:  #000000;\n",
       "        }    #T_f445f85a_d279_11ed_8f4f_9801a7934c0drow4_col10 {\n",
       "            background-color:  #7699f6;\n",
       "            color:  #000000;\n",
       "        }    #T_f445f85a_d279_11ed_8f4f_9801a7934c0drow4_col11 {\n",
       "            background-color:  #779af7;\n",
       "            color:  #000000;\n",
       "        }    #T_f445f85a_d279_11ed_8f4f_9801a7934c0drow5_col0 {\n",
       "            background-color:  #a3c2fe;\n",
       "            color:  #000000;\n",
       "        }    #T_f445f85a_d279_11ed_8f4f_9801a7934c0drow5_col1 {\n",
       "            background-color:  #afcafc;\n",
       "            color:  #000000;\n",
       "        }    #T_f445f85a_d279_11ed_8f4f_9801a7934c0drow5_col2 {\n",
       "            background-color:  #a5c3fe;\n",
       "            color:  #000000;\n",
       "        }    #T_f445f85a_d279_11ed_8f4f_9801a7934c0drow5_col3 {\n",
       "            background-color:  #8db0fe;\n",
       "            color:  #000000;\n",
       "        }    #T_f445f85a_d279_11ed_8f4f_9801a7934c0drow5_col4 {\n",
       "            background-color:  #80a3fa;\n",
       "            color:  #000000;\n",
       "        }    #T_f445f85a_d279_11ed_8f4f_9801a7934c0drow5_col5 {\n",
       "            background-color:  #b40426;\n",
       "            color:  #f1f1f1;\n",
       "        }    #T_f445f85a_d279_11ed_8f4f_9801a7934c0drow5_col6 {\n",
       "            background-color:  #f6a385;\n",
       "            color:  #000000;\n",
       "        }    #T_f445f85a_d279_11ed_8f4f_9801a7934c0drow5_col7 {\n",
       "            background-color:  #a5c3fe;\n",
       "            color:  #000000;\n",
       "        }    #T_f445f85a_d279_11ed_8f4f_9801a7934c0drow5_col8 {\n",
       "            background-color:  #cedaeb;\n",
       "            color:  #000000;\n",
       "        }    #T_f445f85a_d279_11ed_8f4f_9801a7934c0drow5_col9 {\n",
       "            background-color:  #8caffe;\n",
       "            color:  #000000;\n",
       "        }    #T_f445f85a_d279_11ed_8f4f_9801a7934c0drow5_col10 {\n",
       "            background-color:  #9abbff;\n",
       "            color:  #000000;\n",
       "        }    #T_f445f85a_d279_11ed_8f4f_9801a7934c0drow5_col11 {\n",
       "            background-color:  #8badfd;\n",
       "            color:  #000000;\n",
       "        }    #T_f445f85a_d279_11ed_8f4f_9801a7934c0drow6_col0 {\n",
       "            background-color:  #abc8fd;\n",
       "            color:  #000000;\n",
       "        }    #T_f445f85a_d279_11ed_8f4f_9801a7934c0drow6_col1 {\n",
       "            background-color:  #c1d4f4;\n",
       "            color:  #000000;\n",
       "        }    #T_f445f85a_d279_11ed_8f4f_9801a7934c0drow6_col2 {\n",
       "            background-color:  #b9d0f9;\n",
       "            color:  #000000;\n",
       "        }    #T_f445f85a_d279_11ed_8f4f_9801a7934c0drow6_col3 {\n",
       "            background-color:  #93b5fe;\n",
       "            color:  #000000;\n",
       "        }    #T_f445f85a_d279_11ed_8f4f_9801a7934c0drow6_col4 {\n",
       "            background-color:  #8caffe;\n",
       "            color:  #000000;\n",
       "        }    #T_f445f85a_d279_11ed_8f4f_9801a7934c0drow6_col5 {\n",
       "            background-color:  #f7a889;\n",
       "            color:  #000000;\n",
       "        }    #T_f445f85a_d279_11ed_8f4f_9801a7934c0drow6_col6 {\n",
       "            background-color:  #b40426;\n",
       "            color:  #f1f1f1;\n",
       "        }    #T_f445f85a_d279_11ed_8f4f_9801a7934c0drow6_col7 {\n",
       "            background-color:  #bad0f8;\n",
       "            color:  #000000;\n",
       "        }    #T_f445f85a_d279_11ed_8f4f_9801a7934c0drow6_col8 {\n",
       "            background-color:  #b5cdfa;\n",
       "            color:  #000000;\n",
       "        }    #T_f445f85a_d279_11ed_8f4f_9801a7934c0drow6_col9 {\n",
       "            background-color:  #89acfd;\n",
       "            color:  #000000;\n",
       "        }    #T_f445f85a_d279_11ed_8f4f_9801a7934c0drow6_col10 {\n",
       "            background-color:  #799cf8;\n",
       "            color:  #000000;\n",
       "        }    #T_f445f85a_d279_11ed_8f4f_9801a7934c0drow6_col11 {\n",
       "            background-color:  #688aef;\n",
       "            color:  #000000;\n",
       "        }    #T_f445f85a_d279_11ed_8f4f_9801a7934c0drow7_col0 {\n",
       "            background-color:  #ed8366;\n",
       "            color:  #000000;\n",
       "        }    #T_f445f85a_d279_11ed_8f4f_9801a7934c0drow7_col1 {\n",
       "            background-color:  #b6cefa;\n",
       "            color:  #000000;\n",
       "        }    #T_f445f85a_d279_11ed_8f4f_9801a7934c0drow7_col2 {\n",
       "            background-color:  #f1cdba;\n",
       "            color:  #000000;\n",
       "        }    #T_f445f85a_d279_11ed_8f4f_9801a7934c0drow7_col3 {\n",
       "            background-color:  #c1d4f4;\n",
       "            color:  #000000;\n",
       "        }    #T_f445f85a_d279_11ed_8f4f_9801a7934c0drow7_col4 {\n",
       "            background-color:  #b6cefa;\n",
       "            color:  #000000;\n",
       "        }    #T_f445f85a_d279_11ed_8f4f_9801a7934c0drow7_col5 {\n",
       "            background-color:  #5e7de7;\n",
       "            color:  #000000;\n",
       "        }    #T_f445f85a_d279_11ed_8f4f_9801a7934c0drow7_col6 {\n",
       "            background-color:  #85a8fc;\n",
       "            color:  #000000;\n",
       "        }    #T_f445f85a_d279_11ed_8f4f_9801a7934c0drow7_col7 {\n",
       "            background-color:  #b40426;\n",
       "            color:  #f1f1f1;\n",
       "        }    #T_f445f85a_d279_11ed_8f4f_9801a7934c0drow7_col8 {\n",
       "            background-color:  #7b9ff9;\n",
       "            color:  #000000;\n",
       "        }    #T_f445f85a_d279_11ed_8f4f_9801a7934c0drow7_col9 {\n",
       "            background-color:  #a7c5fe;\n",
       "            color:  #000000;\n",
       "        }    #T_f445f85a_d279_11ed_8f4f_9801a7934c0drow7_col10 {\n",
       "            background-color:  #3b4cc0;\n",
       "            color:  #f1f1f1;\n",
       "        }    #T_f445f85a_d279_11ed_8f4f_9801a7934c0drow7_col11 {\n",
       "            background-color:  #6b8df0;\n",
       "            color:  #000000;\n",
       "        }    #T_f445f85a_d279_11ed_8f4f_9801a7934c0drow8_col0 {\n",
       "            background-color:  #3b4cc0;\n",
       "            color:  #f1f1f1;\n",
       "        }    #T_f445f85a_d279_11ed_8f4f_9801a7934c0drow8_col1 {\n",
       "            background-color:  #dedcdb;\n",
       "            color:  #000000;\n",
       "        }    #T_f445f85a_d279_11ed_8f4f_9801a7934c0drow8_col2 {\n",
       "            background-color:  #3c4ec2;\n",
       "            color:  #f1f1f1;\n",
       "        }    #T_f445f85a_d279_11ed_8f4f_9801a7934c0drow8_col3 {\n",
       "            background-color:  #3b4cc0;\n",
       "            color:  #f1f1f1;\n",
       "        }    #T_f445f85a_d279_11ed_8f4f_9801a7934c0drow8_col4 {\n",
       "            background-color:  #3b4cc0;\n",
       "            color:  #f1f1f1;\n",
       "        }    #T_f445f85a_d279_11ed_8f4f_9801a7934c0drow8_col5 {\n",
       "            background-color:  #799cf8;\n",
       "            color:  #000000;\n",
       "        }    #T_f445f85a_d279_11ed_8f4f_9801a7934c0drow8_col6 {\n",
       "            background-color:  #5e7de7;\n",
       "            color:  #000000;\n",
       "        }    #T_f445f85a_d279_11ed_8f4f_9801a7934c0drow8_col7 {\n",
       "            background-color:  #5a78e4;\n",
       "            color:  #000000;\n",
       "        }    #T_f445f85a_d279_11ed_8f4f_9801a7934c0drow8_col8 {\n",
       "            background-color:  #b40426;\n",
       "            color:  #f1f1f1;\n",
       "        }    #T_f445f85a_d279_11ed_8f4f_9801a7934c0drow8_col9 {\n",
       "            background-color:  #4a63d3;\n",
       "            color:  #f1f1f1;\n",
       "        }    #T_f445f85a_d279_11ed_8f4f_9801a7934c0drow8_col10 {\n",
       "            background-color:  #d5dbe5;\n",
       "            color:  #000000;\n",
       "        }    #T_f445f85a_d279_11ed_8f4f_9801a7934c0drow8_col11 {\n",
       "            background-color:  #89acfd;\n",
       "            color:  #000000;\n",
       "        }    #T_f445f85a_d279_11ed_8f4f_9801a7934c0drow9_col0 {\n",
       "            background-color:  #e0dbd8;\n",
       "            color:  #000000;\n",
       "        }    #T_f445f85a_d279_11ed_8f4f_9801a7934c0drow9_col1 {\n",
       "            background-color:  #779af7;\n",
       "            color:  #000000;\n",
       "        }    #T_f445f85a_d279_11ed_8f4f_9801a7934c0drow9_col2 {\n",
       "            background-color:  #ead4c8;\n",
       "            color:  #000000;\n",
       "        }    #T_f445f85a_d279_11ed_8f4f_9801a7934c0drow9_col3 {\n",
       "            background-color:  #5470de;\n",
       "            color:  #000000;\n",
       "        }    #T_f445f85a_d279_11ed_8f4f_9801a7934c0drow9_col4 {\n",
       "            background-color:  #dddcdc;\n",
       "            color:  #000000;\n",
       "        }    #T_f445f85a_d279_11ed_8f4f_9801a7934c0drow9_col5 {\n",
       "            background-color:  #7396f5;\n",
       "            color:  #000000;\n",
       "        }    #T_f445f85a_d279_11ed_8f4f_9801a7934c0drow9_col6 {\n",
       "            background-color:  #7da0f9;\n",
       "            color:  #000000;\n",
       "        }    #T_f445f85a_d279_11ed_8f4f_9801a7934c0drow9_col7 {\n",
       "            background-color:  #cad8ef;\n",
       "            color:  #000000;\n",
       "        }    #T_f445f85a_d279_11ed_8f4f_9801a7934c0drow9_col8 {\n",
       "            background-color:  #9abbff;\n",
       "            color:  #000000;\n",
       "        }    #T_f445f85a_d279_11ed_8f4f_9801a7934c0drow9_col9 {\n",
       "            background-color:  #b40426;\n",
       "            color:  #f1f1f1;\n",
       "        }    #T_f445f85a_d279_11ed_8f4f_9801a7934c0drow9_col10 {\n",
       "            background-color:  #bed2f6;\n",
       "            color:  #000000;\n",
       "        }    #T_f445f85a_d279_11ed_8f4f_9801a7934c0drow9_col11 {\n",
       "            background-color:  #d3dbe7;\n",
       "            color:  #000000;\n",
       "        }    #T_f445f85a_d279_11ed_8f4f_9801a7934c0drow10_col0 {\n",
       "            background-color:  #b6cefa;\n",
       "            color:  #000000;\n",
       "        }    #T_f445f85a_d279_11ed_8f4f_9801a7934c0drow10_col1 {\n",
       "            background-color:  #84a7fc;\n",
       "            color:  #000000;\n",
       "        }    #T_f445f85a_d279_11ed_8f4f_9801a7934c0drow10_col2 {\n",
       "            background-color:  #c9d7f0;\n",
       "            color:  #000000;\n",
       "        }    #T_f445f85a_d279_11ed_8f4f_9801a7934c0drow10_col3 {\n",
       "            background-color:  #5f7fe8;\n",
       "            color:  #000000;\n",
       "        }    #T_f445f85a_d279_11ed_8f4f_9801a7934c0drow10_col4 {\n",
       "            background-color:  #445acc;\n",
       "            color:  #f1f1f1;\n",
       "        }    #T_f445f85a_d279_11ed_8f4f_9801a7934c0drow10_col5 {\n",
       "            background-color:  #506bda;\n",
       "            color:  #000000;\n",
       "        }    #T_f445f85a_d279_11ed_8f4f_9801a7934c0drow10_col6 {\n",
       "            background-color:  #3b4cc0;\n",
       "            color:  #f1f1f1;\n",
       "        }    #T_f445f85a_d279_11ed_8f4f_9801a7934c0drow10_col7 {\n",
       "            background-color:  #3b4cc0;\n",
       "            color:  #f1f1f1;\n",
       "        }    #T_f445f85a_d279_11ed_8f4f_9801a7934c0drow10_col8 {\n",
       "            background-color:  #e4d9d2;\n",
       "            color:  #000000;\n",
       "        }    #T_f445f85a_d279_11ed_8f4f_9801a7934c0drow10_col9 {\n",
       "            background-color:  #97b8ff;\n",
       "            color:  #000000;\n",
       "        }    #T_f445f85a_d279_11ed_8f4f_9801a7934c0drow10_col10 {\n",
       "            background-color:  #b40426;\n",
       "            color:  #f1f1f1;\n",
       "        }    #T_f445f85a_d279_11ed_8f4f_9801a7934c0drow10_col11 {\n",
       "            background-color:  #f4c5ad;\n",
       "            color:  #000000;\n",
       "        }    #T_f445f85a_d279_11ed_8f4f_9801a7934c0drow11_col0 {\n",
       "            background-color:  #d7dce3;\n",
       "            color:  #000000;\n",
       "        }    #T_f445f85a_d279_11ed_8f4f_9801a7934c0drow11_col1 {\n",
       "            background-color:  #5a78e4;\n",
       "            color:  #000000;\n",
       "        }    #T_f445f85a_d279_11ed_8f4f_9801a7934c0drow11_col2 {\n",
       "            background-color:  #dddcdc;\n",
       "            color:  #000000;\n",
       "        }    #T_f445f85a_d279_11ed_8f4f_9801a7934c0drow11_col3 {\n",
       "            background-color:  #5673e0;\n",
       "            color:  #000000;\n",
       "        }    #T_f445f85a_d279_11ed_8f4f_9801a7934c0drow11_col4 {\n",
       "            background-color:  #5b7ae5;\n",
       "            color:  #000000;\n",
       "        }    #T_f445f85a_d279_11ed_8f4f_9801a7934c0drow11_col5 {\n",
       "            background-color:  #5572df;\n",
       "            color:  #000000;\n",
       "        }    #T_f445f85a_d279_11ed_8f4f_9801a7934c0drow11_col6 {\n",
       "            background-color:  #3f53c6;\n",
       "            color:  #f1f1f1;\n",
       "        }    #T_f445f85a_d279_11ed_8f4f_9801a7934c0drow11_col7 {\n",
       "            background-color:  #80a3fa;\n",
       "            color:  #000000;\n",
       "        }    #T_f445f85a_d279_11ed_8f4f_9801a7934c0drow11_col8 {\n",
       "            background-color:  #b7cff9;\n",
       "            color:  #000000;\n",
       "        }    #T_f445f85a_d279_11ed_8f4f_9801a7934c0drow11_col9 {\n",
       "            background-color:  #c3d5f4;\n",
       "            color:  #000000;\n",
       "        }    #T_f445f85a_d279_11ed_8f4f_9801a7934c0drow11_col10 {\n",
       "            background-color:  #f6bda2;\n",
       "            color:  #000000;\n",
       "        }    #T_f445f85a_d279_11ed_8f4f_9801a7934c0drow11_col11 {\n",
       "            background-color:  #b40426;\n",
       "            color:  #f1f1f1;\n",
       "        }</style><table id=\"T_f445f85a_d279_11ed_8f4f_9801a7934c0d\" ><thead>    <tr>        <th class=\"blank level0\" ></th>        <th class=\"col_heading level0 col0\" >fixed acidity</th>        <th class=\"col_heading level0 col1\" >volatile acidity</th>        <th class=\"col_heading level0 col2\" >citric acid</th>        <th class=\"col_heading level0 col3\" >residual sugar</th>        <th class=\"col_heading level0 col4\" >chlorides</th>        <th class=\"col_heading level0 col5\" >free sulfur dioxide</th>        <th class=\"col_heading level0 col6\" >total sulfur dioxide</th>        <th class=\"col_heading level0 col7\" >density</th>        <th class=\"col_heading level0 col8\" >pH</th>        <th class=\"col_heading level0 col9\" >sulphates</th>        <th class=\"col_heading level0 col10\" >alcohol</th>        <th class=\"col_heading level0 col11\" >quality</th>    </tr></thead><tbody>\n",
       "                <tr>\n",
       "                        <th id=\"T_f445f85a_d279_11ed_8f4f_9801a7934c0dlevel0_row0\" class=\"row_heading level0 row0\" >fixed acidity</th>\n",
       "                        <td id=\"T_f445f85a_d279_11ed_8f4f_9801a7934c0drow0_col0\" class=\"data row0 col0\" >1.000000</td>\n",
       "                        <td id=\"T_f445f85a_d279_11ed_8f4f_9801a7934c0drow0_col1\" class=\"data row0 col1\" >-0.256131</td>\n",
       "                        <td id=\"T_f445f85a_d279_11ed_8f4f_9801a7934c0drow0_col2\" class=\"data row0 col2\" >0.671703</td>\n",
       "                        <td id=\"T_f445f85a_d279_11ed_8f4f_9801a7934c0drow0_col3\" class=\"data row0 col3\" >0.114777</td>\n",
       "                        <td id=\"T_f445f85a_d279_11ed_8f4f_9801a7934c0drow0_col4\" class=\"data row0 col4\" >0.093705</td>\n",
       "                        <td id=\"T_f445f85a_d279_11ed_8f4f_9801a7934c0drow0_col5\" class=\"data row0 col5\" >-0.153794</td>\n",
       "                        <td id=\"T_f445f85a_d279_11ed_8f4f_9801a7934c0drow0_col6\" class=\"data row0 col6\" >-0.113181</td>\n",
       "                        <td id=\"T_f445f85a_d279_11ed_8f4f_9801a7934c0drow0_col7\" class=\"data row0 col7\" >0.668047</td>\n",
       "                        <td id=\"T_f445f85a_d279_11ed_8f4f_9801a7934c0drow0_col8\" class=\"data row0 col8\" >-0.682978</td>\n",
       "                        <td id=\"T_f445f85a_d279_11ed_8f4f_9801a7934c0drow0_col9\" class=\"data row0 col9\" >0.183006</td>\n",
       "                        <td id=\"T_f445f85a_d279_11ed_8f4f_9801a7934c0drow0_col10\" class=\"data row0 col10\" >-0.061668</td>\n",
       "                        <td id=\"T_f445f85a_d279_11ed_8f4f_9801a7934c0drow0_col11\" class=\"data row0 col11\" >0.124052</td>\n",
       "            </tr>\n",
       "            <tr>\n",
       "                        <th id=\"T_f445f85a_d279_11ed_8f4f_9801a7934c0dlevel0_row1\" class=\"row_heading level0 row1\" >volatile acidity</th>\n",
       "                        <td id=\"T_f445f85a_d279_11ed_8f4f_9801a7934c0drow1_col0\" class=\"data row1 col0\" >-0.256131</td>\n",
       "                        <td id=\"T_f445f85a_d279_11ed_8f4f_9801a7934c0drow1_col1\" class=\"data row1 col1\" >1.000000</td>\n",
       "                        <td id=\"T_f445f85a_d279_11ed_8f4f_9801a7934c0drow1_col2\" class=\"data row1 col2\" >-0.552496</td>\n",
       "                        <td id=\"T_f445f85a_d279_11ed_8f4f_9801a7934c0drow1_col3\" class=\"data row1 col3\" >0.001918</td>\n",
       "                        <td id=\"T_f445f85a_d279_11ed_8f4f_9801a7934c0drow1_col4\" class=\"data row1 col4\" >0.061298</td>\n",
       "                        <td id=\"T_f445f85a_d279_11ed_8f4f_9801a7934c0drow1_col5\" class=\"data row1 col5\" >-0.010504</td>\n",
       "                        <td id=\"T_f445f85a_d279_11ed_8f4f_9801a7934c0drow1_col6\" class=\"data row1 col6\" >0.076470</td>\n",
       "                        <td id=\"T_f445f85a_d279_11ed_8f4f_9801a7934c0drow1_col7\" class=\"data row1 col7\" >0.022026</td>\n",
       "                        <td id=\"T_f445f85a_d279_11ed_8f4f_9801a7934c0drow1_col8\" class=\"data row1 col8\" >0.234937</td>\n",
       "                        <td id=\"T_f445f85a_d279_11ed_8f4f_9801a7934c0drow1_col9\" class=\"data row1 col9\" >-0.260987</td>\n",
       "                        <td id=\"T_f445f85a_d279_11ed_8f4f_9801a7934c0drow1_col10\" class=\"data row1 col10\" >-0.202288</td>\n",
       "                        <td id=\"T_f445f85a_d279_11ed_8f4f_9801a7934c0drow1_col11\" class=\"data row1 col11\" >-0.390558</td>\n",
       "            </tr>\n",
       "            <tr>\n",
       "                        <th id=\"T_f445f85a_d279_11ed_8f4f_9801a7934c0dlevel0_row2\" class=\"row_heading level0 row2\" >citric acid</th>\n",
       "                        <td id=\"T_f445f85a_d279_11ed_8f4f_9801a7934c0drow2_col0\" class=\"data row2 col0\" >0.671703</td>\n",
       "                        <td id=\"T_f445f85a_d279_11ed_8f4f_9801a7934c0drow2_col1\" class=\"data row2 col1\" >-0.552496</td>\n",
       "                        <td id=\"T_f445f85a_d279_11ed_8f4f_9801a7934c0drow2_col2\" class=\"data row2 col2\" >1.000000</td>\n",
       "                        <td id=\"T_f445f85a_d279_11ed_8f4f_9801a7934c0drow2_col3\" class=\"data row2 col3\" >0.143577</td>\n",
       "                        <td id=\"T_f445f85a_d279_11ed_8f4f_9801a7934c0drow2_col4\" class=\"data row2 col4\" >0.203823</td>\n",
       "                        <td id=\"T_f445f85a_d279_11ed_8f4f_9801a7934c0drow2_col5\" class=\"data row2 col5\" >-0.060978</td>\n",
       "                        <td id=\"T_f445f85a_d279_11ed_8f4f_9801a7934c0drow2_col6\" class=\"data row2 col6\" >0.035533</td>\n",
       "                        <td id=\"T_f445f85a_d279_11ed_8f4f_9801a7934c0drow2_col7\" class=\"data row2 col7\" >0.364947</td>\n",
       "                        <td id=\"T_f445f85a_d279_11ed_8f4f_9801a7934c0drow2_col8\" class=\"data row2 col8\" >-0.541904</td>\n",
       "                        <td id=\"T_f445f85a_d279_11ed_8f4f_9801a7934c0drow2_col9\" class=\"data row2 col9\" >0.312770</td>\n",
       "                        <td id=\"T_f445f85a_d279_11ed_8f4f_9801a7934c0drow2_col10\" class=\"data row2 col10\" >0.109903</td>\n",
       "                        <td id=\"T_f445f85a_d279_11ed_8f4f_9801a7934c0drow2_col11\" class=\"data row2 col11\" >0.226373</td>\n",
       "            </tr>\n",
       "            <tr>\n",
       "                        <th id=\"T_f445f85a_d279_11ed_8f4f_9801a7934c0dlevel0_row3\" class=\"row_heading level0 row3\" >residual sugar</th>\n",
       "                        <td id=\"T_f445f85a_d279_11ed_8f4f_9801a7934c0drow3_col0\" class=\"data row3 col0\" >0.114777</td>\n",
       "                        <td id=\"T_f445f85a_d279_11ed_8f4f_9801a7934c0drow3_col1\" class=\"data row3 col1\" >0.001918</td>\n",
       "                        <td id=\"T_f445f85a_d279_11ed_8f4f_9801a7934c0drow3_col2\" class=\"data row3 col2\" >0.143577</td>\n",
       "                        <td id=\"T_f445f85a_d279_11ed_8f4f_9801a7934c0drow3_col3\" class=\"data row3 col3\" >1.000000</td>\n",
       "                        <td id=\"T_f445f85a_d279_11ed_8f4f_9801a7934c0drow3_col4\" class=\"data row3 col4\" >0.055610</td>\n",
       "                        <td id=\"T_f445f85a_d279_11ed_8f4f_9801a7934c0drow3_col5\" class=\"data row3 col5\" >0.187049</td>\n",
       "                        <td id=\"T_f445f85a_d279_11ed_8f4f_9801a7934c0drow3_col6\" class=\"data row3 col6\" >0.203028</td>\n",
       "                        <td id=\"T_f445f85a_d279_11ed_8f4f_9801a7934c0drow3_col7\" class=\"data row3 col7\" >0.355283</td>\n",
       "                        <td id=\"T_f445f85a_d279_11ed_8f4f_9801a7934c0drow3_col8\" class=\"data row3 col8\" >-0.085652</td>\n",
       "                        <td id=\"T_f445f85a_d279_11ed_8f4f_9801a7934c0drow3_col9\" class=\"data row3 col9\" >0.005527</td>\n",
       "                        <td id=\"T_f445f85a_d279_11ed_8f4f_9801a7934c0drow3_col10\" class=\"data row3 col10\" >0.042075</td>\n",
       "                        <td id=\"T_f445f85a_d279_11ed_8f4f_9801a7934c0drow3_col11\" class=\"data row3 col11\" >0.013732</td>\n",
       "            </tr>\n",
       "            <tr>\n",
       "                        <th id=\"T_f445f85a_d279_11ed_8f4f_9801a7934c0dlevel0_row4\" class=\"row_heading level0 row4\" >chlorides</th>\n",
       "                        <td id=\"T_f445f85a_d279_11ed_8f4f_9801a7934c0drow4_col0\" class=\"data row4 col0\" >0.093705</td>\n",
       "                        <td id=\"T_f445f85a_d279_11ed_8f4f_9801a7934c0drow4_col1\" class=\"data row4 col1\" >0.061298</td>\n",
       "                        <td id=\"T_f445f85a_d279_11ed_8f4f_9801a7934c0drow4_col2\" class=\"data row4 col2\" >0.203823</td>\n",
       "                        <td id=\"T_f445f85a_d279_11ed_8f4f_9801a7934c0drow4_col3\" class=\"data row4 col3\" >0.055610</td>\n",
       "                        <td id=\"T_f445f85a_d279_11ed_8f4f_9801a7934c0drow4_col4\" class=\"data row4 col4\" >1.000000</td>\n",
       "                        <td id=\"T_f445f85a_d279_11ed_8f4f_9801a7934c0drow4_col5\" class=\"data row4 col5\" >0.005562</td>\n",
       "                        <td id=\"T_f445f85a_d279_11ed_8f4f_9801a7934c0drow4_col6\" class=\"data row4 col6\" >0.047400</td>\n",
       "                        <td id=\"T_f445f85a_d279_11ed_8f4f_9801a7934c0drow4_col7\" class=\"data row4 col7\" >0.200632</td>\n",
       "                        <td id=\"T_f445f85a_d279_11ed_8f4f_9801a7934c0drow4_col8\" class=\"data row4 col8\" >-0.265026</td>\n",
       "                        <td id=\"T_f445f85a_d279_11ed_8f4f_9801a7934c0drow4_col9\" class=\"data row4 col9\" >0.371260</td>\n",
       "                        <td id=\"T_f445f85a_d279_11ed_8f4f_9801a7934c0drow4_col10\" class=\"data row4 col10\" >-0.221141</td>\n",
       "                        <td id=\"T_f445f85a_d279_11ed_8f4f_9801a7934c0drow4_col11\" class=\"data row4 col11\" >-0.128907</td>\n",
       "            </tr>\n",
       "            <tr>\n",
       "                        <th id=\"T_f445f85a_d279_11ed_8f4f_9801a7934c0dlevel0_row5\" class=\"row_heading level0 row5\" >free sulfur dioxide</th>\n",
       "                        <td id=\"T_f445f85a_d279_11ed_8f4f_9801a7934c0drow5_col0\" class=\"data row5 col0\" >-0.153794</td>\n",
       "                        <td id=\"T_f445f85a_d279_11ed_8f4f_9801a7934c0drow5_col1\" class=\"data row5 col1\" >-0.010504</td>\n",
       "                        <td id=\"T_f445f85a_d279_11ed_8f4f_9801a7934c0drow5_col2\" class=\"data row5 col2\" >-0.060978</td>\n",
       "                        <td id=\"T_f445f85a_d279_11ed_8f4f_9801a7934c0drow5_col3\" class=\"data row5 col3\" >0.187049</td>\n",
       "                        <td id=\"T_f445f85a_d279_11ed_8f4f_9801a7934c0drow5_col4\" class=\"data row5 col4\" >0.005562</td>\n",
       "                        <td id=\"T_f445f85a_d279_11ed_8f4f_9801a7934c0drow5_col5\" class=\"data row5 col5\" >1.000000</td>\n",
       "                        <td id=\"T_f445f85a_d279_11ed_8f4f_9801a7934c0drow5_col6\" class=\"data row5 col6\" >0.667666</td>\n",
       "                        <td id=\"T_f445f85a_d279_11ed_8f4f_9801a7934c0drow5_col7\" class=\"data row5 col7\" >-0.021946</td>\n",
       "                        <td id=\"T_f445f85a_d279_11ed_8f4f_9801a7934c0drow5_col8\" class=\"data row5 col8\" >0.070377</td>\n",
       "                        <td id=\"T_f445f85a_d279_11ed_8f4f_9801a7934c0drow5_col9\" class=\"data row5 col9\" >0.051658</td>\n",
       "                        <td id=\"T_f445f85a_d279_11ed_8f4f_9801a7934c0drow5_col10\" class=\"data row5 col10\" >-0.069408</td>\n",
       "                        <td id=\"T_f445f85a_d279_11ed_8f4f_9801a7934c0drow5_col11\" class=\"data row5 col11\" >-0.050656</td>\n",
       "            </tr>\n",
       "            <tr>\n",
       "                        <th id=\"T_f445f85a_d279_11ed_8f4f_9801a7934c0dlevel0_row6\" class=\"row_heading level0 row6\" >total sulfur dioxide</th>\n",
       "                        <td id=\"T_f445f85a_d279_11ed_8f4f_9801a7934c0drow6_col0\" class=\"data row6 col0\" >-0.113181</td>\n",
       "                        <td id=\"T_f445f85a_d279_11ed_8f4f_9801a7934c0drow6_col1\" class=\"data row6 col1\" >0.076470</td>\n",
       "                        <td id=\"T_f445f85a_d279_11ed_8f4f_9801a7934c0drow6_col2\" class=\"data row6 col2\" >0.035533</td>\n",
       "                        <td id=\"T_f445f85a_d279_11ed_8f4f_9801a7934c0drow6_col3\" class=\"data row6 col3\" >0.203028</td>\n",
       "                        <td id=\"T_f445f85a_d279_11ed_8f4f_9801a7934c0drow6_col4\" class=\"data row6 col4\" >0.047400</td>\n",
       "                        <td id=\"T_f445f85a_d279_11ed_8f4f_9801a7934c0drow6_col5\" class=\"data row6 col5\" >0.667666</td>\n",
       "                        <td id=\"T_f445f85a_d279_11ed_8f4f_9801a7934c0drow6_col6\" class=\"data row6 col6\" >1.000000</td>\n",
       "                        <td id=\"T_f445f85a_d279_11ed_8f4f_9801a7934c0drow6_col7\" class=\"data row6 col7\" >0.071269</td>\n",
       "                        <td id=\"T_f445f85a_d279_11ed_8f4f_9801a7934c0drow6_col8\" class=\"data row6 col8\" >-0.066495</td>\n",
       "                        <td id=\"T_f445f85a_d279_11ed_8f4f_9801a7934c0drow6_col9\" class=\"data row6 col9\" >0.042947</td>\n",
       "                        <td id=\"T_f445f85a_d279_11ed_8f4f_9801a7934c0drow6_col10\" class=\"data row6 col10\" >-0.205654</td>\n",
       "                        <td id=\"T_f445f85a_d279_11ed_8f4f_9801a7934c0drow6_col11\" class=\"data row6 col11\" >-0.185100</td>\n",
       "            </tr>\n",
       "            <tr>\n",
       "                        <th id=\"T_f445f85a_d279_11ed_8f4f_9801a7934c0dlevel0_row7\" class=\"row_heading level0 row7\" >density</th>\n",
       "                        <td id=\"T_f445f85a_d279_11ed_8f4f_9801a7934c0drow7_col0\" class=\"data row7 col0\" >0.668047</td>\n",
       "                        <td id=\"T_f445f85a_d279_11ed_8f4f_9801a7934c0drow7_col1\" class=\"data row7 col1\" >0.022026</td>\n",
       "                        <td id=\"T_f445f85a_d279_11ed_8f4f_9801a7934c0drow7_col2\" class=\"data row7 col2\" >0.364947</td>\n",
       "                        <td id=\"T_f445f85a_d279_11ed_8f4f_9801a7934c0drow7_col3\" class=\"data row7 col3\" >0.355283</td>\n",
       "                        <td id=\"T_f445f85a_d279_11ed_8f4f_9801a7934c0drow7_col4\" class=\"data row7 col4\" >0.200632</td>\n",
       "                        <td id=\"T_f445f85a_d279_11ed_8f4f_9801a7934c0drow7_col5\" class=\"data row7 col5\" >-0.021946</td>\n",
       "                        <td id=\"T_f445f85a_d279_11ed_8f4f_9801a7934c0drow7_col6\" class=\"data row7 col6\" >0.071269</td>\n",
       "                        <td id=\"T_f445f85a_d279_11ed_8f4f_9801a7934c0drow7_col7\" class=\"data row7 col7\" >1.000000</td>\n",
       "                        <td id=\"T_f445f85a_d279_11ed_8f4f_9801a7934c0drow7_col8\" class=\"data row7 col8\" >-0.341699</td>\n",
       "                        <td id=\"T_f445f85a_d279_11ed_8f4f_9801a7934c0drow7_col9\" class=\"data row7 col9\" >0.148506</td>\n",
       "                        <td id=\"T_f445f85a_d279_11ed_8f4f_9801a7934c0drow7_col10\" class=\"data row7 col10\" >-0.496180</td>\n",
       "                        <td id=\"T_f445f85a_d279_11ed_8f4f_9801a7934c0drow7_col11\" class=\"data row7 col11\" >-0.174919</td>\n",
       "            </tr>\n",
       "            <tr>\n",
       "                        <th id=\"T_f445f85a_d279_11ed_8f4f_9801a7934c0dlevel0_row8\" class=\"row_heading level0 row8\" >pH</th>\n",
       "                        <td id=\"T_f445f85a_d279_11ed_8f4f_9801a7934c0drow8_col0\" class=\"data row8 col0\" >-0.682978</td>\n",
       "                        <td id=\"T_f445f85a_d279_11ed_8f4f_9801a7934c0drow8_col1\" class=\"data row8 col1\" >0.234937</td>\n",
       "                        <td id=\"T_f445f85a_d279_11ed_8f4f_9801a7934c0drow8_col2\" class=\"data row8 col2\" >-0.541904</td>\n",
       "                        <td id=\"T_f445f85a_d279_11ed_8f4f_9801a7934c0drow8_col3\" class=\"data row8 col3\" >-0.085652</td>\n",
       "                        <td id=\"T_f445f85a_d279_11ed_8f4f_9801a7934c0drow8_col4\" class=\"data row8 col4\" >-0.265026</td>\n",
       "                        <td id=\"T_f445f85a_d279_11ed_8f4f_9801a7934c0drow8_col5\" class=\"data row8 col5\" >0.070377</td>\n",
       "                        <td id=\"T_f445f85a_d279_11ed_8f4f_9801a7934c0drow8_col6\" class=\"data row8 col6\" >-0.066495</td>\n",
       "                        <td id=\"T_f445f85a_d279_11ed_8f4f_9801a7934c0drow8_col7\" class=\"data row8 col7\" >-0.341699</td>\n",
       "                        <td id=\"T_f445f85a_d279_11ed_8f4f_9801a7934c0drow8_col8\" class=\"data row8 col8\" >1.000000</td>\n",
       "                        <td id=\"T_f445f85a_d279_11ed_8f4f_9801a7934c0drow8_col9\" class=\"data row8 col9\" >-0.196648</td>\n",
       "                        <td id=\"T_f445f85a_d279_11ed_8f4f_9801a7934c0drow8_col10\" class=\"data row8 col10\" >0.205633</td>\n",
       "                        <td id=\"T_f445f85a_d279_11ed_8f4f_9801a7934c0drow8_col11\" class=\"data row8 col11\" >-0.057731</td>\n",
       "            </tr>\n",
       "            <tr>\n",
       "                        <th id=\"T_f445f85a_d279_11ed_8f4f_9801a7934c0dlevel0_row9\" class=\"row_heading level0 row9\" >sulphates</th>\n",
       "                        <td id=\"T_f445f85a_d279_11ed_8f4f_9801a7934c0drow9_col0\" class=\"data row9 col0\" >0.183006</td>\n",
       "                        <td id=\"T_f445f85a_d279_11ed_8f4f_9801a7934c0drow9_col1\" class=\"data row9 col1\" >-0.260987</td>\n",
       "                        <td id=\"T_f445f85a_d279_11ed_8f4f_9801a7934c0drow9_col2\" class=\"data row9 col2\" >0.312770</td>\n",
       "                        <td id=\"T_f445f85a_d279_11ed_8f4f_9801a7934c0drow9_col3\" class=\"data row9 col3\" >0.005527</td>\n",
       "                        <td id=\"T_f445f85a_d279_11ed_8f4f_9801a7934c0drow9_col4\" class=\"data row9 col4\" >0.371260</td>\n",
       "                        <td id=\"T_f445f85a_d279_11ed_8f4f_9801a7934c0drow9_col5\" class=\"data row9 col5\" >0.051658</td>\n",
       "                        <td id=\"T_f445f85a_d279_11ed_8f4f_9801a7934c0drow9_col6\" class=\"data row9 col6\" >0.042947</td>\n",
       "                        <td id=\"T_f445f85a_d279_11ed_8f4f_9801a7934c0drow9_col7\" class=\"data row9 col7\" >0.148506</td>\n",
       "                        <td id=\"T_f445f85a_d279_11ed_8f4f_9801a7934c0drow9_col8\" class=\"data row9 col8\" >-0.196648</td>\n",
       "                        <td id=\"T_f445f85a_d279_11ed_8f4f_9801a7934c0drow9_col9\" class=\"data row9 col9\" >1.000000</td>\n",
       "                        <td id=\"T_f445f85a_d279_11ed_8f4f_9801a7934c0drow9_col10\" class=\"data row9 col10\" >0.093595</td>\n",
       "                        <td id=\"T_f445f85a_d279_11ed_8f4f_9801a7934c0drow9_col11\" class=\"data row9 col11\" >0.251397</td>\n",
       "            </tr>\n",
       "            <tr>\n",
       "                        <th id=\"T_f445f85a_d279_11ed_8f4f_9801a7934c0dlevel0_row10\" class=\"row_heading level0 row10\" >alcohol</th>\n",
       "                        <td id=\"T_f445f85a_d279_11ed_8f4f_9801a7934c0drow10_col0\" class=\"data row10 col0\" >-0.061668</td>\n",
       "                        <td id=\"T_f445f85a_d279_11ed_8f4f_9801a7934c0drow10_col1\" class=\"data row10 col1\" >-0.202288</td>\n",
       "                        <td id=\"T_f445f85a_d279_11ed_8f4f_9801a7934c0drow10_col2\" class=\"data row10 col2\" >0.109903</td>\n",
       "                        <td id=\"T_f445f85a_d279_11ed_8f4f_9801a7934c0drow10_col3\" class=\"data row10 col3\" >0.042075</td>\n",
       "                        <td id=\"T_f445f85a_d279_11ed_8f4f_9801a7934c0drow10_col4\" class=\"data row10 col4\" >-0.221141</td>\n",
       "                        <td id=\"T_f445f85a_d279_11ed_8f4f_9801a7934c0drow10_col5\" class=\"data row10 col5\" >-0.069408</td>\n",
       "                        <td id=\"T_f445f85a_d279_11ed_8f4f_9801a7934c0drow10_col6\" class=\"data row10 col6\" >-0.205654</td>\n",
       "                        <td id=\"T_f445f85a_d279_11ed_8f4f_9801a7934c0drow10_col7\" class=\"data row10 col7\" >-0.496180</td>\n",
       "                        <td id=\"T_f445f85a_d279_11ed_8f4f_9801a7934c0drow10_col8\" class=\"data row10 col8\" >0.205633</td>\n",
       "                        <td id=\"T_f445f85a_d279_11ed_8f4f_9801a7934c0drow10_col9\" class=\"data row10 col9\" >0.093595</td>\n",
       "                        <td id=\"T_f445f85a_d279_11ed_8f4f_9801a7934c0drow10_col10\" class=\"data row10 col10\" >1.000000</td>\n",
       "                        <td id=\"T_f445f85a_d279_11ed_8f4f_9801a7934c0drow10_col11\" class=\"data row10 col11\" >0.476166</td>\n",
       "            </tr>\n",
       "            <tr>\n",
       "                        <th id=\"T_f445f85a_d279_11ed_8f4f_9801a7934c0dlevel0_row11\" class=\"row_heading level0 row11\" >quality</th>\n",
       "                        <td id=\"T_f445f85a_d279_11ed_8f4f_9801a7934c0drow11_col0\" class=\"data row11 col0\" >0.124052</td>\n",
       "                        <td id=\"T_f445f85a_d279_11ed_8f4f_9801a7934c0drow11_col1\" class=\"data row11 col1\" >-0.390558</td>\n",
       "                        <td id=\"T_f445f85a_d279_11ed_8f4f_9801a7934c0drow11_col2\" class=\"data row11 col2\" >0.226373</td>\n",
       "                        <td id=\"T_f445f85a_d279_11ed_8f4f_9801a7934c0drow11_col3\" class=\"data row11 col3\" >0.013732</td>\n",
       "                        <td id=\"T_f445f85a_d279_11ed_8f4f_9801a7934c0drow11_col4\" class=\"data row11 col4\" >-0.128907</td>\n",
       "                        <td id=\"T_f445f85a_d279_11ed_8f4f_9801a7934c0drow11_col5\" class=\"data row11 col5\" >-0.050656</td>\n",
       "                        <td id=\"T_f445f85a_d279_11ed_8f4f_9801a7934c0drow11_col6\" class=\"data row11 col6\" >-0.185100</td>\n",
       "                        <td id=\"T_f445f85a_d279_11ed_8f4f_9801a7934c0drow11_col7\" class=\"data row11 col7\" >-0.174919</td>\n",
       "                        <td id=\"T_f445f85a_d279_11ed_8f4f_9801a7934c0drow11_col8\" class=\"data row11 col8\" >-0.057731</td>\n",
       "                        <td id=\"T_f445f85a_d279_11ed_8f4f_9801a7934c0drow11_col9\" class=\"data row11 col9\" >0.251397</td>\n",
       "                        <td id=\"T_f445f85a_d279_11ed_8f4f_9801a7934c0drow11_col10\" class=\"data row11 col10\" >0.476166</td>\n",
       "                        <td id=\"T_f445f85a_d279_11ed_8f4f_9801a7934c0drow11_col11\" class=\"data row11 col11\" >1.000000</td>\n",
       "            </tr>\n",
       "    </tbody></table>"
      ],
      "text/plain": [
       "<pandas.io.formats.style.Styler at 0x7fc896a12e20>"
      ]
     },
     "execution_count": 12,
     "metadata": {},
     "output_type": "execute_result"
    }
   ],
   "source": [
    "# correlation matrix \n",
    "features_only = wine_cluster.drop(columns = [\"Cluster\"]) \n",
    "corr_matrix = features_only.corr() \n",
    "\n",
    "corr_matrix.style.background_gradient(cmap = 'coolwarm')"
   ]
  },
  {
   "cell_type": "markdown",
   "metadata": {},
   "source": [
    "The results indicate that alcohol, citric acid, and sulphates are positively related to wine quality. Thus, better wines have greater levels of these characteristics according to correlational analysis. In contrast, poor wine quality in associated with density, total sulfur dioxide, and volatile acidity. Specifically, each of these characteristics of wine are inversely related to quality. This means that as the presence of each of these increases in wine, the quality of the wine decreases. Thus, lower quality wines are expected to contain greater levels of density, sulfur dioxide, and volatile acidity. Drawing on both of these findings, the results indicate that in order to make a good bottle of wine, producers should focus on low density and low sulfur wines, for example, while increasing the level of alcohol, citric acid and sulphates."
   ]
  },
  {
   "cell_type": "markdown",
   "metadata": {},
   "source": [
    "#### 2. Use Hierarchical Cluster Analysis to identify cluster(s) of observations that have high and low values of the wine quality. (Assume all variables are continuous.) Use complete linkage and the same number of groups that you found to be the most meaningful in question 1.\n",
    "\n",
    "#### Describe variables that cluster with higher values of wine quality. Describe variables that cluster with lower values of wine quality.\n",
    "\n",
    "First, using HCA, I examine a dendrogram to explore how HCA identifies sub-groups within the data set. "
   ]
  },
  {
   "cell_type": "code",
   "execution_count": 13,
   "metadata": {},
   "outputs": [],
   "source": [
    "hca_data = wine_scaled.drop(\"Cluster\", axis = 1)"
   ]
  },
  {
   "cell_type": "code",
   "execution_count": 14,
   "metadata": {},
   "outputs": [
    {
     "data": {
      "image/png": "[encoded data removed]",
      "text/plain": [
       "<Figure size 504x360 with 1 Axes>"
      ]
     },
     "metadata": {
      "needs_background": "light"
     },
     "output_type": "display_data"
    }
   ],
   "source": [
    "from scipy.cluster.hierarchy import linkage\n",
    "from scipy.spatial.distance import pdist\n",
    "\n",
    "row_clusters = linkage(pdist(hca_data, metric='euclidean'), method='complete') \n",
    "\n",
    "\n",
    "from scipy.cluster.hierarchy import dendrogram\n",
    "import matplotlib.pyplot as plt\n",
    "# make dendrogram black (part 1/2)\n",
    "# from scipy.cluster.hierarchy import set_link_color_palette\n",
    "# set_link_color_palette(['black'])\n",
    "\n",
    "plt.figure(figsize=(7, 5))\n",
    "row_dendr = dendrogram(row_clusters)\n",
    "plt.tight_layout()\n",
    "plt.ylabel('Euclidean distance')\n",
    "plt.title(\"Wine Characteristics Dendrogram\")\n",
    "plt.show()"
   ]
  },
  {
   "cell_type": "markdown",
   "metadata": {},
   "source": [
    "\n",
    "Next, I fit the same number of clusters that I found most meaningful in Question 1 to the wine data using HCA with agglormerative clustering. "
   ]
  },
  {
   "cell_type": "code",
   "execution_count": 15,
   "metadata": {},
   "outputs": [
    {
     "data": {
      "text/plain": [
       "Text(0.5, 1.0, 'Labeled Wine Data')"
      ]
     },
     "execution_count": 15,
     "metadata": {},
     "output_type": "execute_result"
    },
    {
     "data": {
      "image/png": "[encoded data removed]",
      "text/plain": [
       "<Figure size 432x288 with 1 Axes>"
      ]
     },
     "metadata": {
      "needs_background": "light"
     },
     "output_type": "display_data"
    }
   ],
   "source": [
    "\n",
    "from sklearn.cluster import AgglomerativeClustering\n",
    "\n",
    "# initialize the model \n",
    "cluster = AgglomerativeClustering(n_clusters = 7, affinity = 'euclidean', linkage = 'complete')\n",
    "\n",
    "# fit the HCA model \n",
    "cluster.fit_predict(hca_data)\n",
    "\n",
    "# strore cluster labels into data set\n",
    "hca_data[\"cluster\"] = cluster.labels_\n",
    "\n",
    "# plot the clusters along sample criteria \n",
    "sns.scatterplot(x = 'sulphates', \n",
    "y = 'citric acid', \n",
    "data = hca_data, \n",
    "hue = 'cluster', \n",
    "palette = 'rainbow').set_title('Labeled Wine Data')"
   ]
  },
  {
   "cell_type": "markdown",
   "metadata": {},
   "source": [
    "It is difficult to determine where certain clusters fall along the two axes that are shown, citric acid and sulphate concentration, two variables that were previously shown to postively relate to high wine quality. For a more simple assessment of which clusters have the highest and lowest wine quality scores, we can calculate the average quality score for each cluster and examine each cluster's mean. We can also plot a box plot to examine the mean as well as IQR for quality score for each cluster. "
   ]
  },
  {
   "cell_type": "code",
   "execution_count": 16,
   "metadata": {},
   "outputs": [
    {
     "name": "stdout",
     "output_type": "stream",
     "text": [
      "cluster\n",
      "0    0.165001\n",
      "1   -0.335609\n",
      "2   -0.027203\n",
      "3   -1.407158\n",
      "4    1.276629\n",
      "5    0.669437\n",
      "6    0.069719\n",
      "Name: quality, dtype: float64\n"
     ]
    }
   ],
   "source": [
    "quality_clusters = hca_data[['cluster', 'quality']]\n",
    "\n",
    "# calculate the mean\n",
    "mean_quality = quality_clusters.groupby('cluster')['quality'].mean()\n",
    "print(mean_quality)\n"
   ]
  },
  {
   "cell_type": "code",
   "execution_count": 19,
   "metadata": {},
   "outputs": [
    {
     "data": {
      "image/png": "[encoded data removed]",
      "text/plain": [
       "<Figure size 432x288 with 1 Axes>"
      ]
     },
     "metadata": {},
     "output_type": "display_data"
    }
   ],
   "source": [
    "# subset the data to only include the quality and cluster columns\n",
    "quality_clusters = hca_data[['quality', 'cluster']]\n",
    "\n",
    "sns.set_theme(style = 'ticks')\n",
    "# create a box plot of the quality score by cluster\n",
    "sns.boxplot(x='cluster', y='quality', data=quality_clusters)\n",
    "\n",
    "# set the title and axis labels\n",
    "plt.title('Distribution of Quality Score by Cluster')\n",
    "plt.xlabel('Cluster')\n",
    "plt.ylabel('Quality Score')\n",
    "\n",
    "# show the plot\n",
    "plt.show()"
   ]
  },
  {
   "cell_type": "markdown",
   "metadata": {},
   "source": [
    "Looking at the mean scores, we see that cluster 5 (python row 4) has the highest wine quality score and cluster 4 (row 3) has the lowest score. This result is also confirmed by the boxplot where we see that Cluster 5 has the high quality score, on average, and cluster 4 has the lowest quality score on average. \n",
    "\n",
    "Finally, to address the final components of Question 2 which asks us to desribe variables that cluster with high and low quality scores, respectively, we can examine the mean values for each feature in the high quality wine cluster as well as the mean values for each feature in the low quality wine scores. "
   ]
  },
  {
   "cell_type": "code",
   "execution_count": 17,
   "metadata": {},
   "outputs": [
    {
     "name": "stdout",
     "output_type": "stream",
     "text": [
      "Variables that cluster with higher values of wine quality: Index(['total sulfur dioxide', 'residual sugar', 'cluster'], dtype='object')\n",
      "Variables that cluster with lower values of wine quality: Index(['chlorides', 'sulphates', 'citric acid'], dtype='object')\n"
     ]
    }
   ],
   "source": [
    "cluster_high_quality = hca_data[quality_clusters['cluster'] == mean_quality.idxmax()]\n",
    "cluster_low_quality = hca_data[quality_clusters['cluster'] == mean_quality.idxmin()]\n",
    "\n",
    "variables_high_quality = cluster_high_quality.mean().sort_values(ascending=False)[:3].index\n",
    "variables_low_quality = cluster_low_quality.mean().sort_values(ascending=False)[:3].index\n",
    "\n",
    "print(\"Variables that cluster with higher values of wine quality:\", variables_high_quality)\n",
    "print(\"Variables that cluster with lower values of wine quality:\", variables_low_quality)\n"
   ]
  },
  {
   "cell_type": "markdown",
   "metadata": {},
   "source": [
    "The results suggest that the three variables that are most associated with high quality wine are total sulfur dioxide, residual sugar, and free sulfur dioxide. In the cluster with the highest quality wine scores, below are the average values for each of these variables. "
   ]
  },
  {
   "cell_type": "code",
   "execution_count": 23,
   "metadata": {},
   "outputs": [
    {
     "data": {
      "text/plain": [
       "total sulfur dioxide    5.956069\n",
       "residual sugar          5.293553\n",
       "cluster                 4.000000\n",
       "free sulfur dioxide     3.167777\n",
       "dtype: float64"
      ]
     },
     "execution_count": 23,
     "metadata": {},
     "output_type": "execute_result"
    }
   ],
   "source": [
    "cluster_high_quality.mean().sort_values(ascending=False)[:4]"
   ]
  },
  {
   "cell_type": "markdown",
   "metadata": {},
   "source": [
    "Finally, for the cluster with the lowest wine quality scores, we can examine the average values of the three variables that were most assoicated with this cluster. "
   ]
  },
  {
   "cell_type": "code",
   "execution_count": 26,
   "metadata": {},
   "outputs": [
    {
     "data": {
      "text/plain": [
       "chlorides      11.116408\n",
       "sulphates       5.735193\n",
       "citric acid     3.127368\n",
       "dtype: float64"
      ]
     },
     "execution_count": 26,
     "metadata": {},
     "output_type": "execute_result"
    }
   ],
   "source": [
    "cluster_low_quality.mean().sort_values(ascending=False)[:3]"
   ]
  },
  {
   "cell_type": "markdown",
   "metadata": {},
   "source": [
    "According to the results obtained from hierarchical cluster analysis, if we want to make a good bottle of wine then the most important charactersitics are total sulfur dioxide, residual sugar, and free sulfur dioxide. These findings conflict with the results that I obtained above using k-means clustering. In particular, with k-means, I found that total sulfur dioxide was related to poor wine quality whereas using HCA the opposite was true. Additionally, using k-means, I found that citric acid was related to high quality wine. However, using HCA, the opposite was also true for citric acid. "
   ]
  },
  {
   "cell_type": "markdown",
   "metadata": {},
   "source": [
    "#### 3. Use Principal Components Analysis to reduce the dimensions of your data. How much of the variation in your data is explained by the first two principal components. \n",
    "\n",
    "First, I implement PCA on the originally scaled data without the cluster column."
   ]
  },
  {
   "cell_type": "code",
   "execution_count": 31,
   "metadata": {},
   "outputs": [],
   "source": [
    "# First, I get rid of the cluster column to return to the originally scaled data set \n",
    "wine_scaled = wine_scaled.drop('Cluster', axis=1)"
   ]
  },
  {
   "cell_type": "code",
   "execution_count": 37,
   "metadata": {},
   "outputs": [
    {
     "data": {
      "image/png": "[encoded data removed]",
      "text/plain": [
       "<Figure size 432x288 with 1 Axes>"
      ]
     },
     "metadata": {},
     "output_type": "display_data"
    }
   ],
   "source": [
    "import numpy as np \n",
    "from sklearn.decomposition import PCA\n",
    "from matplotlib.ticker import MaxNLocator\n",
    "pca = PCA(n_components=5)\n",
    "pca.fit_transform(wine_scaled)\n",
    "\n",
    "plt.plot(np.cumsum(pca.explained_variance_ratio_))\n",
    "plt.xlabel('number of components')\n",
    "plt.ylabel('cumulative explained variance')\n",
    "plt.title(\"PCA - Cumulative Variance Explained\")\n",
    "plt.gca().xaxis.set_major_locator(MaxNLocator(integer = True))"
   ]
  },
  {
   "cell_type": "markdown",
   "metadata": {},
   "source": [
    "By eyeballing the above plot, we can see that the first two principal components account for roughly 50% of the variance in the original data. For an exact number, we can use the following code. "
   ]
  },
  {
   "cell_type": "code",
   "execution_count": 38,
   "metadata": {},
   "outputs": [
    {
     "data": {
      "text/plain": [
       "array([0.26009731, 0.44692081, 0.58716412, 0.68841586, 0.76952116])"
      ]
     },
     "execution_count": 38,
     "metadata": {},
     "output_type": "execute_result"
    }
   ],
   "source": [
    "np.cumsum(pca.explained_variance_ratio_)"
   ]
  },
  {
   "cell_type": "markdown",
   "metadata": {},
   "source": [
    "The results indicate that the first two principal components account for 44.6% of the original variance in the data (that's 45% rounded). "
   ]
  },
  {
   "cell_type": "markdown",
   "metadata": {},
   "source": [
    "#### How might you use the first two components to do supervised learning on some other variable tied to wine (e.g. - wine price)?"
   ]
  },
  {
   "cell_type": "markdown",
   "metadata": {},
   "source": [
    "The first two principal components could be extracted from the PCA results and used as input features in a supervised learning approach to predict a target variable like wine price. Specifically, after conducting PCA, the first two components and the target variable can be added to a data frame together*. Then, a standard supervised machine learning approach can be followed, including data splits and cross-fold validation if desired, in order to predict the outcome variable using the two components. The following example presents a demonstration for how PCA can be used upstream in supervised machine learning tasks. The target variable that I use in the demonstration is wine quality. \n",
    "\n",
    "\n",
    "*Note, the target variable should be left out of the PCA as the components are formed by linear combinations of the original variables and thus it would not make sense to predict a given variable that itself was part of the dimensionaltiy reduction task"
   ]
  },
  {
   "cell_type": "code",
   "execution_count": 59,
   "metadata": {},
   "outputs": [
    {
     "data": {
      "text/html": [
       "<div>\n",
       "<style scoped>\n",
       "    .dataframe tbody tr th:only-of-type {\n",
       "        vertical-align: middle;\n",
       "    }\n",
       "\n",
       "    .dataframe tbody tr th {\n",
       "        vertical-align: top;\n",
       "    }\n",
       "\n",
       "    .dataframe thead th {\n",
       "        text-align: right;\n",
       "    }\n",
       "</style>\n",
       "<table border=\"1\" class=\"dataframe\">\n",
       "  <thead>\n",
       "    <tr style=\"text-align: right;\">\n",
       "      <th></th>\n",
       "      <th>PC1</th>\n",
       "      <th>PC2</th>\n",
       "    </tr>\n",
       "  </thead>\n",
       "  <tbody>\n",
       "    <tr>\n",
       "      <th>0</th>\n",
       "      <td>-1.779442</td>\n",
       "      <td>1.157303</td>\n",
       "    </tr>\n",
       "    <tr>\n",
       "      <th>1</th>\n",
       "      <td>-1.004185</td>\n",
       "      <td>2.071838</td>\n",
       "    </tr>\n",
       "    <tr>\n",
       "      <th>2</th>\n",
       "      <td>-0.915783</td>\n",
       "      <td>1.393434</td>\n",
       "    </tr>\n",
       "    <tr>\n",
       "      <th>3</th>\n",
       "      <td>2.404077</td>\n",
       "      <td>-0.213792</td>\n",
       "    </tr>\n",
       "    <tr>\n",
       "      <th>4</th>\n",
       "      <td>-1.779442</td>\n",
       "      <td>1.157303</td>\n",
       "    </tr>\n",
       "  </tbody>\n",
       "</table>\n",
       "</div>"
      ],
      "text/plain": [
       "        PC1       PC2\n",
       "0 -1.779442  1.157303\n",
       "1 -1.004185  2.071838\n",
       "2 -0.915783  1.393434\n",
       "3  2.404077 -0.213792\n",
       "4 -1.779442  1.157303"
      ]
     },
     "execution_count": 59,
     "metadata": {},
     "output_type": "execute_result"
    }
   ],
   "source": [
    "# store the target variable, score \n",
    "y = wine_scaled[['quality']]\n",
    "\n",
    "# run PCA without score \n",
    "demo_data = wine_scaled.drop('quality', axis = 1)\n",
    "demo_pca = PCA(n_components=2)\n",
    "pca_wine_char = demo_pca.fit_transform(wine_scaled)\n",
    "\n",
    "#  store X data \n",
    "X = pd.DataFrame(data = pca_wine_char, columns = ['PC1', 'PC2'])\n",
    "X.head(5) \n"
   ]
  },
  {
   "cell_type": "markdown",
   "metadata": {},
   "source": [
    "Next, we can a standard approach to supervised ML in python. "
   ]
  },
  {
   "cell_type": "code",
   "execution_count": 66,
   "metadata": {},
   "outputs": [
    {
     "data": {
      "text/plain": [
       "0.5206909039734177"
      ]
     },
     "execution_count": 66,
     "metadata": {},
     "output_type": "execute_result"
    }
   ],
   "source": [
    "from sklearn.model_selection import train_test_split\n",
    "\n",
    "X_train, X_test, y_train, y_test = train_test_split(X, y, random_state = 42)  \n",
    "\n",
    "# use a simple linear regression model \n",
    "from sklearn.linear_model import LinearRegression\n",
    "model = LinearRegression() # instantiate \n",
    "\n",
    "# train the model \n",
    "model.fit(X_train, y_train) \n",
    "\n",
    "# Evaluate the model performance\n",
    "from sklearn.metrics import r2_score \n",
    "y_pred = model.predict(X_test)\n",
    "r2_score(y_test, y_pred)\n"
   ]
  },
  {
   "cell_type": "markdown",
   "metadata": {},
   "source": [
    "The results show that the first two components account for 52% of the variance in the target variable, quality. "
   ]
  }
 ],
 "metadata": {
  "interpreter": {
   "hash": "40d3a090f54c6569ab1632332b64b2c03c39dcf918b08424e98f38b5ae0af88f"
  },
  "kernelspec": {
   "display_name": "Python 3.8.3 ('base')",
   "language": "python",
   "name": "python3"
  },
  "language_info": {
   "codemirror_mode": {
    "name": "ipython",
    "version": 3
   },
   "file_extension": ".py",
   "mimetype": "text/x-python",
   "name": "python",
   "nbconvert_exporter": "python",
   "pygments_lexer": "ipython3",
   "version": "3.8.3"
  },
  "orig_nbformat": 4
 },
 "nbformat": 4,
 "nbformat_minor": 2
}
