{
  "cells": [
    {
      "cell_type": "markdown",
      "metadata": {
        "id": "HEuAU2qwX2f6"
      },
      "source": [
        "## HW2\n",
        "### Supervised Learning Models \n",
        "#### Gian Zlupko "
      ]
    },
    {
      "cell_type": "markdown",
      "metadata": {
        "id": "ZBLx8JlQYIgF"
      },
      "source": [
        "1. Find the url for the California Test Score Data Set from the following website:\n",
        "\n",
        "https://vincentarelbundock.github.io/Rdatasets/datasets.html\n",
        "\n",
        "Read through the \"DOC\" file to understand the variables in the dataset, then use the following url to import the data.  \n",
        "\n",
        "https://vincentarelbundock.github.io/Rdatasets/csv/Ecdat/Caschool.csv\n",
        "\n",
        "The target data (i.e. the dependent variable) is named \"testscr\".  You can use all  variables in the data except for \"readscr\" and \"mathscr\" in the following analysis.  (These two variables were used to generate the dependent variable)."
      ]
    },
    {
      "cell_type": "code",
      "execution_count": 27,
      "metadata": {
        "colab": {
          "base_uri": "https://localhost:8080/",
          "height": 389
        },
        "id": "E3RYflCQX1p5",
        "outputId": "5026f2c0-a81f-4c13-8c2b-a299d7751ad4"
      },
      "outputs": [
        {
          "name": "stdout",
          "output_type": "stream",
          "text": [
            "   enrltot   teachers    calwpct    mealpct  computer     testscr   compstu  \\\n",
            "0      195  10.900000   0.510200   2.040800        67  690.799988  0.343590   \n",
            "1      240  11.150000  15.416700  47.916698       101  661.200012  0.420833   \n",
            "2     1550  82.900002  55.032299  76.322601       169  643.599976  0.109032   \n",
            "3      243  14.000000  36.475399  77.049202        85  647.700012  0.349794   \n",
            "4     1335  71.500000  33.108601  78.427002       171  640.849976  0.128090   \n",
            "\n",
            "       expnstu        str     avginc      elpct  \n",
            "0  6384.911133  17.889910  22.690001   0.000000  \n",
            "1  5099.380859  21.524664   9.824000   4.583333  \n",
            "2  5501.954590  18.697226   8.978000  30.000002  \n",
            "3  7101.831055  17.357143   8.978000   0.000000  \n",
            "4  5235.987793  18.671329   9.080333  13.857677  \n"
          ]
        }
      ],
      "source": [
        "import pandas as pd \n",
        "\n",
        "# load data\n",
        "cal_data = pd.read_csv(\"https://vincentarelbundock.github.io/Rdatasets/csv/Ecdat/Caschool.csv\") \n",
        "\n",
        "# subset the data to remove 'readscr' and 'mathscr' and the non-numeric data\n",
        "cal_data = cal_data.loc[:, 'enrltot': 'elpct']\n",
        "\n",
        "\n",
        "# print out first few rows after subsetting \n",
        "print(cal_data.head(5)) \n",
        "\n",
        "# store target and predictor variables \n",
        "y = cal_data['testscr']\n",
        "X = cal_data.loc[:, cal_data.columns != 'testscr']\n"
      ]
    },
    {
      "cell_type": "markdown",
      "metadata": {
        "id": "MRe00ZYXcXO3"
      },
      "source": [
        "#### 1.1 Visualize the univariate distribution of the target feature and each of the three continuous explanatory variables that you think are likely to have a relationship with the target feature. "
      ]
    },
    {
      "cell_type": "code",
      "execution_count": 20,
      "metadata": {
        "colab": {
          "base_uri": "https://localhost:8080/",
          "height": 281
        },
        "id": "wBYYXzClcaAp",
        "outputId": "8086036b-083a-42c2-dd00-0a32efc5ca60"
      },
      "outputs": [
        {
          "data": {
            "image/png": "[encoded data removed]",
            "text/plain": [
              "<Figure size 432x288 with 1 Axes>"
            ]
          },
          "metadata": {
            "needs_background": "light"
          },
          "output_type": "display_data"
        }
      ],
      "source": [
        "import matplotlib.pyplot as plt \n",
        "\n",
        "# visualize the target feature: testscr \n",
        "plt.hist(y)\n",
        "plt.title('Test Score') \n",
        "plt.show()"
      ]
    },
    {
      "cell_type": "markdown",
      "metadata": {},
      "source": [
        "The target variable, test score, appears to be normally distributed. Next, per my review of the data dictionary, I visualize three predictor variables that I believe will be related to the target variable, test scores. In particular, I've selected income ('avginc'; e.g. district avg. income), expenditure ('expnstu'; e.g. avg. school spending per student), and teachers (e.g. no. teachers per district)"
      ]
    },
    {
      "cell_type": "code",
      "execution_count": 38,
      "metadata": {},
      "outputs": [
        {
          "data": {
            "image/png": "[encoded data removed]",
            "text/plain": [
              "<Figure size 432x288 with 1 Axes>"
            ]
          },
          "metadata": {
            "needs_background": "light"
          },
          "output_type": "display_data"
        },
        {
          "data": {
            "image/png": "[encoded data removed]",
            "text/plain": [
              "<Figure size 432x288 with 1 Axes>"
            ]
          },
          "metadata": {
            "needs_background": "light"
          },
          "output_type": "display_data"
        },
        {
          "data": {
            "image/png": "[encoded data removed]",
            "text/plain": [
              "<Figure size 432x288 with 1 Axes>"
            ]
          },
          "metadata": {
            "needs_background": "light"
          },
          "output_type": "display_data"
        }
      ],
      "source": [
        "# plot average income\n",
        "plt.hist(X['avginc']) \n",
        "plt.title(\"Average Income\")\n",
        "plt.xlabel('USD (thousands)')\n",
        "plt.show() \n",
        "\n",
        "# plot avg. expenditure per student \n",
        "\n",
        "plt.hist(X['expnstu'])\n",
        "plt.title('Avg. Expenditure per Student')\n",
        "plt.xlabel('USD')\n",
        "plt.show() \n",
        "\n",
        "# plot number of teachers \n",
        "plt.hist(X['teachers'])\n",
        "plt.xlabel('Number of Teachers')\n",
        "plt.show() \n",
        "\n",
        "\n"
      ]
    },
    {
      "cell_type": "markdown",
      "metadata": {},
      "source": [
        "The average spending (expenditure) per student appears to be fairly normally distributed. In contrast, the number of teachers per district is severly right skewed with the majority of districts possessing fewer than 200 teachers. Finally, the average income for each district was also slightly right skewed, though not as severly as the teacher distribution. "
      ]
    },
    {
      "cell_type": "markdown",
      "metadata": {},
      "source": []
    },
    {
      "cell_type": "code",
      "execution_count": null,
      "metadata": {},
      "outputs": [],
      "source": []
    }
  ],
  "metadata": {
    "colab": {
      "provenance": []
    },
    "interpreter": {
      "hash": "40d3a090f54c6569ab1632332b64b2c03c39dcf918b08424e98f38b5ae0af88f"
    },
    "kernelspec": {
      "display_name": "Python 3.8.3 ('base')",
      "language": "python",
      "name": "python3"
    },
    "language_info": {
      "codemirror_mode": {
        "name": "ipython",
        "version": 3
      },
      "file_extension": ".py",
      "mimetype": "text/x-python",
      "name": "python",
      "nbconvert_exporter": "python",
      "pygments_lexer": "ipython3",
      "version": "3.8.3"
    }
  },
  "nbformat": 4,
  "nbformat_minor": 0
}
