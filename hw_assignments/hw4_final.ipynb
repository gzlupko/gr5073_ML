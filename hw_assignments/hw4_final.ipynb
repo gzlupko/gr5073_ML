{
  "cells": [
    {
      "cell_type": "markdown",
      "metadata": {
        "id": "GGchtpZ36pEz"
      },
      "source": [
        "## HW 4\n",
        "### Text Analysis and Neural Networks\n",
        "Gian Zlupko "
      ]
    },
    {
      "cell_type": "markdown",
      "metadata": {
        "id": "PeZJYRML6pE2"
      },
      "source": [
        "#### Part I: Build a classification model using text data\n",
        "\n",
        "#### *Import the text data, vectorize the clickbait headline column into an X matrix.  Then run logistic regression at least three times and select a single best model.  Note that you should create three logistic regression models with different different tokenization approaches.  You should not change your modeling approach, you should simply experiment with different tokenizers. Be sure to explain your choices and evaluate your models using cross validation and using test set data.* \n",
        "\n",
        "First, I import the data below. \n"
      ]
    },
    {
      "cell_type": "code",
      "execution_count": 2,
      "metadata": {
        "colab": {
          "base_uri": "https://localhost:8080/"
        },
        "id": "TLB3Sbab6pE5",
        "outputId": "e0c26bdd-f85c-4873-e067-bb85238f65a7"
      },
      "outputs": [
        {
          "name": "stdout",
          "output_type": "stream",
          "text": [
            "0    0\n",
            "1    0\n",
            "2    1\n",
            "3    1\n",
            "4    1\n",
            "Name: clickbait, dtype: uint8\n"
          ]
        },
        {
          "name": "stderr",
          "output_type": "stream",
          "text": [
            "<ipython-input-2-4d4342ef4707>:3: FutureWarning: The squeeze argument has been deprecated and will be removed in a future version. Append .squeeze(\"columns\") to the call to squeeze.\n",
            "\n",
            "\n",
            "  X = pd.read_csv(\"X_train.csv\", squeeze = True)\n",
            "<ipython-input-2-4d4342ef4707>:4: FutureWarning: The squeeze argument has been deprecated and will be removed in a future version. Append .squeeze(\"columns\") to the call to squeeze.\n",
            "\n",
            "\n",
            "  y_labels = pd.read_csv(\"y_train.csv\", squeeze = True)\n"
          ]
        },
        {
          "data": {
            "text/plain": [
              "0       MyBook Disk Drive Handles Lots of Easy Backups\n",
              "1                       CIT Posts Eighth Loss in a Row\n",
              "2    Candy Carson Singing The \"National Anthem\" Is ...\n",
              "3    Why You Need To Stop What You're Doing And Dat...\n",
              "4    27 Times Adele Proved She's Actually The Reale...\n",
              "Name: headline, dtype: object"
            ]
          },
          "execution_count": 2,
          "metadata": {},
          "output_type": "execute_result"
        }
      ],
      "source": [
        "import pandas as pd \n",
        "\n",
        "X = pd.read_csv(\"X_train.csv\", squeeze = True) \n",
        "y_labels = pd.read_csv(\"y_train.csv\", squeeze = True)\n",
        "# one hot encode the y data \n",
        "y =  pd.get_dummies(y_labels)\n",
        "y = y.iloc[:, 0] # select only first column (note: clickbait = 1)\n",
        "\n",
        "# inspect the data sets \n",
        "print(y.head()) \n",
        "X.head()"
      ]
    },
    {
      "cell_type": "markdown",
      "metadata": {
        "id": "3amajtcr_dIc"
      },
      "source": [
        "I also used the below code to load the data when I was working in my local enviroment. However, I switched to Colab so I could use tensfoflow and keras for Part II. "
      ]
    },
    {
      "cell_type": "markdown",
      "metadata": {
        "id": "pdZe9q2T6pE7"
      },
      "source": [
        "Next, after loading the data, I will try the first of three separate tokenization strategies. For the first strategy, I will simply tokenize the text data into word tokens, representing the most simple of the three strategies that I will use to compare performance. \n",
        "\n",
        "#### Model I: Unigram Tokenization"
      ]
    },
    {
      "cell_type": "code",
      "execution_count": 3,
      "metadata": {
        "colab": {
          "base_uri": "https://localhost:8080/"
        },
        "id": "8fTGAox_6pE8",
        "outputId": "ac8d509e-7cd9-4b56-d91f-bc7c12086502"
      },
      "outputs": [
        {
          "name": "stdout",
          "output_type": "stream",
          "text": [
            "X_tokens:\n",
            "<24979x20332 sparse matrix of type '<class 'numpy.int64'>'\n",
            "\twith 220242 stored elements in Compressed Sparse Row format>\n"
          ]
        }
      ],
      "source": [
        "import numpy as np\n",
        "from sklearn.feature_extraction.text import CountVectorizer\n",
        "vect = CountVectorizer().fit(X)\n",
        "X_tokens = vect.transform(X) # name this data set 'X_tokens' so that it does not overwrite the original raw X data \n",
        "print(\"X_tokens:\\n{}\".format(repr(X_tokens))) "
      ]
    },
    {
      "cell_type": "markdown",
      "metadata": {
        "id": "DmdPl3T26pE-"
      },
      "source": [
        "We see that in the overall data set, there were 220,242 words. I used the default settings for the `CountVectorizer` function, so results from tokenization returned a sparse data matrix with token counts. \n",
        "\n",
        "Next, I follow a standard ML approach to tuning and fitting a logistic regression model on the matrix of token counts. I use grid search CV to tune the hyperparameters "
      ]
    },
    {
      "cell_type": "code",
      "execution_count": 4,
      "metadata": {
        "colab": {
          "base_uri": "https://localhost:8080/"
        },
        "id": "e4E8Bimw6pE-",
        "outputId": "853a9fd7-83ff-4943-8d46-e45ed97d6c93"
      },
      "outputs": [
        {
          "name": "stdout",
          "output_type": "stream",
          "text": [
            "Best cross-validation score: 0.97\n",
            "Best parameters:  {'C': 10}\n"
          ]
        }
      ],
      "source": [
        "# Set up training and test data\n",
        "from sklearn.model_selection import train_test_split\n",
        "from sklearn.model_selection import cross_val_score\n",
        "from sklearn.linear_model import LogisticRegression\n",
        "from sklearn.model_selection import GridSearchCV\n",
        "\n",
        "# train test split \n",
        "X_train, X_test, y_train, y_test = train_test_split(X_tokens, y, random_state=42)\n",
        "\n",
        "# fit and tune model using grid search CV \n",
        "param_grid = {'C': [0.001, 0.01, 0.1, 1, 10]}\n",
        "grid = GridSearchCV(LogisticRegression(solver = 'liblinear'), param_grid, cv=5, scoring = 'f1')\n",
        "grid.fit(X_train, y_train)\n",
        "print(\"Best cross-validation score: {:.2f}\".format(grid.best_score_))\n",
        "print(\"Best parameters: \", grid.best_params_)\n"
      ]
    },
    {
      "cell_type": "markdown",
      "metadata": {
        "id": "NnXU8Asm6pFA"
      },
      "source": [
        "The results indicated that the logistic regression model achieved an F1 score of 0.97. Using grid search CV, I also output the model hyperparameters that were associated with this top score. This will be the F1 score to beat in the subsequent rounds of testing out different tokenization strategies."
      ]
    },
    {
      "cell_type": "markdown",
      "metadata": {
        "id": "ZdwFOA9i6pFB"
      },
      "source": [
        "The next tokenization strategy that I will test is to extract bigrams only. \n",
        "\n",
        "#### Model II - Bigram Tokenization"
      ]
    },
    {
      "cell_type": "code",
      "execution_count": 5,
      "metadata": {
        "colab": {
          "base_uri": "https://localhost:8080/"
        },
        "id": "u1zmJM6Z6pFC",
        "outputId": "fcb1f9c8-5d3e-4586-e24b-89595f78c59f"
      },
      "outputs": [
        {
          "name": "stdout",
          "output_type": "stream",
          "text": [
            "X_tokens:\n",
            "<24979x115618 sparse matrix of type '<class 'numpy.int64'>'\n",
            "\twith 197996 stored elements in Compressed Sparse Row format>\n"
          ]
        }
      ],
      "source": [
        "vect_bigrams = CountVectorizer(ngram_range = (2,2)).fit(X)\n",
        "X_bigrams = vect_bigrams.transform(X) # name this data set 'X_tokens' so that it does not overwrite the original raw X data \n",
        "print(\"X_tokens:\\n{}\".format(repr(X_bigrams))) "
      ]
    },
    {
      "cell_type": "markdown",
      "metadata": {
        "id": "OQdkQzTn6pFD"
      },
      "source": [
        "Now, after tokenizing with bigrams, we see that the document-term matrix (DTM) is different in size from the previous DTM that was obtained using unigram tokenization. Next, I fit the logistic regression model using the same approach as early, however now I evaluate F1 score on the bigram DTM."
      ]
    },
    {
      "cell_type": "code",
      "execution_count": 6,
      "metadata": {
        "colab": {
          "base_uri": "https://localhost:8080/"
        },
        "id": "IUAx15Ii6pFE",
        "outputId": "b33e9a7d-8caf-4fe2-acf1-3261797dac72"
      },
      "outputs": [
        {
          "name": "stdout",
          "output_type": "stream",
          "text": [
            "Best cross-validation score: 0.91\n",
            "Best parameters:  {'C': 10}\n"
          ]
        }
      ],
      "source": [
        "# train test split on the new data\n",
        "X_bigrams_train, X_bigrams_test, y_bigrams_train, y_bigrams_test = train_test_split(X_bigrams, y)\n",
        "\n",
        "# fit and tune hyperparameters \n",
        "param_grid = {'C': [0.001, 0.01, 0.1, 1, 10]}\n",
        "grid = GridSearchCV(LogisticRegression(solver = 'liblinear'), param_grid, cv=5, scoring = 'f1')\n",
        "grid.fit(X_bigrams_train, y_bigrams_train)\n",
        "print(\"Best cross-validation score: {:.2f}\".format(grid.best_score_))\n",
        "print(\"Best parameters: \", grid.best_params_)"
      ]
    },
    {
      "cell_type": "markdown",
      "metadata": {
        "id": "YgVbCtr76pFF"
      },
      "source": [
        "The model achieved an F1 score of 0.91. These results indicate that the logistic regression model performed worse on the bigram tokenized data than it did on the unigram tokenized data. Thus, the latter is still the score to beat with a 0.97 F1 score. \n",
        "\n",
        "For my final attempt, I will extract multiple n-grams and will also add additional data transformation steps to see if the resulting model performance can outperform the first model.\n",
        "\n",
        "#### Model III: N-gram Tokenization with TF-IDF and Stop Word Removal \n",
        "\n",
        "For my third attempt, I will extract multiple n-grams (uni to tri-grams). In addition, I will also use TF-IDF to rescale the data and remove stopwords. "
      ]
    },
    {
      "cell_type": "code",
      "execution_count": 7,
      "metadata": {
        "colab": {
          "base_uri": "https://localhost:8080/"
        },
        "id": "PbbHlwn66pFG",
        "outputId": "cb2bbcfa-923e-45b6-fb41-85cdc4eddfda"
      },
      "outputs": [
        {
          "name": "stdout",
          "output_type": "stream",
          "text": [
            "X_scaled:\n",
            "<24979x210880 sparse matrix of type '<class 'numpy.float64'>'\n",
            "\twith 367885 stored elements in Compressed Sparse Row format>\n"
          ]
        }
      ],
      "source": [
        "from sklearn.feature_extraction.text import TfidfVectorizer\n",
        "from sklearn.feature_extraction.text import ENGLISH_STOP_WORDS\n",
        "\n",
        "vect_scaled = TfidfVectorizer(stop_words = \"english\", ngram_range=(1, 3)).fit(X)\n",
        "X_scaled = vect_scaled.transform(X)\n",
        "print(\"X_scaled:\\n{}\".format(repr(X_scaled))) \n"
      ]
    },
    {
      "cell_type": "markdown",
      "metadata": {
        "id": "A6IOCzwS6pFH"
      },
      "source": [
        "As expected, we see that the matrix is larger than the previous matrices as now we have extracted unigrams, bigrams, and trigrams. The matrix would be even larger had I not removed stop words. In the next step, I fit the logistic regression model using the same approach as previously demonstrated. "
      ]
    },
    {
      "cell_type": "code",
      "execution_count": 8,
      "metadata": {
        "colab": {
          "base_uri": "https://localhost:8080/"
        },
        "id": "LpS1AQ5U6pFI",
        "outputId": "e312e190-49fa-40fa-efbb-f6502b270f69"
      },
      "outputs": [
        {
          "name": "stdout",
          "output_type": "stream",
          "text": [
            "Best cross-validation score: 0.95\n",
            "Best parameters:  {'C': 10}\n"
          ]
        }
      ],
      "source": [
        "X_scaled_train, X__scaled_test, y_scaled_train, y_scaled_test = train_test_split(X_scaled, y, random_state=42)\n",
        "\n",
        "param_grid = {'C': [0.001, 0.01, 0.1, 1, 10]}\n",
        "grid = GridSearchCV(LogisticRegression(solver  = \"liblinear\", max_iter = 10000), param_grid, cv=5, scoring = \"f1\")\n",
        "grid.fit(X_scaled_train, y_scaled_train)\n",
        "print(\"Best cross-validation score: {:.2f}\".format(grid.best_score_))\n",
        "print(\"Best parameters: \", grid.best_params_)"
      ]
    },
    {
      "cell_type": "markdown",
      "metadata": {
        "id": "TtliFmy26pFJ"
      },
      "source": [
        "With a score of 0.95, the results show that extracting multiple sets of n-grams as well as applying TF-IDF and removing stop words did not improve fit over and above the first model. Thus, the first tokenization strategy, extracting unigrams, enabled the logistic regression model to fit the best of all three strategies. "
      ]
    },
    {
      "cell_type": "markdown",
      "metadata": {
        "id": "Iw36w_0N6pFK"
      },
      "source": [
        "#### Part II: Build a predictive neural network using Keras\n",
        "\n",
        "*To complete part two of the homework do the following: Train test split the iris dataset and then run a multilayer perceptron (feed forward neural network) with two hidden layers on the iris dataset using the keras Sequential interface. Data can be imported via the following link: http://vincentarelbundock.github.io/Rdatasets/csv/datasets/iris.csv fit two models with different numbers of hidden layers and or hidden neurons and evaluate each on a test-set.  Describe the differences in the predictive accuracy of models with different numbers of hidden units/neurons.  Describe the predictive strength of your best model.  Be sure to explain your choice and evaluate this model using the test set.*\n",
        "\n",
        "To get started, in the code chunk below I load the data and one hot encode the y data."
      ]
    },
    {
      "cell_type": "code",
      "execution_count": 9,
      "metadata": {
        "colab": {
          "base_uri": "https://localhost:8080/",
          "height": 204
        },
        "id": "Vp5L9kqJcu2Y",
        "outputId": "5b57e39f-e488-47cf-a24b-251f91388b36"
      },
      "outputs": [
        {
          "data": {
            "text/html": [
              "\n",
              "  <div id=\"df-b737f2a7-7521-4297-ac34-90c02b3e5244\">\n",
              "    <div class=\"colab-df-container\">\n",
              "      <div>\n",
              "<style scoped>\n",
              "    .dataframe tbody tr th:only-of-type {\n",
              "        vertical-align: middle;\n",
              "    }\n",
              "\n",
              "    .dataframe tbody tr th {\n",
              "        vertical-align: top;\n",
              "    }\n",
              "\n",
              "    .dataframe thead th {\n",
              "        text-align: right;\n",
              "    }\n",
              "</style>\n",
              "<table border=\"1\" class=\"dataframe\">\n",
              "  <thead>\n",
              "    <tr style=\"text-align: right;\">\n",
              "      <th></th>\n",
              "      <th>Species_setosa</th>\n",
              "      <th>Species_versicolor</th>\n",
              "      <th>Species_virginica</th>\n",
              "    </tr>\n",
              "  </thead>\n",
              "  <tbody>\n",
              "    <tr>\n",
              "      <th>4</th>\n",
              "      <td>1</td>\n",
              "      <td>0</td>\n",
              "      <td>0</td>\n",
              "    </tr>\n",
              "    <tr>\n",
              "      <th>32</th>\n",
              "      <td>1</td>\n",
              "      <td>0</td>\n",
              "      <td>0</td>\n",
              "    </tr>\n",
              "    <tr>\n",
              "      <th>142</th>\n",
              "      <td>0</td>\n",
              "      <td>0</td>\n",
              "      <td>1</td>\n",
              "    </tr>\n",
              "    <tr>\n",
              "      <th>85</th>\n",
              "      <td>0</td>\n",
              "      <td>1</td>\n",
              "      <td>0</td>\n",
              "    </tr>\n",
              "    <tr>\n",
              "      <th>86</th>\n",
              "      <td>0</td>\n",
              "      <td>1</td>\n",
              "      <td>0</td>\n",
              "    </tr>\n",
              "  </tbody>\n",
              "</table>\n",
              "</div>\n",
              "      <button class=\"colab-df-convert\" onclick=\"convertToInteractive('df-b737f2a7-7521-4297-ac34-90c02b3e5244')\"\n",
              "              title=\"Convert this dataframe to an interactive table.\"\n",
              "              style=\"display:none;\">\n",
              "        \n",
              "  <svg xmlns=\"http://www.w3.org/2000/svg\" height=\"24px\"viewBox=\"0 0 24 24\"\n",
              "       width=\"24px\">\n",
              "    <path d=\"M0 0h24v24H0V0z\" fill=\"none\"/>\n",
              "    <path d=\"M18.56 5.44l.94 2.06.94-2.06 2.06-.94-2.06-.94-.94-2.06-.94 2.06-2.06.94zm-11 1L8.5 8.5l.94-2.06 2.06-.94-2.06-.94L8.5 2.5l-.94 2.06-2.06.94zm10 10l.94 2.06.94-2.06 2.06-.94-2.06-.94-.94-2.06-.94 2.06-2.06.94z\"/><path d=\"M17.41 7.96l-1.37-1.37c-.4-.4-.92-.59-1.43-.59-.52 0-1.04.2-1.43.59L10.3 9.45l-7.72 7.72c-.78.78-.78 2.05 0 2.83L4 21.41c.39.39.9.59 1.41.59.51 0 1.02-.2 1.41-.59l7.78-7.78 2.81-2.81c.8-.78.8-2.07 0-2.86zM5.41 20L4 18.59l7.72-7.72 1.47 1.35L5.41 20z\"/>\n",
              "  </svg>\n",
              "      </button>\n",
              "      \n",
              "  <style>\n",
              "    .colab-df-container {\n",
              "      display:flex;\n",
              "      flex-wrap:wrap;\n",
              "      gap: 12px;\n",
              "    }\n",
              "\n",
              "    .colab-df-convert {\n",
              "      background-color: #E8F0FE;\n",
              "      border: none;\n",
              "      border-radius: 50%;\n",
              "      cursor: pointer;\n",
              "      display: none;\n",
              "      fill: #1967D2;\n",
              "      height: 32px;\n",
              "      padding: 0 0 0 0;\n",
              "      width: 32px;\n",
              "    }\n",
              "\n",
              "    .colab-df-convert:hover {\n",
              "      background-color: #E2EBFA;\n",
              "      box-shadow: 0px 1px 2px rgba(60, 64, 67, 0.3), 0px 1px 3px 1px rgba(60, 64, 67, 0.15);\n",
              "      fill: #174EA6;\n",
              "    }\n",
              "\n",
              "    [theme=dark] .colab-df-convert {\n",
              "      background-color: #3B4455;\n",
              "      fill: #D2E3FC;\n",
              "    }\n",
              "\n",
              "    [theme=dark] .colab-df-convert:hover {\n",
              "      background-color: #434B5C;\n",
              "      box-shadow: 0px 1px 3px 1px rgba(0, 0, 0, 0.15);\n",
              "      filter: drop-shadow(0px 1px 2px rgba(0, 0, 0, 0.3));\n",
              "      fill: #FFFFFF;\n",
              "    }\n",
              "  </style>\n",
              "\n",
              "      <script>\n",
              "        const buttonEl =\n",
              "          document.querySelector('#df-b737f2a7-7521-4297-ac34-90c02b3e5244 button.colab-df-convert');\n",
              "        buttonEl.style.display =\n",
              "          google.colab.kernel.accessAllowed ? 'block' : 'none';\n",
              "\n",
              "        async function convertToInteractive(key) {\n",
              "          const element = document.querySelector('#df-b737f2a7-7521-4297-ac34-90c02b3e5244');\n",
              "          const dataTable =\n",
              "            await google.colab.kernel.invokeFunction('convertToInteractive',\n",
              "                                                     [key], {});\n",
              "          if (!dataTable) return;\n",
              "\n",
              "          const docLinkHtml = 'Like what you see? Visit the ' +\n",
              "            '<a target=\"_blank\" href=https://colab.research.google.com/notebooks/data_table.ipynb>data table notebook</a>'\n",
              "            + ' to learn more about interactive tables.';\n",
              "          element.innerHTML = '';\n",
              "          dataTable['output_type'] = 'display_data';\n",
              "          await google.colab.output.renderOutput(dataTable, element);\n",
              "          const docLink = document.createElement('div');\n",
              "          docLink.innerHTML = docLinkHtml;\n",
              "          element.appendChild(docLink);\n",
              "        }\n",
              "      </script>\n",
              "    </div>\n",
              "  </div>\n",
              "  "
            ],
            "text/plain": [
              "     Species_setosa  Species_versicolor  Species_virginica\n",
              "4                 1                   0                  0\n",
              "32                1                   0                  0\n",
              "142               0                   0                  1\n",
              "85                0                   1                  0\n",
              "86                0                   1                  0"
            ]
          },
          "execution_count": 9,
          "metadata": {},
          "output_type": "execute_result"
        }
      ],
      "source": [
        "import pandas as pd \n",
        "\n",
        "# load data\n",
        "iris = pd.read_csv(\"http://vincentarelbundock.github.io/Rdatasets/csv/datasets/iris.csv\") \n",
        "iris = iris.drop(iris.columns[[0]], axis = 1) # drop extra column that was added when data was read \n",
        "iris.head() \n",
        "\n",
        "# store X data\n",
        "X_iris = iris[[\"Sepal.Length\", \"Sepal.Width\", \"Petal.Length\", \"Petal.Width\"]]\n",
        "\n",
        "# store y data\n",
        "y_iris  = pd.DataFrame(iris[[\"Species\"]]) \n",
        "\n",
        "# train test split \n",
        "X_train, X_test, y_train, y_test = train_test_split(X_iris, y_iris, \n",
        "                                                    random_state =42)\n",
        "\n",
        "# one hot encode the y data\n",
        "train_labels = pd.get_dummies(y_train)\n",
        "test_labels = pd.get_dummies(y_test)\n",
        "\n",
        "# inspect \n",
        "train_labels.head() "
      ]
    },
    {
      "cell_type": "markdown",
      "metadata": {
        "id": "vHyz5ywnqnW_"
      },
      "source": [
        "After loading the data and one hot encoding the y data, the first model that we are asked for is a MLP with two hidden layers.  "
      ]
    },
    {
      "cell_type": "code",
      "execution_count": 10,
      "metadata": {
        "colab": {
          "base_uri": "https://localhost:8080/"
        },
        "id": "UvSY3mP76pFM",
        "outputId": "101338f8-efb2-48a9-988c-048a3a97b0ba"
      },
      "outputs": [
        {
          "name": "stdout",
          "output_type": "stream",
          "text": [
            "Model: \"sequential_1\"\n",
            "_________________________________________________________________\n",
            " Layer (type)                Output Shape              Param #   \n",
            "=================================================================\n",
            " dense_3 (Dense)             (None, 16)                80        \n",
            "                                                                 \n",
            " activation_3 (Activation)   (None, 16)                0         \n",
            "                                                                 \n",
            " dense_4 (Dense)             (None, 16)                272       \n",
            "                                                                 \n",
            " activation_4 (Activation)   (None, 16)                0         \n",
            "                                                                 \n",
            " dense_5 (Dense)             (None, 3)                 51        \n",
            "                                                                 \n",
            " activation_5 (Activation)   (None, 3)                 0         \n",
            "                                                                 \n",
            "=================================================================\n",
            "Total params: 403\n",
            "Trainable params: 403\n",
            "Non-trainable params: 0\n",
            "_________________________________________________________________\n",
            "Test loss:0.458\n",
            "Test accuracy:0.868\n",
            "Test AUC:0.978\n"
          ]
        }
      ],
      "source": [
        "import numpy as np\n",
        "from keras.models import Sequential\n",
        "from keras.layers import Dense, Activation\n",
        "import tensorflow as tf \n",
        "\n",
        "# build the model\n",
        "model = Sequential([ \n",
        "    Dense(16, input_shape = (4, )), # input and hidden layer\n",
        "    Activation('relu'), \n",
        "    Dense(16), # hidden layer 2 with 16 neurons \n",
        "    Activation('relu'), \n",
        "    Dense(3), # three categories to predict\n",
        "    Activation('softmax')])\n",
        "\n",
        "model.summary() \n",
        "\n",
        "# compile with cat crossentropy for multiple DV classes\n",
        "model.compile(\"adam\", \"categorical_crossentropy\", \n",
        "              metrics = [\"accuracy\", \"AUC\"])\n",
        "\n",
        "# train the model with validation\n",
        "model.fit(X_train, train_labels, \n",
        "    batch_size = 32, epochs = 50, verbose = 0, validation_split = 0.1)\n",
        "\n",
        "# evalute test data\n",
        "score = model.evaluate(X_test, test_labels, verbose = 0)\n",
        "print(\"Test loss:{:.3f}\".format(score[0]))\n",
        "print(\"Test accuracy:{:.3f}\".format(score[1])) \n",
        "print(\"Test AUC:{:.3f}\".format(score[2])) \n",
        "\n"
      ]
    },
    {
      "cell_type": "markdown",
      "metadata": {
        "id": "uHVgeRRMqkII"
      },
      "source": []
    },
    {
      "cell_type": "code",
      "execution_count": 60,
      "metadata": {
        "colab": {
          "base_uri": "https://localhost:8080/",
          "height": 447
        },
        "id": "xGrE7Ba_o5Fs",
        "outputId": "dabda8be-588c-414c-8990-bb25cb83e7fc"
      },
      "outputs": [
        {
          "data": {
            "text/plain": [
              "<Axes: >"
            ]
          },
          "execution_count": 60,
          "metadata": {},
          "output_type": "execute_result"
        },
        {
          "data": {
            "image/png": "[encoded data removed]",
            "text/plain": [
              "<Figure size 640x480 with 1 Axes>"
            ]
          },
          "metadata": {},
          "output_type": "display_data"
        }
      ],
      "source": [
        "# plot the metrics\n",
        "history_callback = model.fit(X_train, train_labels, batch_size = 128, \n",
        "                             epochs = 50, verbose = 0, validation_split = .2)\n",
        "pd.DataFrame(history_callback.history).plot() "
      ]
    },
    {
      "cell_type": "markdown",
      "metadata": {
        "id": "TurleB_lwslp"
      },
      "source": [
        "The first MLP model above achieved an accuracy at the multiclass classification problem of 0.86 with an AUC of 0.97 when evaluated on the test data. \n",
        "\n",
        "\n",
        "Next, for the second portion of Part II, I will build and compare two separate MLP models with different numbers of hidden layers and hidden neurons. Similar to above, I also score each of the models on multiple metrics including loss, accuracy, and AUC. \n",
        "\n",
        "The first MLP that I build below for comparison will have three hidden layers, each with 24 neurons. "
      ]
    },
    {
      "cell_type": "code",
      "execution_count": 13,
      "metadata": {
        "colab": {
          "base_uri": "https://localhost:8080/"
        },
        "id": "0Qd6K8dxx84l",
        "outputId": "62e1439a-accc-4d2d-eb74-c3c8d862dfc8"
      },
      "outputs": [
        {
          "name": "stdout",
          "output_type": "stream",
          "text": [
            "Model: \"sequential_3\"\n",
            "_________________________________________________________________\n",
            " Layer (type)                Output Shape              Param #   \n",
            "=================================================================\n",
            " dense_10 (Dense)            (None, 24)                120       \n",
            "                                                                 \n",
            " activation_10 (Activation)  (None, 24)                0         \n",
            "                                                                 \n",
            " dense_11 (Dense)            (None, 24)                600       \n",
            "                                                                 \n",
            " activation_11 (Activation)  (None, 24)                0         \n",
            "                                                                 \n",
            " dense_12 (Dense)            (None, 24)                600       \n",
            "                                                                 \n",
            " activation_12 (Activation)  (None, 24)                0         \n",
            "                                                                 \n",
            " dense_13 (Dense)            (None, 3)                 75        \n",
            "                                                                 \n",
            " activation_13 (Activation)  (None, 3)                 0         \n",
            "                                                                 \n",
            "=================================================================\n",
            "Total params: 1,395\n",
            "Trainable params: 1,395\n",
            "Non-trainable params: 0\n",
            "_________________________________________________________________\n",
            "Model 2 Test loss:0.175\n",
            "Model 2 Test Accuracy:0.947\n",
            "Model 2 Test AUC:0.997\n"
          ]
        }
      ],
      "source": [
        "# model 2\n",
        "model2 = Sequential([ \n",
        "    Dense(24, input_shape = (4, )), # input and hidden layer\n",
        "    Activation('relu'), \n",
        "    Dense(24), # hidden layer 2\n",
        "    Activation('relu'), \n",
        "    Dense(24), # hidden layer 3\n",
        "    Activation('relu'),\n",
        "    Dense(3), # three categories to predict\n",
        "    Activation('softmax')])\n",
        "\n",
        "model2.summary() \n",
        "\n",
        "# compile with cat crossentropy for multiple DV classes\n",
        "model2.compile(\"adam\", \"categorical_crossentropy\", \n",
        "              metrics = [\"accuracy\", \"AUC\"])\n",
        "\n",
        "# train the model with validation\n",
        "model2.fit(X_train, train_labels, \n",
        "    batch_size = 32, epochs = 50, verbose = 0, validation_split = 0.1)\n",
        "\n",
        "# evalute test data\n",
        "score2 = model2.evaluate(X_test, test_labels, verbose = 0)\n",
        "print(\"Model 2 Test loss:{:.3f}\".format(score2[0]))\n",
        "print(\"Model 2 Test Accuracy:{:.3f}\".format(score2[1])) \n",
        "print(\"Model 2 Test AUC:{:.3f}\".format(score2[2])) "
      ]
    },
    {
      "cell_type": "code",
      "execution_count": 14,
      "metadata": {
        "colab": {
          "base_uri": "https://localhost:8080/",
          "height": 447
        },
        "id": "PVnLtJib1LZe",
        "outputId": "5dfdfc99-12d5-47c4-c24e-3d50c9775fc5"
      },
      "outputs": [
        {
          "data": {
            "text/plain": [
              "<Axes: >"
            ]
          },
          "execution_count": 14,
          "metadata": {},
          "output_type": "execute_result"
        },
        {
          "data": {
            "image/png": "[encoded data removed]",
            "text/plain": [
              "<Figure size 640x480 with 1 Axes>"
            ]
          },
          "metadata": {},
          "output_type": "display_data"
        }
      ],
      "source": [
        "# plot the metrics \n",
        "history_callback = model2.fit(X_train, train_labels, batch_size = 128, \n",
        "                             epochs = 50, verbose = 0, validation_split = .1)\n",
        "pd.DataFrame(history_callback.history).plot() "
      ]
    },
    {
      "cell_type": "markdown",
      "metadata": {
        "id": "fnSo1TOoyeX7"
      },
      "source": [
        "We can see that the AUC on the test data was even higher for this MLP than the first MLP tested above. Additionally, the AUC improved. \n",
        "\n",
        "Finally, I will fit an MLP with 1 hidden layer that has 16 neurons. I am curious to test a model with fewer parameters (nearly 1/10th the number of parameters as the model above). However, for this MLP, I will also increase the number of training cycles (epochs) to 100 to see if a simpler model can outpeform the more complex one above with twice the number of training cycles. "
      ]
    },
    {
      "cell_type": "code",
      "execution_count": 15,
      "metadata": {
        "colab": {
          "base_uri": "https://localhost:8080/"
        },
        "id": "URmAsm2y1q4x",
        "outputId": "987cad3b-4220-4792-8c0f-500e8ca457c4"
      },
      "outputs": [
        {
          "name": "stdout",
          "output_type": "stream",
          "text": [
            "Model: \"sequential_4\"\n",
            "_________________________________________________________________\n",
            " Layer (type)                Output Shape              Param #   \n",
            "=================================================================\n",
            " dense_14 (Dense)            (None, 16)                80        \n",
            "                                                                 \n",
            " activation_14 (Activation)  (None, 16)                0         \n",
            "                                                                 \n",
            " dense_15 (Dense)            (None, 3)                 51        \n",
            "                                                                 \n",
            " activation_15 (Activation)  (None, 3)                 0         \n",
            "                                                                 \n",
            "=================================================================\n",
            "Total params: 131\n",
            "Trainable params: 131\n",
            "Non-trainable params: 0\n",
            "_________________________________________________________________\n",
            "Model 3 Test loss:0.573\n",
            "Model 3 Test Accuracy:0.816\n",
            "Model 3 Test AUC:0.969\n"
          ]
        }
      ],
      "source": [
        "# model 3\n",
        "model3 = Sequential([ \n",
        "    Dense(16, input_shape = (4, )), # input and 1 hidden layer\n",
        "    Activation('relu'), \n",
        "    Dense(3), # three categories to predict\n",
        "    Activation('softmax')])\n",
        "\n",
        "# model summary \n",
        "model3.summary()\n",
        "# compile with cat crossentropy for multiple DV classes\n",
        "model3.compile(\"adam\", \"categorical_crossentropy\", \n",
        "              metrics = [\"accuracy\", \"AUC\"])\n",
        "\n",
        "# train the model with validation\n",
        "model3.fit(X_train, train_labels, \n",
        "    batch_size = 32, epochs = 100, verbose = 0, validation_split = 0.1)\n",
        "\n",
        "# evalute test data\n",
        "score3 = model3.evaluate(X_test, test_labels, verbose = 0)\n",
        "print(\"Model 3 Test loss:{:.3f}\".format(score3[0]))\n",
        "print(\"Model 3 Test Accuracy:{:.3f}\".format(score3[1])) \n",
        "print(\"Model 3 Test AUC:{:.3f}\".format(score3[2])) "
      ]
    },
    {
      "cell_type": "code",
      "execution_count": 16,
      "metadata": {
        "colab": {
          "base_uri": "https://localhost:8080/",
          "height": 449
        },
        "id": "SBGN3LIzIEqk",
        "outputId": "c6fb1c40-9aea-448f-fd52-a7a35fe340d0"
      },
      "outputs": [
        {
          "data": {
            "text/plain": [
              "<Axes: >"
            ]
          },
          "execution_count": 16,
          "metadata": {},
          "output_type": "execute_result"
        },
        {
          "data": {
            "image/png": "[encoded data removed]",
            "text/plain": [
              "<Figure size 640x480 with 1 Axes>"
            ]
          },
          "metadata": {},
          "output_type": "display_data"
        }
      ],
      "source": [
        "# plot the metrics \n",
        "history_callback = model3.fit(X_train, train_labels, batch_size = 128, \n",
        "                             epochs = 100, verbose = 0, validation_split = .1)\n",
        "pd.DataFrame(history_callback.history).plot() "
      ]
    },
    {
      "cell_type": "markdown",
      "metadata": {
        "id": "wUWiidOTIL3Z"
      },
      "source": [
        "The results for the third MLP model showed that it classified the iris species less well on the test data than the second, more complex model. Moreover, AUC for this third model was more simple. \n",
        "\n",
        "Thus, the second MLP model, which had three hidden layers and significanlty more parameters than the other two models test, demonstrated the greatest level of predictive accuracy, even with half the number of training cycles than the more simple model possessed. "
      ]
    }
  ],
  "metadata": {
    "accelerator": "GPU",
    "colab": {
      "provenance": []
    },
    "gpuClass": "standard",
    "interpreter": {
      "hash": "40d3a090f54c6569ab1632332b64b2c03c39dcf918b08424e98f38b5ae0af88f"
    },
    "kernelspec": {
      "display_name": "Python 3.8.3 ('base')",
      "language": "python",
      "name": "python3"
    },
    "language_info": {
      "codemirror_mode": {
        "name": "ipython",
        "version": 3
      },
      "file_extension": ".py",
      "mimetype": "text/x-python",
      "name": "python",
      "nbconvert_exporter": "python",
      "pygments_lexer": "ipython3",
      "version": "3.8.3"
    },
    "orig_nbformat": 4
  },
  "nbformat": 4,
  "nbformat_minor": 0
}
