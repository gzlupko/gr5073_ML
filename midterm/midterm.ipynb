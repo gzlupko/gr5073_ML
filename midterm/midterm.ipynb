{
 "cells": [
  {
   "cell_type": "markdown",
   "metadata": {},
   "source": [
    "## 5073 Midterm\n",
    "#### Spring 2023 \n",
    "#### Gian Zlupko "
   ]
  },
  {
   "cell_type": "markdown",
   "metadata": {},
   "source": [
    "#### 1.  Import the spam dataset and print the first six rows.  "
   ]
  },
  {
   "cell_type": "code",
   "execution_count": 2,
   "metadata": {},
   "outputs": [
    {
     "data": {
      "text/html": [
       "<div>\n",
       "<style scoped>\n",
       "    .dataframe tbody tr th:only-of-type {\n",
       "        vertical-align: middle;\n",
       "    }\n",
       "\n",
       "    .dataframe tbody tr th {\n",
       "        vertical-align: top;\n",
       "    }\n",
       "\n",
       "    .dataframe thead th {\n",
       "        text-align: right;\n",
       "    }\n",
       "</style>\n",
       "<table border=\"1\" class=\"dataframe\">\n",
       "  <thead>\n",
       "    <tr style=\"text-align: right;\">\n",
       "      <th></th>\n",
       "      <th>word_freq_make:</th>\n",
       "      <th>word_freq_address:</th>\n",
       "      <th>word_freq_all:</th>\n",
       "      <th>word_freq_3d:</th>\n",
       "      <th>word_freq_our:</th>\n",
       "      <th>word_freq_over:</th>\n",
       "      <th>word_freq_remove:</th>\n",
       "      <th>word_freq_internet:</th>\n",
       "      <th>word_freq_order:</th>\n",
       "      <th>word_freq_mail:</th>\n",
       "      <th>...</th>\n",
       "      <th>char_freq_;:</th>\n",
       "      <th>char_freq_(:</th>\n",
       "      <th>char_freq_[:</th>\n",
       "      <th>char_freq_!:</th>\n",
       "      <th>char_freq_$:</th>\n",
       "      <th>char_freq_#:</th>\n",
       "      <th>capital_run_length_average:</th>\n",
       "      <th>capital_run_length_longest:</th>\n",
       "      <th>capital_run_length_total:</th>\n",
       "      <th>spam</th>\n",
       "    </tr>\n",
       "  </thead>\n",
       "  <tbody>\n",
       "    <tr>\n",
       "      <th>0</th>\n",
       "      <td>0.00</td>\n",
       "      <td>0.64</td>\n",
       "      <td>0.64</td>\n",
       "      <td>0.0</td>\n",
       "      <td>0.32</td>\n",
       "      <td>0.00</td>\n",
       "      <td>0.00</td>\n",
       "      <td>0.00</td>\n",
       "      <td>0.00</td>\n",
       "      <td>0.00</td>\n",
       "      <td>...</td>\n",
       "      <td>0.00</td>\n",
       "      <td>0.000</td>\n",
       "      <td>0.0</td>\n",
       "      <td>0.778</td>\n",
       "      <td>0.000</td>\n",
       "      <td>0.000</td>\n",
       "      <td>3.756</td>\n",
       "      <td>61</td>\n",
       "      <td>278</td>\n",
       "      <td>1</td>\n",
       "    </tr>\n",
       "    <tr>\n",
       "      <th>1</th>\n",
       "      <td>0.21</td>\n",
       "      <td>0.28</td>\n",
       "      <td>0.50</td>\n",
       "      <td>0.0</td>\n",
       "      <td>0.14</td>\n",
       "      <td>0.28</td>\n",
       "      <td>0.21</td>\n",
       "      <td>0.07</td>\n",
       "      <td>0.00</td>\n",
       "      <td>0.94</td>\n",
       "      <td>...</td>\n",
       "      <td>0.00</td>\n",
       "      <td>0.132</td>\n",
       "      <td>0.0</td>\n",
       "      <td>0.372</td>\n",
       "      <td>0.180</td>\n",
       "      <td>0.048</td>\n",
       "      <td>5.114</td>\n",
       "      <td>101</td>\n",
       "      <td>1028</td>\n",
       "      <td>1</td>\n",
       "    </tr>\n",
       "    <tr>\n",
       "      <th>2</th>\n",
       "      <td>0.06</td>\n",
       "      <td>0.00</td>\n",
       "      <td>0.71</td>\n",
       "      <td>0.0</td>\n",
       "      <td>1.23</td>\n",
       "      <td>0.19</td>\n",
       "      <td>0.19</td>\n",
       "      <td>0.12</td>\n",
       "      <td>0.64</td>\n",
       "      <td>0.25</td>\n",
       "      <td>...</td>\n",
       "      <td>0.01</td>\n",
       "      <td>0.143</td>\n",
       "      <td>0.0</td>\n",
       "      <td>0.276</td>\n",
       "      <td>0.184</td>\n",
       "      <td>0.010</td>\n",
       "      <td>9.821</td>\n",
       "      <td>485</td>\n",
       "      <td>2259</td>\n",
       "      <td>1</td>\n",
       "    </tr>\n",
       "    <tr>\n",
       "      <th>3</th>\n",
       "      <td>0.00</td>\n",
       "      <td>0.00</td>\n",
       "      <td>0.00</td>\n",
       "      <td>0.0</td>\n",
       "      <td>0.63</td>\n",
       "      <td>0.00</td>\n",
       "      <td>0.31</td>\n",
       "      <td>0.63</td>\n",
       "      <td>0.31</td>\n",
       "      <td>0.63</td>\n",
       "      <td>...</td>\n",
       "      <td>0.00</td>\n",
       "      <td>0.137</td>\n",
       "      <td>0.0</td>\n",
       "      <td>0.137</td>\n",
       "      <td>0.000</td>\n",
       "      <td>0.000</td>\n",
       "      <td>3.537</td>\n",
       "      <td>40</td>\n",
       "      <td>191</td>\n",
       "      <td>1</td>\n",
       "    </tr>\n",
       "    <tr>\n",
       "      <th>4</th>\n",
       "      <td>0.00</td>\n",
       "      <td>0.00</td>\n",
       "      <td>0.00</td>\n",
       "      <td>0.0</td>\n",
       "      <td>0.63</td>\n",
       "      <td>0.00</td>\n",
       "      <td>0.31</td>\n",
       "      <td>0.63</td>\n",
       "      <td>0.31</td>\n",
       "      <td>0.63</td>\n",
       "      <td>...</td>\n",
       "      <td>0.00</td>\n",
       "      <td>0.135</td>\n",
       "      <td>0.0</td>\n",
       "      <td>0.135</td>\n",
       "      <td>0.000</td>\n",
       "      <td>0.000</td>\n",
       "      <td>3.537</td>\n",
       "      <td>40</td>\n",
       "      <td>191</td>\n",
       "      <td>1</td>\n",
       "    </tr>\n",
       "    <tr>\n",
       "      <th>5</th>\n",
       "      <td>0.00</td>\n",
       "      <td>0.00</td>\n",
       "      <td>0.00</td>\n",
       "      <td>0.0</td>\n",
       "      <td>1.85</td>\n",
       "      <td>0.00</td>\n",
       "      <td>0.00</td>\n",
       "      <td>1.85</td>\n",
       "      <td>0.00</td>\n",
       "      <td>0.00</td>\n",
       "      <td>...</td>\n",
       "      <td>0.00</td>\n",
       "      <td>0.223</td>\n",
       "      <td>0.0</td>\n",
       "      <td>0.000</td>\n",
       "      <td>0.000</td>\n",
       "      <td>0.000</td>\n",
       "      <td>3.000</td>\n",
       "      <td>15</td>\n",
       "      <td>54</td>\n",
       "      <td>1</td>\n",
       "    </tr>\n",
       "  </tbody>\n",
       "</table>\n",
       "<p>6 rows × 58 columns</p>\n",
       "</div>"
      ],
      "text/plain": [
       "   word_freq_make:  word_freq_address:  word_freq_all:  word_freq_3d:  \\\n",
       "0             0.00                0.64            0.64            0.0   \n",
       "1             0.21                0.28            0.50            0.0   \n",
       "2             0.06                0.00            0.71            0.0   \n",
       "3             0.00                0.00            0.00            0.0   \n",
       "4             0.00                0.00            0.00            0.0   \n",
       "5             0.00                0.00            0.00            0.0   \n",
       "\n",
       "   word_freq_our:  word_freq_over:  word_freq_remove:  word_freq_internet:  \\\n",
       "0            0.32             0.00               0.00                 0.00   \n",
       "1            0.14             0.28               0.21                 0.07   \n",
       "2            1.23             0.19               0.19                 0.12   \n",
       "3            0.63             0.00               0.31                 0.63   \n",
       "4            0.63             0.00               0.31                 0.63   \n",
       "5            1.85             0.00               0.00                 1.85   \n",
       "\n",
       "   word_freq_order:  word_freq_mail:  ...  char_freq_;:  char_freq_(:  \\\n",
       "0              0.00             0.00  ...          0.00         0.000   \n",
       "1              0.00             0.94  ...          0.00         0.132   \n",
       "2              0.64             0.25  ...          0.01         0.143   \n",
       "3              0.31             0.63  ...          0.00         0.137   \n",
       "4              0.31             0.63  ...          0.00         0.135   \n",
       "5              0.00             0.00  ...          0.00         0.223   \n",
       "\n",
       "   char_freq_[:  char_freq_!:  char_freq_$:  char_freq_#:  \\\n",
       "0           0.0         0.778         0.000         0.000   \n",
       "1           0.0         0.372         0.180         0.048   \n",
       "2           0.0         0.276         0.184         0.010   \n",
       "3           0.0         0.137         0.000         0.000   \n",
       "4           0.0         0.135         0.000         0.000   \n",
       "5           0.0         0.000         0.000         0.000   \n",
       "\n",
       "   capital_run_length_average:  capital_run_length_longest:  \\\n",
       "0                        3.756                           61   \n",
       "1                        5.114                          101   \n",
       "2                        9.821                          485   \n",
       "3                        3.537                           40   \n",
       "4                        3.537                           40   \n",
       "5                        3.000                           15   \n",
       "\n",
       "   capital_run_length_total:  spam  \n",
       "0                        278     1  \n",
       "1                       1028     1  \n",
       "2                       2259     1  \n",
       "3                        191     1  \n",
       "4                        191     1  \n",
       "5                         54     1  \n",
       "\n",
       "[6 rows x 58 columns]"
      ]
     },
     "execution_count": 2,
     "metadata": {},
     "output_type": "execute_result"
    }
   ],
   "source": [
    "import pandas as pd \n",
    "import os\n",
    "\n",
    "os.chdir('/Users/gianzlupko/Desktop/GR5073 ML/gr5073_ML/data')\n",
    "\n",
    "# load spam data\n",
    "spam_data = pd.read_csv(\"spam_dataset.csv\") \n",
    "\n",
    "# print first 6 rows \n",
    "spam_data.head(6)\n"
   ]
  },
  {
   "cell_type": "markdown",
   "metadata": {},
   "source": [
    "#### 2.  Read through the documentation of the original dataset here:\n",
    "\n",
    "http://archive.ics.uci.edu/ml/machine-learning-databases/spambase/spambase.names\n",
    "\n",
    "#### The dependent variable is \"spam\" where one indicates that an email is spam and zero otherwise.  Which three variables in the dataset do you think will be important predictors in a model of spam?  Why?\n",
    "\n",
    "The three variables that I think will be important predictors of spam are 'word_freq_receive:', 'char_freq_$:', and 'capital_run_length_total'. The first variable, 'word_freq_receive', is a proportion of the total number of words in the email that match the word, 'receive'. Drawing on personal experience, I think the use of the word 'receieve' will be positively related to an email being classified as spam as I have found that many spam emails reach out with the promise to receive some prize (e.g. money, items) in exchange for the information that they are seeking. \n",
    "\n",
    "The second variable, 'char_freq_$:', is a proportion of the total number of characters in the body of the email that are '$'. Similar to the first variable, drawing on anecdotal experience, I have observed that many spam emails contain non-alphabetic character symbols. Further, given that the goal of spam emails is generally to entice recipients, I would expect that of all character symbols, the dollar sign would be a commonly used one. Thus, I would expect that its frequency in use would positively relate to the likelihood of an email being spam. \n",
    "\n",
    "Finally, the third variable that I've selected is 'capital_run_length_total'. Per the data dictionary, this variable represents the sum of the length of uninterrupted capital letters in an email. Following similar personal intuitions that led me to select the first two variables, I suspect that there may be a relationship between the total amount of capital letters used in an email and its likelihood of being spam. My rationale is that the use of 'all caps', whether for individual words or combinations of words, is a choice that individuals normally use sparingly in day-to-day contexts. For example, in professional contexts, the excessive use of capitals in email language is seen as aggressive and unprofessional. Further, when excessive levels of capital letters are used, it is psychologically very effective at communicating elevated emotions like anger and excitement. For these reasons, the use of sequences of capital letters, like 'all caps', strikes me as a potential manipulative strategy that spam emails may incorporate to solicit an unsuspecting recipient to do some task. Thus, my intuition is that capital run length will be low for non-spam emails and high in spam emails. \n",
    "\n",
    "In summary, these are the first three variables that I will train models on to predict whether an email is spam or not."
   ]
  },
  {
   "cell_type": "markdown",
   "metadata": {},
   "source": [
    "#### 3.  Visualize the univariate distribution of each of the variables in the previous question. "
   ]
  },
  {
   "cell_type": "code",
   "execution_count": 3,
   "metadata": {},
   "outputs": [
    {
     "data": {
      "image/png": "[encoded data removed]",
      "text/plain": [
       "<Figure size 432x288 with 1 Axes>"
      ]
     },
     "metadata": {
      "needs_background": "light"
     },
     "output_type": "display_data"
    }
   ],
   "source": [
    "import matplotlib.pyplot as plt \n",
    "\n",
    "# visualize first variable: 'word_freq_receive:' \n",
    "plt.hist(spam_data['word_freq_receive:']) \n",
    "plt.title(\"Proportion of Word 'Receive' to All Words in Email\", fontsize = 10)\n",
    "plt.suptitle(\"Distribution of Word 'Receive'\", fontsize = 15)\n",
    "plt.ylabel(\"Frequency\")\n",
    "plt.xlabel(\"Proportion of Total Words in Email\")\n",
    "plt.show() "
   ]
  },
  {
   "cell_type": "code",
   "execution_count": 4,
   "metadata": {},
   "outputs": [
    {
     "data": {
      "image/png": "[encoded data removed]",
      "text/plain": [
       "<Figure size 432x288 with 1 Axes>"
      ]
     },
     "metadata": {
      "needs_background": "light"
     },
     "output_type": "display_data"
    }
   ],
   "source": [
    "# visualize first variable: 'word_freq_receive:' \n",
    "plt.hist(spam_data['char_freq_$:']) \n",
    "plt.title(\"Frequency of '$' Character Used\")\n",
    "plt.ylabel(\"Frequency\")\n",
    "plt.xlabel(\"Proportion of $ to All Characters\")\n",
    "plt.show() "
   ]
  },
  {
   "cell_type": "code",
   "execution_count": 5,
   "metadata": {},
   "outputs": [
    {
     "data": {
      "image/png": "[encoded data removed]",
      "text/plain": [
       "<Figure size 432x288 with 1 Axes>"
      ]
     },
     "metadata": {
      "needs_background": "light"
     },
     "output_type": "display_data"
    }
   ],
   "source": [
    "# visualize first variable: 'word_freq_receive:' \n",
    "plt.hist(spam_data['capital_run_length_total:']) \n",
    "plt.title(\"Frequency of Combined Capital Words Used\")\n",
    "plt.ylabel(\"Frequency\")\n",
    "plt.xlabel(\"Sum # of Combined Capitals Used\")\n",
    "plt.show() "
   ]
  },
  {
   "cell_type": "markdown",
   "metadata": {},
   "source": [
    "Each of the first three predictors that I selected appear to be significantly right-skewed with the low variance. I will be curious to see how the models perform using these variables to predict spam. "
   ]
  },
  {
   "cell_type": "markdown",
   "metadata": {},
   "source": [
    "#### 4. Name each of the supervised learning models that we have learned thus far that are used to predict dependent variables like \"spam\".   \n",
    "\n",
    "In the current data set, spam is a binary categorical outcome variable that has two levels - 0 and 1. Values of 0 indicate and values of 1 indicate. In this class, we have discussed a specific set of supervised  machine learning models that are appropriate for dealing with a binary categorical outcome variable like spam. Below are a list of the supervised machine learning models that we have discussed for this kind of DV.\n",
    "\n",
    "* Linear Models for classification: \n",
    "    * Logistic Regresssion\n",
    "    * Logistic Regression with L1 Regularization (LASSO) \n",
    "    * Logistic Regression with L2 Regularization (Ridge)\n",
    "    * Linear Support Vector Machine (specifically, the classifier class, SVC)\n",
    "        * Note: we have briefly touched on SVM, and its classifier implemention SVC, in class though we have yet to run SVMs yet. \n",
    "\n",
    "* K-Nearest Neighbors \n",
    "    * note: from KNeighbors.Classifier specifically\n",
    "\n",
    "* Tree Models\n",
    "    * Decision Trees\n",
    "        * Note: from DecisionTreeClassifier specifically\n",
    "    * Random Forests \n",
    "        * Note: from RandomForestClassifier\n"
   ]
  },
  {
   "cell_type": "markdown",
   "metadata": {},
   "source": [
    "#### 5. Describe the importance of training and test data. Why do we separate data into these subsets?\n",
    "\n",
    "Splitting data into training and test data sets is a crucial step in machine learning. We split the original data into a training and test subset so that we can evaluate how well a model 'learned' from the training data and, as a result, how well it can predict the intended outcome on new data. If we did not split the original data set into a training and test set, we would not be able to properly evaluate the model. This is because if we re-tested a model on the same data that it was trained, the model would simply remember the training set and it would always predict the corect output on that data (Muller & Guido, 2017). When splitting the data, the test data is intentionally left out so that after training, the model(s) has new data in which we can evalute how accurately it is able to predict. \n",
    "\n",
    "Related to evaluation, creating training and test subsets of the data allows us to assess how well the model generalizes to new data. Generalization describes the extent to which a model is able to make accurate predictions on new, unseen data (e.g. test data). Models that perform well at prediction tasks on new data are said to generalize (Muller & Guido, 2017). When we train and test the model on the subsets of the orginal data that we created, we can assess the extent to which the model generalizes. If a model is not generalizing well, this could signal that the model was under or overfit on the training data. In eiter case, by splitting the data into training and test subsets in the first place, we are able to monitor for issues associated with generlization, which can be corrected for through parameter tuning or data transofmrations. However, had we not performed the data split in the first place, we would not be able to evaluate gneneralization and other performance outcomes. "
   ]
  },
  {
   "cell_type": "markdown",
   "metadata": {},
   "source": [
    "#### 6. What is k-fold cross validation and what do we use it for?"
   ]
  },
  {
   "cell_type": "markdown",
   "metadata": {},
   "source": [
    "#### 7. How is k-fold cross validation different from stratified k-fold cross validation?"
   ]
  }
 ],
 "metadata": {
  "interpreter": {
   "hash": "40d3a090f54c6569ab1632332b64b2c03c39dcf918b08424e98f38b5ae0af88f"
  },
  "kernelspec": {
   "display_name": "Python 3.8.3 ('base')",
   "language": "python",
   "name": "python3"
  },
  "language_info": {
   "codemirror_mode": {
    "name": "ipython",
    "version": 3
   },
   "file_extension": ".py",
   "mimetype": "text/x-python",
   "name": "python",
   "nbconvert_exporter": "python",
   "pygments_lexer": "ipython3",
   "version": "3.8.3"
  },
  "orig_nbformat": 4
 },
 "nbformat": 4,
 "nbformat_minor": 2
}
